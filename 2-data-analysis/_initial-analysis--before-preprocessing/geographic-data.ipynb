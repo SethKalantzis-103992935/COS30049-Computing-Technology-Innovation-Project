{
 "cells": [
  {
   "cell_type": "markdown",
   "metadata": {},
   "source": [
    "# Comparison of Geographic Data Between Datasets."
   ]
  },
  {
   "cell_type": "markdown",
   "metadata": {},
   "source": [
    "All data considered for this analysis is from with the geographic boundaries of NSW, Australia.\n",
    "\n",
    "There is some discrepancies in the way that different datasets have chosen to define geographic regions (E.g., \n",
    "suburb vs region vs district, etc.) \n",
    "\n",
    "This notebook extracts and compares information from the raw datasets relating to the number of regions represented. It provides an initial indication of how data should be manipulated to be equivalent and comparable during the analysis."
   ]
  },
  {
   "cell_type": "markdown",
   "metadata": {},
   "source": [
    "## Executive Summary"
   ]
  },
  {
   "cell_type": "markdown",
   "metadata": {},
   "source": [
    "The following findings are of importance when preprocessing the datasets collected from NSW Health and Air Quality NSW.\n",
    "\n",
    "1. Exclude the following Local Health Districts (LHDs), as they do not contain any Air Quality Collection Sites.\n",
    "    - Far West\n",
    "    - Northern NSW\n",
    "\n",
    "2. Exclude the following Air Quality Collection Sites, as they are not within an appropriate LHD.\n",
    "    - Albury\n",
    "\n",
    "3. Exclude the following Air Quality Collection Sites, as their geographic location cannot be verified.\n",
    "    - Liverpool Swaqs\n",
    "    - RR POD2"
   ]
  },
  {
   "cell_type": "markdown",
   "metadata": {},
   "source": [
    "## Set Up"
   ]
  },
  {
   "cell_type": "markdown",
   "metadata": {},
   "source": [
    "Ensure that the required libraries are available by running the below code in the terminal before execution:\n",
    "- pip install pandas\n",
    "\n",
    "Execute the following in the jupyter notebook before execution to ensure that the required libraries are imported:"
   ]
  },
  {
   "cell_type": "code",
   "execution_count": 3,
   "metadata": {},
   "outputs": [
    {
     "name": "stdout",
     "output_type": "stream",
     "text": [
      "Requirement already satisfied: xlrd in c:\\users\\matth\\anaconda3\\lib\\site-packages (2.0.1)\n",
      "Note: you may need to restart the kernel to use updated packages.\n"
     ]
    }
   ],
   "source": [
    "import pandas as pd\n",
    "\n",
    "# Allows access to xls data format.\n",
    "%pip install xlrd"
   ]
  },
  {
   "cell_type": "markdown",
   "metadata": {},
   "source": [
    "## Find Geographic Data"
   ]
  },
  {
   "cell_type": "markdown",
   "metadata": {},
   "source": [
    "### NSW Air Quality"
   ]
  },
  {
   "cell_type": "markdown",
   "metadata": {},
   "source": [
    "#### Monthly"
   ]
  },
  {
   "cell_type": "markdown",
   "metadata": {},
   "source": [
    "Load Dataset"
   ]
  },
  {
   "cell_type": "code",
   "execution_count": 4,
   "metadata": {},
   "outputs": [],
   "source": [
    "# File Path\n",
    "air_quality_monthly_path = '../../1-datasets-raw/nsw-air-quality/monthly/data-raw.xlsx'\n",
    "\n",
    "# Read the dataset.\n",
    "air_quality_monthly = pd.read_excel(air_quality_monthly_path)\n",
    "\n",
    "# Drop empty columns.\n",
    "air_quality_monthly.dropna(axis=1, how='all', inplace=True)"
   ]
  },
  {
   "cell_type": "markdown",
   "metadata": {},
   "source": [
    "Extract region information from the headers."
   ]
  },
  {
   "cell_type": "code",
   "execution_count": 5,
   "metadata": {},
   "outputs": [],
   "source": [
    "# Extract headers from the datasets.\n",
    "air_quality_monthly_headers = air_quality_monthly.columns\n",
    "\n",
    "# Drop irrelevant information from the headers. \n",
    "air_quality_monthly_headers = air_quality_monthly_headers.str.split().str[:-3].str.join(' ')\n",
    "\n",
    "# Parse the headers to extract the pollutant name and the region.\n",
    "air_quality_monthly_headers_parsed = {}\n",
    "for header in air_quality_monthly_headers:\n",
    "    header = header.split(' ')\n",
    "    pollutant = header[-1]\n",
    "    region = ' '.join(header[:-1])\n",
    "    if region not in air_quality_monthly_headers_parsed:\n",
    "        air_quality_monthly_headers_parsed[region] = []\n",
    "    air_quality_monthly_headers_parsed[region].append(pollutant)\n",
    "\n",
    "# Drop the empty columns.\n",
    "dropped = air_quality_monthly_headers_parsed.pop('', None)"
   ]
  },
  {
   "cell_type": "markdown",
   "metadata": {},
   "source": [
    "Show list of regions (and the pollutants tracked in that region)."
   ]
  },
  {
   "cell_type": "code",
   "execution_count": 6,
   "metadata": {},
   "outputs": [
    {
     "name": "stdout",
     "output_type": "stream",
     "text": [
      "ALBION PARK SOUTH: ['SO2', 'NO', 'NO2', 'OZONE']\n",
      "ALBURY: ['NO', 'NO2', 'OZONE', 'PM10']\n",
      "ALEXANDRIA: ['SO2', 'NO', 'NO2', 'CO', 'OZONE']\n",
      "BARGO: ['SO2', 'NO', 'NO2', 'OZONE', 'PM10']\n",
      "BATHURST: ['OZONE']\n",
      "BERESFIELD: ['SO2', 'NO', 'NO2', 'OZONE', 'PM10']\n",
      "BRADFIELD HIGHWAY: ['SO2', 'NO', 'NO2', 'CO', 'OZONE']\n",
      "BRINGELLY: ['SO2', 'NO', 'NO2', 'CO', 'OZONE', 'PM10']\n",
      "CAMDEN: ['NO', 'NO2', 'CO', 'OZONE']\n",
      "CAMMERAY: ['SO2', 'NO', 'NO2', 'CO', 'OZONE']\n",
      "CAMPBELLTOWN WEST: ['SO2', 'NO', 'NO2', 'CO', 'OZONE']\n",
      "CARRINGTON: ['SO2', 'NO', 'NO2', 'PM10']\n",
      "CHULLORA: ['SO2', 'NO', 'NO2', 'CO', 'OZONE', 'PM10']\n",
      "COFFS HARBOUR: ['NO', 'NO2', 'CO', 'OZONE']\n",
      "COOK AND PHILLIP: ['SO2', 'NO', 'NO2', 'CO', 'OZONE']\n",
      "EARLWOOD: ['NO', 'NO2', 'OZONE', 'PM10']\n",
      "GOULBURN: ['NO', 'NO2', 'OZONE']\n",
      "GUNNEDAH: ['NO', 'NO2', 'OZONE']\n",
      "KATOOMBA: ['SO2', 'NO', 'NO2', 'CO', 'OZONE']\n",
      "KEMBLA GRANGE: ['NO', 'NO2', 'OZONE', 'PM10']\n",
      "LIDCOMBE: ['SO2', 'NO', 'NO2', 'CO', 'OZONE']\n",
      "LINDFIELD: ['SO2', 'NO', 'NO2', 'OZONE', 'PM10']\n",
      "LIVERPOOL: ['SO2', 'NO', 'NO2', 'CO', 'OZONE', 'PM10']\n",
      "LIVERPOOL SWAQS: ['SO2', 'NO', 'NO2', 'CO', 'OZONE']\n",
      "MACARTHUR: ['SO2', 'NO', 'NO2', 'CO', 'OZONE']\n",
      "MACQUARIE PARK: ['SO2', 'NO', 'NO2', 'CO', 'OZONE']\n",
      "MAYFIELD: ['SO2', 'NO', 'NO2', 'PM10']\n",
      "MERRIWA: ['SO2', 'NO', 'NO2', 'CO', 'OZONE']\n",
      "MILLTHORPE: ['SO2', 'NO', 'NO2', 'CO', 'OZONE']\n",
      "MORISSET: ['SO2', 'NO', 'NO2', 'CO', 'OZONE']\n",
      "MUSWELLBROOK: ['SO2', 'NO', 'NO2']\n",
      "NEWCASTLE: ['SO2', 'NO', 'NO2', 'CO', 'OZONE', 'PM10']\n",
      "OAKDALE: ['NO', 'NO2', 'OZONE']\n",
      "ORANGE: ['OZONE']\n",
      "PARRAMATTA NORTH: ['SO2', 'NO', 'NO2', 'CO', 'OZONE']\n",
      "PENRITH: ['SO2', 'NO', 'NO2', 'CO', 'OZONE']\n",
      "PORT MACQUARIE: ['SO2', 'NO', 'NO2', 'CO', 'OZONE']\n",
      "PROSPECT: ['SO2', 'NO', 'NO2', 'CO', 'OZONE']\n",
      "RANDWICK: ['SO2', 'NO', 'NO2', 'OZONE', 'PM10']\n",
      "RICHMOND: ['SO2', 'NO', 'NO2', 'OZONE', 'PM10']\n",
      "ROUSE HILL: ['SO2', 'NO', 'NO2', 'CO', 'OZONE']\n",
      "ROZELLE: ['SO2', 'NO', 'NO2', 'CO', 'OZONE', 'PM10']\n",
      "RR POD2: ['SO2', 'NO', 'NO2', 'CO', 'OZONE']\n",
      "SINGLETON: ['SO2', 'NO', 'NO2']\n",
      "ST MARYS: ['NO', 'NO2', 'OZONE', 'PM10']\n",
      "STOCKTON: ['SO2', 'NO', 'NO2', 'PM10']\n",
      "TAMWORTH: ['NO', 'NO2', 'OZONE', 'PM10']\n",
      "VINEYARD: ['SO2', 'NO', 'NO2', 'OZONE', 'PM10']\n",
      "WAGGA WAGGA: ['PM10']\n",
      "WAGGA WAGGA NORTH: ['NO', 'NO2', 'OZONE']\n",
      "WALLSEND: ['SO2', 'NO', 'NO2', 'OZONE', 'PM10']\n",
      "WOLLONGONG: ['SO2', 'NO', 'NO2', 'CO', 'OZONE', 'PM10']\n",
      "WYONG: ['SO2', 'NO', 'NO2', 'CO', 'OZONE', 'PM10']\n"
     ]
    }
   ],
   "source": [
    "# Sort alphabetically.\n",
    "air_quality_monthly_headers_parsed = dict(sorted(air_quality_monthly_headers_parsed.items()))\n",
    "\n",
    "# Print\n",
    "for region in air_quality_monthly_headers_parsed:\n",
    "    print(f'{region}: {air_quality_monthly_headers_parsed[region]}')"
   ]
  },
  {
   "cell_type": "markdown",
   "metadata": {},
   "source": [
    "#### Annual"
   ]
  },
  {
   "cell_type": "markdown",
   "metadata": {},
   "source": [
    "Load Dataset"
   ]
  },
  {
   "cell_type": "code",
   "execution_count": 7,
   "metadata": {},
   "outputs": [
    {
     "name": "stdout",
     "output_type": "stream",
     "text": [
      "WARNING *** OLE2 inconsistency: SSCS size is 0 but SSAT size is non-zero\n"
     ]
    }
   ],
   "source": [
    "# File Path\n",
    "air_quality_annual_path = '../../1-datasets-raw/nsw-air-quality/annual/data-raw.xls'\n",
    "\n",
    "# Read the dataset.\n",
    "air_quality_annual = pd.read_excel(air_quality_annual_path)\n",
    "\n",
    "# Drop empty columns.\n",
    "air_quality_annual.dropna(axis=1, how='all', inplace=True)"
   ]
  },
  {
   "cell_type": "markdown",
   "metadata": {},
   "source": [
    "Extract region information from the headers."
   ]
  },
  {
   "cell_type": "code",
   "execution_count": 8,
   "metadata": {},
   "outputs": [],
   "source": [
    "# Extract headers from the datasets.\n",
    "air_quality_annual_headers = air_quality_annual.iloc[1]\n",
    "\n",
    "# Drop the first two rows.\n",
    "air_quality_annual = air_quality_annual.iloc[2:]\n",
    "\n",
    "# Set the headers.\n",
    "air_quality_annual.columns = air_quality_annual_headers\n",
    "\n",
    "# Drop irrelevant information from the headers. \n",
    "air_quality_annual_headers = air_quality_annual_headers.str.split().str[:-3].str.join(' ')\n",
    "\n",
    "# Parse the headers to extract the pollutant name and the region.\n",
    "air_quality_annual_headers_parsed = {}\n",
    "for header in air_quality_annual_headers:\n",
    "    header = header.split(' ')\n",
    "    pollutant = header[-1]\n",
    "    region = ' '.join(header[:-1])\n",
    "    if region not in air_quality_annual_headers_parsed:\n",
    "        air_quality_annual_headers_parsed[region] = []\n",
    "    air_quality_annual_headers_parsed[region].append(pollutant)\n",
    "\n",
    "# Drop the empty columns.\n",
    "dropped = air_quality_annual_headers_parsed.pop('', None)"
   ]
  },
  {
   "cell_type": "markdown",
   "metadata": {},
   "source": [
    "Show list of regions (and the pollutants tracked in that region)."
   ]
  },
  {
   "cell_type": "code",
   "execution_count": 9,
   "metadata": {},
   "outputs": [
    {
     "name": "stdout",
     "output_type": "stream",
     "text": [
      "ALBION PARK SOUTH: ['SO2', 'NO', 'NO2', 'CO', 'OZONE']\n",
      "ALBURY: ['NO', 'NO2', 'OZONE', 'PM10']\n",
      "ALEXANDRIA: ['SO2', 'NO', 'NO2', 'CO', 'OZONE']\n",
      "BARGO: ['SO2', 'NO', 'NO2', 'OZONE', 'PM10']\n",
      "BATHURST: ['OZONE']\n",
      "BERESFIELD: ['SO2', 'NO', 'NO2', 'CO', 'OZONE', 'PM10']\n",
      "BRADFIELD HIGHWAY: ['SO2', 'NO', 'NO2', 'CO', 'OZONE']\n",
      "BRINGELLY: ['SO2', 'NO', 'NO2', 'CO', 'OZONE', 'PM10']\n",
      "CAMDEN: ['NO', 'NO2', 'CO', 'OZONE']\n",
      "CAMMERAY: ['SO2', 'NO', 'NO2', 'CO', 'OZONE']\n",
      "CAMPBELLTOWN WEST: ['SO2', 'NO', 'NO2', 'CO', 'OZONE']\n",
      "CARRINGTON: ['SO2', 'NO', 'NO2', 'CO', 'PM10']\n",
      "CHULLORA: ['SO2', 'NO', 'NO2', 'CO', 'OZONE', 'PM10']\n",
      "COFFS HARBOUR: ['NO', 'NO2', 'CO', 'OZONE']\n",
      "COOK AND PHILLIP: ['SO2', 'NO', 'NO2', 'CO', 'OZONE']\n",
      "EARLWOOD: ['NO', 'NO2', 'CO', 'OZONE', 'PM10']\n",
      "GOULBURN: ['NO', 'NO2', 'OZONE']\n",
      "GUNNEDAH: ['SO2', 'NO', 'NO2', 'CO', 'OZONE']\n",
      "KATOOMBA: ['SO2', 'NO', 'NO2', 'CO', 'OZONE']\n",
      "KEMBLA GRANGE: ['SO2', 'NO', 'NO2', 'OZONE', 'PM10']\n",
      "LIDCOMBE: ['SO2', 'NO', 'NO2', 'CO', 'OZONE']\n",
      "LINDFIELD: ['SO2', 'NO', 'NO2', 'OZONE', 'PM10']\n",
      "LIVERPOOL: ['SO2', 'NO', 'NO2', 'CO', 'OZONE', 'PM10']\n",
      "LIVERPOOL SWAQS: ['SO2', 'NO', 'NO2', 'CO', 'OZONE']\n",
      "MACARTHUR: ['SO2', 'NO', 'NO2', 'CO', 'OZONE']\n",
      "MACQUARIE PARK: ['SO2', 'NO', 'NO2', 'CO', 'OZONE']\n",
      "MAYFIELD: ['SO2', 'NO', 'NO2', 'CO', 'OZONE', 'PM10']\n",
      "MERRIWA: ['SO2', 'NO', 'NO2', 'CO', 'OZONE']\n",
      "MILLTHORPE: ['SO2', 'NO', 'NO2', 'CO', 'OZONE']\n",
      "MORISSET: ['SO2', 'NO', 'NO2', 'CO', 'OZONE']\n",
      "MUSWELLBROOK: ['SO2', 'NO', 'NO2']\n",
      "NEWCASTLE: ['SO2', 'NO', 'NO2', 'CO', 'OZONE', 'PM10']\n",
      "OAKDALE: ['SO2', 'NO', 'NO2', 'CO', 'OZONE']\n",
      "ORANGE: ['OZONE']\n",
      "PARRAMATTA NORTH: ['SO2', 'NO', 'NO2', 'CO', 'OZONE']\n",
      "PENRITH: ['SO2', 'NO', 'NO2', 'CO', 'OZONE']\n",
      "PORT MACQUARIE: ['SO2', 'NO', 'NO2', 'CO', 'OZONE']\n",
      "PROSPECT: ['SO2', 'NO', 'NO2', 'CO', 'OZONE']\n",
      "RANDWICK: ['SO2', 'NO', 'NO2', 'OZONE', 'PM10']\n",
      "RICHMOND: ['SO2', 'NO', 'NO2', 'CO', 'OZONE', 'PM10']\n",
      "ROUSE HILL: ['SO2', 'NO', 'NO2', 'CO', 'OZONE']\n",
      "ROZELLE: ['SO2', 'NO', 'NO2', 'CO', 'OZONE', 'PM10']\n",
      "RR POD2: ['SO2', 'NO', 'NO2', 'CO', 'OZONE']\n",
      "SINGLETON: ['SO2', 'NO', 'NO2']\n",
      "ST MARYS: ['SO2', 'NO', 'NO2', 'CO', 'OZONE', 'PM10']\n",
      "STOCKTON: ['SO2', 'NO', 'NO2', 'CO', 'OZONE', 'PM10']\n",
      "TAMWORTH: ['NO', 'NO2', 'OZONE', 'PM10']\n",
      "VINEYARD: ['SO2', 'NO', 'NO2', 'CO', 'OZONE', 'PM10']\n",
      "WAGGA WAGGA: ['PM10']\n",
      "WAGGA WAGGA NORTH: ['NO', 'NO2', 'OZONE']\n",
      "WALLSEND: ['SO2', 'NO', 'NO2', 'CO', 'OZONE', 'PM10']\n",
      "WOLLONGONG: ['SO2', 'NO', 'NO2', 'CO', 'OZONE', 'PM10']\n",
      "WYONG: ['SO2', 'NO', 'NO2', 'CO', 'OZONE', 'PM10']\n"
     ]
    }
   ],
   "source": [
    "# Sort alphabetically.\n",
    "air_quality_annual_headers_parsed = dict(sorted(air_quality_annual_headers_parsed.items()))\n",
    "\n",
    "# Print\n",
    "for region in air_quality_annual_headers_parsed:\n",
    "    print(f'{region}: {air_quality_annual_headers_parsed[region]}')"
   ]
  },
  {
   "cell_type": "markdown",
   "metadata": {},
   "source": [
    "#### Compare Air Quality Monthly vs Annual"
   ]
  },
  {
   "cell_type": "code",
   "execution_count": 53,
   "metadata": {},
   "outputs": [
    {
     "name": "stdout",
     "output_type": "stream",
     "text": [
      "Regions only in monthly data: set()\n",
      "Regions only in annual data: set()\n"
     ]
    }
   ],
   "source": [
    "# Find differences\n",
    "monthly_regions = set(air_quality_monthly_headers_parsed.keys())\n",
    "annual_regions = set(air_quality_annual_headers_parsed.keys())\n",
    "only_in_monthly = monthly_regions - annual_regions\n",
    "only_in_annual = annual_regions - monthly_regions\n",
    "\n",
    "# Print differences\n",
    "print('Regions only in monthly data:', only_in_monthly)\n",
    "print('Regions only in annual data:', only_in_annual)"
   ]
  },
  {
   "cell_type": "markdown",
   "metadata": {},
   "source": [
    "### NSW Health Stats"
   ]
  },
  {
   "cell_type": "markdown",
   "metadata": {},
   "source": [
    "#### Respiratory Health / Asthma / Deaths"
   ]
  },
  {
   "cell_type": "markdown",
   "metadata": {},
   "source": [
    "Load Dataset"
   ]
  },
  {
   "cell_type": "code",
   "execution_count": 10,
   "metadata": {},
   "outputs": [],
   "source": [
    "# File Path\n",
    "asthma_deaths_path = '../../1-datasets-raw/nsw-health-stats/respiratory-health/asthma/deaths/data-raw.csv'\n",
    "\n",
    "# Read the dataset.\n",
    "asthma_deaths = pd.read_csv(asthma_deaths_path)\n",
    "\n",
    "# Drop all columns except 'LHD'\n",
    "asthma_deaths = asthma_deaths[['LHD']]"
   ]
  },
  {
   "cell_type": "markdown",
   "metadata": {},
   "source": [
    "Extract region information from the column"
   ]
  },
  {
   "cell_type": "code",
   "execution_count": 11,
   "metadata": {},
   "outputs": [],
   "source": [
    "# Drop duplicates\n",
    "regions = set(asthma_deaths['LHD'])\n",
    "\n",
    "# Drop 'All LHDs' from the regions.\n",
    "regions = {region for region in regions if region != 'All LHDs'}\n",
    "\n",
    "# Drop 'LHD' from the regions.\n",
    "regions = {region[:-4] for region in regions}"
   ]
  },
  {
   "cell_type": "markdown",
   "metadata": {},
   "source": [
    "Show list of regions"
   ]
  },
  {
   "cell_type": "code",
   "execution_count": 12,
   "metadata": {},
   "outputs": [
    {
     "name": "stdout",
     "output_type": "stream",
     "text": [
      "['Central Coast', 'Hunter New England', 'Illawarra Shoalhaven', 'Mid North Coast', 'Murrumbidgee', 'Nepean Blue Mountains', 'Northern NSW', 'Northern Sydney', 'South Eastern Sydney', 'South Western Sydney', 'Southern NSW', 'Sydney', 'Western NSW', 'Western Sydney']\n"
     ]
    }
   ],
   "source": [
    "# Sort alphabetically\n",
    "regions = sorted(regions)\n",
    "\n",
    "# Print set of regions\n",
    "print(regions)"
   ]
  },
  {
   "cell_type": "markdown",
   "metadata": {},
   "source": [
    "### Local Health Districts and Air Quality Monitoring Sites Map\n",
    "The following is the results of a visual analysis of the map created for this assignment:\n",
    "\n",
    "https://www.google.com/maps/d/u/0/edit?mid=1ze3ga_Dk41KuIlO3ANLrwx1sgpSsjgA&ll=-32.68798328390291%2C140.6513072023467&z=6\n",
    "\n",
    "**LHDs with No Air Quality Recording Sites**\n",
    "- Far West\n",
    "- Northern NSW\n",
    "\n",
    "**LHDS which cross state borders**\n",
    "- Albury Wodonga Health (Network with Victoria)"
   ]
  }
 ],
 "metadata": {
  "kernelspec": {
   "display_name": "base",
   "language": "python",
   "name": "python3"
  },
  "language_info": {
   "codemirror_mode": {
    "name": "ipython",
    "version": 3
   },
   "file_extension": ".py",
   "mimetype": "text/x-python",
   "name": "python",
   "nbconvert_exporter": "python",
   "pygments_lexer": "ipython3",
   "version": "3.12.4"
  }
 },
 "nbformat": 4,
 "nbformat_minor": 2
}
