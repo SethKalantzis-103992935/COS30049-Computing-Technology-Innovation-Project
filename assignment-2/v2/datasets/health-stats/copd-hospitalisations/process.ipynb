{
 "cells": [
  {
   "cell_type": "markdown",
   "metadata": {},
   "source": [
    "# COPD Hospitalisations | Processing"
   ]
  },
  {
   "cell_type": "markdown",
   "metadata": {},
   "source": [
    "## Set Up"
   ]
  },
  {
   "cell_type": "markdown",
   "metadata": {},
   "source": [
    "Ensure that the required libraries are available by running the below code in the terminal before execution:\n",
    "- pip install pandas\n",
    "\n",
    "\n",
    "Execute the following in the jupyter notebook before execution to ensure that the required libraries are imported:"
   ]
  },
  {
   "cell_type": "code",
   "execution_count": 101,
   "metadata": {},
   "outputs": [],
   "source": [
    "import pandas as pd"
   ]
  },
  {
   "cell_type": "markdown",
   "metadata": {},
   "source": [
    "## Load Dataset"
   ]
  },
  {
   "cell_type": "code",
   "execution_count": 102,
   "metadata": {},
   "outputs": [],
   "source": [
    "df = pd.read_csv('raw.csv')"
   ]
  },
  {
   "cell_type": "markdown",
   "metadata": {},
   "source": [
    "## Data Manipulation"
   ]
  },
  {
   "cell_type": "code",
   "execution_count": 103,
   "metadata": {},
   "outputs": [
    {
     "data": {
      "text/html": [
       "<div>\n",
       "<style scoped>\n",
       "    .dataframe tbody tr th:only-of-type {\n",
       "        vertical-align: middle;\n",
       "    }\n",
       "\n",
       "    .dataframe tbody tr th {\n",
       "        vertical-align: top;\n",
       "    }\n",
       "\n",
       "    .dataframe thead th {\n",
       "        text-align: right;\n",
       "    }\n",
       "</style>\n",
       "<table border=\"1\" class=\"dataframe\">\n",
       "  <thead>\n",
       "    <tr style=\"text-align: right;\">\n",
       "      <th></th>\n",
       "      <th>sex</th>\n",
       "      <th>lhd</th>\n",
       "      <th>financial year</th>\n",
       "      <th>rate per 100,000 population</th>\n",
       "    </tr>\n",
       "  </thead>\n",
       "  <tbody>\n",
       "    <tr>\n",
       "      <th>2020</th>\n",
       "      <td>Males</td>\n",
       "      <td>Sydney</td>\n",
       "      <td>2001/2002</td>\n",
       "      <td>313.6</td>\n",
       "    </tr>\n",
       "    <tr>\n",
       "      <th>2021</th>\n",
       "      <td>Males</td>\n",
       "      <td>Sydney</td>\n",
       "      <td>2002/2003</td>\n",
       "      <td>282.3</td>\n",
       "    </tr>\n",
       "    <tr>\n",
       "      <th>2022</th>\n",
       "      <td>Males</td>\n",
       "      <td>Sydney</td>\n",
       "      <td>2003/2004</td>\n",
       "      <td>298.8</td>\n",
       "    </tr>\n",
       "    <tr>\n",
       "      <th>2023</th>\n",
       "      <td>Males</td>\n",
       "      <td>Sydney</td>\n",
       "      <td>2004/2005</td>\n",
       "      <td>326.7</td>\n",
       "    </tr>\n",
       "    <tr>\n",
       "      <th>2024</th>\n",
       "      <td>Males</td>\n",
       "      <td>Sydney</td>\n",
       "      <td>2005/2006</td>\n",
       "      <td>283.7</td>\n",
       "    </tr>\n",
       "  </tbody>\n",
       "</table>\n",
       "</div>"
      ],
      "text/plain": [
       "        sex     lhd financial year rate per 100,000 population\n",
       "2020  Males  Sydney      2001/2002                       313.6\n",
       "2021  Males  Sydney      2002/2003                       282.3\n",
       "2022  Males  Sydney      2003/2004                       298.8\n",
       "2023  Males  Sydney      2004/2005                       326.7\n",
       "2024  Males  Sydney      2005/2006                       283.7"
      ]
     },
     "execution_count": 103,
     "metadata": {},
     "output_type": "execute_result"
    }
   ],
   "source": [
    "# Rename columns to match Air Quality data set.\n",
    "df = df.rename(columns={'LHD': 'lhd', 'Period': 'financial year'})                                                            # Rename columns\n",
    "df.columns = df.columns.str.lower()                                                                                 # Lowercase column names\n",
    "\n",
    "# Remove ' LHD' for Local Health District values.\n",
    "df['lhd'] = df['lhd'].str.replace(' LHD', '')                                                                       # Remove ' LHD' from lhd column\n",
    "\n",
    "# Remove rows representing state-wide aggregated data.\n",
    "df = df.dropna(subset=['lhd'])                                                                                      # Remove rows with missing values in 'lhd' column\n",
    "df = df[~df['lhd'].str.contains('All')]                                                                             # Remove rows with 'All' in 'lhd' column\n",
    "\n",
    "# Remove columns holding Confidence Interval data.\n",
    "df = df.loc[:, ~df.columns.str.contains('% ci')]                                                                    # Remove columns with '% ci' in the name\n",
    "\n",
    "# Reformat 'financial year' values from XX/YY to XXXX/YYYY.\n",
    "df['financial year'] = df['financial year'].apply(                                                                  # Add '20' to the start of each year value\n",
    "    lambda x: f'20{x[:2]}/20{x[3:]}' if isinstance(x, str) else x\n",
    ")\n",
    "\n",
    "# Remove rows where 'risk group' is not 'All ages'.\n",
    "df = df[df['risk group'] == 'All ages']                                                                             # Keep rows where 'risk group' is 'All ages'\n",
    "df = df.drop(columns=['risk group'])                                                                                # Drop 'risk group' column\n",
    "\n",
    "# View the cleaned data.\n",
    "df.head()                                                                                                           # Display the first few rows of the cleaned data"
   ]
  },
  {
   "cell_type": "code",
   "execution_count": 105,
   "metadata": {},
   "outputs": [
    {
     "data": {
      "text/html": [
       "<div>\n",
       "<style scoped>\n",
       "    .dataframe tbody tr th:only-of-type {\n",
       "        vertical-align: middle;\n",
       "    }\n",
       "\n",
       "    .dataframe tbody tr th {\n",
       "        vertical-align: top;\n",
       "    }\n",
       "\n",
       "    .dataframe thead th {\n",
       "        text-align: right;\n",
       "    }\n",
       "</style>\n",
       "<table border=\"1\" class=\"dataframe\">\n",
       "  <thead>\n",
       "    <tr style=\"text-align: right;\">\n",
       "      <th></th>\n",
       "      <th>financial year</th>\n",
       "      <th>lhd</th>\n",
       "      <th>Female rate per 100,000 population</th>\n",
       "      <th>Male rate per 100,000 population</th>\n",
       "      <th>Persons rate per 100,000 population</th>\n",
       "    </tr>\n",
       "  </thead>\n",
       "  <tbody>\n",
       "    <tr>\n",
       "      <th>0</th>\n",
       "      <td>2001/2002</td>\n",
       "      <td>Central Coast</td>\n",
       "      <td>235.4</td>\n",
       "      <td>348.2</td>\n",
       "      <td>281.1</td>\n",
       "    </tr>\n",
       "    <tr>\n",
       "      <th>1</th>\n",
       "      <td>2001/2002</td>\n",
       "      <td>Far West</td>\n",
       "      <td>241.6</td>\n",
       "      <td>362.2</td>\n",
       "      <td>289.3</td>\n",
       "    </tr>\n",
       "    <tr>\n",
       "      <th>2</th>\n",
       "      <td>2001/2002</td>\n",
       "      <td>Hunter New England</td>\n",
       "      <td>210.8</td>\n",
       "      <td>319.9</td>\n",
       "      <td>257.9</td>\n",
       "    </tr>\n",
       "    <tr>\n",
       "      <th>3</th>\n",
       "      <td>2001/2002</td>\n",
       "      <td>Illawarra Shoalhaven</td>\n",
       "      <td>190.9</td>\n",
       "      <td>301.5</td>\n",
       "      <td>239.7</td>\n",
       "    </tr>\n",
       "    <tr>\n",
       "      <th>4</th>\n",
       "      <td>2001/2002</td>\n",
       "      <td>Mid North Coast</td>\n",
       "      <td>268.1</td>\n",
       "      <td>351.3</td>\n",
       "      <td>303.1</td>\n",
       "    </tr>\n",
       "  </tbody>\n",
       "</table>\n",
       "</div>"
      ],
      "text/plain": [
       "  financial year                   lhd  Female rate per 100,000 population  \\\n",
       "0      2001/2002         Central Coast                               235.4   \n",
       "1      2001/2002              Far West                               241.6   \n",
       "2      2001/2002    Hunter New England                               210.8   \n",
       "3      2001/2002  Illawarra Shoalhaven                               190.9   \n",
       "4      2001/2002       Mid North Coast                               268.1   \n",
       "\n",
       "   Male rate per 100,000 population  Persons rate per 100,000 population  \n",
       "0                             348.2                                281.1  \n",
       "1                             362.2                                289.3  \n",
       "2                             319.9                                257.9  \n",
       "3                             301.5                                239.7  \n",
       "4                             351.3                                303.1  "
      ]
     },
     "execution_count": 105,
     "metadata": {},
     "output_type": "execute_result"
    }
   ],
   "source": [
    "# Convert 'rate per 100,000 population' to numeric, coercing errors to NaN\n",
    "df['rate per 100,000 population'] = pd.to_numeric(df['rate per 100,000 population'], errors='coerce')\n",
    "\n",
    "# Pivot the dataframe to have 'sex' as columns\n",
    "df = df.pivot_table(index=['financial year', 'lhd'], columns='sex', values='rate per 100,000 population').reset_index()\n",
    "\n",
    "# Rename the columns to match the desired format\n",
    "df.columns.name = None\n",
    "df = df.rename(columns={\n",
    "    'Persons': 'Persons rate per 100,000 population',\n",
    "    'Males': 'Male rate per 100,000 population', \n",
    "    'Females': 'Female rate per 100,000 population'\n",
    "})\n",
    "\n",
    "# View the DataFrame\n",
    "df.head() "
   ]
  },
  {
   "cell_type": "markdown",
   "metadata": {},
   "source": [
    "## Set Date Range"
   ]
  },
  {
   "cell_type": "markdown",
   "metadata": {},
   "source": [
    "Set the range of financial years from 2014/2015 to 2023/2024."
   ]
  },
  {
   "cell_type": "code",
   "execution_count": 106,
   "metadata": {},
   "outputs": [
    {
     "name": "stderr",
     "output_type": "stream",
     "text": [
      "C:\\Users\\matth\\AppData\\Local\\Temp\\ipykernel_9728\\3336287228.py:23: FutureWarning: The behavior of DataFrame concatenation with empty or all-NA entries is deprecated. In a future version, this will no longer exclude empty or all-NA columns when determining the result dtypes. To retain the old behavior, exclude the relevant entries before the concat operation.\n",
      "  df = pd.concat([df, df_missing], ignore_index=True)                                                             # Concatenate the DataFrames.\n"
     ]
    },
    {
     "data": {
      "text/html": [
       "<div>\n",
       "<style scoped>\n",
       "    .dataframe tbody tr th:only-of-type {\n",
       "        vertical-align: middle;\n",
       "    }\n",
       "\n",
       "    .dataframe tbody tr th {\n",
       "        vertical-align: top;\n",
       "    }\n",
       "\n",
       "    .dataframe thead th {\n",
       "        text-align: right;\n",
       "    }\n",
       "</style>\n",
       "<table border=\"1\" class=\"dataframe\">\n",
       "  <thead>\n",
       "    <tr style=\"text-align: right;\">\n",
       "      <th></th>\n",
       "      <th>financial year</th>\n",
       "      <th>lhd</th>\n",
       "      <th>Female rate per 100,000 population</th>\n",
       "      <th>Male rate per 100,000 population</th>\n",
       "      <th>Persons rate per 100,000 population</th>\n",
       "    </tr>\n",
       "  </thead>\n",
       "  <tbody>\n",
       "    <tr>\n",
       "      <th>295</th>\n",
       "      <td>2019/2020</td>\n",
       "      <td>Western Sydney</td>\n",
       "      <td>193.5</td>\n",
       "      <td>204.9</td>\n",
       "      <td>197.4</td>\n",
       "    </tr>\n",
       "    <tr>\n",
       "      <th>296</th>\n",
       "      <td>2020/2021</td>\n",
       "      <td>Western Sydney</td>\n",
       "      <td>131.7</td>\n",
       "      <td>161.5</td>\n",
       "      <td>144.3</td>\n",
       "    </tr>\n",
       "    <tr>\n",
       "      <th>297</th>\n",
       "      <td>2021/2022</td>\n",
       "      <td>Western Sydney</td>\n",
       "      <td>118.9</td>\n",
       "      <td>127.3</td>\n",
       "      <td>121.3</td>\n",
       "    </tr>\n",
       "    <tr>\n",
       "      <th>298</th>\n",
       "      <td>2022/2023</td>\n",
       "      <td>Western Sydney</td>\n",
       "      <td>NaN</td>\n",
       "      <td>NaN</td>\n",
       "      <td>NaN</td>\n",
       "    </tr>\n",
       "    <tr>\n",
       "      <th>299</th>\n",
       "      <td>2023/2024</td>\n",
       "      <td>Western Sydney</td>\n",
       "      <td>NaN</td>\n",
       "      <td>NaN</td>\n",
       "      <td>NaN</td>\n",
       "    </tr>\n",
       "  </tbody>\n",
       "</table>\n",
       "</div>"
      ],
      "text/plain": [
       "    financial year             lhd  Female rate per 100,000 population  \\\n",
       "295      2019/2020  Western Sydney                               193.5   \n",
       "296      2020/2021  Western Sydney                               131.7   \n",
       "297      2021/2022  Western Sydney                               118.9   \n",
       "298      2022/2023  Western Sydney                                 NaN   \n",
       "299      2023/2024  Western Sydney                                 NaN   \n",
       "\n",
       "     Male rate per 100,000 population  Persons rate per 100,000 population  \n",
       "295                             204.9                                197.4  \n",
       "296                             161.5                                144.3  \n",
       "297                             127.3                                121.3  \n",
       "298                               NaN                                  NaN  \n",
       "299                               NaN                                  NaN  "
      ]
     },
     "execution_count": 106,
     "metadata": {},
     "output_type": "execute_result"
    }
   ],
   "source": [
    "# Drop pre 2014/2015 data.\n",
    "df = df[~df['financial year'].isin(['2011/2012', '2012/2013', '2013/2014'])]                                        # Drop pre 2014/2015 data.\n",
    "\n",
    "# Add rows for each LHD for the missing years until 2023/2024.\n",
    "missing_rows = []                                                                                                   # Create a list to store the missing rows.\n",
    "lhds = df['lhd'].unique()                                                                                           # Get unique LHDs.\n",
    "years = [f\"{year}/{year + 1}\" for year in range(2014, 2024)]                                                        # Create a list of years from 2014/2015 to 2023/2024.\n",
    "\n",
    "for lhd in lhds:\n",
    "    for year in years:\n",
    "        if not ((df['lhd'] == lhd) & (df['financial year'] == year)).any():                                         # Check if the row is missing.\n",
    "            missing_rows.append({                                                                                   # Append the missing row to the list.\n",
    "                'lhd': lhd, \n",
    "                'financial year': year, \n",
    "                'Female rate per 100,000 population': None,\n",
    "                'Male rate per 100,000 population': None,\n",
    "                'Persons rate per 100,000 population': None,\n",
    "            })   \n",
    "\n",
    "# Create a DataFrame from the missing rows and concatenate it to the original DataFrame\n",
    "if missing_rows:\n",
    "    df_missing = pd.DataFrame(missing_rows)                                                                         # Create a DataFrame from the missing rows.\n",
    "    df = pd.concat([df, df_missing], ignore_index=True)                                                             # Concatenate the DataFrames.\n",
    "\n",
    "# Sort the DataFrame by 'lhd' and 'financial year'.\n",
    "df = df.sort_values(by=['lhd', 'financial year']).reset_index(drop=True)                                           # Sort the DataFrame by 'lhd' and 'financial year'.\n",
    "\n",
    "# View the DataFrame.\n",
    "df.tail()                                                                                                          # View the last 5 rows of the DataFrame."
   ]
  },
  {
   "cell_type": "markdown",
   "metadata": {},
   "source": [
    "Fill missing values using linear interpolation."
   ]
  },
  {
   "cell_type": "code",
   "execution_count": 107,
   "metadata": {},
   "outputs": [],
   "source": [
    "df['Female rate per 100,000 population'] = df['Female rate per 100,000 population'].interpolate()                                       # Fill missing values using linear interpolation.\n",
    "df['Male rate per 100,000 population'] = df['Male rate per 100,000 population'].interpolate()                                        # Fill missing values using linear interpolation.\n",
    "df['Persons rate per 100,000 population'] = df['Persons rate per 100,000 population'].interpolate()                                     # Fill missing values using linear interpolation."
   ]
  },
  {
   "cell_type": "markdown",
   "metadata": {},
   "source": [
    "## Output Processed Dataset"
   ]
  },
  {
   "cell_type": "code",
   "execution_count": 108,
   "metadata": {},
   "outputs": [
    {
     "data": {
      "text/html": [
       "<div>\n",
       "<style scoped>\n",
       "    .dataframe tbody tr th:only-of-type {\n",
       "        vertical-align: middle;\n",
       "    }\n",
       "\n",
       "    .dataframe tbody tr th {\n",
       "        vertical-align: top;\n",
       "    }\n",
       "\n",
       "    .dataframe thead th {\n",
       "        text-align: right;\n",
       "    }\n",
       "</style>\n",
       "<table border=\"1\" class=\"dataframe\">\n",
       "  <thead>\n",
       "    <tr style=\"text-align: right;\">\n",
       "      <th></th>\n",
       "      <th>financial year</th>\n",
       "      <th>lhd</th>\n",
       "      <th>Female rate per 100,000 population</th>\n",
       "      <th>Male rate per 100,000 population</th>\n",
       "      <th>Persons rate per 100,000 population</th>\n",
       "    </tr>\n",
       "  </thead>\n",
       "  <tbody>\n",
       "    <tr>\n",
       "      <th>0</th>\n",
       "      <td>2001/2002</td>\n",
       "      <td>Central Coast</td>\n",
       "      <td>235.4</td>\n",
       "      <td>348.2</td>\n",
       "      <td>281.1</td>\n",
       "    </tr>\n",
       "    <tr>\n",
       "      <th>1</th>\n",
       "      <td>2002/2003</td>\n",
       "      <td>Central Coast</td>\n",
       "      <td>228.1</td>\n",
       "      <td>334.0</td>\n",
       "      <td>270.9</td>\n",
       "    </tr>\n",
       "    <tr>\n",
       "      <th>2</th>\n",
       "      <td>2003/2004</td>\n",
       "      <td>Central Coast</td>\n",
       "      <td>219.0</td>\n",
       "      <td>377.1</td>\n",
       "      <td>283.0</td>\n",
       "    </tr>\n",
       "    <tr>\n",
       "      <th>3</th>\n",
       "      <td>2004/2005</td>\n",
       "      <td>Central Coast</td>\n",
       "      <td>251.2</td>\n",
       "      <td>390.6</td>\n",
       "      <td>308.7</td>\n",
       "    </tr>\n",
       "    <tr>\n",
       "      <th>4</th>\n",
       "      <td>2005/2006</td>\n",
       "      <td>Central Coast</td>\n",
       "      <td>237.8</td>\n",
       "      <td>368.5</td>\n",
       "      <td>292.8</td>\n",
       "    </tr>\n",
       "  </tbody>\n",
       "</table>\n",
       "</div>"
      ],
      "text/plain": [
       "  financial year            lhd  Female rate per 100,000 population  \\\n",
       "0      2001/2002  Central Coast                               235.4   \n",
       "1      2002/2003  Central Coast                               228.1   \n",
       "2      2003/2004  Central Coast                               219.0   \n",
       "3      2004/2005  Central Coast                               251.2   \n",
       "4      2005/2006  Central Coast                               237.8   \n",
       "\n",
       "   Male rate per 100,000 population  Persons rate per 100,000 population  \n",
       "0                             348.2                                281.1  \n",
       "1                             334.0                                270.9  \n",
       "2                             377.1                                283.0  \n",
       "3                             390.6                                308.7  \n",
       "4                             368.5                                292.8  "
      ]
     },
     "execution_count": 108,
     "metadata": {},
     "output_type": "execute_result"
    }
   ],
   "source": [
    "# Save the processed data to a new CSV file.\n",
    "df.to_csv('processed.csv', index=False)                                                                            # Save the processed data to a new CSV file.\n",
    "\n",
    "# View the DataFrame.\n",
    "df.head()                                                                                                          # View the first 5 rows of the DataFrame."
   ]
  }
 ],
 "metadata": {
  "kernelspec": {
   "display_name": "base",
   "language": "python",
   "name": "python3"
  },
  "language_info": {
   "codemirror_mode": {
    "name": "ipython",
    "version": 3
   },
   "file_extension": ".py",
   "mimetype": "text/x-python",
   "name": "python",
   "nbconvert_exporter": "python",
   "pygments_lexer": "ipython3",
   "version": "3.12.4"
  }
 },
 "nbformat": 4,
 "nbformat_minor": 2
}
