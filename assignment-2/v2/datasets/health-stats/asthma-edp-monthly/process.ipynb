{
 "cells": [
  {
   "cell_type": "markdown",
   "metadata": {},
   "source": [
    "# Asthma-Like Illness Emergency Department Presentations (monthly) | Processing"
   ]
  },
  {
   "cell_type": "markdown",
   "metadata": {},
   "source": [
    "## Set Up"
   ]
  },
  {
   "cell_type": "markdown",
   "metadata": {},
   "source": [
    "Ensure that the required libraries are available by running the below code in the terminal before execution:\n",
    "- pip install pandas\n",
    "\n",
    "\n",
    "Execute the following in the jupyter notebook before execution to ensure that the required libraries are imported:"
   ]
  },
  {
   "cell_type": "code",
   "execution_count": 24,
   "metadata": {},
   "outputs": [],
   "source": [
    "import pandas as pd"
   ]
  },
  {
   "cell_type": "markdown",
   "metadata": {},
   "source": [
    "## Load Dataset"
   ]
  },
  {
   "cell_type": "code",
   "execution_count": 25,
   "metadata": {},
   "outputs": [],
   "source": [
    "df = pd.read_csv('raw.csv')"
   ]
  },
  {
   "cell_type": "markdown",
   "metadata": {},
   "source": [
    "## Data Manipulation"
   ]
  },
  {
   "cell_type": "markdown",
   "metadata": {},
   "source": [
    "Rename columns to match Air Quality data set."
   ]
  },
  {
   "cell_type": "code",
   "execution_count": 26,
   "metadata": {},
   "outputs": [
    {
     "data": {
      "text/html": [
       "<div>\n",
       "<style scoped>\n",
       "    .dataframe tbody tr th:only-of-type {\n",
       "        vertical-align: middle;\n",
       "    }\n",
       "\n",
       "    .dataframe tbody tr th {\n",
       "        vertical-align: top;\n",
       "    }\n",
       "\n",
       "    .dataframe thead th {\n",
       "        text-align: right;\n",
       "    }\n",
       "</style>\n",
       "<table border=\"1\" class=\"dataframe\">\n",
       "  <thead>\n",
       "    <tr style=\"text-align: right;\">\n",
       "      <th></th>\n",
       "      <th>sex</th>\n",
       "      <th>lhd</th>\n",
       "      <th>year-month</th>\n",
       "      <th>rate per 100,000 population</th>\n",
       "    </tr>\n",
       "  </thead>\n",
       "  <tbody>\n",
       "    <tr>\n",
       "      <th>0</th>\n",
       "      <td>Males</td>\n",
       "      <td>Sydney</td>\n",
       "      <td>2014-07</td>\n",
       "      <td>22.6</td>\n",
       "    </tr>\n",
       "    <tr>\n",
       "      <th>1</th>\n",
       "      <td>Males</td>\n",
       "      <td>Sydney</td>\n",
       "      <td>2014-08</td>\n",
       "      <td>28.9</td>\n",
       "    </tr>\n",
       "    <tr>\n",
       "      <th>2</th>\n",
       "      <td>Males</td>\n",
       "      <td>Sydney</td>\n",
       "      <td>2014-09</td>\n",
       "      <td>15.7</td>\n",
       "    </tr>\n",
       "    <tr>\n",
       "      <th>3</th>\n",
       "      <td>Males</td>\n",
       "      <td>Sydney</td>\n",
       "      <td>2014-10</td>\n",
       "      <td>19.2</td>\n",
       "    </tr>\n",
       "    <tr>\n",
       "      <th>4</th>\n",
       "      <td>Males</td>\n",
       "      <td>Sydney</td>\n",
       "      <td>2014-11</td>\n",
       "      <td>19.7</td>\n",
       "    </tr>\n",
       "  </tbody>\n",
       "</table>\n",
       "</div>"
      ],
      "text/plain": [
       "     sex     lhd year-month  rate per 100,000 population\n",
       "0  Males  Sydney    2014-07                         22.6\n",
       "1  Males  Sydney    2014-08                         28.9\n",
       "2  Males  Sydney    2014-09                         15.7\n",
       "3  Males  Sydney    2014-10                         19.2\n",
       "4  Males  Sydney    2014-11                         19.7"
      ]
     },
     "execution_count": 26,
     "metadata": {},
     "output_type": "execute_result"
    }
   ],
   "source": [
    "# Rename columns to match Air Quality data set.\n",
    "df = df.rename(columns={'LHD': 'lhd', 'Period': 'year-month', 'Sex': 'sex'})                                    # Rename columns\n",
    "df.columns = df.columns.str.lower()                                                                                 # Lowercase column names\n",
    "\n",
    "# Remove ' LHD' for Local Health District values.\n",
    "df['lhd'] = df['lhd'].str.replace(' LHD', '')                                                                       # Remove ' LHD' from lhd column\n",
    "\n",
    "# Remove rows representing state-wide aggregated data.\n",
    "df = df.dropna(subset=['lhd'])                                                                                      # Remove rows with missing values in 'lhd' column\n",
    "df = df[~df['lhd'].str.contains('All')]                                                                             # Remove rows with 'All' in 'lhd' column\n",
    "\n",
    "# Remove columns holding Confidence Interval data.\n",
    "df = df.loc[:, ~df.columns.str.contains('% ci')]                                                                    # Remove columns with '% ci' in the name\n",
    "\n",
    "\n",
    "\n",
    "df.head()"
   ]
  },
  {
   "cell_type": "markdown",
   "metadata": {},
   "source": [
    "### Reconfigure Table"
   ]
  },
  {
   "cell_type": "code",
   "execution_count": 27,
   "metadata": {
    "vscode": {
     "languageId": "ruby"
    }
   },
   "outputs": [
    {
     "data": {
      "text/html": [
       "<div>\n",
       "<style scoped>\n",
       "    .dataframe tbody tr th:only-of-type {\n",
       "        vertical-align: middle;\n",
       "    }\n",
       "\n",
       "    .dataframe tbody tr th {\n",
       "        vertical-align: top;\n",
       "    }\n",
       "\n",
       "    .dataframe thead th {\n",
       "        text-align: right;\n",
       "    }\n",
       "</style>\n",
       "<table border=\"1\" class=\"dataframe\">\n",
       "  <thead>\n",
       "    <tr style=\"text-align: right;\">\n",
       "      <th></th>\n",
       "      <th>year-month</th>\n",
       "      <th>lhd</th>\n",
       "      <th>Female rate per 100,000 population</th>\n",
       "      <th>Male rate per 100,000 population</th>\n",
       "      <th>Persons rate per 100,000 population</th>\n",
       "    </tr>\n",
       "  </thead>\n",
       "  <tbody>\n",
       "    <tr>\n",
       "      <th>0</th>\n",
       "      <td>2014-07</td>\n",
       "      <td>Central Coast</td>\n",
       "      <td>29.8</td>\n",
       "      <td>21.8</td>\n",
       "      <td>26.1</td>\n",
       "    </tr>\n",
       "    <tr>\n",
       "      <th>1</th>\n",
       "      <td>2014-07</td>\n",
       "      <td>Hunter New England</td>\n",
       "      <td>45.3</td>\n",
       "      <td>32.3</td>\n",
       "      <td>39.0</td>\n",
       "    </tr>\n",
       "    <tr>\n",
       "      <th>2</th>\n",
       "      <td>2014-07</td>\n",
       "      <td>Illawarra Shoalhaven</td>\n",
       "      <td>42.1</td>\n",
       "      <td>26.7</td>\n",
       "      <td>34.5</td>\n",
       "    </tr>\n",
       "    <tr>\n",
       "      <th>3</th>\n",
       "      <td>2014-07</td>\n",
       "      <td>Mid North Coast</td>\n",
       "      <td>58.4</td>\n",
       "      <td>35.5</td>\n",
       "      <td>47.3</td>\n",
       "    </tr>\n",
       "    <tr>\n",
       "      <th>4</th>\n",
       "      <td>2014-07</td>\n",
       "      <td>Murrumbidgee</td>\n",
       "      <td>46.2</td>\n",
       "      <td>51.4</td>\n",
       "      <td>48.9</td>\n",
       "    </tr>\n",
       "  </tbody>\n",
       "</table>\n",
       "</div>"
      ],
      "text/plain": [
       "  year-month                   lhd  Female rate per 100,000 population  \\\n",
       "0    2014-07         Central Coast                                29.8   \n",
       "1    2014-07    Hunter New England                                45.3   \n",
       "2    2014-07  Illawarra Shoalhaven                                42.1   \n",
       "3    2014-07       Mid North Coast                                58.4   \n",
       "4    2014-07          Murrumbidgee                                46.2   \n",
       "\n",
       "   Male rate per 100,000 population  Persons rate per 100,000 population  \n",
       "0                              21.8                                 26.1  \n",
       "1                              32.3                                 39.0  \n",
       "2                              26.7                                 34.5  \n",
       "3                              35.5                                 47.3  \n",
       "4                              51.4                                 48.9  "
      ]
     },
     "execution_count": 27,
     "metadata": {},
     "output_type": "execute_result"
    }
   ],
   "source": [
    "# Pivot the dataframe to have 'sex' as columns\n",
    "df = df.pivot_table(index=['year-month', 'lhd'], columns='sex', values='rate per 100,000 population').reset_index()\n",
    "\n",
    "# Rename the columns to match the desired format\n",
    "df.columns.name = None\n",
    "df = df.rename(columns={\n",
    "    'Persons': 'Persons rate per 100,000 population',\n",
    "    'Males': 'Male rate per 100,000 population', \n",
    "    'Females': 'Female rate per 100,000 population'\n",
    "})                        \n",
    "\n",
    "# View the DataFrame\n",
    "df.head() "
   ]
  },
  {
   "cell_type": "markdown",
   "metadata": {},
   "source": [
    "## Set Date Range"
   ]
  },
  {
   "cell_type": "code",
   "execution_count": 28,
   "metadata": {},
   "outputs": [
    {
     "name": "stderr",
     "output_type": "stream",
     "text": [
      "C:\\Users\\matth\\AppData\\Local\\Temp\\ipykernel_4136\\4108603507.py:4: FutureWarning: 'M' is deprecated and will be removed in a future version, please use 'ME' instead.\n",
      "  months = pd.date_range(start='2014-07', end='2024-07', freq='M').strftime('%Y-%m').tolist()                         # Create a list of months from 2014-07 to 2023-12.\n",
      "C:\\Users\\matth\\AppData\\Local\\Temp\\ipykernel_4136\\4108603507.py:22: FutureWarning: The behavior of DataFrame concatenation with empty or all-NA entries is deprecated. In a future version, this will no longer exclude empty or all-NA columns when determining the result dtypes. To retain the old behavior, exclude the relevant entries before the concat operation.\n",
      "  df = pd.concat([df, df_missing], ignore_index=True)                                                             # Concatenate the DataFrames.\n"
     ]
    },
    {
     "data": {
      "text/html": [
       "<div>\n",
       "<style scoped>\n",
       "    .dataframe tbody tr th:only-of-type {\n",
       "        vertical-align: middle;\n",
       "    }\n",
       "\n",
       "    .dataframe tbody tr th {\n",
       "        vertical-align: top;\n",
       "    }\n",
       "\n",
       "    .dataframe thead th {\n",
       "        text-align: right;\n",
       "    }\n",
       "</style>\n",
       "<table border=\"1\" class=\"dataframe\">\n",
       "  <thead>\n",
       "    <tr style=\"text-align: right;\">\n",
       "      <th></th>\n",
       "      <th>year-month</th>\n",
       "      <th>lhd</th>\n",
       "      <th>Female rate per 100,000 population</th>\n",
       "      <th>Male rate per 100,000 population</th>\n",
       "      <th>Persons rate per 100,000 population</th>\n",
       "    </tr>\n",
       "  </thead>\n",
       "  <tbody>\n",
       "    <tr>\n",
       "      <th>1675</th>\n",
       "      <td>2024-02</td>\n",
       "      <td>Western Sydney</td>\n",
       "      <td>NaN</td>\n",
       "      <td>NaN</td>\n",
       "      <td>NaN</td>\n",
       "    </tr>\n",
       "    <tr>\n",
       "      <th>1676</th>\n",
       "      <td>2024-03</td>\n",
       "      <td>Western Sydney</td>\n",
       "      <td>NaN</td>\n",
       "      <td>NaN</td>\n",
       "      <td>NaN</td>\n",
       "    </tr>\n",
       "    <tr>\n",
       "      <th>1677</th>\n",
       "      <td>2024-04</td>\n",
       "      <td>Western Sydney</td>\n",
       "      <td>NaN</td>\n",
       "      <td>NaN</td>\n",
       "      <td>NaN</td>\n",
       "    </tr>\n",
       "    <tr>\n",
       "      <th>1678</th>\n",
       "      <td>2024-05</td>\n",
       "      <td>Western Sydney</td>\n",
       "      <td>NaN</td>\n",
       "      <td>NaN</td>\n",
       "      <td>NaN</td>\n",
       "    </tr>\n",
       "    <tr>\n",
       "      <th>1679</th>\n",
       "      <td>2024-06</td>\n",
       "      <td>Western Sydney</td>\n",
       "      <td>NaN</td>\n",
       "      <td>NaN</td>\n",
       "      <td>NaN</td>\n",
       "    </tr>\n",
       "  </tbody>\n",
       "</table>\n",
       "</div>"
      ],
      "text/plain": [
       "     year-month             lhd  Female rate per 100,000 population  \\\n",
       "1675    2024-02  Western Sydney                                 NaN   \n",
       "1676    2024-03  Western Sydney                                 NaN   \n",
       "1677    2024-04  Western Sydney                                 NaN   \n",
       "1678    2024-05  Western Sydney                                 NaN   \n",
       "1679    2024-06  Western Sydney                                 NaN   \n",
       "\n",
       "      Male rate per 100,000 population  Persons rate per 100,000 population  \n",
       "1675                               NaN                                  NaN  \n",
       "1676                               NaN                                  NaN  \n",
       "1677                               NaN                                  NaN  \n",
       "1678                               NaN                                  NaN  \n",
       "1679                               NaN                                  NaN  "
      ]
     },
     "execution_count": 28,
     "metadata": {},
     "output_type": "execute_result"
    }
   ],
   "source": [
    "# Add rows for each LHD for the missing months until 2023-12.\n",
    "missing_rows = []                                                                                                   # Create a list to store the missing rows.\n",
    "headers = df.columns.tolist()                                                                                       # Get the headers of the DataFrame.\n",
    "months = pd.date_range(start='2014-07', end='2024-07', freq='M').strftime('%Y-%m').tolist()                         # Create a list of months from 2014-07 to 2024-06.\n",
    "\n",
    "lhds = df['lhd'].unique()                                                                                           # Get unique LHD values.\n",
    "\n",
    "for lhd in lhds:\n",
    "    for month in months:\n",
    "        if not ((df['lhd'] == lhd) & (df['year-month'] == month)).any():                                            # Check if the row is missing.\n",
    "            missing_rows.append({                                                                                   # Append the missing row to the list.\n",
    "                'lhd': lhd, \n",
    "                'year-month': month, \n",
    "                'Female rate per 100,000 population': None,\n",
    "                'Male rate per 100,000 population': None,\n",
    "                'Persons rate per 100,000 population': None,\n",
    "            })          \n",
    "\n",
    "# Create a DataFrame from the missing rows and concatenate it to the original DataFrame\n",
    "if missing_rows:\n",
    "    df_missing = pd.DataFrame(missing_rows)                                                                         # Create a DataFrame from the missing rows.\n",
    "    df = pd.concat([df, df_missing], ignore_index=True)                                                             # Concatenate the DataFrames.\n",
    "\n",
    "# Sort the DataFrame by 'lhd' and 'year-month'.\n",
    "df = df.sort_values(by=['lhd', 'year-month']).reset_index(drop=True)                                                # Sort the DataFrame by 'lhd' and 'year-month'.\n",
    "\n",
    "# View the DataFrame.\n",
    "df.tail()                                                                                                           # View the last 5 rows of the DataFrame."
   ]
  },
  {
   "cell_type": "markdown",
   "metadata": {},
   "source": [
    "Fill missing values using linear interpolation."
   ]
  },
  {
   "cell_type": "code",
   "execution_count": 30,
   "metadata": {},
   "outputs": [],
   "source": [
    "df['Female rate per 100,000 population'] = df['Female rate per 100,000 population'].interpolate()                                       # Fill missing values using linear interpolation.\n",
    "df['Male rate per 100,000 population'] = df['Male rate per 100,000 population'].interpolate()                                        # Fill missing values using linear interpolation.\n",
    "df['Persons rate per 100,000 population'] = df['Persons rate per 100,000 population'].interpolate()                                     # Fill missing values using linear interpolation."
   ]
  },
  {
   "cell_type": "markdown",
   "metadata": {},
   "source": [
    "### Output Alternative Processed Dataset"
   ]
  },
  {
   "cell_type": "code",
   "execution_count": 31,
   "metadata": {
    "vscode": {
     "languageId": "ruby"
    }
   },
   "outputs": [
    {
     "data": {
      "text/html": [
       "<div>\n",
       "<style scoped>\n",
       "    .dataframe tbody tr th:only-of-type {\n",
       "        vertical-align: middle;\n",
       "    }\n",
       "\n",
       "    .dataframe tbody tr th {\n",
       "        vertical-align: top;\n",
       "    }\n",
       "\n",
       "    .dataframe thead th {\n",
       "        text-align: right;\n",
       "    }\n",
       "</style>\n",
       "<table border=\"1\" class=\"dataframe\">\n",
       "  <thead>\n",
       "    <tr style=\"text-align: right;\">\n",
       "      <th></th>\n",
       "      <th>year-month</th>\n",
       "      <th>lhd</th>\n",
       "      <th>Female rate per 100,000 population</th>\n",
       "      <th>Male rate per 100,000 population</th>\n",
       "      <th>Persons rate per 100,000 population</th>\n",
       "    </tr>\n",
       "  </thead>\n",
       "  <tbody>\n",
       "    <tr>\n",
       "      <th>0</th>\n",
       "      <td>2014-07</td>\n",
       "      <td>Central Coast</td>\n",
       "      <td>29.8</td>\n",
       "      <td>21.8</td>\n",
       "      <td>26.1</td>\n",
       "    </tr>\n",
       "    <tr>\n",
       "      <th>1</th>\n",
       "      <td>2014-08</td>\n",
       "      <td>Central Coast</td>\n",
       "      <td>34.3</td>\n",
       "      <td>32.0</td>\n",
       "      <td>33.4</td>\n",
       "    </tr>\n",
       "    <tr>\n",
       "      <th>2</th>\n",
       "      <td>2014-09</td>\n",
       "      <td>Central Coast</td>\n",
       "      <td>28.4</td>\n",
       "      <td>19.9</td>\n",
       "      <td>24.1</td>\n",
       "    </tr>\n",
       "    <tr>\n",
       "      <th>3</th>\n",
       "      <td>2014-10</td>\n",
       "      <td>Central Coast</td>\n",
       "      <td>28.0</td>\n",
       "      <td>19.5</td>\n",
       "      <td>24.0</td>\n",
       "    </tr>\n",
       "    <tr>\n",
       "      <th>4</th>\n",
       "      <td>2014-11</td>\n",
       "      <td>Central Coast</td>\n",
       "      <td>28.0</td>\n",
       "      <td>21.7</td>\n",
       "      <td>25.0</td>\n",
       "    </tr>\n",
       "  </tbody>\n",
       "</table>\n",
       "</div>"
      ],
      "text/plain": [
       "  year-month            lhd  Female rate per 100,000 population  \\\n",
       "0    2014-07  Central Coast                                29.8   \n",
       "1    2014-08  Central Coast                                34.3   \n",
       "2    2014-09  Central Coast                                28.4   \n",
       "3    2014-10  Central Coast                                28.0   \n",
       "4    2014-11  Central Coast                                28.0   \n",
       "\n",
       "   Male rate per 100,000 population  Persons rate per 100,000 population  \n",
       "0                              21.8                                 26.1  \n",
       "1                              32.0                                 33.4  \n",
       "2                              19.9                                 24.1  \n",
       "3                              19.5                                 24.0  \n",
       "4                              21.7                                 25.0  "
      ]
     },
     "execution_count": 31,
     "metadata": {},
     "output_type": "execute_result"
    }
   ],
   "source": [
    "# Save the processed data to a new CSV file.\n",
    "df.to_csv('processed.csv', index=False)                                                                            # Save the processed data to a new CSV file.\n",
    "\n",
    "# View the DataFrame.\n",
    "df.head()                                                                                                          # View the first 5 rows of the DataFrame."
   ]
  }
 ],
 "metadata": {
  "kernelspec": {
   "display_name": "base",
   "language": "python",
   "name": "python3"
  },
  "language_info": {
   "codemirror_mode": {
    "name": "ipython",
    "version": 3
   },
   "file_extension": ".py",
   "mimetype": "text/x-python",
   "name": "python",
   "nbconvert_exporter": "python",
   "pygments_lexer": "ipython3",
   "version": "3.12.4"
  }
 },
 "nbformat": 4,
 "nbformat_minor": 2
}
