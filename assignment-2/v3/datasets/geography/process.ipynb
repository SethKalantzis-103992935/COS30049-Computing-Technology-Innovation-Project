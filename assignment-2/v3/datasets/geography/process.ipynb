{
 "cells": [
  {
   "cell_type": "markdown",
   "metadata": {},
   "source": [
    "# NSW Local Health Districts and Air Quality Recording Sites - Preprocessing"
   ]
  },
  {
   "cell_type": "markdown",
   "metadata": {},
   "source": [
    "## Dependencies"
   ]
  },
  {
   "cell_type": "markdown",
   "metadata": {},
   "source": [
    "Ensure that the required libraries have been installed locally as per the README.md file included in this project.\n",
    "\n",
    "Run the following cell the import the required dependencies for this notebook."
   ]
  },
  {
   "cell_type": "code",
   "execution_count": 15,
   "metadata": {},
   "outputs": [],
   "source": [
    "# Import libraries\n",
    "import pandas as pd"
   ]
  },
  {
   "cell_type": "markdown",
   "metadata": {},
   "source": [
    "## Load Dataset"
   ]
  },
  {
   "cell_type": "code",
   "execution_count": 16,
   "metadata": {},
   "outputs": [],
   "source": [
    "# Load the raw data.\n",
    "df = pd.read_csv('raw.csv')"
   ]
  },
  {
   "cell_type": "markdown",
   "metadata": {},
   "source": [
    "## Exploratory Analysis of Raw Data"
   ]
  },
  {
   "cell_type": "code",
   "execution_count": 17,
   "metadata": {},
   "outputs": [
    {
     "name": "stdout",
     "output_type": "stream",
     "text": [
      "Dataset Head:\n"
     ]
    },
    {
     "data": {
      "text/html": [
       "<style type=\"text/css\">\n",
       "#T_daa22 th {\n",
       "  min-width: 100px;\n",
       "}\n",
       "</style>\n",
       "<table id=\"T_daa22\">\n",
       "  <thead>\n",
       "    <tr>\n",
       "      <th class=\"blank level0\" >&nbsp;</th>\n",
       "      <th id=\"T_daa22_level0_col0\" class=\"col_heading level0 col0\" >WKT</th>\n",
       "      <th id=\"T_daa22_level0_col1\" class=\"col_heading level0 col1\" >name</th>\n",
       "      <th id=\"T_daa22_level0_col2\" class=\"col_heading level0 col2\" >description</th>\n",
       "    </tr>\n",
       "  </thead>\n",
       "  <tbody>\n",
       "    <tr>\n",
       "      <th id=\"T_daa22_level0_row0\" class=\"row_heading level0 row0\" >0</th>\n",
       "      <td id=\"T_daa22_row0_col0\" class=\"data row0 col0\" >POINT (148.8180856 -34.4392256)</td>\n",
       "      <td id=\"T_daa22_row0_col1\" class=\"data row0 col1\" >Albion Park South</td>\n",
       "      <td id=\"T_daa22_row0_col2\" class=\"data row0 col2\" >Murrumbidgee</td>\n",
       "    </tr>\n",
       "    <tr>\n",
       "      <th id=\"T_daa22_level0_row1\" class=\"row_heading level0 row1\" >1</th>\n",
       "      <td id=\"T_daa22_row1_col0\" class=\"data row1 col0\" >POINT (146.9135418 -36.0737293)</td>\n",
       "      <td id=\"T_daa22_row1_col1\" class=\"data row1 col1\" >Albury</td>\n",
       "      <td id=\"T_daa22_row1_col2\" class=\"data row1 col2\" >Albury Wodonga Health (Network with Victoria)</td>\n",
       "    </tr>\n",
       "    <tr>\n",
       "      <th id=\"T_daa22_level0_row2\" class=\"row_heading level0 row2\" >2</th>\n",
       "      <td id=\"T_daa22_row2_col0\" class=\"data row2 col0\" >POINT (151.1902576 -33.9080273)</td>\n",
       "      <td id=\"T_daa22_row2_col1\" class=\"data row2 col1\" >Alexandria</td>\n",
       "      <td id=\"T_daa22_row2_col2\" class=\"data row2 col2\" >Sydney</td>\n",
       "    </tr>\n",
       "    <tr>\n",
       "      <th id=\"T_daa22_level0_row3\" class=\"row_heading level0 row3\" >3</th>\n",
       "      <td id=\"T_daa22_row3_col0\" class=\"data row3 col0\" >POINT (150.5772064 -34.28291919999999)</td>\n",
       "      <td id=\"T_daa22_row3_col1\" class=\"data row3 col1\" >Bargo</td>\n",
       "      <td id=\"T_daa22_row3_col2\" class=\"data row3 col2\" >South Western Sydney</td>\n",
       "    </tr>\n",
       "    <tr>\n",
       "      <th id=\"T_daa22_level0_row4\" class=\"row_heading level0 row4\" >4</th>\n",
       "      <td id=\"T_daa22_row4_col0\" class=\"data row4 col0\" >POINT (149.5786977 -33.4111925)</td>\n",
       "      <td id=\"T_daa22_row4_col1\" class=\"data row4 col1\" >Bathurst</td>\n",
       "      <td id=\"T_daa22_row4_col2\" class=\"data row4 col2\" >Western NSW</td>\n",
       "    </tr>\n",
       "  </tbody>\n",
       "</table>\n"
      ],
      "text/plain": [
       "<pandas.io.formats.style.Styler at 0x219025d4410>"
      ]
     },
     "metadata": {},
     "output_type": "display_data"
    },
    {
     "name": "stdout",
     "output_type": "stream",
     "text": [
      "\n",
      "Object Summary Statistics:\n"
     ]
    },
    {
     "data": {
      "text/html": [
       "<style type=\"text/css\">\n",
       "#T_e8923 th {\n",
       "  min-width: 100px;\n",
       "}\n",
       "</style>\n",
       "<table id=\"T_e8923\">\n",
       "  <thead>\n",
       "    <tr>\n",
       "      <th class=\"blank level0\" >&nbsp;</th>\n",
       "      <th id=\"T_e8923_level0_col0\" class=\"col_heading level0 col0\" >datatype</th>\n",
       "      <th id=\"T_e8923_level0_col1\" class=\"col_heading level0 col1\" >present_values</th>\n",
       "      <th id=\"T_e8923_level0_col2\" class=\"col_heading level0 col2\" >missing_values</th>\n",
       "      <th id=\"T_e8923_level0_col3\" class=\"col_heading level0 col3\" >unique</th>\n",
       "    </tr>\n",
       "  </thead>\n",
       "  <tbody>\n",
       "    <tr>\n",
       "      <th id=\"T_e8923_level0_row0\" class=\"row_heading level0 row0\" >WKT</th>\n",
       "      <td id=\"T_e8923_row0_col0\" class=\"data row0 col0\" >object</td>\n",
       "      <td id=\"T_e8923_row0_col1\" class=\"data row0 col1\" >50</td>\n",
       "      <td id=\"T_e8923_row0_col2\" class=\"data row0 col2\" >0</td>\n",
       "      <td id=\"T_e8923_row0_col3\" class=\"data row0 col3\" >50</td>\n",
       "    </tr>\n",
       "    <tr>\n",
       "      <th id=\"T_e8923_level0_row1\" class=\"row_heading level0 row1\" >name</th>\n",
       "      <td id=\"T_e8923_row1_col0\" class=\"data row1 col0\" >object</td>\n",
       "      <td id=\"T_e8923_row1_col1\" class=\"data row1 col1\" >50</td>\n",
       "      <td id=\"T_e8923_row1_col2\" class=\"data row1 col2\" >0</td>\n",
       "      <td id=\"T_e8923_row1_col3\" class=\"data row1 col3\" >50</td>\n",
       "    </tr>\n",
       "    <tr>\n",
       "      <th id=\"T_e8923_level0_row2\" class=\"row_heading level0 row2\" >description</th>\n",
       "      <td id=\"T_e8923_row2_col0\" class=\"data row2 col0\" >object</td>\n",
       "      <td id=\"T_e8923_row2_col1\" class=\"data row2 col1\" >50</td>\n",
       "      <td id=\"T_e8923_row2_col2\" class=\"data row2 col2\" >0</td>\n",
       "      <td id=\"T_e8923_row2_col3\" class=\"data row2 col3\" >14</td>\n",
       "    </tr>\n",
       "  </tbody>\n",
       "</table>\n"
      ],
      "text/plain": [
       "<pandas.io.formats.style.Styler at 0x2190ae34260>"
      ]
     },
     "metadata": {},
     "output_type": "display_data"
    }
   ],
   "source": [
    "# Generate summary statistics for object columns.\n",
    "object_summary_stats = df.describe(include=['O']).transpose()                                                       # Generate summary statistics for object columns.\n",
    "object_summary_stats['missing_values'] = df.isnull().sum()                                                          # Add missing values to the summary table.\n",
    "object_summary_stats['present_values'] = df.notnull().sum()                                                         # Add present values to the summary table.\n",
    "object_summary_stats['datatype'] = df.dtypes                                                                        # Add data types to the summary table.\n",
    "object_summary_stats = object_summary_stats[['datatype', 'present_values', 'missing_values', 'unique']]             # Select features and reorder table.\n",
    "\n",
    "# Display the summary tables with titles.\n",
    "print(\"Dataset Head:\")                                                                                              # Display the dataset head title.\n",
    "display(df.head().style.set_table_styles([{'selector': 'th', 'props': [('min-width', '100px')]}]))                  # Display the dataset head. For better visualization, set the minimum width of the table headers to 100px.\n",
    "\n",
    "print(\"\\nObject Summary Statistics:\")                                                                               # Display the object summary statistics.\n",
    "display(object_summary_stats.style.set_table_styles([{'selector': 'th', 'props': [('min-width', '100px')]}]))       # Display the object summary statistics. For better visualization, set the minimum width of the table headers to 100px."
   ]
  },
  {
   "cell_type": "markdown",
   "metadata": {},
   "source": [
    "## Preprocess"
   ]
  },
  {
   "cell_type": "code",
   "execution_count": 18,
   "metadata": {},
   "outputs": [],
   "source": [
    "# Data cleaning.\n",
    "df = df.rename(columns={'name': 'suburb', 'description': 'lhd'})      # Rename columns.\n",
    "df = df.drop(columns=['WKT'])                                         # Drop the 'WKT' column. Contains irrelevant longitude and latitude data.\n",
    "df = df.drop(df[df['suburb'] == 'Albury'].index)                      # Drop the row with 'Albury' as the suburb name. Albury is part of a joint LHD with Victoria and not included in the analysis."
   ]
  },
  {
   "cell_type": "markdown",
   "metadata": {},
   "source": [
    "## Output Processed Dataset"
   ]
  },
  {
   "cell_type": "code",
   "execution_count": 19,
   "metadata": {},
   "outputs": [],
   "source": [
    "# Save the processed data.\n",
    "df.to_csv('processed.csv', index=False)"
   ]
  },
  {
   "cell_type": "markdown",
   "metadata": {},
   "source": [
    "## View Processed Dataset"
   ]
  },
  {
   "cell_type": "code",
   "execution_count": 20,
   "metadata": {},
   "outputs": [
    {
     "data": {
      "text/html": [
       "<div>\n",
       "<style scoped>\n",
       "    .dataframe tbody tr th:only-of-type {\n",
       "        vertical-align: middle;\n",
       "    }\n",
       "\n",
       "    .dataframe tbody tr th {\n",
       "        vertical-align: top;\n",
       "    }\n",
       "\n",
       "    .dataframe thead th {\n",
       "        text-align: right;\n",
       "    }\n",
       "</style>\n",
       "<table border=\"1\" class=\"dataframe\">\n",
       "  <thead>\n",
       "    <tr style=\"text-align: right;\">\n",
       "      <th></th>\n",
       "      <th>suburb</th>\n",
       "      <th>lhd</th>\n",
       "    </tr>\n",
       "  </thead>\n",
       "  <tbody>\n",
       "    <tr>\n",
       "      <th>0</th>\n",
       "      <td>Albion Park South</td>\n",
       "      <td>Murrumbidgee</td>\n",
       "    </tr>\n",
       "    <tr>\n",
       "      <th>2</th>\n",
       "      <td>Alexandria</td>\n",
       "      <td>Sydney</td>\n",
       "    </tr>\n",
       "    <tr>\n",
       "      <th>3</th>\n",
       "      <td>Bargo</td>\n",
       "      <td>South Western Sydney</td>\n",
       "    </tr>\n",
       "    <tr>\n",
       "      <th>4</th>\n",
       "      <td>Bathurst</td>\n",
       "      <td>Western NSW</td>\n",
       "    </tr>\n",
       "    <tr>\n",
       "      <th>5</th>\n",
       "      <td>Beresfield</td>\n",
       "      <td>Hunter New England</td>\n",
       "    </tr>\n",
       "  </tbody>\n",
       "</table>\n",
       "</div>"
      ],
      "text/plain": [
       "              suburb                   lhd\n",
       "0  Albion Park South          Murrumbidgee\n",
       "2         Alexandria                Sydney\n",
       "3              Bargo  South Western Sydney\n",
       "4           Bathurst           Western NSW\n",
       "5         Beresfield    Hunter New England"
      ]
     },
     "metadata": {},
     "output_type": "display_data"
    }
   ],
   "source": [
    "# Display the processed data.\n",
    "display(df.head())"
   ]
  }
 ],
 "metadata": {
  "kernelspec": {
   "display_name": "base",
   "language": "python",
   "name": "python3"
  },
  "language_info": {
   "codemirror_mode": {
    "name": "ipython",
    "version": 3
   },
   "file_extension": ".py",
   "mimetype": "text/x-python",
   "name": "python",
   "nbconvert_exporter": "python",
   "pygments_lexer": "ipython3",
   "version": "3.12.4"
  }
 },
 "nbformat": 4,
 "nbformat_minor": 2
}
