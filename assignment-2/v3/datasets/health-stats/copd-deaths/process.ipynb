{
 "cells": [
  {
   "cell_type": "markdown",
   "metadata": {},
   "source": [
    "# COPD Deaths - Processing"
   ]
  },
  {
   "cell_type": "markdown",
   "metadata": {},
   "source": [
    "## Dependencies"
   ]
  },
  {
   "cell_type": "markdown",
   "metadata": {},
   "source": [
    "Ensure that the required libraries have been installed locally as per the README.md file included in this project.\n",
    "\n",
    "Run the following cell the import the required dependencies for this notebook."
   ]
  },
  {
   "cell_type": "code",
   "execution_count": 1,
   "metadata": {},
   "outputs": [],
   "source": [
    "# Import libraries\n",
    "import pandas as pd"
   ]
  },
  {
   "cell_type": "markdown",
   "metadata": {},
   "source": [
    "## Load Dataset"
   ]
  },
  {
   "cell_type": "code",
   "execution_count": 2,
   "metadata": {},
   "outputs": [],
   "source": [
    "# Load the raw data.\n",
    "df = pd.read_csv('raw.csv')"
   ]
  },
  {
   "cell_type": "markdown",
   "metadata": {},
   "source": [
    "## Exploratory Analysis of Raw Data"
   ]
  },
  {
   "cell_type": "code",
   "execution_count": 3,
   "metadata": {},
   "outputs": [
    {
     "name": "stdout",
     "output_type": "stream",
     "text": [
      "Dataset Head:\n"
     ]
    },
    {
     "data": {
      "text/html": [
       "<style type=\"text/css\">\n",
       "#T_b0fd0 th {\n",
       "  min-width: 100px;\n",
       "}\n",
       "</style>\n",
       "<table id=\"T_b0fd0\">\n",
       "  <thead>\n",
       "    <tr>\n",
       "      <th class=\"blank level0\" >&nbsp;</th>\n",
       "      <th id=\"T_b0fd0_level0_col0\" class=\"col_heading level0 col0\" >Risk group</th>\n",
       "      <th id=\"T_b0fd0_level0_col1\" class=\"col_heading level0 col1\" >Sex</th>\n",
       "      <th id=\"T_b0fd0_level0_col2\" class=\"col_heading level0 col2\" >LHD</th>\n",
       "      <th id=\"T_b0fd0_level0_col3\" class=\"col_heading level0 col3\" >Period</th>\n",
       "      <th id=\"T_b0fd0_level0_col4\" class=\"col_heading level0 col4\" >Rate per 100,000 population</th>\n",
       "      <th id=\"T_b0fd0_level0_col5\" class=\"col_heading level0 col5\" >LL 95% CI</th>\n",
       "      <th id=\"T_b0fd0_level0_col6\" class=\"col_heading level0 col6\" >UL 95% CI</th>\n",
       "    </tr>\n",
       "  </thead>\n",
       "  <tbody>\n",
       "    <tr>\n",
       "      <th id=\"T_b0fd0_level0_row0\" class=\"row_heading level0 row0\" >0</th>\n",
       "      <td id=\"T_b0fd0_row0_col0\" class=\"data row0 col0\" >Older adults (65+ years)</td>\n",
       "      <td id=\"T_b0fd0_row0_col1\" class=\"data row0 col1\" >Males</td>\n",
       "      <td id=\"T_b0fd0_row0_col2\" class=\"data row0 col2\" >Sydney LHD</td>\n",
       "      <td id=\"T_b0fd0_row0_col3\" class=\"data row0 col3\" >2011-2012</td>\n",
       "      <td id=\"T_b0fd0_row0_col4\" class=\"data row0 col4\" >192.200000</td>\n",
       "      <td id=\"T_b0fd0_row0_col5\" class=\"data row0 col5\" >158.800000</td>\n",
       "      <td id=\"T_b0fd0_row0_col6\" class=\"data row0 col6\" >230.400000</td>\n",
       "    </tr>\n",
       "    <tr>\n",
       "      <th id=\"T_b0fd0_level0_row1\" class=\"row_heading level0 row1\" >1</th>\n",
       "      <td id=\"T_b0fd0_row1_col0\" class=\"data row1 col0\" >Older adults (65+ years)</td>\n",
       "      <td id=\"T_b0fd0_row1_col1\" class=\"data row1 col1\" >Males</td>\n",
       "      <td id=\"T_b0fd0_row1_col2\" class=\"data row1 col2\" >Sydney LHD</td>\n",
       "      <td id=\"T_b0fd0_row1_col3\" class=\"data row1 col3\" >2012-2013</td>\n",
       "      <td id=\"T_b0fd0_row1_col4\" class=\"data row1 col4\" >199.800000</td>\n",
       "      <td id=\"T_b0fd0_row1_col5\" class=\"data row1 col5\" >166.300000</td>\n",
       "      <td id=\"T_b0fd0_row1_col6\" class=\"data row1 col6\" >237.900000</td>\n",
       "    </tr>\n",
       "    <tr>\n",
       "      <th id=\"T_b0fd0_level0_row2\" class=\"row_heading level0 row2\" >2</th>\n",
       "      <td id=\"T_b0fd0_row2_col0\" class=\"data row2 col0\" >Older adults (65+ years)</td>\n",
       "      <td id=\"T_b0fd0_row2_col1\" class=\"data row2 col1\" >Males</td>\n",
       "      <td id=\"T_b0fd0_row2_col2\" class=\"data row2 col2\" >Sydney LHD</td>\n",
       "      <td id=\"T_b0fd0_row2_col3\" class=\"data row2 col3\" >2013-2014</td>\n",
       "      <td id=\"T_b0fd0_row2_col4\" class=\"data row2 col4\" >227.200000</td>\n",
       "      <td id=\"T_b0fd0_row2_col5\" class=\"data row2 col5\" >192.100000</td>\n",
       "      <td id=\"T_b0fd0_row2_col6\" class=\"data row2 col6\" >266.800000</td>\n",
       "    </tr>\n",
       "    <tr>\n",
       "      <th id=\"T_b0fd0_level0_row3\" class=\"row_heading level0 row3\" >3</th>\n",
       "      <td id=\"T_b0fd0_row3_col0\" class=\"data row3 col0\" >Older adults (65+ years)</td>\n",
       "      <td id=\"T_b0fd0_row3_col1\" class=\"data row3 col1\" >Males</td>\n",
       "      <td id=\"T_b0fd0_row3_col2\" class=\"data row3 col2\" >Sydney LHD</td>\n",
       "      <td id=\"T_b0fd0_row3_col3\" class=\"data row3 col3\" >2014-2015</td>\n",
       "      <td id=\"T_b0fd0_row3_col4\" class=\"data row3 col4\" >212.000000</td>\n",
       "      <td id=\"T_b0fd0_row3_col5\" class=\"data row3 col5\" >178.800000</td>\n",
       "      <td id=\"T_b0fd0_row3_col6\" class=\"data row3 col6\" >249.600000</td>\n",
       "    </tr>\n",
       "    <tr>\n",
       "      <th id=\"T_b0fd0_level0_row4\" class=\"row_heading level0 row4\" >4</th>\n",
       "      <td id=\"T_b0fd0_row4_col0\" class=\"data row4 col0\" >Older adults (65+ years)</td>\n",
       "      <td id=\"T_b0fd0_row4_col1\" class=\"data row4 col1\" >Males</td>\n",
       "      <td id=\"T_b0fd0_row4_col2\" class=\"data row4 col2\" >Sydney LHD</td>\n",
       "      <td id=\"T_b0fd0_row4_col3\" class=\"data row4 col3\" >2015-2016</td>\n",
       "      <td id=\"T_b0fd0_row4_col4\" class=\"data row4 col4\" >164.400000</td>\n",
       "      <td id=\"T_b0fd0_row4_col5\" class=\"data row4 col5\" >135.700000</td>\n",
       "      <td id=\"T_b0fd0_row4_col6\" class=\"data row4 col6\" >197.300000</td>\n",
       "    </tr>\n",
       "  </tbody>\n",
       "</table>\n"
      ],
      "text/plain": [
       "<pandas.io.formats.style.Styler at 0x19f5333d640>"
      ]
     },
     "metadata": {},
     "output_type": "display_data"
    },
    {
     "name": "stdout",
     "output_type": "stream",
     "text": [
      "\n",
      "Object Summary Statistics:\n"
     ]
    },
    {
     "data": {
      "text/html": [
       "<style type=\"text/css\">\n",
       "#T_a61fc th {\n",
       "  min-width: 100px;\n",
       "}\n",
       "</style>\n",
       "<table id=\"T_a61fc\">\n",
       "  <thead>\n",
       "    <tr>\n",
       "      <th class=\"blank level0\" >&nbsp;</th>\n",
       "      <th id=\"T_a61fc_level0_col0\" class=\"col_heading level0 col0\" >datatype</th>\n",
       "      <th id=\"T_a61fc_level0_col1\" class=\"col_heading level0 col1\" >present_values</th>\n",
       "      <th id=\"T_a61fc_level0_col2\" class=\"col_heading level0 col2\" >missing_values</th>\n",
       "      <th id=\"T_a61fc_level0_col3\" class=\"col_heading level0 col3\" >unique</th>\n",
       "    </tr>\n",
       "  </thead>\n",
       "  <tbody>\n",
       "    <tr>\n",
       "      <th id=\"T_a61fc_level0_row0\" class=\"row_heading level0 row0\" >Risk group</th>\n",
       "      <td id=\"T_a61fc_row0_col0\" class=\"data row0 col0\" >object</td>\n",
       "      <td id=\"T_a61fc_row0_col1\" class=\"data row0 col1\" >1920</td>\n",
       "      <td id=\"T_a61fc_row0_col2\" class=\"data row0 col2\" >0</td>\n",
       "      <td id=\"T_a61fc_row0_col3\" class=\"data row0 col3\" >2</td>\n",
       "    </tr>\n",
       "    <tr>\n",
       "      <th id=\"T_a61fc_level0_row1\" class=\"row_heading level0 row1\" >Sex</th>\n",
       "      <td id=\"T_a61fc_row1_col0\" class=\"data row1 col0\" >object</td>\n",
       "      <td id=\"T_a61fc_row1_col1\" class=\"data row1 col1\" >1920</td>\n",
       "      <td id=\"T_a61fc_row1_col2\" class=\"data row1 col2\" >0</td>\n",
       "      <td id=\"T_a61fc_row1_col3\" class=\"data row1 col3\" >3</td>\n",
       "    </tr>\n",
       "    <tr>\n",
       "      <th id=\"T_a61fc_level0_row2\" class=\"row_heading level0 row2\" >LHD</th>\n",
       "      <td id=\"T_a61fc_row2_col0\" class=\"data row2 col0\" >object</td>\n",
       "      <td id=\"T_a61fc_row2_col1\" class=\"data row2 col1\" >1920</td>\n",
       "      <td id=\"T_a61fc_row2_col2\" class=\"data row2 col2\" >0</td>\n",
       "      <td id=\"T_a61fc_row2_col3\" class=\"data row2 col3\" >16</td>\n",
       "    </tr>\n",
       "    <tr>\n",
       "      <th id=\"T_a61fc_level0_row3\" class=\"row_heading level0 row3\" >Period</th>\n",
       "      <td id=\"T_a61fc_row3_col0\" class=\"data row3 col0\" >object</td>\n",
       "      <td id=\"T_a61fc_row3_col1\" class=\"data row3 col1\" >1920</td>\n",
       "      <td id=\"T_a61fc_row3_col2\" class=\"data row3 col2\" >0</td>\n",
       "      <td id=\"T_a61fc_row3_col3\" class=\"data row3 col3\" >10</td>\n",
       "    </tr>\n",
       "  </tbody>\n",
       "</table>\n"
      ],
      "text/plain": [
       "<pandas.io.formats.style.Styler at 0x19f52b5bce0>"
      ]
     },
     "metadata": {},
     "output_type": "display_data"
    }
   ],
   "source": [
    "# Generate summary statistics for object columns.\n",
    "object_summary_stats = df.describe(include=['O']).transpose()                                                       # Generate summary statistics for object columns.\n",
    "object_summary_stats['missing_values'] = df.isnull().sum()                                                          # Add missing values to the summary table.\n",
    "object_summary_stats['present_values'] = df.notnull().sum()                                                         # Add present values to the summary table.\n",
    "object_summary_stats['datatype'] = df.dtypes                                                                        # Add data types to the summary table.\n",
    "object_summary_stats = object_summary_stats[['datatype', 'present_values', 'missing_values', 'unique']]             # Select features and reorder table.\n",
    "\n",
    "# Display the summary tables with titles.\n",
    "print(\"Dataset Head:\")                                                                                              # Display the dataset head title.\n",
    "display(df.head().style.set_table_styles([{'selector': 'th', 'props': [('min-width', '100px')]}]))                  # Display the dataset head. For better visualization, set the minimum width of the table headers to 100px.\n",
    "\n",
    "print(\"\\nObject Summary Statistics:\")                                                                               # Display the object summary statistics.\n",
    "display(object_summary_stats.style.set_table_styles([{'selector': 'th', 'props': [('min-width', '100px')]}]))       # Display the object summary statistics. For better visualization, set the minimum width of the table headers to 100px."
   ]
  },
  {
   "cell_type": "markdown",
   "metadata": {},
   "source": [
    "## Data Manipulation"
   ]
  },
  {
   "cell_type": "code",
   "execution_count": 4,
   "metadata": {},
   "outputs": [
    {
     "data": {
      "text/html": [
       "<div>\n",
       "<style scoped>\n",
       "    .dataframe tbody tr th:only-of-type {\n",
       "        vertical-align: middle;\n",
       "    }\n",
       "\n",
       "    .dataframe tbody tr th {\n",
       "        vertical-align: top;\n",
       "    }\n",
       "\n",
       "    .dataframe thead th {\n",
       "        text-align: right;\n",
       "    }\n",
       "</style>\n",
       "<table border=\"1\" class=\"dataframe\">\n",
       "  <thead>\n",
       "    <tr style=\"text-align: right;\">\n",
       "      <th></th>\n",
       "      <th>sex</th>\n",
       "      <th>lhd</th>\n",
       "      <th>financial year</th>\n",
       "      <th>rate per 100,000 population</th>\n",
       "    </tr>\n",
       "  </thead>\n",
       "  <tbody>\n",
       "    <tr>\n",
       "      <th>480</th>\n",
       "      <td>Males</td>\n",
       "      <td>Sydney</td>\n",
       "      <td>2011/2012</td>\n",
       "      <td>26.5</td>\n",
       "    </tr>\n",
       "    <tr>\n",
       "      <th>481</th>\n",
       "      <td>Males</td>\n",
       "      <td>Sydney</td>\n",
       "      <td>2012/2013</td>\n",
       "      <td>27.8</td>\n",
       "    </tr>\n",
       "    <tr>\n",
       "      <th>482</th>\n",
       "      <td>Males</td>\n",
       "      <td>Sydney</td>\n",
       "      <td>2013/2014</td>\n",
       "      <td>31.1</td>\n",
       "    </tr>\n",
       "    <tr>\n",
       "      <th>483</th>\n",
       "      <td>Males</td>\n",
       "      <td>Sydney</td>\n",
       "      <td>2014/2015</td>\n",
       "      <td>29.5</td>\n",
       "    </tr>\n",
       "    <tr>\n",
       "      <th>484</th>\n",
       "      <td>Males</td>\n",
       "      <td>Sydney</td>\n",
       "      <td>2015/2016</td>\n",
       "      <td>23.3</td>\n",
       "    </tr>\n",
       "  </tbody>\n",
       "</table>\n",
       "</div>"
      ],
      "text/plain": [
       "       sex     lhd financial year  rate per 100,000 population\n",
       "480  Males  Sydney      2011/2012                         26.5\n",
       "481  Males  Sydney      2012/2013                         27.8\n",
       "482  Males  Sydney      2013/2014                         31.1\n",
       "483  Males  Sydney      2014/2015                         29.5\n",
       "484  Males  Sydney      2015/2016                         23.3"
      ]
     },
     "metadata": {},
     "output_type": "display_data"
    }
   ],
   "source": [
    "# Rename columns to match Air Quality data set.\n",
    "df = df.rename(columns={'LHD': 'lhd', 'Period': 'financial year'})                                                  # Rename columns\n",
    "df.columns = df.columns.str.lower()                                                                                 # Lowercase column names\n",
    "\n",
    "# Remove ' LHD' for Local Health District values.\n",
    "df['lhd'] = df['lhd'].str.replace(' LHD', '')                                                                       # Remove ' LHD' from lhd column\n",
    "\n",
    "# Remove rows representing state-wide aggregated data.\n",
    "df = df.dropna(subset=['lhd'])                                                                                      # Remove rows with missing values in 'lhd' column\n",
    "df = df[~df['lhd'].str.contains('All')]                                                                             # Remove rows with 'All' in 'lhd' column\n",
    "\n",
    "# Remove columns holding Confidence Interval data.\n",
    "df = df.loc[:, ~df.columns.str.contains('% ci')]                                                                    # Remove columns with '% ci' in the name\n",
    "\n",
    "# Reformat 'financial year' values from XX/YY to XXXX/YYYY.\n",
    "df['financial year'] = df['financial year'].str.replace('-', '/')                                                   # Replace '-' with '/'\n",
    "\n",
    "# Remove rows where 'risk group' is not 'All ages'.\n",
    "df = df[df['risk group'] == 'All ages']                                                                             # Keep rows where 'risk group' is 'All ages'\n",
    "df = df.drop(columns=['risk group'])                                                                                # Drop 'risk group' column\n",
    "\n",
    "# View the cleaned data.\n",
    "display(df.head())                                                                                                  # Display the first few rows of the cleaned data"
   ]
  },
  {
   "cell_type": "code",
   "execution_count": 5,
   "metadata": {},
   "outputs": [
    {
     "data": {
      "text/html": [
       "<div>\n",
       "<style scoped>\n",
       "    .dataframe tbody tr th:only-of-type {\n",
       "        vertical-align: middle;\n",
       "    }\n",
       "\n",
       "    .dataframe tbody tr th {\n",
       "        vertical-align: top;\n",
       "    }\n",
       "\n",
       "    .dataframe thead th {\n",
       "        text-align: right;\n",
       "    }\n",
       "</style>\n",
       "<table border=\"1\" class=\"dataframe\">\n",
       "  <thead>\n",
       "    <tr style=\"text-align: right;\">\n",
       "      <th></th>\n",
       "      <th>financial year</th>\n",
       "      <th>lhd</th>\n",
       "      <th>Female rate per 100,000 population</th>\n",
       "      <th>Male rate per 100,000 population</th>\n",
       "      <th>Persons rate per 100,000 population</th>\n",
       "    </tr>\n",
       "  </thead>\n",
       "  <tbody>\n",
       "    <tr>\n",
       "      <th>0</th>\n",
       "      <td>2011/2012</td>\n",
       "      <td>Central Coast</td>\n",
       "      <td>24.9</td>\n",
       "      <td>33.1</td>\n",
       "      <td>28.2</td>\n",
       "    </tr>\n",
       "    <tr>\n",
       "      <th>1</th>\n",
       "      <td>2011/2012</td>\n",
       "      <td>Far West</td>\n",
       "      <td>30.9</td>\n",
       "      <td>38.5</td>\n",
       "      <td>32.6</td>\n",
       "    </tr>\n",
       "    <tr>\n",
       "      <th>2</th>\n",
       "      <td>2011/2012</td>\n",
       "      <td>Hunter New England</td>\n",
       "      <td>19.1</td>\n",
       "      <td>34.3</td>\n",
       "      <td>25.4</td>\n",
       "    </tr>\n",
       "    <tr>\n",
       "      <th>3</th>\n",
       "      <td>2011/2012</td>\n",
       "      <td>Illawarra Shoalhaven</td>\n",
       "      <td>20.3</td>\n",
       "      <td>34.0</td>\n",
       "      <td>26.1</td>\n",
       "    </tr>\n",
       "    <tr>\n",
       "      <th>4</th>\n",
       "      <td>2011/2012</td>\n",
       "      <td>Mid North Coast</td>\n",
       "      <td>18.8</td>\n",
       "      <td>38.8</td>\n",
       "      <td>27.7</td>\n",
       "    </tr>\n",
       "  </tbody>\n",
       "</table>\n",
       "</div>"
      ],
      "text/plain": [
       "  financial year                   lhd  Female rate per 100,000 population  \\\n",
       "0      2011/2012         Central Coast                                24.9   \n",
       "1      2011/2012              Far West                                30.9   \n",
       "2      2011/2012    Hunter New England                                19.1   \n",
       "3      2011/2012  Illawarra Shoalhaven                                20.3   \n",
       "4      2011/2012       Mid North Coast                                18.8   \n",
       "\n",
       "   Male rate per 100,000 population  Persons rate per 100,000 population  \n",
       "0                              33.1                                 28.2  \n",
       "1                              38.5                                 32.6  \n",
       "2                              34.3                                 25.4  \n",
       "3                              34.0                                 26.1  \n",
       "4                              38.8                                 27.7  "
      ]
     },
     "metadata": {},
     "output_type": "display_data"
    }
   ],
   "source": [
    "# Pivot the dataframe to have 'sex' as columns\n",
    "df = df.pivot_table(index=['financial year', 'lhd'], columns='sex', values='rate per 100,000 population').reset_index()   # Pivot the dataframe\n",
    "\n",
    "# Rename the columns to match the desired format\n",
    "df.columns.name = None                                                                                                    # Remove the columns name \n",
    "df = df.rename(columns={                                                                                                  # Rename columns\n",
    "    'Persons': 'Persons rate per 100,000 population',\n",
    "    'Males': 'Male rate per 100,000 population', \n",
    "    'Females': 'Female rate per 100,000 population'\n",
    "})\n",
    "\n",
    "# View the DataFrame\n",
    "display(df.head()) "
   ]
  },
  {
   "cell_type": "markdown",
   "metadata": {},
   "source": [
    "## Set Date Range"
   ]
  },
  {
   "cell_type": "markdown",
   "metadata": {},
   "source": [
    "Set the range of financial years from 2014/2015 to 2023/2024."
   ]
  },
  {
   "cell_type": "code",
   "execution_count": 6,
   "metadata": {},
   "outputs": [
    {
     "name": "stderr",
     "output_type": "stream",
     "text": [
      "C:\\Users\\matth\\AppData\\Local\\Temp\\ipykernel_10520\\1010056951.py:23: FutureWarning: The behavior of DataFrame concatenation with empty or all-NA entries is deprecated. In a future version, this will no longer exclude empty or all-NA columns when determining the result dtypes. To retain the old behavior, exclude the relevant entries before the concat operation.\n",
      "  df = pd.concat([df, df_missing], ignore_index=True)                                                             # Concatenate the DataFrames.\n"
     ]
    },
    {
     "data": {
      "text/html": [
       "<div>\n",
       "<style scoped>\n",
       "    .dataframe tbody tr th:only-of-type {\n",
       "        vertical-align: middle;\n",
       "    }\n",
       "\n",
       "    .dataframe tbody tr th {\n",
       "        vertical-align: top;\n",
       "    }\n",
       "\n",
       "    .dataframe thead th {\n",
       "        text-align: right;\n",
       "    }\n",
       "</style>\n",
       "<table border=\"1\" class=\"dataframe\">\n",
       "  <thead>\n",
       "    <tr style=\"text-align: right;\">\n",
       "      <th></th>\n",
       "      <th>financial year</th>\n",
       "      <th>lhd</th>\n",
       "      <th>Female rate per 100,000 population</th>\n",
       "      <th>Male rate per 100,000 population</th>\n",
       "      <th>Persons rate per 100,000 population</th>\n",
       "    </tr>\n",
       "  </thead>\n",
       "  <tbody>\n",
       "    <tr>\n",
       "      <th>145</th>\n",
       "      <td>2019/2020</td>\n",
       "      <td>Western Sydney</td>\n",
       "      <td>13.5</td>\n",
       "      <td>24.5</td>\n",
       "      <td>18.3</td>\n",
       "    </tr>\n",
       "    <tr>\n",
       "      <th>146</th>\n",
       "      <td>2020/2021</td>\n",
       "      <td>Western Sydney</td>\n",
       "      <td>13.8</td>\n",
       "      <td>20.7</td>\n",
       "      <td>16.8</td>\n",
       "    </tr>\n",
       "    <tr>\n",
       "      <th>147</th>\n",
       "      <td>2021/2022</td>\n",
       "      <td>Western Sydney</td>\n",
       "      <td>NaN</td>\n",
       "      <td>NaN</td>\n",
       "      <td>NaN</td>\n",
       "    </tr>\n",
       "    <tr>\n",
       "      <th>148</th>\n",
       "      <td>2022/2023</td>\n",
       "      <td>Western Sydney</td>\n",
       "      <td>NaN</td>\n",
       "      <td>NaN</td>\n",
       "      <td>NaN</td>\n",
       "    </tr>\n",
       "    <tr>\n",
       "      <th>149</th>\n",
       "      <td>2023/2024</td>\n",
       "      <td>Western Sydney</td>\n",
       "      <td>NaN</td>\n",
       "      <td>NaN</td>\n",
       "      <td>NaN</td>\n",
       "    </tr>\n",
       "  </tbody>\n",
       "</table>\n",
       "</div>"
      ],
      "text/plain": [
       "    financial year             lhd  Female rate per 100,000 population  \\\n",
       "145      2019/2020  Western Sydney                                13.5   \n",
       "146      2020/2021  Western Sydney                                13.8   \n",
       "147      2021/2022  Western Sydney                                 NaN   \n",
       "148      2022/2023  Western Sydney                                 NaN   \n",
       "149      2023/2024  Western Sydney                                 NaN   \n",
       "\n",
       "     Male rate per 100,000 population  Persons rate per 100,000 population  \n",
       "145                              24.5                                 18.3  \n",
       "146                              20.7                                 16.8  \n",
       "147                               NaN                                  NaN  \n",
       "148                               NaN                                  NaN  \n",
       "149                               NaN                                  NaN  "
      ]
     },
     "metadata": {},
     "output_type": "display_data"
    }
   ],
   "source": [
    "# Drop pre 2014/2015 data.\n",
    "df = df[~df['financial year'].isin(['2011/2012', '2012/2013', '2013/2014'])]                                        # Drop pre 2014/2015 data.\n",
    "\n",
    "# Add rows for each LHD for the missing years until 2023/2024.\n",
    "missing_rows = []                                                                                                   # Create a list to store the missing rows.\n",
    "lhds = df['lhd'].unique()                                                                                           # Get unique LHDs.\n",
    "years = [f\"{year}/{year + 1}\" for year in range(2014, 2024)]                                                        # Create a list of years from 2014/2015 to 2023/2024.\n",
    "\n",
    "for lhd in lhds:\n",
    "    for year in years:\n",
    "        if not ((df['lhd'] == lhd) & (df['financial year'] == year)).any():                                         # Check if the row is missing.\n",
    "            missing_rows.append({                                                                                   # Append the missing row to the list.\n",
    "                'lhd': lhd, \n",
    "                'financial year': year, \n",
    "                'Female rate per 100,000 population': None,\n",
    "                'Male rate per 100,000 population': None,\n",
    "                'Persons rate per 100,000 population': None,\n",
    "            })   \n",
    "\n",
    "# Create a DataFrame from the missing rows and concatenate it to the original DataFrame\n",
    "if missing_rows:\n",
    "    df_missing = pd.DataFrame(missing_rows)                                                                         # Create a DataFrame from the missing rows.\n",
    "    df = pd.concat([df, df_missing], ignore_index=True)                                                             # Concatenate the DataFrames.\n",
    "\n",
    "# Sort the DataFrame by 'lhd' and 'financial year'.\n",
    "df = df.sort_values(by=['lhd', 'financial year']).reset_index(drop=True)                                            # Sort the DataFrame by 'lhd' and 'financial year'.\n",
    "\n",
    "# View the DataFrame.\n",
    "display(df.tail())                                                                                                  # View the last 5 rows of the DataFrame."
   ]
  },
  {
   "cell_type": "markdown",
   "metadata": {},
   "source": [
    "Fill missing values using linear interpolation."
   ]
  },
  {
   "cell_type": "code",
   "execution_count": 7,
   "metadata": {},
   "outputs": [],
   "source": [
    "df['Female rate per 100,000 population'] = df['Female rate per 100,000 population'].interpolate()                                    # Fill missing values using linear interpolation.\n",
    "df['Male rate per 100,000 population'] = df['Male rate per 100,000 population'].interpolate()                                        # Fill missing values using linear interpolation.\n",
    "df['Persons rate per 100,000 population'] = df['Persons rate per 100,000 population'].interpolate()                                  # Fill missing values using linear interpolation."
   ]
  },
  {
   "cell_type": "markdown",
   "metadata": {},
   "source": [
    "## Output Processed Dataset"
   ]
  },
  {
   "cell_type": "code",
   "execution_count": 8,
   "metadata": {},
   "outputs": [],
   "source": [
    "# Save the processed data to a new CSV file.\n",
    "df.to_csv('processed.csv', index=False)                                                                            # Save the processed data to a new CSV file.                                                                                                      # View the first 5 rows of the DataFrame."
   ]
  },
  {
   "cell_type": "markdown",
   "metadata": {},
   "source": [
    "## View Processed Dataset"
   ]
  },
  {
   "cell_type": "code",
   "execution_count": 9,
   "metadata": {},
   "outputs": [
    {
     "data": {
      "text/html": [
       "<div>\n",
       "<style scoped>\n",
       "    .dataframe tbody tr th:only-of-type {\n",
       "        vertical-align: middle;\n",
       "    }\n",
       "\n",
       "    .dataframe tbody tr th {\n",
       "        vertical-align: top;\n",
       "    }\n",
       "\n",
       "    .dataframe thead th {\n",
       "        text-align: right;\n",
       "    }\n",
       "</style>\n",
       "<table border=\"1\" class=\"dataframe\">\n",
       "  <thead>\n",
       "    <tr style=\"text-align: right;\">\n",
       "      <th></th>\n",
       "      <th>financial year</th>\n",
       "      <th>lhd</th>\n",
       "      <th>Female rate per 100,000 population</th>\n",
       "      <th>Male rate per 100,000 population</th>\n",
       "      <th>Persons rate per 100,000 population</th>\n",
       "    </tr>\n",
       "  </thead>\n",
       "  <tbody>\n",
       "    <tr>\n",
       "      <th>0</th>\n",
       "      <td>2014/2015</td>\n",
       "      <td>Central Coast</td>\n",
       "      <td>25.3</td>\n",
       "      <td>43.1</td>\n",
       "      <td>33.0</td>\n",
       "    </tr>\n",
       "    <tr>\n",
       "      <th>1</th>\n",
       "      <td>2015/2016</td>\n",
       "      <td>Central Coast</td>\n",
       "      <td>28.2</td>\n",
       "      <td>40.0</td>\n",
       "      <td>33.1</td>\n",
       "    </tr>\n",
       "    <tr>\n",
       "      <th>2</th>\n",
       "      <td>2016/2017</td>\n",
       "      <td>Central Coast</td>\n",
       "      <td>33.1</td>\n",
       "      <td>39.6</td>\n",
       "      <td>35.5</td>\n",
       "    </tr>\n",
       "    <tr>\n",
       "      <th>3</th>\n",
       "      <td>2017/2018</td>\n",
       "      <td>Central Coast</td>\n",
       "      <td>33.9</td>\n",
       "      <td>40.6</td>\n",
       "      <td>36.4</td>\n",
       "    </tr>\n",
       "    <tr>\n",
       "      <th>4</th>\n",
       "      <td>2018/2019</td>\n",
       "      <td>Central Coast</td>\n",
       "      <td>31.6</td>\n",
       "      <td>41.1</td>\n",
       "      <td>35.4</td>\n",
       "    </tr>\n",
       "  </tbody>\n",
       "</table>\n",
       "</div>"
      ],
      "text/plain": [
       "  financial year            lhd  Female rate per 100,000 population  \\\n",
       "0      2014/2015  Central Coast                                25.3   \n",
       "1      2015/2016  Central Coast                                28.2   \n",
       "2      2016/2017  Central Coast                                33.1   \n",
       "3      2017/2018  Central Coast                                33.9   \n",
       "4      2018/2019  Central Coast                                31.6   \n",
       "\n",
       "   Male rate per 100,000 population  Persons rate per 100,000 population  \n",
       "0                              43.1                                 33.0  \n",
       "1                              40.0                                 33.1  \n",
       "2                              39.6                                 35.5  \n",
       "3                              40.6                                 36.4  \n",
       "4                              41.1                                 35.4  "
      ]
     },
     "metadata": {},
     "output_type": "display_data"
    }
   ],
   "source": [
    "# Display the processed data.\n",
    "display(df.head())"
   ]
  }
 ],
 "metadata": {
  "kernelspec": {
   "display_name": "base",
   "language": "python",
   "name": "python3"
  },
  "language_info": {
   "codemirror_mode": {
    "name": "ipython",
    "version": 3
   },
   "file_extension": ".py",
   "mimetype": "text/x-python",
   "name": "python",
   "nbconvert_exporter": "python",
   "pygments_lexer": "ipython3",
   "version": "3.12.4"
  }
 },
 "nbformat": 4,
 "nbformat_minor": 2
}
