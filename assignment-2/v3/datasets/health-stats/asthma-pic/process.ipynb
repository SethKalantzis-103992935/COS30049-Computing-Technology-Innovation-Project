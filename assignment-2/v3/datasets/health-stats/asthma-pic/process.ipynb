{
 "cells": [
  {
   "cell_type": "markdown",
   "metadata": {},
   "source": [
    "# Asthma Deaths - Processing"
   ]
  },
  {
   "cell_type": "markdown",
   "metadata": {},
   "source": [
    "## Dependencies"
   ]
  },
  {
   "cell_type": "markdown",
   "metadata": {},
   "source": [
    "Ensure that the required libraries have been installed locally as per the README.md file included in this project.\n",
    "\n",
    "Run the following cell the import the required dependencies for this notebook."
   ]
  },
  {
   "cell_type": "code",
   "execution_count": 1,
   "metadata": {},
   "outputs": [],
   "source": [
    "# Import libraries\n",
    "import pandas as pd"
   ]
  },
  {
   "cell_type": "markdown",
   "metadata": {},
   "source": [
    "## Load Dataset"
   ]
  },
  {
   "cell_type": "code",
   "execution_count": 2,
   "metadata": {},
   "outputs": [],
   "source": [
    "# Load the raw data.\n",
    "df = pd.read_csv('raw.csv')"
   ]
  },
  {
   "cell_type": "markdown",
   "metadata": {},
   "source": [
    "## Exploratory Analysis of Raw Data"
   ]
  },
  {
   "cell_type": "code",
   "execution_count": 3,
   "metadata": {},
   "outputs": [
    {
     "name": "stdout",
     "output_type": "stream",
     "text": [
      "Dataset Head:\n"
     ]
    },
    {
     "data": {
      "text/html": [
       "<style type=\"text/css\">\n",
       "#T_f2445 th {\n",
       "  min-width: 100px;\n",
       "}\n",
       "</style>\n",
       "<table id=\"T_f2445\">\n",
       "  <thead>\n",
       "    <tr>\n",
       "      <th class=\"blank level0\" >&nbsp;</th>\n",
       "      <th id=\"T_f2445_level0_col0\" class=\"col_heading level0 col0\" >Asthma Type</th>\n",
       "      <th id=\"T_f2445_level0_col1\" class=\"col_heading level0 col1\" >LHD</th>\n",
       "      <th id=\"T_f2445_level0_col2\" class=\"col_heading level0 col2\" >Period</th>\n",
       "      <th id=\"T_f2445_level0_col3\" class=\"col_heading level0 col3\" >Per cent</th>\n",
       "      <th id=\"T_f2445_level0_col4\" class=\"col_heading level0 col4\" >LL 95% CI</th>\n",
       "      <th id=\"T_f2445_level0_col5\" class=\"col_heading level0 col5\" >UL 95% CI</th>\n",
       "    </tr>\n",
       "  </thead>\n",
       "  <tbody>\n",
       "    <tr>\n",
       "      <th id=\"T_f2445_level0_row0\" class=\"row_heading level0 row0\" >0</th>\n",
       "      <td id=\"T_f2445_row0_col0\" class=\"data row0 col0\" >Current Asthma</td>\n",
       "      <td id=\"T_f2445_row0_col1\" class=\"data row0 col1\" >Sydney LHD</td>\n",
       "      <td id=\"T_f2445_row0_col2\" class=\"data row0 col2\" >2002-2004</td>\n",
       "      <td id=\"T_f2445_row0_col3\" class=\"data row0 col3\" >11.700000</td>\n",
       "      <td id=\"T_f2445_row0_col4\" class=\"data row0 col4\" >7.600000</td>\n",
       "      <td id=\"T_f2445_row0_col5\" class=\"data row0 col5\" >15.800000</td>\n",
       "    </tr>\n",
       "    <tr>\n",
       "      <th id=\"T_f2445_level0_row1\" class=\"row_heading level0 row1\" >1</th>\n",
       "      <td id=\"T_f2445_row1_col0\" class=\"data row1 col0\" >Current Asthma</td>\n",
       "      <td id=\"T_f2445_row1_col1\" class=\"data row1 col1\" >Sydney LHD</td>\n",
       "      <td id=\"T_f2445_row1_col2\" class=\"data row1 col2\" >2003-2005</td>\n",
       "      <td id=\"T_f2445_row1_col3\" class=\"data row1 col3\" >10.700000</td>\n",
       "      <td id=\"T_f2445_row1_col4\" class=\"data row1 col4\" >6.600000</td>\n",
       "      <td id=\"T_f2445_row1_col5\" class=\"data row1 col5\" >14.800000</td>\n",
       "    </tr>\n",
       "    <tr>\n",
       "      <th id=\"T_f2445_level0_row2\" class=\"row_heading level0 row2\" >2</th>\n",
       "      <td id=\"T_f2445_row2_col0\" class=\"data row2 col0\" >Current Asthma</td>\n",
       "      <td id=\"T_f2445_row2_col1\" class=\"data row2 col1\" >Sydney LHD</td>\n",
       "      <td id=\"T_f2445_row2_col2\" class=\"data row2 col2\" >2004-2006</td>\n",
       "      <td id=\"T_f2445_row2_col3\" class=\"data row2 col3\" >13.200000</td>\n",
       "      <td id=\"T_f2445_row2_col4\" class=\"data row2 col4\" >8.600000</td>\n",
       "      <td id=\"T_f2445_row2_col5\" class=\"data row2 col5\" >17.800000</td>\n",
       "    </tr>\n",
       "    <tr>\n",
       "      <th id=\"T_f2445_level0_row3\" class=\"row_heading level0 row3\" >3</th>\n",
       "      <td id=\"T_f2445_row3_col0\" class=\"data row3 col0\" >Current Asthma</td>\n",
       "      <td id=\"T_f2445_row3_col1\" class=\"data row3 col1\" >Sydney LHD</td>\n",
       "      <td id=\"T_f2445_row3_col2\" class=\"data row3 col2\" >2005-2007</td>\n",
       "      <td id=\"T_f2445_row3_col3\" class=\"data row3 col3\" >12.500000</td>\n",
       "      <td id=\"T_f2445_row3_col4\" class=\"data row3 col4\" >8.000000</td>\n",
       "      <td id=\"T_f2445_row3_col5\" class=\"data row3 col5\" >17.000000</td>\n",
       "    </tr>\n",
       "    <tr>\n",
       "      <th id=\"T_f2445_level0_row4\" class=\"row_heading level0 row4\" >4</th>\n",
       "      <td id=\"T_f2445_row4_col0\" class=\"data row4 col0\" >Current Asthma</td>\n",
       "      <td id=\"T_f2445_row4_col1\" class=\"data row4 col1\" >Sydney LHD</td>\n",
       "      <td id=\"T_f2445_row4_col2\" class=\"data row4 col2\" >2006-2008</td>\n",
       "      <td id=\"T_f2445_row4_col3\" class=\"data row4 col3\" >14.600000</td>\n",
       "      <td id=\"T_f2445_row4_col4\" class=\"data row4 col4\" >9.900000</td>\n",
       "      <td id=\"T_f2445_row4_col5\" class=\"data row4 col5\" >19.300000</td>\n",
       "    </tr>\n",
       "  </tbody>\n",
       "</table>\n"
      ],
      "text/plain": [
       "<pandas.io.formats.style.Styler at 0x20fc327e810>"
      ]
     },
     "metadata": {},
     "output_type": "display_data"
    },
    {
     "name": "stdout",
     "output_type": "stream",
     "text": [
      "\n",
      "Object Summary Statistics:\n"
     ]
    },
    {
     "data": {
      "text/html": [
       "<style type=\"text/css\">\n",
       "#T_c9253 th {\n",
       "  min-width: 100px;\n",
       "}\n",
       "</style>\n",
       "<table id=\"T_c9253\">\n",
       "  <thead>\n",
       "    <tr>\n",
       "      <th class=\"blank level0\" >&nbsp;</th>\n",
       "      <th id=\"T_c9253_level0_col0\" class=\"col_heading level0 col0\" >datatype</th>\n",
       "      <th id=\"T_c9253_level0_col1\" class=\"col_heading level0 col1\" >present_values</th>\n",
       "      <th id=\"T_c9253_level0_col2\" class=\"col_heading level0 col2\" >missing_values</th>\n",
       "      <th id=\"T_c9253_level0_col3\" class=\"col_heading level0 col3\" >unique</th>\n",
       "    </tr>\n",
       "  </thead>\n",
       "  <tbody>\n",
       "    <tr>\n",
       "      <th id=\"T_c9253_level0_row0\" class=\"row_heading level0 row0\" >Asthma Type</th>\n",
       "      <td id=\"T_c9253_row0_col0\" class=\"data row0 col0\" >object</td>\n",
       "      <td id=\"T_c9253_row0_col1\" class=\"data row0 col1\" >512</td>\n",
       "      <td id=\"T_c9253_row0_col2\" class=\"data row0 col2\" >0</td>\n",
       "      <td id=\"T_c9253_row0_col3\" class=\"data row0 col3\" >2</td>\n",
       "    </tr>\n",
       "    <tr>\n",
       "      <th id=\"T_c9253_level0_row1\" class=\"row_heading level0 row1\" >LHD</th>\n",
       "      <td id=\"T_c9253_row1_col0\" class=\"data row1 col0\" >object</td>\n",
       "      <td id=\"T_c9253_row1_col1\" class=\"data row1 col1\" >512</td>\n",
       "      <td id=\"T_c9253_row1_col2\" class=\"data row1 col2\" >0</td>\n",
       "      <td id=\"T_c9253_row1_col3\" class=\"data row1 col3\" >16</td>\n",
       "    </tr>\n",
       "    <tr>\n",
       "      <th id=\"T_c9253_level0_row2\" class=\"row_heading level0 row2\" >Period</th>\n",
       "      <td id=\"T_c9253_row2_col0\" class=\"data row2 col0\" >object</td>\n",
       "      <td id=\"T_c9253_row2_col1\" class=\"data row2 col1\" >512</td>\n",
       "      <td id=\"T_c9253_row2_col2\" class=\"data row2 col2\" >0</td>\n",
       "      <td id=\"T_c9253_row2_col3\" class=\"data row2 col3\" >16</td>\n",
       "    </tr>\n",
       "  </tbody>\n",
       "</table>\n"
      ],
      "text/plain": [
       "<pandas.io.formats.style.Styler at 0x20fc329f980>"
      ]
     },
     "metadata": {},
     "output_type": "display_data"
    }
   ],
   "source": [
    "# Generate summary statistics for object columns.\n",
    "object_summary_stats = df.describe(include=['O']).transpose()                                                       # Generate summary statistics for object columns.\n",
    "object_summary_stats['missing_values'] = df.isnull().sum()                                                          # Add missing values to the summary table.\n",
    "object_summary_stats['present_values'] = df.notnull().sum()                                                         # Add present values to the summary table.\n",
    "object_summary_stats['datatype'] = df.dtypes                                                                        # Add data types to the summary table.\n",
    "object_summary_stats = object_summary_stats[['datatype', 'present_values', 'missing_values', 'unique']]             # Select features and reorder table.\n",
    "\n",
    "# Display the summary tables with titles.\n",
    "print(\"Dataset Head:\")                                                                                              # Display the dataset head title.\n",
    "display(df.head().style.set_table_styles([{'selector': 'th', 'props': [('min-width', '100px')]}]))                  # Display the dataset head. For better visualization, set the minimum width of the table headers to 100px.\n",
    "\n",
    "print(\"\\nObject Summary Statistics:\")                                                                               # Display the object summary statistics.\n",
    "display(object_summary_stats.style.set_table_styles([{'selector': 'th', 'props': [('min-width', '100px')]}]))       # Display the object summary statistics. For better visualization, set the minimum width of the table headers to 100px."
   ]
  },
  {
   "cell_type": "markdown",
   "metadata": {},
   "source": [
    "## Data Manipulation"
   ]
  },
  {
   "cell_type": "code",
   "execution_count": 4,
   "metadata": {},
   "outputs": [
    {
     "data": {
      "text/html": [
       "<div>\n",
       "<style scoped>\n",
       "    .dataframe tbody tr th:only-of-type {\n",
       "        vertical-align: middle;\n",
       "    }\n",
       "\n",
       "    .dataframe tbody tr th {\n",
       "        vertical-align: top;\n",
       "    }\n",
       "\n",
       "    .dataframe thead th {\n",
       "        text-align: right;\n",
       "    }\n",
       "</style>\n",
       "<table border=\"1\" class=\"dataframe\">\n",
       "  <thead>\n",
       "    <tr style=\"text-align: right;\">\n",
       "      <th></th>\n",
       "      <th>asthma type</th>\n",
       "      <th>lhd</th>\n",
       "      <th>date</th>\n",
       "      <th>rate per 100,000 population</th>\n",
       "    </tr>\n",
       "  </thead>\n",
       "  <tbody>\n",
       "    <tr>\n",
       "      <th>0</th>\n",
       "      <td>Current Asthma</td>\n",
       "      <td>Sydney</td>\n",
       "      <td>2002-2004</td>\n",
       "      <td>11700.0</td>\n",
       "    </tr>\n",
       "    <tr>\n",
       "      <th>1</th>\n",
       "      <td>Current Asthma</td>\n",
       "      <td>Sydney</td>\n",
       "      <td>2003-2005</td>\n",
       "      <td>10700.0</td>\n",
       "    </tr>\n",
       "    <tr>\n",
       "      <th>2</th>\n",
       "      <td>Current Asthma</td>\n",
       "      <td>Sydney</td>\n",
       "      <td>2004-2006</td>\n",
       "      <td>13200.0</td>\n",
       "    </tr>\n",
       "    <tr>\n",
       "      <th>3</th>\n",
       "      <td>Current Asthma</td>\n",
       "      <td>Sydney</td>\n",
       "      <td>2005-2007</td>\n",
       "      <td>12500.0</td>\n",
       "    </tr>\n",
       "    <tr>\n",
       "      <th>4</th>\n",
       "      <td>Current Asthma</td>\n",
       "      <td>Sydney</td>\n",
       "      <td>2006-2008</td>\n",
       "      <td>14600.0</td>\n",
       "    </tr>\n",
       "  </tbody>\n",
       "</table>\n",
       "</div>"
      ],
      "text/plain": [
       "      asthma type     lhd       date  rate per 100,000 population\n",
       "0  Current Asthma  Sydney  2002-2004                      11700.0\n",
       "1  Current Asthma  Sydney  2003-2005                      10700.0\n",
       "2  Current Asthma  Sydney  2004-2006                      13200.0\n",
       "3  Current Asthma  Sydney  2005-2007                      12500.0\n",
       "4  Current Asthma  Sydney  2006-2008                      14600.0"
      ]
     },
     "metadata": {},
     "output_type": "display_data"
    }
   ],
   "source": [
    "# Rename columns to match Air Quality data set.\n",
    "df = df.rename(columns={'LHD': 'lhd', 'Period': 'date'})                                                            # Rename columns\n",
    "df.columns = df.columns.str.lower()                                                                                 # Lowercase column names\n",
    "\n",
    "# Remove ' LHD' for Local Health District values.\n",
    "df['lhd'] = df['lhd'].str.replace(' LHD', '')                                                                       # Remove ' LHD' from lhd column\n",
    "\n",
    "# Remove rows representing state-wide aggregated data.\n",
    "df = df.dropna(subset=['lhd'])                                                                                      # Remove rows with missing values in 'lhd' column\n",
    "df = df[~df['lhd'].str.contains('All')]                                                                             # Remove rows with 'All' in 'lhd' column\n",
    "\n",
    "# Remove columns holding Confidence Interval data.\n",
    "df = df.loc[:, ~df.columns.str.contains('% ci')]                                                                    # Remove columns with '% ci' in the name\n",
    "\n",
    "# Convert 'per cent' to 'rate per 100,000 population'.\n",
    "df = df.rename(columns={'per cent': 'rate per 100,000 population'})                                                 # Rename 'per cent' column\n",
    "df['rate per 100,000 population'] = df['rate per 100,000 population'] * 1000                                        # Remove ' per cent' from 'rate per 100,000 population' column\n",
    "\n",
    "# View the cleaned data.\n",
    "display(df.head())                                                                                                  # Display the first few rows of the cleaned data"
   ]
  },
  {
   "cell_type": "markdown",
   "metadata": {},
   "source": [
    "## Data Normalization"
   ]
  },
  {
   "cell_type": "markdown",
   "metadata": {},
   "source": [
    "Convert rolling 2-Year totals to annual totals."
   ]
  },
  {
   "cell_type": "code",
   "execution_count": 5,
   "metadata": {},
   "outputs": [
    {
     "data": {
      "text/html": [
       "<div>\n",
       "<style scoped>\n",
       "    .dataframe tbody tr th:only-of-type {\n",
       "        vertical-align: middle;\n",
       "    }\n",
       "\n",
       "    .dataframe tbody tr th {\n",
       "        vertical-align: top;\n",
       "    }\n",
       "\n",
       "    .dataframe thead th {\n",
       "        text-align: right;\n",
       "    }\n",
       "</style>\n",
       "<table border=\"1\" class=\"dataframe\">\n",
       "  <thead>\n",
       "    <tr style=\"text-align: right;\">\n",
       "      <th></th>\n",
       "      <th>financial year</th>\n",
       "      <th>lhd</th>\n",
       "      <th>rate per 100,000 population</th>\n",
       "    </tr>\n",
       "  </thead>\n",
       "  <tbody>\n",
       "    <tr>\n",
       "      <th>0</th>\n",
       "      <td>2002/2003</td>\n",
       "      <td>Central Coast</td>\n",
       "      <td>12025.0</td>\n",
       "    </tr>\n",
       "    <tr>\n",
       "      <th>1</th>\n",
       "      <td>2002/2003</td>\n",
       "      <td>Far West</td>\n",
       "      <td>12450.0</td>\n",
       "    </tr>\n",
       "    <tr>\n",
       "      <th>2</th>\n",
       "      <td>2002/2003</td>\n",
       "      <td>Hunter New England</td>\n",
       "      <td>11725.0</td>\n",
       "    </tr>\n",
       "    <tr>\n",
       "      <th>3</th>\n",
       "      <td>2002/2003</td>\n",
       "      <td>Illawarra Shoalhaven</td>\n",
       "      <td>10200.0</td>\n",
       "    </tr>\n",
       "    <tr>\n",
       "      <th>4</th>\n",
       "      <td>2002/2003</td>\n",
       "      <td>Mid North Coast</td>\n",
       "      <td>10775.0</td>\n",
       "    </tr>\n",
       "  </tbody>\n",
       "</table>\n",
       "</div>"
      ],
      "text/plain": [
       "  financial year                   lhd  rate per 100,000 population\n",
       "0      2002/2003         Central Coast                      12025.0\n",
       "1      2002/2003              Far West                      12450.0\n",
       "2      2002/2003    Hunter New England                      11725.0\n",
       "3      2002/2003  Illawarra Shoalhaven                      10200.0\n",
       "4      2002/2003       Mid North Coast                      10775.0"
      ]
     },
     "metadata": {},
     "output_type": "display_data"
    }
   ],
   "source": [
    "yearly_data = []                                                                                                   # Create a list to hold the new data.\n",
    "\n",
    "# Ensure column names are stripped of leading/trailing spaces\n",
    "df.columns = df.columns.str.strip()\n",
    "\n",
    "# Iterate over the rows.\n",
    "for index, row in df.iterrows():                                                                                   # Iterate over the rows.\n",
    "    start_year, end_year = map(int, row['date'].split('-'))                                                        # Get the start and end years.\n",
    "    mid_year = start_year + 1                                                                                      # Calculate the mid year.\n",
    "    split_value = row['rate per 100,000 population'] / 2                                                           # Calculate the split value.\n",
    "\n",
    "    yearly_data.extend([\n",
    "        {'lhd': row['lhd'], 'financial year': f\"{start_year}/{mid_year}\", 'rate per 100,000 population': split_value},         # Append the first financial year of the period.\n",
    "        {'lhd': row['lhd'], 'financial year': f\"{mid_year}/{end_year}\", 'rate per 100,000 population': split_value}            # Append the second financial year of the period.\n",
    "    ])\n",
    "    \n",
    "# Create a new DataFrame.\n",
    "df_yearly = pd.DataFrame(yearly_data)                                                                              # Create a new DataFrame.\n",
    "\n",
    "# Group by 'lhd' and 'financial year'. Get an average of the 'value' column.\n",
    "df_yearly = df_yearly.groupby(['financial year', 'lhd']).mean().reset_index()                                      # Group by 'lhd' and 'financial year'. Get an average of the 'value' column.\n",
    "\n",
    "# Assign to original DataFrame.\n",
    "df = df_yearly                                                                                                     # Assign to original DataFrame.\n",
    "\n",
    "# View the cleaned data.\n",
    "display(df.head())                                                                                                 # Display the first few rows of the cleaned data"
   ]
  },
  {
   "cell_type": "markdown",
   "metadata": {},
   "source": [
    "## Set Date Range"
   ]
  },
  {
   "cell_type": "markdown",
   "metadata": {},
   "source": [
    "Set the range of financial years from 2014/2015 to 2023/2024."
   ]
  },
  {
   "cell_type": "code",
   "execution_count": 6,
   "metadata": {},
   "outputs": [
    {
     "name": "stderr",
     "output_type": "stream",
     "text": [
      "C:\\Users\\matth\\AppData\\Local\\Temp\\ipykernel_2740\\979375999.py:17: FutureWarning: The behavior of DataFrame concatenation with empty or all-NA entries is deprecated. In a future version, this will no longer exclude empty or all-NA columns when determining the result dtypes. To retain the old behavior, exclude the relevant entries before the concat operation.\n",
      "  df = pd.concat([df, df_missing], ignore_index=True)                                                             # Concatenate the DataFrames.\n"
     ]
    },
    {
     "data": {
      "text/html": [
       "<div>\n",
       "<style scoped>\n",
       "    .dataframe tbody tr th:only-of-type {\n",
       "        vertical-align: middle;\n",
       "    }\n",
       "\n",
       "    .dataframe tbody tr th {\n",
       "        vertical-align: top;\n",
       "    }\n",
       "\n",
       "    .dataframe thead th {\n",
       "        text-align: right;\n",
       "    }\n",
       "</style>\n",
       "<table border=\"1\" class=\"dataframe\">\n",
       "  <thead>\n",
       "    <tr style=\"text-align: right;\">\n",
       "      <th></th>\n",
       "      <th>financial year</th>\n",
       "      <th>lhd</th>\n",
       "      <th>rate per 100,000 population</th>\n",
       "    </tr>\n",
       "  </thead>\n",
       "  <tbody>\n",
       "    <tr>\n",
       "      <th>0</th>\n",
       "      <td>2002/2003</td>\n",
       "      <td>Central Coast</td>\n",
       "      <td>12025.0</td>\n",
       "    </tr>\n",
       "    <tr>\n",
       "      <th>1</th>\n",
       "      <td>2003/2004</td>\n",
       "      <td>Central Coast</td>\n",
       "      <td>12200.0</td>\n",
       "    </tr>\n",
       "    <tr>\n",
       "      <th>2</th>\n",
       "      <td>2004/2005</td>\n",
       "      <td>Central Coast</td>\n",
       "      <td>12900.0</td>\n",
       "    </tr>\n",
       "    <tr>\n",
       "      <th>3</th>\n",
       "      <td>2005/2006</td>\n",
       "      <td>Central Coast</td>\n",
       "      <td>12662.5</td>\n",
       "    </tr>\n",
       "    <tr>\n",
       "      <th>4</th>\n",
       "      <td>2006/2007</td>\n",
       "      <td>Central Coast</td>\n",
       "      <td>11737.5</td>\n",
       "    </tr>\n",
       "  </tbody>\n",
       "</table>\n",
       "</div>"
      ],
      "text/plain": [
       "  financial year            lhd  rate per 100,000 population\n",
       "0      2002/2003  Central Coast                      12025.0\n",
       "1      2003/2004  Central Coast                      12200.0\n",
       "2      2004/2005  Central Coast                      12900.0\n",
       "3      2005/2006  Central Coast                      12662.5\n",
       "4      2006/2007  Central Coast                      11737.5"
      ]
     },
     "metadata": {},
     "output_type": "display_data"
    }
   ],
   "source": [
    "# Drop pre 2014/2015 data.\n",
    "df = df[~df['financial year'].isin(['2011/2012', '2012/2013', '2013/2014'])]                                        # Drop pre 2014/2015 data.\n",
    "\n",
    "# Add rows for each LHD for the missing years until 2023/2024.\n",
    "missing_rows = []                                                                                                   # Create a list to store the missing rows.\n",
    "lhds = df['lhd'].unique()                                                                                           # Get unique LHDs.\n",
    "years = [f\"{year}/{year + 1}\" for year in range(2014, 2024)]                                                        # Create a list of years from 2014/2015 to 2023/2024.\n",
    "\n",
    "for lhd in lhds:\n",
    "    for year in years:\n",
    "        if not ((df['lhd'] == lhd) & (df['financial year'] == year)).any():                                         # Check if the row is missing.\n",
    "            missing_rows.append({'lhd': lhd, 'financial year': year, 'rate per 100,000 population': None})          # Append the missing row to the list.\n",
    "\n",
    "# Create a DataFrame from the missing rows and concatenate it to the original DataFrame\n",
    "if missing_rows:\n",
    "    df_missing = pd.DataFrame(missing_rows)                                                                         # Create a DataFrame from the missing rows.\n",
    "    df = pd.concat([df, df_missing], ignore_index=True)                                                             # Concatenate the DataFrames.\n",
    "\n",
    "# Sort the DataFrame by 'lhd' and 'financial year'.\n",
    "df = df.sort_values(by=['lhd', 'financial year']).reset_index(drop=True)                                            # Sort the DataFrame by 'lhd' and 'financial year'.\n",
    "\n",
    "# View the DataFrame.\n",
    "display(df.head())                                                                                                  # View the last 5 rows of the DataFrame."
   ]
  },
  {
   "cell_type": "markdown",
   "metadata": {},
   "source": [
    "Fill missing values using linear interpolation."
   ]
  },
  {
   "cell_type": "code",
   "execution_count": 7,
   "metadata": {},
   "outputs": [],
   "source": [
    "df['rate per 100,000 population'] = df['rate per 100,000 population'].interpolate()                                # Fill missing values using linear interpolation."
   ]
  },
  {
   "cell_type": "markdown",
   "metadata": {},
   "source": [
    "## Output Processed Dataset"
   ]
  },
  {
   "cell_type": "code",
   "execution_count": 8,
   "metadata": {},
   "outputs": [],
   "source": [
    "# Save the processed data to a new CSV file.\n",
    "df.to_csv('processed.csv', index=False)                                                                            # Save the processed data to a new CSV file.                                                                                                        # View the first 5 rows of the DataFrame."
   ]
  },
  {
   "cell_type": "markdown",
   "metadata": {},
   "source": [
    "## View Processed Dataset"
   ]
  },
  {
   "cell_type": "code",
   "execution_count": 9,
   "metadata": {},
   "outputs": [
    {
     "data": {
      "text/html": [
       "<div>\n",
       "<style scoped>\n",
       "    .dataframe tbody tr th:only-of-type {\n",
       "        vertical-align: middle;\n",
       "    }\n",
       "\n",
       "    .dataframe tbody tr th {\n",
       "        vertical-align: top;\n",
       "    }\n",
       "\n",
       "    .dataframe thead th {\n",
       "        text-align: right;\n",
       "    }\n",
       "</style>\n",
       "<table border=\"1\" class=\"dataframe\">\n",
       "  <thead>\n",
       "    <tr style=\"text-align: right;\">\n",
       "      <th></th>\n",
       "      <th>financial year</th>\n",
       "      <th>lhd</th>\n",
       "      <th>rate per 100,000 population</th>\n",
       "    </tr>\n",
       "  </thead>\n",
       "  <tbody>\n",
       "    <tr>\n",
       "      <th>0</th>\n",
       "      <td>2002/2003</td>\n",
       "      <td>Central Coast</td>\n",
       "      <td>12025.0</td>\n",
       "    </tr>\n",
       "    <tr>\n",
       "      <th>1</th>\n",
       "      <td>2003/2004</td>\n",
       "      <td>Central Coast</td>\n",
       "      <td>12200.0</td>\n",
       "    </tr>\n",
       "    <tr>\n",
       "      <th>2</th>\n",
       "      <td>2004/2005</td>\n",
       "      <td>Central Coast</td>\n",
       "      <td>12900.0</td>\n",
       "    </tr>\n",
       "    <tr>\n",
       "      <th>3</th>\n",
       "      <td>2005/2006</td>\n",
       "      <td>Central Coast</td>\n",
       "      <td>12662.5</td>\n",
       "    </tr>\n",
       "    <tr>\n",
       "      <th>4</th>\n",
       "      <td>2006/2007</td>\n",
       "      <td>Central Coast</td>\n",
       "      <td>11737.5</td>\n",
       "    </tr>\n",
       "  </tbody>\n",
       "</table>\n",
       "</div>"
      ],
      "text/plain": [
       "  financial year            lhd  rate per 100,000 population\n",
       "0      2002/2003  Central Coast                      12025.0\n",
       "1      2003/2004  Central Coast                      12200.0\n",
       "2      2004/2005  Central Coast                      12900.0\n",
       "3      2005/2006  Central Coast                      12662.5\n",
       "4      2006/2007  Central Coast                      11737.5"
      ]
     },
     "metadata": {},
     "output_type": "display_data"
    }
   ],
   "source": [
    "# Display the processed data.\n",
    "display(df.head())"
   ]
  }
 ],
 "metadata": {
  "kernelspec": {
   "display_name": "base",
   "language": "python",
   "name": "python3"
  },
  "language_info": {
   "codemirror_mode": {
    "name": "ipython",
    "version": 3
   },
   "file_extension": ".py",
   "mimetype": "text/x-python",
   "name": "python",
   "nbconvert_exporter": "python",
   "pygments_lexer": "ipython3",
   "version": "3.12.4"
  }
 },
 "nbformat": 4,
 "nbformat_minor": 2
}
