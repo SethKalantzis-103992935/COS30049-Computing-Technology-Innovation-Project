{
 "cells": [
  {
   "cell_type": "markdown",
   "metadata": {},
   "source": [
    "# Influenza and Pneumonia Hospitalisations - Processing"
   ]
  },
  {
   "cell_type": "markdown",
   "metadata": {},
   "source": [
    "## Dependencies"
   ]
  },
  {
   "cell_type": "markdown",
   "metadata": {},
   "source": [
    "Ensure that the required libraries have been installed locally as per the README.md file included in this project.\n",
    "\n",
    "Run the following cell the import the required dependencies for this notebook."
   ]
  },
  {
   "cell_type": "code",
   "execution_count": 1,
   "metadata": {},
   "outputs": [],
   "source": [
    "# Import libraries\n",
    "import pandas as pd"
   ]
  },
  {
   "cell_type": "markdown",
   "metadata": {},
   "source": [
    "## Load Dataset"
   ]
  },
  {
   "cell_type": "code",
   "execution_count": 2,
   "metadata": {},
   "outputs": [],
   "source": [
    "# Load the raw data.\n",
    "df = pd.read_csv('raw.csv')"
   ]
  },
  {
   "cell_type": "markdown",
   "metadata": {},
   "source": [
    "## Exploratory Analysis of Raw Data"
   ]
  },
  {
   "cell_type": "code",
   "execution_count": 3,
   "metadata": {},
   "outputs": [
    {
     "name": "stdout",
     "output_type": "stream",
     "text": [
      "Dataset Head:\n"
     ]
    },
    {
     "data": {
      "text/html": [
       "<style type=\"text/css\">\n",
       "#T_ef408 th {\n",
       "  min-width: 100px;\n",
       "}\n",
       "</style>\n",
       "<table id=\"T_ef408\">\n",
       "  <thead>\n",
       "    <tr>\n",
       "      <th class=\"blank level0\" >&nbsp;</th>\n",
       "      <th id=\"T_ef408_level0_col0\" class=\"col_heading level0 col0\" >Age (years)</th>\n",
       "      <th id=\"T_ef408_level0_col1\" class=\"col_heading level0 col1\" >Sex</th>\n",
       "      <th id=\"T_ef408_level0_col2\" class=\"col_heading level0 col2\" >LHD</th>\n",
       "      <th id=\"T_ef408_level0_col3\" class=\"col_heading level0 col3\" >Period</th>\n",
       "      <th id=\"T_ef408_level0_col4\" class=\"col_heading level0 col4\" >Rate per 100,000 population</th>\n",
       "      <th id=\"T_ef408_level0_col5\" class=\"col_heading level0 col5\" >LL 95% CI</th>\n",
       "      <th id=\"T_ef408_level0_col6\" class=\"col_heading level0 col6\" >UL 95% CI</th>\n",
       "    </tr>\n",
       "  </thead>\n",
       "  <tbody>\n",
       "    <tr>\n",
       "      <th id=\"T_ef408_level0_row0\" class=\"row_heading level0 row0\" >0</th>\n",
       "      <td id=\"T_ef408_row0_col0\" class=\"data row0 col0\" >0-4 years</td>\n",
       "      <td id=\"T_ef408_row0_col1\" class=\"data row0 col1\" >Males</td>\n",
       "      <td id=\"T_ef408_row0_col2\" class=\"data row0 col2\" >Sydney LHD</td>\n",
       "      <td id=\"T_ef408_row0_col3\" class=\"data row0 col3\" >01/02</td>\n",
       "      <td id=\"T_ef408_row0_col4\" class=\"data row0 col4\" >817.3</td>\n",
       "      <td id=\"T_ef408_row0_col5\" class=\"data row0 col5\" >678.7</td>\n",
       "      <td id=\"T_ef408_row0_col6\" class=\"data row0 col6\" >975.8</td>\n",
       "    </tr>\n",
       "    <tr>\n",
       "      <th id=\"T_ef408_level0_row1\" class=\"row_heading level0 row1\" >1</th>\n",
       "      <td id=\"T_ef408_row1_col0\" class=\"data row1 col0\" >0-4 years</td>\n",
       "      <td id=\"T_ef408_row1_col1\" class=\"data row1 col1\" >Males</td>\n",
       "      <td id=\"T_ef408_row1_col2\" class=\"data row1 col2\" >Sydney LHD</td>\n",
       "      <td id=\"T_ef408_row1_col3\" class=\"data row1 col3\" >02/03</td>\n",
       "      <td id=\"T_ef408_row1_col4\" class=\"data row1 col4\" >720.5</td>\n",
       "      <td id=\"T_ef408_row1_col5\" class=\"data row1 col5\" >591.6</td>\n",
       "      <td id=\"T_ef408_row1_col6\" class=\"data row1 col6\" >869.1</td>\n",
       "    </tr>\n",
       "    <tr>\n",
       "      <th id=\"T_ef408_level0_row2\" class=\"row_heading level0 row2\" >2</th>\n",
       "      <td id=\"T_ef408_row2_col0\" class=\"data row2 col0\" >0-4 years</td>\n",
       "      <td id=\"T_ef408_row2_col1\" class=\"data row2 col1\" >Males</td>\n",
       "      <td id=\"T_ef408_row2_col2\" class=\"data row2 col2\" >Sydney LHD</td>\n",
       "      <td id=\"T_ef408_row2_col3\" class=\"data row2 col3\" >03/04</td>\n",
       "      <td id=\"T_ef408_row2_col4\" class=\"data row2 col4\" >786</td>\n",
       "      <td id=\"T_ef408_row2_col5\" class=\"data row2 col5\" >652.2</td>\n",
       "      <td id=\"T_ef408_row2_col6\" class=\"data row2 col6\" >939.2</td>\n",
       "    </tr>\n",
       "    <tr>\n",
       "      <th id=\"T_ef408_level0_row3\" class=\"row_heading level0 row3\" >3</th>\n",
       "      <td id=\"T_ef408_row3_col0\" class=\"data row3 col0\" >0-4 years</td>\n",
       "      <td id=\"T_ef408_row3_col1\" class=\"data row3 col1\" >Males</td>\n",
       "      <td id=\"T_ef408_row3_col2\" class=\"data row3 col2\" >Sydney LHD</td>\n",
       "      <td id=\"T_ef408_row3_col3\" class=\"data row3 col3\" >04/05</td>\n",
       "      <td id=\"T_ef408_row3_col4\" class=\"data row3 col4\" >596.6</td>\n",
       "      <td id=\"T_ef408_row3_col5\" class=\"data row3 col5\" >481.6</td>\n",
       "      <td id=\"T_ef408_row3_col6\" class=\"data row3 col6\" >730.9</td>\n",
       "    </tr>\n",
       "    <tr>\n",
       "      <th id=\"T_ef408_level0_row4\" class=\"row_heading level0 row4\" >4</th>\n",
       "      <td id=\"T_ef408_row4_col0\" class=\"data row4 col0\" >0-4 years</td>\n",
       "      <td id=\"T_ef408_row4_col1\" class=\"data row4 col1\" >Males</td>\n",
       "      <td id=\"T_ef408_row4_col2\" class=\"data row4 col2\" >Sydney LHD</td>\n",
       "      <td id=\"T_ef408_row4_col3\" class=\"data row4 col3\" >05/06</td>\n",
       "      <td id=\"T_ef408_row4_col4\" class=\"data row4 col4\" >418.3</td>\n",
       "      <td id=\"T_ef408_row4_col5\" class=\"data row4 col5\" >323.5</td>\n",
       "      <td id=\"T_ef408_row4_col6\" class=\"data row4 col6\" >532.2</td>\n",
       "    </tr>\n",
       "  </tbody>\n",
       "</table>\n"
      ],
      "text/plain": [
       "<pandas.io.formats.style.Styler at 0x22fd0d953d0>"
      ]
     },
     "metadata": {},
     "output_type": "display_data"
    },
    {
     "name": "stdout",
     "output_type": "stream",
     "text": [
      "\n",
      "Object Summary Statistics:\n"
     ]
    },
    {
     "data": {
      "text/html": [
       "<style type=\"text/css\">\n",
       "#T_f64bb th {\n",
       "  min-width: 100px;\n",
       "}\n",
       "</style>\n",
       "<table id=\"T_f64bb\">\n",
       "  <thead>\n",
       "    <tr>\n",
       "      <th class=\"blank level0\" >&nbsp;</th>\n",
       "      <th id=\"T_f64bb_level0_col0\" class=\"col_heading level0 col0\" >datatype</th>\n",
       "      <th id=\"T_f64bb_level0_col1\" class=\"col_heading level0 col1\" >present_values</th>\n",
       "      <th id=\"T_f64bb_level0_col2\" class=\"col_heading level0 col2\" >missing_values</th>\n",
       "      <th id=\"T_f64bb_level0_col3\" class=\"col_heading level0 col3\" >unique</th>\n",
       "    </tr>\n",
       "  </thead>\n",
       "  <tbody>\n",
       "    <tr>\n",
       "      <th id=\"T_f64bb_level0_row0\" class=\"row_heading level0 row0\" >Age (years)</th>\n",
       "      <td id=\"T_f64bb_row0_col0\" class=\"data row0 col0\" >object</td>\n",
       "      <td id=\"T_f64bb_row0_col1\" class=\"data row0 col1\" >2700</td>\n",
       "      <td id=\"T_f64bb_row0_col2\" class=\"data row0 col2\" >0</td>\n",
       "      <td id=\"T_f64bb_row0_col3\" class=\"data row0 col3\" >3</td>\n",
       "    </tr>\n",
       "    <tr>\n",
       "      <th id=\"T_f64bb_level0_row1\" class=\"row_heading level0 row1\" >Sex</th>\n",
       "      <td id=\"T_f64bb_row1_col0\" class=\"data row1 col0\" >object</td>\n",
       "      <td id=\"T_f64bb_row1_col1\" class=\"data row1 col1\" >2700</td>\n",
       "      <td id=\"T_f64bb_row1_col2\" class=\"data row1 col2\" >0</td>\n",
       "      <td id=\"T_f64bb_row1_col3\" class=\"data row1 col3\" >3</td>\n",
       "    </tr>\n",
       "    <tr>\n",
       "      <th id=\"T_f64bb_level0_row2\" class=\"row_heading level0 row2\" >LHD</th>\n",
       "      <td id=\"T_f64bb_row2_col0\" class=\"data row2 col0\" >object</td>\n",
       "      <td id=\"T_f64bb_row2_col1\" class=\"data row2 col1\" >2700</td>\n",
       "      <td id=\"T_f64bb_row2_col2\" class=\"data row2 col2\" >0</td>\n",
       "      <td id=\"T_f64bb_row2_col3\" class=\"data row2 col3\" >15</td>\n",
       "    </tr>\n",
       "    <tr>\n",
       "      <th id=\"T_f64bb_level0_row3\" class=\"row_heading level0 row3\" >Period</th>\n",
       "      <td id=\"T_f64bb_row3_col0\" class=\"data row3 col0\" >object</td>\n",
       "      <td id=\"T_f64bb_row3_col1\" class=\"data row3 col1\" >2700</td>\n",
       "      <td id=\"T_f64bb_row3_col2\" class=\"data row3 col2\" >0</td>\n",
       "      <td id=\"T_f64bb_row3_col3\" class=\"data row3 col3\" >20</td>\n",
       "    </tr>\n",
       "    <tr>\n",
       "      <th id=\"T_f64bb_level0_row4\" class=\"row_heading level0 row4\" >Rate per 100,000 population</th>\n",
       "      <td id=\"T_f64bb_row4_col0\" class=\"data row4 col0\" >object</td>\n",
       "      <td id=\"T_f64bb_row4_col1\" class=\"data row4 col1\" >2700</td>\n",
       "      <td id=\"T_f64bb_row4_col2\" class=\"data row4 col2\" >0</td>\n",
       "      <td id=\"T_f64bb_row4_col3\" class=\"data row4 col3\" >2411</td>\n",
       "    </tr>\n",
       "    <tr>\n",
       "      <th id=\"T_f64bb_level0_row5\" class=\"row_heading level0 row5\" >LL 95% CI</th>\n",
       "      <td id=\"T_f64bb_row5_col0\" class=\"data row5 col0\" >object</td>\n",
       "      <td id=\"T_f64bb_row5_col1\" class=\"data row5 col1\" >2700</td>\n",
       "      <td id=\"T_f64bb_row5_col2\" class=\"data row5 col2\" >0</td>\n",
       "      <td id=\"T_f64bb_row5_col3\" class=\"data row5 col3\" >2347</td>\n",
       "    </tr>\n",
       "    <tr>\n",
       "      <th id=\"T_f64bb_level0_row6\" class=\"row_heading level0 row6\" >UL 95% CI</th>\n",
       "      <td id=\"T_f64bb_row6_col0\" class=\"data row6 col0\" >object</td>\n",
       "      <td id=\"T_f64bb_row6_col1\" class=\"data row6 col1\" >2700</td>\n",
       "      <td id=\"T_f64bb_row6_col2\" class=\"data row6 col2\" >0</td>\n",
       "      <td id=\"T_f64bb_row6_col3\" class=\"data row6 col3\" >2424</td>\n",
       "    </tr>\n",
       "  </tbody>\n",
       "</table>\n"
      ],
      "text/plain": [
       "<pandas.io.formats.style.Styler at 0x22fcf13c7d0>"
      ]
     },
     "metadata": {},
     "output_type": "display_data"
    }
   ],
   "source": [
    "# Generate summary statistics for object columns.\n",
    "object_summary_stats = df.describe(include=['O']).transpose()                                                       # Generate summary statistics for object columns.\n",
    "object_summary_stats['missing_values'] = df.isnull().sum()                                                          # Add missing values to the summary table.\n",
    "object_summary_stats['present_values'] = df.notnull().sum()                                                         # Add present values to the summary table.\n",
    "object_summary_stats['datatype'] = df.dtypes                                                                        # Add data types to the summary table.\n",
    "object_summary_stats = object_summary_stats[['datatype', 'present_values', 'missing_values', 'unique']]             # Select features and reorder table.\n",
    "\n",
    "# Display the summary tables with titles.\n",
    "print(\"Dataset Head:\")                                                                                              # Display the dataset head title.\n",
    "display(df.head().style.set_table_styles([{'selector': 'th', 'props': [('min-width', '100px')]}]))                  # Display the dataset head. For better visualization, set the minimum width of the table headers to 100px.\n",
    "\n",
    "print(\"\\nObject Summary Statistics:\")                                                                               # Display the object summary statistics.\n",
    "display(object_summary_stats.style.set_table_styles([{'selector': 'th', 'props': [('min-width', '100px')]}]))       # Display the object summary statistics. For better visualization, set the minimum width of the table headers to 100px."
   ]
  },
  {
   "cell_type": "markdown",
   "metadata": {},
   "source": [
    "## Data Manipulation"
   ]
  },
  {
   "cell_type": "code",
   "execution_count": 4,
   "metadata": {},
   "outputs": [
    {
     "data": {
      "text/html": [
       "<div>\n",
       "<style scoped>\n",
       "    .dataframe tbody tr th:only-of-type {\n",
       "        vertical-align: middle;\n",
       "    }\n",
       "\n",
       "    .dataframe tbody tr th {\n",
       "        vertical-align: top;\n",
       "    }\n",
       "\n",
       "    .dataframe thead th {\n",
       "        text-align: right;\n",
       "    }\n",
       "</style>\n",
       "<table border=\"1\" class=\"dataframe\">\n",
       "  <thead>\n",
       "    <tr style=\"text-align: right;\">\n",
       "      <th></th>\n",
       "      <th>sex</th>\n",
       "      <th>lhd</th>\n",
       "      <th>financial year</th>\n",
       "      <th>rate per 100,000 population</th>\n",
       "    </tr>\n",
       "  </thead>\n",
       "  <tbody>\n",
       "    <tr>\n",
       "      <th>1800</th>\n",
       "      <td>Males</td>\n",
       "      <td>Sydney</td>\n",
       "      <td>2001/2002</td>\n",
       "      <td>345</td>\n",
       "    </tr>\n",
       "    <tr>\n",
       "      <th>1801</th>\n",
       "      <td>Males</td>\n",
       "      <td>Sydney</td>\n",
       "      <td>2002/2003</td>\n",
       "      <td>349.1</td>\n",
       "    </tr>\n",
       "    <tr>\n",
       "      <th>1802</th>\n",
       "      <td>Males</td>\n",
       "      <td>Sydney</td>\n",
       "      <td>2003/2004</td>\n",
       "      <td>362.4</td>\n",
       "    </tr>\n",
       "    <tr>\n",
       "      <th>1803</th>\n",
       "      <td>Males</td>\n",
       "      <td>Sydney</td>\n",
       "      <td>2004/2005</td>\n",
       "      <td>364.8</td>\n",
       "    </tr>\n",
       "    <tr>\n",
       "      <th>1804</th>\n",
       "      <td>Males</td>\n",
       "      <td>Sydney</td>\n",
       "      <td>2005/2006</td>\n",
       "      <td>285.2</td>\n",
       "    </tr>\n",
       "  </tbody>\n",
       "</table>\n",
       "</div>"
      ],
      "text/plain": [
       "        sex     lhd financial year rate per 100,000 population\n",
       "1800  Males  Sydney      2001/2002                         345\n",
       "1801  Males  Sydney      2002/2003                       349.1\n",
       "1802  Males  Sydney      2003/2004                       362.4\n",
       "1803  Males  Sydney      2004/2005                       364.8\n",
       "1804  Males  Sydney      2005/2006                       285.2"
      ]
     },
     "metadata": {},
     "output_type": "display_data"
    }
   ],
   "source": [
    "# Rename columns to match Air Quality data set.\n",
    "df = df.rename(columns={'LHD': 'lhd', 'Period': 'financial year'})                                                  # Rename columns\n",
    "df.columns = df.columns.str.lower()                                                                                 # Lowercase column names\n",
    "\n",
    "# Remove ' LHD' for Local Health District values.\n",
    "df['lhd'] = df['lhd'].str.replace(' LHD', '')                                                                       # Remove ' LHD' from lhd column\n",
    "\n",
    "# Remove rows representing state-wide aggregated data.\n",
    "df = df.dropna(subset=['lhd'])                                                                                      # Remove rows with missing values in 'lhd' column\n",
    "df = df[~df['lhd'].str.contains('All')]                                                                             # Remove rows with 'All' in 'lhd' column\n",
    "\n",
    "# Remove columns holding Confidence Interval data.\n",
    "df = df.loc[:, ~df.columns.str.contains('% ci')]                                                                    # Remove columns with '% ci' in the name\n",
    "\n",
    "# Reformat 'financial year' values from XX/YY to XXXX/YYYY.\n",
    "df['financial year'] = df['financial year'].apply(                                                                  # Add '20' to the start of each year value\n",
    "    lambda x: f'20{x[:2]}/20{x[3:]}' if isinstance(x, str) else x\n",
    ")\n",
    "\n",
    "# Remove rows where 'risk group' is not 'All ages'.\n",
    "df = df[df['age (years)'] == 'All ages']                                                                            # Keep rows where 'risk group' is 'All ages'\n",
    "df = df.drop(columns=['age (years)'])                                                                               # Drop 'risk group' column\n",
    "\n",
    "# View the cleaned data.\n",
    "display(df.head())                                                                                                  # Display the first few rows of the cleaned data"
   ]
  },
  {
   "cell_type": "code",
   "execution_count": 5,
   "metadata": {},
   "outputs": [
    {
     "data": {
      "text/html": [
       "<div>\n",
       "<style scoped>\n",
       "    .dataframe tbody tr th:only-of-type {\n",
       "        vertical-align: middle;\n",
       "    }\n",
       "\n",
       "    .dataframe tbody tr th {\n",
       "        vertical-align: top;\n",
       "    }\n",
       "\n",
       "    .dataframe thead th {\n",
       "        text-align: right;\n",
       "    }\n",
       "</style>\n",
       "<table border=\"1\" class=\"dataframe\">\n",
       "  <thead>\n",
       "    <tr style=\"text-align: right;\">\n",
       "      <th></th>\n",
       "      <th>financial year</th>\n",
       "      <th>lhd</th>\n",
       "      <th>Female rate per 100,000 population</th>\n",
       "      <th>Male rate per 100,000 population</th>\n",
       "      <th>Persons rate per 100,000 population</th>\n",
       "    </tr>\n",
       "  </thead>\n",
       "  <tbody>\n",
       "    <tr>\n",
       "      <th>0</th>\n",
       "      <td>2001/2002</td>\n",
       "      <td>Central Coast</td>\n",
       "      <td>198.1</td>\n",
       "      <td>294.6</td>\n",
       "      <td>239.5</td>\n",
       "    </tr>\n",
       "    <tr>\n",
       "      <th>1</th>\n",
       "      <td>2001/2002</td>\n",
       "      <td>Hunter New England</td>\n",
       "      <td>249.6</td>\n",
       "      <td>354.7</td>\n",
       "      <td>294.8</td>\n",
       "    </tr>\n",
       "    <tr>\n",
       "      <th>2</th>\n",
       "      <td>2001/2002</td>\n",
       "      <td>Illawarra Shoalhaven</td>\n",
       "      <td>198.4</td>\n",
       "      <td>286.8</td>\n",
       "      <td>236.2</td>\n",
       "    </tr>\n",
       "    <tr>\n",
       "      <th>3</th>\n",
       "      <td>2001/2002</td>\n",
       "      <td>Mid North Coast</td>\n",
       "      <td>301.8</td>\n",
       "      <td>381.6</td>\n",
       "      <td>337.1</td>\n",
       "    </tr>\n",
       "    <tr>\n",
       "      <th>4</th>\n",
       "      <td>2001/2002</td>\n",
       "      <td>Murrumbidgee</td>\n",
       "      <td>333.3</td>\n",
       "      <td>464.6</td>\n",
       "      <td>390.0</td>\n",
       "    </tr>\n",
       "  </tbody>\n",
       "</table>\n",
       "</div>"
      ],
      "text/plain": [
       "  financial year                   lhd  Female rate per 100,000 population  \\\n",
       "0      2001/2002         Central Coast                               198.1   \n",
       "1      2001/2002    Hunter New England                               249.6   \n",
       "2      2001/2002  Illawarra Shoalhaven                               198.4   \n",
       "3      2001/2002       Mid North Coast                               301.8   \n",
       "4      2001/2002          Murrumbidgee                               333.3   \n",
       "\n",
       "   Male rate per 100,000 population  Persons rate per 100,000 population  \n",
       "0                             294.6                                239.5  \n",
       "1                             354.7                                294.8  \n",
       "2                             286.8                                236.2  \n",
       "3                             381.6                                337.1  \n",
       "4                             464.6                                390.0  "
      ]
     },
     "metadata": {},
     "output_type": "display_data"
    }
   ],
   "source": [
    "# Convert 'rate per 100,000 population' to numeric, coercing errors to NaN\n",
    "df['rate per 100,000 population'] = pd.to_numeric(df['rate per 100,000 population'], errors='coerce')                      # Convert 'rate per 100,000 population' to numeric\n",
    "\n",
    "# Pivot the dataframe to have 'sex' as columns\n",
    "df = df.pivot_table(index=['financial year', 'lhd'], columns='sex', values='rate per 100,000 population').reset_index()    # Pivot the dataframe\n",
    "\n",
    "# Rename the columns to match the desired format\n",
    "df.columns.name = None                                                                                                     # Remove the columns name\n",
    "df = df.rename(columns={                                                                                                   # Rename the columns\n",
    "    'Persons': 'Persons rate per 100,000 population',\n",
    "    'Males': 'Male rate per 100,000 population', \n",
    "    'Females': 'Female rate per 100,000 population'\n",
    "})\n",
    "\n",
    "# View the DataFrame\n",
    "display(df.head()) "
   ]
  },
  {
   "cell_type": "markdown",
   "metadata": {},
   "source": [
    "## Set Date Range"
   ]
  },
  {
   "cell_type": "markdown",
   "metadata": {},
   "source": [
    "Set the range of financial years from 2014/2015 to 2023/2024."
   ]
  },
  {
   "cell_type": "code",
   "execution_count": 6,
   "metadata": {},
   "outputs": [
    {
     "name": "stderr",
     "output_type": "stream",
     "text": [
      "C:\\Users\\matth\\AppData\\Local\\Temp\\ipykernel_18672\\1010056951.py:23: FutureWarning: The behavior of DataFrame concatenation with empty or all-NA entries is deprecated. In a future version, this will no longer exclude empty or all-NA columns when determining the result dtypes. To retain the old behavior, exclude the relevant entries before the concat operation.\n",
      "  df = pd.concat([df, df_missing], ignore_index=True)                                                             # Concatenate the DataFrames.\n"
     ]
    },
    {
     "data": {
      "text/html": [
       "<div>\n",
       "<style scoped>\n",
       "    .dataframe tbody tr th:only-of-type {\n",
       "        vertical-align: middle;\n",
       "    }\n",
       "\n",
       "    .dataframe tbody tr th {\n",
       "        vertical-align: top;\n",
       "    }\n",
       "\n",
       "    .dataframe thead th {\n",
       "        text-align: right;\n",
       "    }\n",
       "</style>\n",
       "<table border=\"1\" class=\"dataframe\">\n",
       "  <thead>\n",
       "    <tr style=\"text-align: right;\">\n",
       "      <th></th>\n",
       "      <th>financial year</th>\n",
       "      <th>lhd</th>\n",
       "      <th>Female rate per 100,000 population</th>\n",
       "      <th>Male rate per 100,000 population</th>\n",
       "      <th>Persons rate per 100,000 population</th>\n",
       "    </tr>\n",
       "  </thead>\n",
       "  <tbody>\n",
       "    <tr>\n",
       "      <th>275</th>\n",
       "      <td>2019/2020</td>\n",
       "      <td>Western Sydney</td>\n",
       "      <td>311.1</td>\n",
       "      <td>365.6</td>\n",
       "      <td>334.8</td>\n",
       "    </tr>\n",
       "    <tr>\n",
       "      <th>276</th>\n",
       "      <td>2020/2021</td>\n",
       "      <td>Western Sydney</td>\n",
       "      <td>161.9</td>\n",
       "      <td>228.0</td>\n",
       "      <td>192.9</td>\n",
       "    </tr>\n",
       "    <tr>\n",
       "      <th>277</th>\n",
       "      <td>2021/2022</td>\n",
       "      <td>Western Sydney</td>\n",
       "      <td>NaN</td>\n",
       "      <td>NaN</td>\n",
       "      <td>NaN</td>\n",
       "    </tr>\n",
       "    <tr>\n",
       "      <th>278</th>\n",
       "      <td>2022/2023</td>\n",
       "      <td>Western Sydney</td>\n",
       "      <td>NaN</td>\n",
       "      <td>NaN</td>\n",
       "      <td>NaN</td>\n",
       "    </tr>\n",
       "    <tr>\n",
       "      <th>279</th>\n",
       "      <td>2023/2024</td>\n",
       "      <td>Western Sydney</td>\n",
       "      <td>NaN</td>\n",
       "      <td>NaN</td>\n",
       "      <td>NaN</td>\n",
       "    </tr>\n",
       "  </tbody>\n",
       "</table>\n",
       "</div>"
      ],
      "text/plain": [
       "    financial year             lhd  Female rate per 100,000 population  \\\n",
       "275      2019/2020  Western Sydney                               311.1   \n",
       "276      2020/2021  Western Sydney                               161.9   \n",
       "277      2021/2022  Western Sydney                                 NaN   \n",
       "278      2022/2023  Western Sydney                                 NaN   \n",
       "279      2023/2024  Western Sydney                                 NaN   \n",
       "\n",
       "     Male rate per 100,000 population  Persons rate per 100,000 population  \n",
       "275                             365.6                                334.8  \n",
       "276                             228.0                                192.9  \n",
       "277                               NaN                                  NaN  \n",
       "278                               NaN                                  NaN  \n",
       "279                               NaN                                  NaN  "
      ]
     },
     "metadata": {},
     "output_type": "display_data"
    }
   ],
   "source": [
    "# Drop pre 2014/2015 data.\n",
    "df = df[~df['financial year'].isin(['2011/2012', '2012/2013', '2013/2014'])]                                        # Drop pre 2014/2015 data.\n",
    "\n",
    "# Add rows for each LHD for the missing years until 2023/2024.\n",
    "missing_rows = []                                                                                                   # Create a list to store the missing rows.\n",
    "lhds = df['lhd'].unique()                                                                                           # Get unique LHDs.\n",
    "years = [f\"{year}/{year + 1}\" for year in range(2014, 2024)]                                                        # Create a list of years from 2014/2015 to 2023/2024.\n",
    "\n",
    "for lhd in lhds:\n",
    "    for year in years:\n",
    "        if not ((df['lhd'] == lhd) & (df['financial year'] == year)).any():                                         # Check if the row is missing.\n",
    "            missing_rows.append({                                                                                   # Append the missing row to the list.\n",
    "                'lhd': lhd, \n",
    "                'financial year': year, \n",
    "                'Female rate per 100,000 population': None,\n",
    "                'Male rate per 100,000 population': None,\n",
    "                'Persons rate per 100,000 population': None,\n",
    "            })   \n",
    "\n",
    "# Create a DataFrame from the missing rows and concatenate it to the original DataFrame\n",
    "if missing_rows:\n",
    "    df_missing = pd.DataFrame(missing_rows)                                                                         # Create a DataFrame from the missing rows.\n",
    "    df = pd.concat([df, df_missing], ignore_index=True)                                                             # Concatenate the DataFrames.\n",
    "\n",
    "# Sort the DataFrame by 'lhd' and 'financial year'.\n",
    "df = df.sort_values(by=['lhd', 'financial year']).reset_index(drop=True)                                            # Sort the DataFrame by 'lhd' and 'financial year'.\n",
    "\n",
    "# View the DataFrame.\n",
    "display(df.tail())                                                                                                  # View the last 5 rows of the DataFrame."
   ]
  },
  {
   "cell_type": "markdown",
   "metadata": {},
   "source": [
    "Fill missing values using linear interpolation."
   ]
  },
  {
   "cell_type": "code",
   "execution_count": 7,
   "metadata": {},
   "outputs": [],
   "source": [
    "df['Female rate per 100,000 population'] = df['Female rate per 100,000 population'].interpolate()                       # Fill missing values using linear interpolation.\n",
    "df['Male rate per 100,000 population'] = df['Male rate per 100,000 population'].interpolate()                           # Fill missing values using linear interpolation.\n",
    "df['Persons rate per 100,000 population'] = df['Persons rate per 100,000 population'].interpolate()                     # Fill missing values using linear interpolation."
   ]
  },
  {
   "cell_type": "markdown",
   "metadata": {},
   "source": [
    "## Output Processed Dataset"
   ]
  },
  {
   "cell_type": "code",
   "execution_count": 8,
   "metadata": {},
   "outputs": [],
   "source": [
    "# Save the processed data to a new CSV file.\n",
    "df.to_csv('processed.csv', index=False)                                                                                # Save the processed data to a new CSV file."
   ]
  },
  {
   "cell_type": "markdown",
   "metadata": {},
   "source": [
    "## View Processed Dataset"
   ]
  },
  {
   "cell_type": "code",
   "execution_count": 9,
   "metadata": {},
   "outputs": [
    {
     "data": {
      "text/html": [
       "<div>\n",
       "<style scoped>\n",
       "    .dataframe tbody tr th:only-of-type {\n",
       "        vertical-align: middle;\n",
       "    }\n",
       "\n",
       "    .dataframe tbody tr th {\n",
       "        vertical-align: top;\n",
       "    }\n",
       "\n",
       "    .dataframe thead th {\n",
       "        text-align: right;\n",
       "    }\n",
       "</style>\n",
       "<table border=\"1\" class=\"dataframe\">\n",
       "  <thead>\n",
       "    <tr style=\"text-align: right;\">\n",
       "      <th></th>\n",
       "      <th>financial year</th>\n",
       "      <th>lhd</th>\n",
       "      <th>Female rate per 100,000 population</th>\n",
       "      <th>Male rate per 100,000 population</th>\n",
       "      <th>Persons rate per 100,000 population</th>\n",
       "    </tr>\n",
       "  </thead>\n",
       "  <tbody>\n",
       "    <tr>\n",
       "      <th>0</th>\n",
       "      <td>2001/2002</td>\n",
       "      <td>Central Coast</td>\n",
       "      <td>198.1</td>\n",
       "      <td>294.6</td>\n",
       "      <td>239.5</td>\n",
       "    </tr>\n",
       "    <tr>\n",
       "      <th>1</th>\n",
       "      <td>2002/2003</td>\n",
       "      <td>Central Coast</td>\n",
       "      <td>213.2</td>\n",
       "      <td>317.7</td>\n",
       "      <td>258.9</td>\n",
       "    </tr>\n",
       "    <tr>\n",
       "      <th>2</th>\n",
       "      <td>2003/2004</td>\n",
       "      <td>Central Coast</td>\n",
       "      <td>217.8</td>\n",
       "      <td>308.5</td>\n",
       "      <td>258.3</td>\n",
       "    </tr>\n",
       "    <tr>\n",
       "      <th>3</th>\n",
       "      <td>2004/2005</td>\n",
       "      <td>Central Coast</td>\n",
       "      <td>190.7</td>\n",
       "      <td>278.8</td>\n",
       "      <td>229.9</td>\n",
       "    </tr>\n",
       "    <tr>\n",
       "      <th>4</th>\n",
       "      <td>2005/2006</td>\n",
       "      <td>Central Coast</td>\n",
       "      <td>208.5</td>\n",
       "      <td>321.6</td>\n",
       "      <td>258.0</td>\n",
       "    </tr>\n",
       "  </tbody>\n",
       "</table>\n",
       "</div>"
      ],
      "text/plain": [
       "  financial year            lhd  Female rate per 100,000 population  \\\n",
       "0      2001/2002  Central Coast                               198.1   \n",
       "1      2002/2003  Central Coast                               213.2   \n",
       "2      2003/2004  Central Coast                               217.8   \n",
       "3      2004/2005  Central Coast                               190.7   \n",
       "4      2005/2006  Central Coast                               208.5   \n",
       "\n",
       "   Male rate per 100,000 population  Persons rate per 100,000 population  \n",
       "0                             294.6                                239.5  \n",
       "1                             317.7                                258.9  \n",
       "2                             308.5                                258.3  \n",
       "3                             278.8                                229.9  \n",
       "4                             321.6                                258.0  "
      ]
     },
     "metadata": {},
     "output_type": "display_data"
    }
   ],
   "source": [
    "# Display the processed data.\n",
    "display(df.head())"
   ]
  }
 ],
 "metadata": {
  "kernelspec": {
   "display_name": "base",
   "language": "python",
   "name": "python3"
  },
  "language_info": {
   "codemirror_mode": {
    "name": "ipython",
    "version": 3
   },
   "file_extension": ".py",
   "mimetype": "text/x-python",
   "name": "python",
   "nbconvert_exporter": "python",
   "pygments_lexer": "ipython3",
   "version": "3.12.4"
  }
 },
 "nbformat": 4,
 "nbformat_minor": 2
}
