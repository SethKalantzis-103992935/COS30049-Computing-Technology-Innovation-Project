{
 "cells": [
  {
   "cell_type": "markdown",
   "metadata": {},
   "source": [
    "# Intergrate COPD Deaths Dataset\n",
    "This file intergrates the COPD Deaths dataseet with the NSW Air Quality Data set.\n",
    "\n",
    "## Set Up\n",
    "Ensure that the required libraries are available by running the below code in the terminal before execution:\n",
    "- pip install pandas\n",
    "\n",
    "\n",
    "Execute the following in the jupyter notebook before execution to ensure that the required libraries are imported:\n"
   ]
  },
  {
   "cell_type": "code",
   "execution_count": 10,
   "metadata": {},
   "outputs": [],
   "source": [
    "import pandas as pd"
   ]
  },
  {
   "cell_type": "markdown",
   "metadata": {},
   "source": [
    "## Load Datasets"
   ]
  },
  {
   "cell_type": "code",
   "execution_count": 11,
   "metadata": {},
   "outputs": [
    {
     "name": "stdout",
     "output_type": "stream",
     "text": [
      "Air Quality Headers:\n",
      "['financial year', 'lhd', 'CO ppm', 'NO pphm', 'NO2 pphm', 'OZONE pphm', 'PM10 µg/m³', 'SO2 pphm']\n",
      "\n",
      "COPD Headers:\n",
      "['financial year', 'lhd', 'Female rate per 100,000 population', 'Male rate per 100,000 population']\n"
     ]
    }
   ],
   "source": [
    "# Load data into dataframes.\n",
    "df_air_quality = pd.read_csv('../../2-nsw-air-quality/data-processed-financial-year.csv')\n",
    "df_influpneu_deaths = pd.read_csv('../../3-nsw-health-stats/respiratory-health/influenza-and-pneumonia/deaths/data-processed-alt.csv')\n",
    "\n",
    "# View Headers.\n",
    "print(\"Air Quality Headers:\")\n",
    "print(df_air_quality.columns.tolist())\n",
    "print(\"\\nCOPD Headers:\")\n",
    "print(df_influpneu_deaths.columns.tolist())"
   ]
  },
  {
   "cell_type": "markdown",
   "metadata": {},
   "source": [
    "## Data Manipulation"
   ]
  },
  {
   "cell_type": "code",
   "execution_count": 12,
   "metadata": {},
   "outputs": [],
   "source": [
    "df_influpneu_deaths = df_influpneu_deaths.rename(columns={\n",
    "    'Female rate per 100,000 population': 'Influ/Pneum deaths [f] [rate per 100,000]',\n",
    "    'Male rate per 100,000 population': 'Influ/Pneum deaths [m] [rate per 100,000]',\n",
    "})"
   ]
  },
  {
   "cell_type": "markdown",
   "metadata": {},
   "source": [
    "## Merge Datasets"
   ]
  },
  {
   "cell_type": "markdown",
   "metadata": {},
   "source": [
    "Merge dataframes on 'financial year' and 'lhd'"
   ]
  },
  {
   "cell_type": "code",
   "execution_count": 13,
   "metadata": {},
   "outputs": [
    {
     "data": {
      "text/html": [
       "<div>\n",
       "<style scoped>\n",
       "    .dataframe tbody tr th:only-of-type {\n",
       "        vertical-align: middle;\n",
       "    }\n",
       "\n",
       "    .dataframe tbody tr th {\n",
       "        vertical-align: top;\n",
       "    }\n",
       "\n",
       "    .dataframe thead th {\n",
       "        text-align: right;\n",
       "    }\n",
       "</style>\n",
       "<table border=\"1\" class=\"dataframe\">\n",
       "  <thead>\n",
       "    <tr style=\"text-align: right;\">\n",
       "      <th></th>\n",
       "      <th>financial year</th>\n",
       "      <th>lhd</th>\n",
       "      <th>CO ppm</th>\n",
       "      <th>NO pphm</th>\n",
       "      <th>NO2 pphm</th>\n",
       "      <th>OZONE pphm</th>\n",
       "      <th>PM10 µg/m³</th>\n",
       "      <th>SO2 pphm</th>\n",
       "      <th>Influ/Pneum deaths [f] [rate per 100,000]</th>\n",
       "      <th>Influ/Pneum deaths [m] [rate per 100,000]</th>\n",
       "    </tr>\n",
       "  </thead>\n",
       "  <tbody>\n",
       "    <tr>\n",
       "      <th>0</th>\n",
       "      <td>2011/2012</td>\n",
       "      <td>Hunter New England</td>\n",
       "      <td>0.083333</td>\n",
       "      <td>0.612114</td>\n",
       "      <td>0.771373</td>\n",
       "      <td>1.705556</td>\n",
       "      <td>15.220833</td>\n",
       "      <td>0.172927</td>\n",
       "      <td>7.8</td>\n",
       "      <td>11.3</td>\n",
       "    </tr>\n",
       "    <tr>\n",
       "      <th>1</th>\n",
       "      <td>2011/2012</td>\n",
       "      <td>Illawarra Shoalhaven</td>\n",
       "      <td>0.283333</td>\n",
       "      <td>0.316667</td>\n",
       "      <td>0.641667</td>\n",
       "      <td>1.891667</td>\n",
       "      <td>16.416667</td>\n",
       "      <td>0.083333</td>\n",
       "      <td>8.6</td>\n",
       "      <td>7.9</td>\n",
       "    </tr>\n",
       "    <tr>\n",
       "      <th>2</th>\n",
       "      <td>2011/2012</td>\n",
       "      <td>Murrumbidgee</td>\n",
       "      <td>NaN</td>\n",
       "      <td>0.202113</td>\n",
       "      <td>0.259077</td>\n",
       "      <td>1.816667</td>\n",
       "      <td>NaN</td>\n",
       "      <td>0.050000</td>\n",
       "      <td>9.3</td>\n",
       "      <td>10.6</td>\n",
       "    </tr>\n",
       "    <tr>\n",
       "      <th>3</th>\n",
       "      <td>2011/2012</td>\n",
       "      <td>Nepean Blue Mountains</td>\n",
       "      <td>NaN</td>\n",
       "      <td>0.091667</td>\n",
       "      <td>0.508333</td>\n",
       "      <td>1.700000</td>\n",
       "      <td>12.900000</td>\n",
       "      <td>0.018691</td>\n",
       "      <td>10.9</td>\n",
       "      <td>11.8</td>\n",
       "    </tr>\n",
       "    <tr>\n",
       "      <th>4</th>\n",
       "      <td>2011/2012</td>\n",
       "      <td>Northern Sydney</td>\n",
       "      <td>NaN</td>\n",
       "      <td>0.400000</td>\n",
       "      <td>0.850000</td>\n",
       "      <td>1.583333</td>\n",
       "      <td>12.900000</td>\n",
       "      <td>0.033333</td>\n",
       "      <td>9.5</td>\n",
       "      <td>8.8</td>\n",
       "    </tr>\n",
       "  </tbody>\n",
       "</table>\n",
       "</div>"
      ],
      "text/plain": [
       "  financial year                    lhd    CO ppm   NO pphm  NO2 pphm  \\\n",
       "0      2011/2012     Hunter New England  0.083333  0.612114  0.771373   \n",
       "1      2011/2012   Illawarra Shoalhaven  0.283333  0.316667  0.641667   \n",
       "2      2011/2012           Murrumbidgee       NaN  0.202113  0.259077   \n",
       "3      2011/2012  Nepean Blue Mountains       NaN  0.091667  0.508333   \n",
       "4      2011/2012        Northern Sydney       NaN  0.400000  0.850000   \n",
       "\n",
       "   OZONE pphm  PM10 µg/m³  SO2 pphm  \\\n",
       "0    1.705556   15.220833  0.172927   \n",
       "1    1.891667   16.416667  0.083333   \n",
       "2    1.816667         NaN  0.050000   \n",
       "3    1.700000   12.900000  0.018691   \n",
       "4    1.583333   12.900000  0.033333   \n",
       "\n",
       "   Influ/Pneum deaths [f] [rate per 100,000]  \\\n",
       "0                                        7.8   \n",
       "1                                        8.6   \n",
       "2                                        9.3   \n",
       "3                                       10.9   \n",
       "4                                        9.5   \n",
       "\n",
       "   Influ/Pneum deaths [m] [rate per 100,000]  \n",
       "0                                       11.3  \n",
       "1                                        7.9  \n",
       "2                                       10.6  \n",
       "3                                       11.8  \n",
       "4                                        8.8  "
      ]
     },
     "execution_count": 13,
     "metadata": {},
     "output_type": "execute_result"
    }
   ],
   "source": [
    "# Merge dataframes on 'date' and 'lhd' columns.\n",
    "df_merged = pd.merge(df_air_quality, df_influpneu_deaths, on=['financial year', 'lhd'], how='inner')\n",
    "\n",
    "# View headers of merged dataframe.\n",
    "df_merged.head()"
   ]
  },
  {
   "cell_type": "markdown",
   "metadata": {},
   "source": [
    "## Output Merged Datasets"
   ]
  },
  {
   "cell_type": "code",
   "execution_count": 14,
   "metadata": {},
   "outputs": [],
   "source": [
    "df_merged.to_csv('influenzapneumonia-deaths-merged.csv', index=False)"
   ]
  }
 ],
 "metadata": {
  "kernelspec": {
   "display_name": "base",
   "language": "python",
   "name": "python3"
  },
  "language_info": {
   "codemirror_mode": {
    "name": "ipython",
    "version": 3
   },
   "file_extension": ".py",
   "mimetype": "text/x-python",
   "name": "python",
   "nbconvert_exporter": "python",
   "pygments_lexer": "ipython3",
   "version": "3.12.4"
  }
 },
 "nbformat": 4,
 "nbformat_minor": 2
}
