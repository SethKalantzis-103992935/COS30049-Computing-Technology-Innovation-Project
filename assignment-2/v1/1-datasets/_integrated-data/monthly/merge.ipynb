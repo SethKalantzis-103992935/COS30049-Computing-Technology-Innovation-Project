{
 "cells": [
  {
   "cell_type": "markdown",
   "metadata": {},
   "source": [
    "# Integrate Monthly Datasets"
   ]
  },
  {
   "cell_type": "markdown",
   "metadata": {},
   "source": [
    "## Set Up"
   ]
  },
  {
   "cell_type": "markdown",
   "metadata": {},
   "source": [
    "Ensure that the required libraries are available by running the below code in the terminal before execution:\n",
    "- pip install pandas\n",
    "\n",
    "\n",
    "Execute the following in the jupyter notebook before execution to ensure that the required libraries are imported:"
   ]
  },
  {
   "cell_type": "code",
   "execution_count": 1,
   "metadata": {},
   "outputs": [],
   "source": [
    "import pandas as pd"
   ]
  },
  {
   "cell_type": "markdown",
   "metadata": {},
   "source": [
    "## Load Datasets"
   ]
  },
  {
   "cell_type": "code",
   "execution_count": 14,
   "metadata": {},
   "outputs": [
    {
     "name": "stdout",
     "output_type": "stream",
     "text": [
      "Air Quality Headers:\n",
      "['date', 'lhd', 'CO ppm', 'NO pphm', 'NO2 pphm', 'OZONE pphm', 'PM10 µg/m³', 'SO2 pphm']\n",
      "\n",
      "Asthma Headers:\n",
      "['date', 'lhd', 'Female rate per 100,000 population', 'Male rate per 100,000 population']\n"
     ]
    }
   ],
   "source": [
    "# Load data into dataframes.\n",
    "df_air_quality = pd.read_csv('../../2-nsw-air-quality/data-processed-monthly.csv')\n",
    "df_asthma = pd.read_csv('../../3-nsw-health-stats/respiratory-health/asthma/emergency-department-presentations/monthly/data-processed-alt.csv')\n",
    "\n",
    "# View Headers.\n",
    "print(\"Air Quality Headers:\")\n",
    "print(df_air_quality.columns.tolist())\n",
    "print(\"\\nAsthma Headers:\")\n",
    "print(df_asthma.columns.tolist())"
   ]
  },
  {
   "cell_type": "markdown",
   "metadata": {},
   "source": [
    "## Data Manipulation"
   ]
  },
  {
   "cell_type": "markdown",
   "metadata": {},
   "source": [
    "Rename columns for clarity."
   ]
  },
  {
   "cell_type": "code",
   "execution_count": 15,
   "metadata": {},
   "outputs": [],
   "source": [
    "df_asthma = df_asthma.rename(columns={\n",
    "    'Female rate per 100,000 population': 'asthma edh [f] [rate per 100,000]',\n",
    "    'Male rate per 100,000 population': 'asthma edh [m] [rate per 100,000]',\n",
    "})"
   ]
  },
  {
   "cell_type": "markdown",
   "metadata": {},
   "source": [
    "## Merge Datasets"
   ]
  },
  {
   "cell_type": "markdown",
   "metadata": {},
   "source": [
    "Merge dataframes on 'date' and 'lhd' columns."
   ]
  },
  {
   "cell_type": "code",
   "execution_count": 16,
   "metadata": {},
   "outputs": [
    {
     "data": {
      "text/html": [
       "<div>\n",
       "<style scoped>\n",
       "    .dataframe tbody tr th:only-of-type {\n",
       "        vertical-align: middle;\n",
       "    }\n",
       "\n",
       "    .dataframe tbody tr th {\n",
       "        vertical-align: top;\n",
       "    }\n",
       "\n",
       "    .dataframe thead th {\n",
       "        text-align: right;\n",
       "    }\n",
       "</style>\n",
       "<table border=\"1\" class=\"dataframe\">\n",
       "  <thead>\n",
       "    <tr style=\"text-align: right;\">\n",
       "      <th></th>\n",
       "      <th>date</th>\n",
       "      <th>lhd</th>\n",
       "      <th>CO ppm</th>\n",
       "      <th>NO pphm</th>\n",
       "      <th>NO2 pphm</th>\n",
       "      <th>OZONE pphm</th>\n",
       "      <th>PM10 µg/m³</th>\n",
       "      <th>SO2 pphm</th>\n",
       "      <th>asthma edh [f] [rate per 100,000]</th>\n",
       "      <th>asthma edh [m] [rate per 100,000]</th>\n",
       "    </tr>\n",
       "  </thead>\n",
       "  <tbody>\n",
       "    <tr>\n",
       "      <th>0</th>\n",
       "      <td>2014-07</td>\n",
       "      <td>Hunter New England</td>\n",
       "      <td>0.2</td>\n",
       "      <td>1.22</td>\n",
       "      <td>1.14</td>\n",
       "      <td>1.500000</td>\n",
       "      <td>15.600</td>\n",
       "      <td>0.12</td>\n",
       "      <td>45.3</td>\n",
       "      <td>32.3</td>\n",
       "    </tr>\n",
       "    <tr>\n",
       "      <th>1</th>\n",
       "      <td>2014-08</td>\n",
       "      <td>Hunter New England</td>\n",
       "      <td>0.2</td>\n",
       "      <td>0.72</td>\n",
       "      <td>0.94</td>\n",
       "      <td>1.900000</td>\n",
       "      <td>14.875</td>\n",
       "      <td>0.14</td>\n",
       "      <td>49.4</td>\n",
       "      <td>42.6</td>\n",
       "    </tr>\n",
       "    <tr>\n",
       "      <th>2</th>\n",
       "      <td>2014-09</td>\n",
       "      <td>Hunter New England</td>\n",
       "      <td>0.2</td>\n",
       "      <td>0.60</td>\n",
       "      <td>0.88</td>\n",
       "      <td>1.966667</td>\n",
       "      <td>16.400</td>\n",
       "      <td>0.12</td>\n",
       "      <td>36.0</td>\n",
       "      <td>26.7</td>\n",
       "    </tr>\n",
       "    <tr>\n",
       "      <th>3</th>\n",
       "      <td>2014-10</td>\n",
       "      <td>Hunter New England</td>\n",
       "      <td>0.3</td>\n",
       "      <td>0.42</td>\n",
       "      <td>0.82</td>\n",
       "      <td>2.333333</td>\n",
       "      <td>23.775</td>\n",
       "      <td>0.14</td>\n",
       "      <td>34.4</td>\n",
       "      <td>31.2</td>\n",
       "    </tr>\n",
       "    <tr>\n",
       "      <th>4</th>\n",
       "      <td>2014-11</td>\n",
       "      <td>Hunter New England</td>\n",
       "      <td>0.2</td>\n",
       "      <td>0.24</td>\n",
       "      <td>0.62</td>\n",
       "      <td>2.433333</td>\n",
       "      <td>24.750</td>\n",
       "      <td>0.14</td>\n",
       "      <td>24.7</td>\n",
       "      <td>25.9</td>\n",
       "    </tr>\n",
       "  </tbody>\n",
       "</table>\n",
       "</div>"
      ],
      "text/plain": [
       "      date                 lhd  CO ppm  NO pphm  NO2 pphm  OZONE pphm  \\\n",
       "0  2014-07  Hunter New England     0.2     1.22      1.14    1.500000   \n",
       "1  2014-08  Hunter New England     0.2     0.72      0.94    1.900000   \n",
       "2  2014-09  Hunter New England     0.2     0.60      0.88    1.966667   \n",
       "3  2014-10  Hunter New England     0.3     0.42      0.82    2.333333   \n",
       "4  2014-11  Hunter New England     0.2     0.24      0.62    2.433333   \n",
       "\n",
       "   PM10 µg/m³  SO2 pphm  asthma edh [f] [rate per 100,000]  \\\n",
       "0      15.600      0.12                               45.3   \n",
       "1      14.875      0.14                               49.4   \n",
       "2      16.400      0.12                               36.0   \n",
       "3      23.775      0.14                               34.4   \n",
       "4      24.750      0.14                               24.7   \n",
       "\n",
       "   asthma edh [m] [rate per 100,000]  \n",
       "0                               32.3  \n",
       "1                               42.6  \n",
       "2                               26.7  \n",
       "3                               31.2  \n",
       "4                               25.9  "
      ]
     },
     "execution_count": 16,
     "metadata": {},
     "output_type": "execute_result"
    }
   ],
   "source": [
    "# Merge dataframes on 'date' and 'lhd' columns.\n",
    "df_merged = pd.merge(df_air_quality, df_asthma, on=['date', 'lhd'], how='inner')\n",
    "\n",
    "# View headers of merged dataframe.\n",
    "df_merged.head()"
   ]
  },
  {
   "cell_type": "markdown",
   "metadata": {},
   "source": [
    "## Output Dataset"
   ]
  },
  {
   "cell_type": "code",
   "execution_count": 17,
   "metadata": {},
   "outputs": [],
   "source": [
    "df_merged.to_csv('data-merged.csv', index=False)"
   ]
  }
 ],
 "metadata": {
  "kernelspec": {
   "display_name": "base",
   "language": "python",
   "name": "python3"
  },
  "language_info": {
   "codemirror_mode": {
    "name": "ipython",
    "version": 3
   },
   "file_extension": ".py",
   "mimetype": "text/x-python",
   "name": "python",
   "nbconvert_exporter": "python",
   "pygments_lexer": "ipython3",
   "version": "3.12.4"
  }
 },
 "nbformat": 4,
 "nbformat_minor": 2
}
