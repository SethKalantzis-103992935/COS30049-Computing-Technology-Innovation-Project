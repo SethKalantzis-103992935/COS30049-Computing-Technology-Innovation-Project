{
 "cells": [
  {
   "cell_type": "markdown",
   "metadata": {},
   "source": [
    "# Asthma-Like Illness Emergency Department Presentations (annual) - Processing"
   ]
  },
  {
   "cell_type": "markdown",
   "metadata": {},
   "source": [
    "## Dependencies"
   ]
  },
  {
   "cell_type": "markdown",
   "metadata": {},
   "source": [
    "Ensure that the required libraries have been installed locally as per the README.md file included in this project.\n",
    "\n",
    "Run the following cell the import the required dependencies for this notebook."
   ]
  },
  {
   "cell_type": "code",
   "execution_count": 10,
   "metadata": {},
   "outputs": [],
   "source": [
    "# Import libraries\n",
    "import pandas as pd"
   ]
  },
  {
   "cell_type": "markdown",
   "metadata": {},
   "source": [
    "## Load Dataset"
   ]
  },
  {
   "cell_type": "code",
   "execution_count": 11,
   "metadata": {},
   "outputs": [],
   "source": [
    "# Load the raw data.\n",
    "df = pd.read_csv('raw.csv')"
   ]
  },
  {
   "cell_type": "markdown",
   "metadata": {},
   "source": [
    "## Exploratory Analysis of Raw Data"
   ]
  },
  {
   "cell_type": "code",
   "execution_count": 12,
   "metadata": {},
   "outputs": [
    {
     "name": "stdout",
     "output_type": "stream",
     "text": [
      "Dataset Head:\n"
     ]
    },
    {
     "data": {
      "text/html": [
       "<style type=\"text/css\">\n",
       "#T_452f8 th {\n",
       "  min-width: 100px;\n",
       "}\n",
       "</style>\n",
       "<table id=\"T_452f8\">\n",
       "  <thead>\n",
       "    <tr>\n",
       "      <th class=\"blank level0\" >&nbsp;</th>\n",
       "      <th id=\"T_452f8_level0_col0\" class=\"col_heading level0 col0\" >Sex</th>\n",
       "      <th id=\"T_452f8_level0_col1\" class=\"col_heading level0 col1\" >LHD</th>\n",
       "      <th id=\"T_452f8_level0_col2\" class=\"col_heading level0 col2\" >Period</th>\n",
       "      <th id=\"T_452f8_level0_col3\" class=\"col_heading level0 col3\" >Rate per 100,000 population</th>\n",
       "      <th id=\"T_452f8_level0_col4\" class=\"col_heading level0 col4\" >LL 95% CI</th>\n",
       "      <th id=\"T_452f8_level0_col5\" class=\"col_heading level0 col5\" >UL 95% CI</th>\n",
       "    </tr>\n",
       "  </thead>\n",
       "  <tbody>\n",
       "    <tr>\n",
       "      <th id=\"T_452f8_level0_row0\" class=\"row_heading level0 row0\" >0</th>\n",
       "      <td id=\"T_452f8_row0_col0\" class=\"data row0 col0\" >Males</td>\n",
       "      <td id=\"T_452f8_row0_col1\" class=\"data row0 col1\" >Sydney LHD</td>\n",
       "      <td id=\"T_452f8_row0_col2\" class=\"data row0 col2\" >14/15</td>\n",
       "      <td id=\"T_452f8_row0_col3\" class=\"data row0 col3\" >283.100000</td>\n",
       "      <td id=\"T_452f8_row0_col4\" class=\"data row0 col4\" >263.100000</td>\n",
       "      <td id=\"T_452f8_row0_col5\" class=\"data row0 col5\" >304.1</td>\n",
       "    </tr>\n",
       "    <tr>\n",
       "      <th id=\"T_452f8_level0_row1\" class=\"row_heading level0 row1\" >1</th>\n",
       "      <td id=\"T_452f8_row1_col0\" class=\"data row1 col0\" >Males</td>\n",
       "      <td id=\"T_452f8_row1_col1\" class=\"data row1 col1\" >Sydney LHD</td>\n",
       "      <td id=\"T_452f8_row1_col2\" class=\"data row1 col2\" >15/16</td>\n",
       "      <td id=\"T_452f8_row1_col3\" class=\"data row1 col3\" >287.600000</td>\n",
       "      <td id=\"T_452f8_row1_col4\" class=\"data row1 col4\" >267.500000</td>\n",
       "      <td id=\"T_452f8_row1_col5\" class=\"data row1 col5\" >308.7</td>\n",
       "    </tr>\n",
       "    <tr>\n",
       "      <th id=\"T_452f8_level0_row2\" class=\"row_heading level0 row2\" >2</th>\n",
       "      <td id=\"T_452f8_row2_col0\" class=\"data row2 col0\" >Males</td>\n",
       "      <td id=\"T_452f8_row2_col1\" class=\"data row2 col1\" >Sydney LHD</td>\n",
       "      <td id=\"T_452f8_row2_col2\" class=\"data row2 col2\" >16/17</td>\n",
       "      <td id=\"T_452f8_row2_col3\" class=\"data row2 col3\" >263.700000</td>\n",
       "      <td id=\"T_452f8_row2_col4\" class=\"data row2 col4\" >244.700000</td>\n",
       "      <td id=\"T_452f8_row2_col5\" class=\"data row2 col5\" >283.8</td>\n",
       "    </tr>\n",
       "    <tr>\n",
       "      <th id=\"T_452f8_level0_row3\" class=\"row_heading level0 row3\" >3</th>\n",
       "      <td id=\"T_452f8_row3_col0\" class=\"data row3 col0\" >Males</td>\n",
       "      <td id=\"T_452f8_row3_col1\" class=\"data row3 col1\" >Sydney LHD</td>\n",
       "      <td id=\"T_452f8_row3_col2\" class=\"data row3 col2\" >17/18</td>\n",
       "      <td id=\"T_452f8_row3_col3\" class=\"data row3 col3\" >229.500000</td>\n",
       "      <td id=\"T_452f8_row3_col4\" class=\"data row3 col4\" >211.800000</td>\n",
       "      <td id=\"T_452f8_row3_col5\" class=\"data row3 col5\" >248.4</td>\n",
       "    </tr>\n",
       "    <tr>\n",
       "      <th id=\"T_452f8_level0_row4\" class=\"row_heading level0 row4\" >4</th>\n",
       "      <td id=\"T_452f8_row4_col0\" class=\"data row4 col0\" >Males</td>\n",
       "      <td id=\"T_452f8_row4_col1\" class=\"data row4 col1\" >Sydney LHD</td>\n",
       "      <td id=\"T_452f8_row4_col2\" class=\"data row4 col2\" >18/19</td>\n",
       "      <td id=\"T_452f8_row4_col3\" class=\"data row4 col3\" >244.400000</td>\n",
       "      <td id=\"T_452f8_row4_col4\" class=\"data row4 col4\" >226.100000</td>\n",
       "      <td id=\"T_452f8_row4_col5\" class=\"data row4 col5\" >263.7</td>\n",
       "    </tr>\n",
       "  </tbody>\n",
       "</table>\n"
      ],
      "text/plain": [
       "<pandas.io.formats.style.Styler at 0x1e44177ca40>"
      ]
     },
     "metadata": {},
     "output_type": "display_data"
    },
    {
     "name": "stdout",
     "output_type": "stream",
     "text": [
      "\n",
      "Object Summary Statistics:\n"
     ]
    },
    {
     "data": {
      "text/html": [
       "<style type=\"text/css\">\n",
       "#T_f1cec th {\n",
       "  min-width: 100px;\n",
       "}\n",
       "</style>\n",
       "<table id=\"T_f1cec\">\n",
       "  <thead>\n",
       "    <tr>\n",
       "      <th class=\"blank level0\" >&nbsp;</th>\n",
       "      <th id=\"T_f1cec_level0_col0\" class=\"col_heading level0 col0\" >datatype</th>\n",
       "      <th id=\"T_f1cec_level0_col1\" class=\"col_heading level0 col1\" >present_values</th>\n",
       "      <th id=\"T_f1cec_level0_col2\" class=\"col_heading level0 col2\" >missing_values</th>\n",
       "      <th id=\"T_f1cec_level0_col3\" class=\"col_heading level0 col3\" >unique</th>\n",
       "    </tr>\n",
       "  </thead>\n",
       "  <tbody>\n",
       "    <tr>\n",
       "      <th id=\"T_f1cec_level0_row0\" class=\"row_heading level0 row0\" >Sex</th>\n",
       "      <td id=\"T_f1cec_row0_col0\" class=\"data row0 col0\" >object</td>\n",
       "      <td id=\"T_f1cec_row0_col1\" class=\"data row0 col1\" >432</td>\n",
       "      <td id=\"T_f1cec_row0_col2\" class=\"data row0 col2\" >420</td>\n",
       "      <td id=\"T_f1cec_row0_col3\" class=\"data row0 col3\" >3</td>\n",
       "    </tr>\n",
       "    <tr>\n",
       "      <th id=\"T_f1cec_level0_row1\" class=\"row_heading level0 row1\" >LHD</th>\n",
       "      <td id=\"T_f1cec_row1_col0\" class=\"data row1 col0\" >object</td>\n",
       "      <td id=\"T_f1cec_row1_col1\" class=\"data row1 col1\" >432</td>\n",
       "      <td id=\"T_f1cec_row1_col2\" class=\"data row1 col2\" >420</td>\n",
       "      <td id=\"T_f1cec_row1_col3\" class=\"data row1 col3\" >16</td>\n",
       "    </tr>\n",
       "    <tr>\n",
       "      <th id=\"T_f1cec_level0_row2\" class=\"row_heading level0 row2\" >Period</th>\n",
       "      <td id=\"T_f1cec_row2_col0\" class=\"data row2 col0\" >object</td>\n",
       "      <td id=\"T_f1cec_row2_col1\" class=\"data row2 col1\" >432</td>\n",
       "      <td id=\"T_f1cec_row2_col2\" class=\"data row2 col2\" >420</td>\n",
       "      <td id=\"T_f1cec_row2_col3\" class=\"data row2 col3\" >9</td>\n",
       "    </tr>\n",
       "    <tr>\n",
       "      <th id=\"T_f1cec_level0_row3\" class=\"row_heading level0 row3\" >UL 95% CI</th>\n",
       "      <td id=\"T_f1cec_row3_col0\" class=\"data row3 col0\" >object</td>\n",
       "      <td id=\"T_f1cec_row3_col1\" class=\"data row3 col1\" >432</td>\n",
       "      <td id=\"T_f1cec_row3_col2\" class=\"data row3 col2\" >420</td>\n",
       "      <td id=\"T_f1cec_row3_col3\" class=\"data row3 col3\" >415</td>\n",
       "    </tr>\n",
       "  </tbody>\n",
       "</table>\n"
      ],
      "text/plain": [
       "<pandas.io.formats.style.Styler at 0x1e4417eec90>"
      ]
     },
     "metadata": {},
     "output_type": "display_data"
    }
   ],
   "source": [
    "# Generate summary statistics for object columns.\n",
    "object_summary_stats = df.describe(include=['O']).transpose()                                                       # Generate summary statistics for object columns.\n",
    "object_summary_stats['missing_values'] = df.isnull().sum()                                                          # Add missing values to the summary table.\n",
    "object_summary_stats['present_values'] = df.notnull().sum()                                                         # Add present values to the summary table.\n",
    "object_summary_stats['datatype'] = df.dtypes                                                                        # Add data types to the summary table.\n",
    "object_summary_stats = object_summary_stats[['datatype', 'present_values', 'missing_values', 'unique']]             # Select features and reorder table.\n",
    "\n",
    "# Display the summary tables with titles.\n",
    "print(\"Dataset Head:\")                                                                                              # Display the dataset head title.\n",
    "display(df.head().style.set_table_styles([{'selector': 'th', 'props': [('min-width', '100px')]}]))                  # Display the dataset head. For better visualization, set the minimum width of the table headers to 100px.\n",
    "\n",
    "print(\"\\nObject Summary Statistics:\")                                                                               # Display the object summary statistics.\n",
    "display(object_summary_stats.style.set_table_styles([{'selector': 'th', 'props': [('min-width', '100px')]}]))       # Display the object summary statistics. For better visualization, set the minimum width of the table headers to 100px."
   ]
  },
  {
   "cell_type": "markdown",
   "metadata": {},
   "source": [
    "## Data Manipulation"
   ]
  },
  {
   "cell_type": "code",
   "execution_count": 13,
   "metadata": {},
   "outputs": [
    {
     "data": {
      "text/html": [
       "<div>\n",
       "<style scoped>\n",
       "    .dataframe tbody tr th:only-of-type {\n",
       "        vertical-align: middle;\n",
       "    }\n",
       "\n",
       "    .dataframe tbody tr th {\n",
       "        vertical-align: top;\n",
       "    }\n",
       "\n",
       "    .dataframe thead th {\n",
       "        text-align: right;\n",
       "    }\n",
       "</style>\n",
       "<table border=\"1\" class=\"dataframe\">\n",
       "  <thead>\n",
       "    <tr style=\"text-align: right;\">\n",
       "      <th></th>\n",
       "      <th>sex</th>\n",
       "      <th>lhd</th>\n",
       "      <th>financial year</th>\n",
       "      <th>rate per 100,000 population</th>\n",
       "    </tr>\n",
       "  </thead>\n",
       "  <tbody>\n",
       "    <tr>\n",
       "      <th>0</th>\n",
       "      <td>Males</td>\n",
       "      <td>Sydney</td>\n",
       "      <td>2014/2015</td>\n",
       "      <td>283.1</td>\n",
       "    </tr>\n",
       "    <tr>\n",
       "      <th>1</th>\n",
       "      <td>Males</td>\n",
       "      <td>Sydney</td>\n",
       "      <td>2015/2016</td>\n",
       "      <td>287.6</td>\n",
       "    </tr>\n",
       "    <tr>\n",
       "      <th>2</th>\n",
       "      <td>Males</td>\n",
       "      <td>Sydney</td>\n",
       "      <td>2016/2017</td>\n",
       "      <td>263.7</td>\n",
       "    </tr>\n",
       "    <tr>\n",
       "      <th>3</th>\n",
       "      <td>Males</td>\n",
       "      <td>Sydney</td>\n",
       "      <td>2017/2018</td>\n",
       "      <td>229.5</td>\n",
       "    </tr>\n",
       "    <tr>\n",
       "      <th>4</th>\n",
       "      <td>Males</td>\n",
       "      <td>Sydney</td>\n",
       "      <td>2018/2019</td>\n",
       "      <td>244.4</td>\n",
       "    </tr>\n",
       "  </tbody>\n",
       "</table>\n",
       "</div>"
      ],
      "text/plain": [
       "     sex     lhd financial year  rate per 100,000 population\n",
       "0  Males  Sydney      2014/2015                        283.1\n",
       "1  Males  Sydney      2015/2016                        287.6\n",
       "2  Males  Sydney      2016/2017                        263.7\n",
       "3  Males  Sydney      2017/2018                        229.5\n",
       "4  Males  Sydney      2018/2019                        244.4"
      ]
     },
     "metadata": {},
     "output_type": "display_data"
    }
   ],
   "source": [
    "# Rename columns to match Air Quality data set.\n",
    "df = df.rename(columns={'LHD': 'lhd', 'Period': 'financial year', 'Sex': 'sex'})                                    # Rename columns\n",
    "df.columns = df.columns.str.lower()                                                                                 # Lowercase column names\n",
    "\n",
    "# Remove ' LHD' for Local Health District values.\n",
    "df['lhd'] = df['lhd'].str.replace(' LHD', '')                                                                       # Remove ' LHD' from lhd column\n",
    "\n",
    "# Remove rows representing state-wide aggregated data.\n",
    "df = df.dropna(subset=['lhd'])                                                                                      # Remove rows with missing values in 'lhd' column\n",
    "df = df[~df['lhd'].str.contains('All')]                                                                             # Remove rows with 'All' in 'lhd' column\n",
    "\n",
    "# Remove columns holding Confidence Interval data.\n",
    "df = df.loc[:, ~df.columns.str.contains('% ci')]                                                                    # Remove columns with '% ci' in the name\n",
    "\n",
    "# Reformat 'financial year' values from XX/YY to XXXX/YYYY.\n",
    "df['financial year'] = df['financial year'].apply(                                                                  # Add '20' to the start of each year value\n",
    "    lambda x: f'20{x[:2]}/20{x[3:]}' if isinstance(x, str) else x\n",
    ")\n",
    "\n",
    "# View the cleaned data.\n",
    "display(df.head())                                                                                                  # Display the first few rows of the cleaned data"
   ]
  },
  {
   "cell_type": "markdown",
   "metadata": {},
   "source": [
    "### Reconfigure Table"
   ]
  },
  {
   "cell_type": "code",
   "execution_count": 14,
   "metadata": {
    "vscode": {
     "languageId": "ruby"
    }
   },
   "outputs": [
    {
     "data": {
      "text/html": [
       "<div>\n",
       "<style scoped>\n",
       "    .dataframe tbody tr th:only-of-type {\n",
       "        vertical-align: middle;\n",
       "    }\n",
       "\n",
       "    .dataframe tbody tr th {\n",
       "        vertical-align: top;\n",
       "    }\n",
       "\n",
       "    .dataframe thead th {\n",
       "        text-align: right;\n",
       "    }\n",
       "</style>\n",
       "<table border=\"1\" class=\"dataframe\">\n",
       "  <thead>\n",
       "    <tr style=\"text-align: right;\">\n",
       "      <th></th>\n",
       "      <th>financial year</th>\n",
       "      <th>lhd</th>\n",
       "      <th>Female rate per 100,000 population</th>\n",
       "      <th>Male rate per 100,000 population</th>\n",
       "      <th>Persons rate per 100,000 population</th>\n",
       "    </tr>\n",
       "  </thead>\n",
       "  <tbody>\n",
       "    <tr>\n",
       "      <th>0</th>\n",
       "      <td>2014/2015</td>\n",
       "      <td>Central Coast</td>\n",
       "      <td>373.6</td>\n",
       "      <td>354.3</td>\n",
       "      <td>366.6</td>\n",
       "    </tr>\n",
       "    <tr>\n",
       "      <th>1</th>\n",
       "      <td>2014/2015</td>\n",
       "      <td>Far West</td>\n",
       "      <td>771.9</td>\n",
       "      <td>603.0</td>\n",
       "      <td>690.5</td>\n",
       "    </tr>\n",
       "    <tr>\n",
       "      <th>2</th>\n",
       "      <td>2014/2015</td>\n",
       "      <td>Hunter New England</td>\n",
       "      <td>455.6</td>\n",
       "      <td>445.5</td>\n",
       "      <td>452.6</td>\n",
       "    </tr>\n",
       "    <tr>\n",
       "      <th>3</th>\n",
       "      <td>2014/2015</td>\n",
       "      <td>Illawarra Shoalhaven</td>\n",
       "      <td>410.1</td>\n",
       "      <td>383.6</td>\n",
       "      <td>398.2</td>\n",
       "    </tr>\n",
       "    <tr>\n",
       "      <th>4</th>\n",
       "      <td>2014/2015</td>\n",
       "      <td>Mid North Coast</td>\n",
       "      <td>495.6</td>\n",
       "      <td>478.8</td>\n",
       "      <td>490.2</td>\n",
       "    </tr>\n",
       "  </tbody>\n",
       "</table>\n",
       "</div>"
      ],
      "text/plain": [
       "  financial year                   lhd  Female rate per 100,000 population  \\\n",
       "0      2014/2015         Central Coast                               373.6   \n",
       "1      2014/2015              Far West                               771.9   \n",
       "2      2014/2015    Hunter New England                               455.6   \n",
       "3      2014/2015  Illawarra Shoalhaven                               410.1   \n",
       "4      2014/2015       Mid North Coast                               495.6   \n",
       "\n",
       "   Male rate per 100,000 population  Persons rate per 100,000 population  \n",
       "0                             354.3                                366.6  \n",
       "1                             603.0                                690.5  \n",
       "2                             445.5                                452.6  \n",
       "3                             383.6                                398.2  \n",
       "4                             478.8                                490.2  "
      ]
     },
     "metadata": {},
     "output_type": "display_data"
    }
   ],
   "source": [
    "# Pivot the dataframe to have 'sex' as columns\n",
    "df = df.pivot_table(index=['financial year', 'lhd'], columns='sex', values='rate per 100,000 population').reset_index()\n",
    "\n",
    "# Rename the columns to match the desired format\n",
    "df.columns.name = None\n",
    "df = df.rename(columns={\n",
    "    'Persons': 'Persons rate per 100,000 population',\n",
    "    'Males': 'Male rate per 100,000 population', \n",
    "    'Females': 'Female rate per 100,000 population'\n",
    "})\n",
    "\n",
    "# View the DataFrame\n",
    "display(df.head()) "
   ]
  },
  {
   "cell_type": "markdown",
   "metadata": {},
   "source": [
    "## Set Date Range"
   ]
  },
  {
   "cell_type": "markdown",
   "metadata": {},
   "source": [
    "Set the range of financial years from 2014/2015 to 2023/2024."
   ]
  },
  {
   "cell_type": "code",
   "execution_count": 15,
   "metadata": {},
   "outputs": [
    {
     "name": "stderr",
     "output_type": "stream",
     "text": [
      "C:\\Users\\matth\\AppData\\Local\\Temp\\ipykernel_18844\\2552393688.py:21: FutureWarning: The behavior of DataFrame concatenation with empty or all-NA entries is deprecated. In a future version, this will no longer exclude empty or all-NA columns when determining the result dtypes. To retain the old behavior, exclude the relevant entries before the concat operation.\n",
      "  df = pd.concat([df, df_missing], ignore_index=True)                                                             # Concatenate the DataFrames.\n"
     ]
    },
    {
     "data": {
      "text/html": [
       "<div>\n",
       "<style scoped>\n",
       "    .dataframe tbody tr th:only-of-type {\n",
       "        vertical-align: middle;\n",
       "    }\n",
       "\n",
       "    .dataframe tbody tr th {\n",
       "        vertical-align: top;\n",
       "    }\n",
       "\n",
       "    .dataframe thead th {\n",
       "        text-align: right;\n",
       "    }\n",
       "</style>\n",
       "<table border=\"1\" class=\"dataframe\">\n",
       "  <thead>\n",
       "    <tr style=\"text-align: right;\">\n",
       "      <th></th>\n",
       "      <th>financial year</th>\n",
       "      <th>lhd</th>\n",
       "      <th>Female rate per 100,000 population</th>\n",
       "      <th>Male rate per 100,000 population</th>\n",
       "      <th>Persons rate per 100,000 population</th>\n",
       "    </tr>\n",
       "  </thead>\n",
       "  <tbody>\n",
       "    <tr>\n",
       "      <th>145</th>\n",
       "      <td>2019/2020</td>\n",
       "      <td>Western Sydney</td>\n",
       "      <td>244.8</td>\n",
       "      <td>203.2</td>\n",
       "      <td>224.7</td>\n",
       "    </tr>\n",
       "    <tr>\n",
       "      <th>146</th>\n",
       "      <td>2020/2021</td>\n",
       "      <td>Western Sydney</td>\n",
       "      <td>184.8</td>\n",
       "      <td>188.5</td>\n",
       "      <td>187.3</td>\n",
       "    </tr>\n",
       "    <tr>\n",
       "      <th>147</th>\n",
       "      <td>2021/2022</td>\n",
       "      <td>Western Sydney</td>\n",
       "      <td>187.4</td>\n",
       "      <td>184.0</td>\n",
       "      <td>186.1</td>\n",
       "    </tr>\n",
       "    <tr>\n",
       "      <th>148</th>\n",
       "      <td>2022/2023</td>\n",
       "      <td>Western Sydney</td>\n",
       "      <td>220.4</td>\n",
       "      <td>209.3</td>\n",
       "      <td>215.7</td>\n",
       "    </tr>\n",
       "    <tr>\n",
       "      <th>149</th>\n",
       "      <td>2023/2024</td>\n",
       "      <td>Western Sydney</td>\n",
       "      <td>NaN</td>\n",
       "      <td>NaN</td>\n",
       "      <td>NaN</td>\n",
       "    </tr>\n",
       "  </tbody>\n",
       "</table>\n",
       "</div>"
      ],
      "text/plain": [
       "    financial year             lhd  Female rate per 100,000 population  \\\n",
       "145      2019/2020  Western Sydney                               244.8   \n",
       "146      2020/2021  Western Sydney                               184.8   \n",
       "147      2021/2022  Western Sydney                               187.4   \n",
       "148      2022/2023  Western Sydney                               220.4   \n",
       "149      2023/2024  Western Sydney                                 NaN   \n",
       "\n",
       "     Male rate per 100,000 population  Persons rate per 100,000 population  \n",
       "145                             203.2                                224.7  \n",
       "146                             188.5                                187.3  \n",
       "147                             184.0                                186.1  \n",
       "148                             209.3                                215.7  \n",
       "149                               NaN                                  NaN  "
      ]
     },
     "metadata": {},
     "output_type": "display_data"
    }
   ],
   "source": [
    "# Add rows for each LHD for the missing years until 2023/2024.\n",
    "missing_rows = []                                                                                                   # Create a list to store the missing rows.\n",
    "lhds = df['lhd'].unique()                                                                                           # Get the unique values in the 'lhd' column.\n",
    "years = [f\"{year}/{year + 1}\" for year in range(2014, 2024)]                                                        # Create a list of years from 2014/2015 to 2023/2024.\n",
    "\n",
    "for lhd in lhds:\n",
    "    for year in years:\n",
    "        if not ((df['lhd'] == lhd) & (df['financial year'] == year)).any():                                         # Check if the row is missing.\n",
    "            missing_rows.append({                                                                                   # Append the missing row to the list.\n",
    "                'lhd': lhd, \n",
    "                'financial year': year, \n",
    "                'Female rate per 100,000 population': None,\n",
    "                'Male rate per 100,000 population': None,\n",
    "                'Persons rate per 100,000 population': None,\n",
    "\n",
    "            })          \n",
    "\n",
    "# Create a DataFrame from the missing rows and concatenate it to the original DataFrame\n",
    "if missing_rows:\n",
    "    df_missing = pd.DataFrame(missing_rows)                                                                         # Create a DataFrame from the missing rows.\n",
    "    df = pd.concat([df, df_missing], ignore_index=True)                                                             # Concatenate the DataFrames.\n",
    "\n",
    "# Sort the DataFrame by 'lhd' and 'financial year'.\n",
    "df = df.sort_values(by=['lhd', 'financial year']).reset_index(drop=True)                                            # Sort the DataFrame by 'lhd' and 'financial year'.\n",
    "\n",
    "# View the DataFrame.\n",
    "display(df.tail())                                                                                                  # View the last 5 rows of the DataFrame."
   ]
  },
  {
   "cell_type": "markdown",
   "metadata": {},
   "source": [
    "Fill missing values using linear interpolation."
   ]
  },
  {
   "cell_type": "code",
   "execution_count": 16,
   "metadata": {},
   "outputs": [],
   "source": [
    "df['Female rate per 100,000 population'] = df['Female rate per 100,000 population'].interpolate()                       # Fill missing values using linear interpolation.\n",
    "df['Male rate per 100,000 population'] = df['Male rate per 100,000 population'].interpolate()                           # Fill missing values using linear interpolation.\n",
    "df['Persons rate per 100,000 population'] = df['Persons rate per 100,000 population'].interpolate()                     # Fill missing values using linear interpolation."
   ]
  },
  {
   "cell_type": "markdown",
   "metadata": {},
   "source": [
    "## Output Processed Dataset"
   ]
  },
  {
   "cell_type": "code",
   "execution_count": 17,
   "metadata": {},
   "outputs": [],
   "source": [
    "# Save the processed data to a new CSV file.\n",
    "df.to_csv('processed.csv', index=False)                        # Save the processed data to a new CSV file.                                                                                                      # View the first 5 rows of the DataFrame."
   ]
  },
  {
   "cell_type": "markdown",
   "metadata": {},
   "source": [
    "## View Processed Dataset"
   ]
  },
  {
   "cell_type": "code",
   "execution_count": 18,
   "metadata": {},
   "outputs": [
    {
     "data": {
      "text/html": [
       "<div>\n",
       "<style scoped>\n",
       "    .dataframe tbody tr th:only-of-type {\n",
       "        vertical-align: middle;\n",
       "    }\n",
       "\n",
       "    .dataframe tbody tr th {\n",
       "        vertical-align: top;\n",
       "    }\n",
       "\n",
       "    .dataframe thead th {\n",
       "        text-align: right;\n",
       "    }\n",
       "</style>\n",
       "<table border=\"1\" class=\"dataframe\">\n",
       "  <thead>\n",
       "    <tr style=\"text-align: right;\">\n",
       "      <th></th>\n",
       "      <th>financial year</th>\n",
       "      <th>lhd</th>\n",
       "      <th>Female rate per 100,000 population</th>\n",
       "      <th>Male rate per 100,000 population</th>\n",
       "      <th>Persons rate per 100,000 population</th>\n",
       "    </tr>\n",
       "  </thead>\n",
       "  <tbody>\n",
       "    <tr>\n",
       "      <th>0</th>\n",
       "      <td>2014/2015</td>\n",
       "      <td>Central Coast</td>\n",
       "      <td>373.6</td>\n",
       "      <td>354.3</td>\n",
       "      <td>366.6</td>\n",
       "    </tr>\n",
       "    <tr>\n",
       "      <th>1</th>\n",
       "      <td>2015/2016</td>\n",
       "      <td>Central Coast</td>\n",
       "      <td>405.8</td>\n",
       "      <td>350.7</td>\n",
       "      <td>380.9</td>\n",
       "    </tr>\n",
       "    <tr>\n",
       "      <th>2</th>\n",
       "      <td>2016/2017</td>\n",
       "      <td>Central Coast</td>\n",
       "      <td>412.0</td>\n",
       "      <td>339.7</td>\n",
       "      <td>378.4</td>\n",
       "    </tr>\n",
       "    <tr>\n",
       "      <th>3</th>\n",
       "      <td>2017/2018</td>\n",
       "      <td>Central Coast</td>\n",
       "      <td>386.7</td>\n",
       "      <td>344.0</td>\n",
       "      <td>368.2</td>\n",
       "    </tr>\n",
       "    <tr>\n",
       "      <th>4</th>\n",
       "      <td>2018/2019</td>\n",
       "      <td>Central Coast</td>\n",
       "      <td>403.8</td>\n",
       "      <td>349.0</td>\n",
       "      <td>378.8</td>\n",
       "    </tr>\n",
       "  </tbody>\n",
       "</table>\n",
       "</div>"
      ],
      "text/plain": [
       "  financial year            lhd  Female rate per 100,000 population  \\\n",
       "0      2014/2015  Central Coast                               373.6   \n",
       "1      2015/2016  Central Coast                               405.8   \n",
       "2      2016/2017  Central Coast                               412.0   \n",
       "3      2017/2018  Central Coast                               386.7   \n",
       "4      2018/2019  Central Coast                               403.8   \n",
       "\n",
       "   Male rate per 100,000 population  Persons rate per 100,000 population  \n",
       "0                             354.3                                366.6  \n",
       "1                             350.7                                380.9  \n",
       "2                             339.7                                378.4  \n",
       "3                             344.0                                368.2  \n",
       "4                             349.0                                378.8  "
      ]
     },
     "metadata": {},
     "output_type": "display_data"
    }
   ],
   "source": [
    "# Display the processed data.\n",
    "display(df.head())"
   ]
  }
 ],
 "metadata": {
  "kernelspec": {
   "display_name": "base",
   "language": "python",
   "name": "python3"
  },
  "language_info": {
   "codemirror_mode": {
    "name": "ipython",
    "version": 3
   },
   "file_extension": ".py",
   "mimetype": "text/x-python",
   "name": "python",
   "nbconvert_exporter": "python",
   "pygments_lexer": "ipython3",
   "version": "3.12.4"
  }
 },
 "nbformat": 4,
 "nbformat_minor": 2
}
