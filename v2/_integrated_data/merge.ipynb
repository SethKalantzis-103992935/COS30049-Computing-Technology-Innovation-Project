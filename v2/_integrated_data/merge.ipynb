{
 "cells": [
  {
   "cell_type": "markdown",
   "metadata": {},
   "source": [
    "# Integrate Monthly Datasets"
   ]
  },
  {
   "cell_type": "markdown",
   "metadata": {},
   "source": [
    "## Set Up"
   ]
  },
  {
   "cell_type": "markdown",
   "metadata": {},
   "source": [
    "Ensure that the required libraries are available by running the below code in the terminal before execution:\n",
    "- pip install pandas\n",
    "\n",
    "\n",
    "Execute the following in the jupyter notebook before execution to ensure that the required libraries are imported:"
   ]
  },
  {
   "cell_type": "code",
   "execution_count": 1,
   "metadata": {},
   "outputs": [],
   "source": [
    "import pandas as pd"
   ]
  },
  {
   "cell_type": "markdown",
   "metadata": {},
   "source": [
    "## Load Datasets"
   ]
  },
  {
   "cell_type": "code",
   "execution_count": 5,
   "metadata": {},
   "outputs": [
    {
     "name": "stdout",
     "output_type": "stream",
     "text": [
      "Air Quality Headers: ['financial year', 'lhd', 'CO ppm', 'NO pphm', 'NO2 pphm', 'OZONE pphm', 'PM10 µg/m³', 'SO2 pphm']\n",
      "\n",
      "Asthma Deaths Headers:\n",
      "['lhd', 'financial year', 'rate per 100,000 population']\n",
      "\n",
      "Asthma Emergency Department Presentations Headers:\n",
      "['financial year', 'lhd', 'Female rate per 100,000 population', 'Male rate per 100,000 population', 'Persons rate per 100,000 population']\n"
     ]
    }
   ],
   "source": [
    "# Load data into dataframes.\n",
    "df_air_quality = pd.read_csv('../air-quality/processed-financial-year.csv')\n",
    "df_asthma_deaths = pd.read_csv('../health-stats/asthma-deaths/processed.csv')\n",
    "df_asthma_edp = pd.read_csv('../health-stats/asthma-edp/processed.csv')\n",
    "\n",
    "# View Headers.\n",
    "print(\"Air Quality Headers:\", df_air_quality.columns.tolist())\n",
    "\n",
    "print(\"\\nAsthma Deaths Headers:\")\n",
    "print(df_asthma_deaths.columns.tolist())\n",
    "\n",
    "print(\"\\nAsthma Emergency Department Presentations Headers:\")\n",
    "print(df_asthma_edp.columns.tolist())"
   ]
  },
  {
   "cell_type": "markdown",
   "metadata": {},
   "source": [
    "## Data Manipulation"
   ]
  },
  {
   "cell_type": "markdown",
   "metadata": {},
   "source": [
    "Rename columns for clarity."
   ]
  },
  {
   "cell_type": "code",
   "execution_count": 9,
   "metadata": {},
   "outputs": [],
   "source": [
    "# Asthma Deaths\n",
    "df_asthma_deaths = df_asthma_deaths.rename(columns={\n",
    "    'rate per 100,000 population': 'asthma deaths [rate per 100,000]',\n",
    "})\n",
    "\n",
    "# Asthma Emergency Department Presentations\n",
    "df_asthma_edp = df_asthma_edp.rename(columns={\n",
    "    'Persons rate per 100,000 population': 'asthma edp [rate per 100,000]',\n",
    "})"
   ]
  },
  {
   "cell_type": "markdown",
   "metadata": {},
   "source": [
    "Drop Gendered Data."
   ]
  },
  {
   "cell_type": "code",
   "execution_count": 10,
   "metadata": {},
   "outputs": [
    {
     "data": {
      "text/html": [
       "<div>\n",
       "<style scoped>\n",
       "    .dataframe tbody tr th:only-of-type {\n",
       "        vertical-align: middle;\n",
       "    }\n",
       "\n",
       "    .dataframe tbody tr th {\n",
       "        vertical-align: top;\n",
       "    }\n",
       "\n",
       "    .dataframe thead th {\n",
       "        text-align: right;\n",
       "    }\n",
       "</style>\n",
       "<table border=\"1\" class=\"dataframe\">\n",
       "  <thead>\n",
       "    <tr style=\"text-align: right;\">\n",
       "      <th></th>\n",
       "      <th>financial year</th>\n",
       "      <th>lhd</th>\n",
       "      <th>asthma edp [rate per 100,000]</th>\n",
       "    </tr>\n",
       "  </thead>\n",
       "  <tbody>\n",
       "    <tr>\n",
       "      <th>0</th>\n",
       "      <td>2014/2015</td>\n",
       "      <td>Central Coast</td>\n",
       "      <td>366.6</td>\n",
       "    </tr>\n",
       "    <tr>\n",
       "      <th>1</th>\n",
       "      <td>2015/2016</td>\n",
       "      <td>Central Coast</td>\n",
       "      <td>380.9</td>\n",
       "    </tr>\n",
       "    <tr>\n",
       "      <th>2</th>\n",
       "      <td>2016/2017</td>\n",
       "      <td>Central Coast</td>\n",
       "      <td>378.4</td>\n",
       "    </tr>\n",
       "    <tr>\n",
       "      <th>3</th>\n",
       "      <td>2017/2018</td>\n",
       "      <td>Central Coast</td>\n",
       "      <td>368.2</td>\n",
       "    </tr>\n",
       "    <tr>\n",
       "      <th>4</th>\n",
       "      <td>2018/2019</td>\n",
       "      <td>Central Coast</td>\n",
       "      <td>378.8</td>\n",
       "    </tr>\n",
       "  </tbody>\n",
       "</table>\n",
       "</div>"
      ],
      "text/plain": [
       "  financial year            lhd  asthma edp [rate per 100,000]\n",
       "0      2014/2015  Central Coast                          366.6\n",
       "1      2015/2016  Central Coast                          380.9\n",
       "2      2016/2017  Central Coast                          378.4\n",
       "3      2017/2018  Central Coast                          368.2\n",
       "4      2018/2019  Central Coast                          378.8"
      ]
     },
     "execution_count": 10,
     "metadata": {},
     "output_type": "execute_result"
    }
   ],
   "source": [
    "# Drop columns with 'Male' or 'Female' in the header from df_asthma_edp\n",
    "df_asthma_edp = df_asthma_edp.drop(columns=[col for col in df_asthma_edp.columns if 'Male' in col or 'Female' in col])\n",
    "\n",
    "# View the updated dataframe\n",
    "df_asthma_edp.head()"
   ]
  },
  {
   "cell_type": "markdown",
   "metadata": {},
   "source": [
    "## Merge Datasets"
   ]
  },
  {
   "cell_type": "markdown",
   "metadata": {},
   "source": [
    "Merge dataframes on 'financial year' and 'lhd' - inner."
   ]
  },
  {
   "cell_type": "code",
   "execution_count": 14,
   "metadata": {},
   "outputs": [
    {
     "data": {
      "text/html": [
       "<div>\n",
       "<style scoped>\n",
       "    .dataframe tbody tr th:only-of-type {\n",
       "        vertical-align: middle;\n",
       "    }\n",
       "\n",
       "    .dataframe tbody tr th {\n",
       "        vertical-align: top;\n",
       "    }\n",
       "\n",
       "    .dataframe thead th {\n",
       "        text-align: right;\n",
       "    }\n",
       "</style>\n",
       "<table border=\"1\" class=\"dataframe\">\n",
       "  <thead>\n",
       "    <tr style=\"text-align: right;\">\n",
       "      <th></th>\n",
       "      <th>financial year</th>\n",
       "      <th>lhd</th>\n",
       "      <th>CO ppm</th>\n",
       "      <th>NO pphm</th>\n",
       "      <th>NO2 pphm</th>\n",
       "      <th>OZONE pphm</th>\n",
       "      <th>PM10 µg/m³</th>\n",
       "      <th>SO2 pphm</th>\n",
       "      <th>asthma deaths [rate per 100,000]</th>\n",
       "      <th>asthma edp [rate per 100,000]</th>\n",
       "    </tr>\n",
       "  </thead>\n",
       "  <tbody>\n",
       "    <tr>\n",
       "      <th>0</th>\n",
       "      <td>2014/2015</td>\n",
       "      <td>Central Coast</td>\n",
       "      <td>0.100000</td>\n",
       "      <td>0.233333</td>\n",
       "      <td>0.466667</td>\n",
       "      <td>1.791190</td>\n",
       "      <td>15.158333</td>\n",
       "      <td>0.050000</td>\n",
       "      <td>0.675</td>\n",
       "      <td>366.6</td>\n",
       "    </tr>\n",
       "    <tr>\n",
       "      <th>1</th>\n",
       "      <td>2015/2016</td>\n",
       "      <td>Central Coast</td>\n",
       "      <td>0.108333</td>\n",
       "      <td>0.216667</td>\n",
       "      <td>0.458333</td>\n",
       "      <td>1.691667</td>\n",
       "      <td>15.375000</td>\n",
       "      <td>0.058333</td>\n",
       "      <td>0.725</td>\n",
       "      <td>380.9</td>\n",
       "    </tr>\n",
       "    <tr>\n",
       "      <th>2</th>\n",
       "      <td>2016/2017</td>\n",
       "      <td>Central Coast</td>\n",
       "      <td>0.100000</td>\n",
       "      <td>0.216667</td>\n",
       "      <td>0.491667</td>\n",
       "      <td>1.775000</td>\n",
       "      <td>15.358333</td>\n",
       "      <td>0.058333</td>\n",
       "      <td>0.700</td>\n",
       "      <td>378.4</td>\n",
       "    </tr>\n",
       "    <tr>\n",
       "      <th>3</th>\n",
       "      <td>2017/2018</td>\n",
       "      <td>Central Coast</td>\n",
       "      <td>0.108333</td>\n",
       "      <td>0.175000</td>\n",
       "      <td>0.441667</td>\n",
       "      <td>1.861183</td>\n",
       "      <td>16.816667</td>\n",
       "      <td>0.075000</td>\n",
       "      <td>0.675</td>\n",
       "      <td>368.2</td>\n",
       "    </tr>\n",
       "    <tr>\n",
       "      <th>4</th>\n",
       "      <td>2018/2019</td>\n",
       "      <td>Central Coast</td>\n",
       "      <td>0.108333</td>\n",
       "      <td>0.216667</td>\n",
       "      <td>0.416667</td>\n",
       "      <td>1.733333</td>\n",
       "      <td>17.750000</td>\n",
       "      <td>0.091667</td>\n",
       "      <td>0.675</td>\n",
       "      <td>378.8</td>\n",
       "    </tr>\n",
       "  </tbody>\n",
       "</table>\n",
       "</div>"
      ],
      "text/plain": [
       "  financial year            lhd    CO ppm   NO pphm  NO2 pphm  OZONE pphm  \\\n",
       "0      2014/2015  Central Coast  0.100000  0.233333  0.466667    1.791190   \n",
       "1      2015/2016  Central Coast  0.108333  0.216667  0.458333    1.691667   \n",
       "2      2016/2017  Central Coast  0.100000  0.216667  0.491667    1.775000   \n",
       "3      2017/2018  Central Coast  0.108333  0.175000  0.441667    1.861183   \n",
       "4      2018/2019  Central Coast  0.108333  0.216667  0.416667    1.733333   \n",
       "\n",
       "   PM10 µg/m³  SO2 pphm  asthma deaths [rate per 100,000]  \\\n",
       "0   15.158333  0.050000                             0.675   \n",
       "1   15.375000  0.058333                             0.725   \n",
       "2   15.358333  0.058333                             0.700   \n",
       "3   16.816667  0.075000                             0.675   \n",
       "4   17.750000  0.091667                             0.675   \n",
       "\n",
       "   asthma edp [rate per 100,000]  \n",
       "0                          366.6  \n",
       "1                          380.9  \n",
       "2                          378.4  \n",
       "3                          368.2  \n",
       "4                          378.8  "
      ]
     },
     "execution_count": 14,
     "metadata": {},
     "output_type": "execute_result"
    }
   ],
   "source": [
    "# Merge dataframes on 'date' and 'lhd' columns.\n",
    "df_merged = df_air_quality\n",
    "df_merged = pd.merge(df_merged, df_asthma_deaths, on=['financial year', 'lhd'], how='inner')\n",
    "df_merged = pd.merge(df_merged, df_asthma_edp, on=['financial year', 'lhd'], how='inner')\n",
    "\n",
    "# Sort the merged dataframe by 'lhd' and 'financial year'.\n",
    "df_merged = df_merged.sort_values(by=['lhd', 'financial year'])\n",
    "\n",
    "# View headers of merged dataframe.\n",
    "df_merged.head()"
   ]
  },
  {
   "cell_type": "markdown",
   "metadata": {},
   "source": [
    "## Output Dataset"
   ]
  },
  {
   "cell_type": "code",
   "execution_count": 15,
   "metadata": {},
   "outputs": [],
   "source": [
    "df_merged.to_csv('data-persons.csv', index=False)"
   ]
  }
 ],
 "metadata": {
  "kernelspec": {
   "display_name": "base",
   "language": "python",
   "name": "python3"
  },
  "language_info": {
   "codemirror_mode": {
    "name": "ipython",
    "version": 3
   },
   "file_extension": ".py",
   "mimetype": "text/x-python",
   "name": "python",
   "nbconvert_exporter": "python",
   "pygments_lexer": "ipython3",
   "version": "3.12.4"
  }
 },
 "nbformat": 4,
 "nbformat_minor": 2
}
