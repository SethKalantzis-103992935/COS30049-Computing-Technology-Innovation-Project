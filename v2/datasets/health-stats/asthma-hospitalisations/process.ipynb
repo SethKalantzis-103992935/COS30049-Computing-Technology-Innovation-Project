{
 "cells": [
  {
   "cell_type": "markdown",
   "metadata": {},
   "source": [
    "# Asthma Hospitalisations | Processing"
   ]
  },
  {
   "cell_type": "markdown",
   "metadata": {},
   "source": [
    "## Set Up"
   ]
  },
  {
   "cell_type": "markdown",
   "metadata": {},
   "source": [
    "Ensure that the required libraries are available by running the below code in the terminal before execution:\n",
    "- pip install pandas\n",
    "\n",
    "\n",
    "Execute the following in the jupyter notebook before execution to ensure that the required libraries are imported:"
   ]
  },
  {
   "cell_type": "code",
   "execution_count": 4,
   "metadata": {},
   "outputs": [],
   "source": [
    "import pandas as pd"
   ]
  },
  {
   "cell_type": "markdown",
   "metadata": {},
   "source": [
    "## Load Dataset"
   ]
  },
  {
   "cell_type": "code",
   "execution_count": 5,
   "metadata": {},
   "outputs": [],
   "source": [
    "df = pd.read_csv('raw.csv')"
   ]
  },
  {
   "cell_type": "markdown",
   "metadata": {},
   "source": [
    "## Data Manipulation"
   ]
  },
  {
   "cell_type": "code",
   "execution_count": 6,
   "metadata": {},
   "outputs": [
    {
     "data": {
      "text/html": [
       "<div>\n",
       "<style scoped>\n",
       "    .dataframe tbody tr th:only-of-type {\n",
       "        vertical-align: middle;\n",
       "    }\n",
       "\n",
       "    .dataframe tbody tr th {\n",
       "        vertical-align: top;\n",
       "    }\n",
       "\n",
       "    .dataframe thead th {\n",
       "        text-align: right;\n",
       "    }\n",
       "</style>\n",
       "<table border=\"1\" class=\"dataframe\">\n",
       "  <thead>\n",
       "    <tr style=\"text-align: right;\">\n",
       "      <th></th>\n",
       "      <th>sex</th>\n",
       "      <th>lhd</th>\n",
       "      <th>financial year</th>\n",
       "      <th>rate per 100,000 population</th>\n",
       "    </tr>\n",
       "  </thead>\n",
       "  <tbody>\n",
       "    <tr>\n",
       "      <th>0</th>\n",
       "      <td>Males</td>\n",
       "      <td>Sydney</td>\n",
       "      <td>2001/2002</td>\n",
       "      <td>123.6</td>\n",
       "    </tr>\n",
       "    <tr>\n",
       "      <th>1</th>\n",
       "      <td>Males</td>\n",
       "      <td>Sydney</td>\n",
       "      <td>2002/2003</td>\n",
       "      <td>112.8</td>\n",
       "    </tr>\n",
       "    <tr>\n",
       "      <th>2</th>\n",
       "      <td>Males</td>\n",
       "      <td>Sydney</td>\n",
       "      <td>2003/2004</td>\n",
       "      <td>120.0</td>\n",
       "    </tr>\n",
       "    <tr>\n",
       "      <th>3</th>\n",
       "      <td>Males</td>\n",
       "      <td>Sydney</td>\n",
       "      <td>2004/2005</td>\n",
       "      <td>124.6</td>\n",
       "    </tr>\n",
       "    <tr>\n",
       "      <th>4</th>\n",
       "      <td>Males</td>\n",
       "      <td>Sydney</td>\n",
       "      <td>2005/2006</td>\n",
       "      <td>117.6</td>\n",
       "    </tr>\n",
       "  </tbody>\n",
       "</table>\n",
       "</div>"
      ],
      "text/plain": [
       "     sex     lhd financial year  rate per 100,000 population\n",
       "0  Males  Sydney      2001/2002                        123.6\n",
       "1  Males  Sydney      2002/2003                        112.8\n",
       "2  Males  Sydney      2003/2004                        120.0\n",
       "3  Males  Sydney      2004/2005                        124.6\n",
       "4  Males  Sydney      2005/2006                        117.6"
      ]
     },
     "execution_count": 6,
     "metadata": {},
     "output_type": "execute_result"
    }
   ],
   "source": [
    "# Rename columns to match Air Quality data set.\n",
    "df = df.rename(columns={'LHD': 'lhd', 'Period': 'financial year', 'Sex': 'sex'})                                    # Rename columns\n",
    "df.columns = df.columns.str.lower()                                                                                 # Lowercase column names\n",
    "\n",
    "# Remove ' LHD' for Local Health District values.\n",
    "df['lhd'] = df['lhd'].str.replace(' LHD', '')                                                                       # Remove ' LHD' from lhd column\n",
    "\n",
    "# Remove rows representing state-wide aggregated data.\n",
    "df = df.dropna(subset=['lhd'])                                                                                      # Remove rows with missing values in 'lhd' column\n",
    "df = df[~df['lhd'].str.contains('All')]                                                                             # Remove rows with 'All' in 'lhd' column\n",
    "\n",
    "# Remove columns holding Confidence Interval data.\n",
    "df = df.loc[:, ~df.columns.str.contains('% ci')]                                                                    # Remove columns with '% ci' in the name\n",
    "\n",
    "# Reformat 'financial year' values from XX/YY to XXXX/YYYY.\n",
    "df['financial year'] = df['financial year'].apply(                                                                  # Add '20' to the start of each year value\n",
    "    lambda x: f'20{x[:2]}/20{x[3:]}' if isinstance(x, str) else x\n",
    ")\n",
    "\n",
    "# Remove 'risk group' column.\n",
    "df = df.drop(columns=['risk group'])                                                                                 # Remove 'risk group' column\n",
    "\n",
    "# View the cleaned data.\n",
    "df.head()                                                                                                           # Display the first few rows of the cleaned data"
   ]
  },
  {
   "cell_type": "code",
   "execution_count": 7,
   "metadata": {},
   "outputs": [
    {
     "data": {
      "text/html": [
       "<div>\n",
       "<style scoped>\n",
       "    .dataframe tbody tr th:only-of-type {\n",
       "        vertical-align: middle;\n",
       "    }\n",
       "\n",
       "    .dataframe tbody tr th {\n",
       "        vertical-align: top;\n",
       "    }\n",
       "\n",
       "    .dataframe thead th {\n",
       "        text-align: right;\n",
       "    }\n",
       "</style>\n",
       "<table border=\"1\" class=\"dataframe\">\n",
       "  <thead>\n",
       "    <tr style=\"text-align: right;\">\n",
       "      <th></th>\n",
       "      <th>financial year</th>\n",
       "      <th>lhd</th>\n",
       "      <th>Female rate per 100,000 population</th>\n",
       "      <th>Male rate per 100,000 population</th>\n",
       "      <th>Persons rate per 100,000 population</th>\n",
       "    </tr>\n",
       "  </thead>\n",
       "  <tbody>\n",
       "    <tr>\n",
       "      <th>0</th>\n",
       "      <td>2001/2002</td>\n",
       "      <td>Central Coast</td>\n",
       "      <td>173.850</td>\n",
       "      <td>125.825</td>\n",
       "      <td>152.125000</td>\n",
       "    </tr>\n",
       "    <tr>\n",
       "      <th>1</th>\n",
       "      <td>2001/2002</td>\n",
       "      <td>Far West</td>\n",
       "      <td>325.500</td>\n",
       "      <td>245.375</td>\n",
       "      <td>298.275000</td>\n",
       "    </tr>\n",
       "    <tr>\n",
       "      <th>2</th>\n",
       "      <td>2001/2002</td>\n",
       "      <td>Hunter New England</td>\n",
       "      <td>158.725</td>\n",
       "      <td>122.150</td>\n",
       "      <td>130.033333</td>\n",
       "    </tr>\n",
       "    <tr>\n",
       "      <th>3</th>\n",
       "      <td>2001/2002</td>\n",
       "      <td>Illawarra Shoalhaven</td>\n",
       "      <td>84.425</td>\n",
       "      <td>76.475</td>\n",
       "      <td>81.550000</td>\n",
       "    </tr>\n",
       "    <tr>\n",
       "      <th>4</th>\n",
       "      <td>2001/2002</td>\n",
       "      <td>Mid North Coast</td>\n",
       "      <td>150.600</td>\n",
       "      <td>136.125</td>\n",
       "      <td>144.450000</td>\n",
       "    </tr>\n",
       "  </tbody>\n",
       "</table>\n",
       "</div>"
      ],
      "text/plain": [
       "  financial year                   lhd  Female rate per 100,000 population  \\\n",
       "0      2001/2002         Central Coast                             173.850   \n",
       "1      2001/2002              Far West                             325.500   \n",
       "2      2001/2002    Hunter New England                             158.725   \n",
       "3      2001/2002  Illawarra Shoalhaven                              84.425   \n",
       "4      2001/2002       Mid North Coast                             150.600   \n",
       "\n",
       "   Male rate per 100,000 population  Persons rate per 100,000 population  \n",
       "0                           125.825                           152.125000  \n",
       "1                           245.375                           298.275000  \n",
       "2                           122.150                           130.033333  \n",
       "3                            76.475                            81.550000  \n",
       "4                           136.125                           144.450000  "
      ]
     },
     "execution_count": 7,
     "metadata": {},
     "output_type": "execute_result"
    }
   ],
   "source": [
    "# Pivot the dataframe to have 'sex' as columns\n",
    "df = df.pivot_table(index=['financial year', 'lhd'], columns='sex', values='rate per 100,000 population').reset_index()\n",
    "\n",
    "# Rename the columns to match the desired format\n",
    "df.columns.name = None\n",
    "df = df.rename(columns={\n",
    "    'Persons': 'Persons rate per 100,000 population',\n",
    "    'Males': 'Male rate per 100,000 population', \n",
    "    'Females': 'Female rate per 100,000 population'\n",
    "})\n",
    "\n",
    "# View the DataFrame\n",
    "df.head() "
   ]
  },
  {
   "cell_type": "markdown",
   "metadata": {},
   "source": [
    "## Set Date Range"
   ]
  },
  {
   "cell_type": "markdown",
   "metadata": {},
   "source": [
    "Set the range of financial years from 2014/2015 to 2023/2024."
   ]
  },
  {
   "cell_type": "code",
   "execution_count": 9,
   "metadata": {},
   "outputs": [
    {
     "name": "stderr",
     "output_type": "stream",
     "text": [
      "C:\\Users\\matth\\AppData\\Local\\Temp\\ipykernel_8952\\186155949.py:21: FutureWarning: The behavior of DataFrame concatenation with empty or all-NA entries is deprecated. In a future version, this will no longer exclude empty or all-NA columns when determining the result dtypes. To retain the old behavior, exclude the relevant entries before the concat operation.\n",
      "  df = pd.concat([df, df_missing], ignore_index=True)                                                             # Concatenate the DataFrames.\n"
     ]
    },
    {
     "data": {
      "text/html": [
       "<div>\n",
       "<style scoped>\n",
       "    .dataframe tbody tr th:only-of-type {\n",
       "        vertical-align: middle;\n",
       "    }\n",
       "\n",
       "    .dataframe tbody tr th {\n",
       "        vertical-align: top;\n",
       "    }\n",
       "\n",
       "    .dataframe thead th {\n",
       "        text-align: right;\n",
       "    }\n",
       "</style>\n",
       "<table border=\"1\" class=\"dataframe\">\n",
       "  <thead>\n",
       "    <tr style=\"text-align: right;\">\n",
       "      <th></th>\n",
       "      <th>financial year</th>\n",
       "      <th>lhd</th>\n",
       "      <th>Female rate per 100,000 population</th>\n",
       "      <th>Male rate per 100,000 population</th>\n",
       "      <th>Persons rate per 100,000 population</th>\n",
       "    </tr>\n",
       "  </thead>\n",
       "  <tbody>\n",
       "    <tr>\n",
       "      <th>364</th>\n",
       "      <td>2019/2020</td>\n",
       "      <td>Western Sydney</td>\n",
       "      <td>173.450</td>\n",
       "      <td>99.850</td>\n",
       "      <td>138.325</td>\n",
       "    </tr>\n",
       "    <tr>\n",
       "      <th>365</th>\n",
       "      <td>2020/2021</td>\n",
       "      <td>Western Sydney</td>\n",
       "      <td>128.075</td>\n",
       "      <td>117.075</td>\n",
       "      <td>123.325</td>\n",
       "    </tr>\n",
       "    <tr>\n",
       "      <th>366</th>\n",
       "      <td>2021/2022</td>\n",
       "      <td>Western Sydney</td>\n",
       "      <td>103.775</td>\n",
       "      <td>91.500</td>\n",
       "      <td>98.450</td>\n",
       "    </tr>\n",
       "    <tr>\n",
       "      <th>367</th>\n",
       "      <td>2022/2023</td>\n",
       "      <td>Western Sydney</td>\n",
       "      <td>NaN</td>\n",
       "      <td>NaN</td>\n",
       "      <td>NaN</td>\n",
       "    </tr>\n",
       "    <tr>\n",
       "      <th>368</th>\n",
       "      <td>2023/2024</td>\n",
       "      <td>Western Sydney</td>\n",
       "      <td>NaN</td>\n",
       "      <td>NaN</td>\n",
       "      <td>NaN</td>\n",
       "    </tr>\n",
       "  </tbody>\n",
       "</table>\n",
       "</div>"
      ],
      "text/plain": [
       "    financial year             lhd  Female rate per 100,000 population  \\\n",
       "364      2019/2020  Western Sydney                             173.450   \n",
       "365      2020/2021  Western Sydney                             128.075   \n",
       "366      2021/2022  Western Sydney                             103.775   \n",
       "367      2022/2023  Western Sydney                                 NaN   \n",
       "368      2023/2024  Western Sydney                                 NaN   \n",
       "\n",
       "     Male rate per 100,000 population  Persons rate per 100,000 population  \n",
       "364                            99.850                              138.325  \n",
       "365                           117.075                              123.325  \n",
       "366                            91.500                               98.450  \n",
       "367                               NaN                                  NaN  \n",
       "368                               NaN                                  NaN  "
      ]
     },
     "execution_count": 9,
     "metadata": {},
     "output_type": "execute_result"
    }
   ],
   "source": [
    "# Add rows for each LHD for the missing years until 2023/2024.\n",
    "missing_rows = []                                                                                                   # Create a list to store the missing rows.\n",
    "lhds = df['lhd'].unique()                                                                                           # Get the unique values in the 'lhd' column.\n",
    "years = [f\"{year}/{year + 1}\" for year in range(2014, 2024)]                                                        # Create a list of years from 2014/2015 to 2023/2024.\n",
    "\n",
    "for lhd in lhds:\n",
    "    for year in years:\n",
    "        if not ((df['lhd'] == lhd) & (df['financial year'] == year)).any():                                         # Check if the row is missing.\n",
    "            missing_rows.append({                                                                                   # Append the missing row to the list.\n",
    "                'lhd': lhd, \n",
    "                'financial year': year, \n",
    "                'Female rate per 100,000 population': None,\n",
    "                'Male rate per 100,000 population': None,\n",
    "                'Persons rate per 100,000 population': None,\n",
    "            })          \n",
    "\n",
    "# Create a DataFrame from the missing rows and concatenate it to the original DataFrame\n",
    "if missing_rows:\n",
    "    df_missing = pd.DataFrame(missing_rows)                                                                         # Create a DataFrame from the missing rows.\n",
    "    df = pd.concat([df, df_missing], ignore_index=True)                                                             # Concatenate the DataFrames.\n",
    "\n",
    "# Sort the DataFrame by 'lhd' and 'financial year'.\n",
    "df = df.sort_values(by=['lhd', 'financial year']).reset_index(drop=True)                                           # Sort the DataFrame by 'lhd' and 'financial year'.\n",
    "\n",
    "# View the DataFrame.\n",
    "df.tail()                                                                                                          # View the last 5 rows of the DataFrame."
   ]
  },
  {
   "cell_type": "markdown",
   "metadata": {},
   "source": [
    "Fill missing values using linear interpolation."
   ]
  },
  {
   "cell_type": "code",
   "execution_count": 10,
   "metadata": {},
   "outputs": [],
   "source": [
    "df['Female rate per 100,000 population'] = df['Female rate per 100,000 population'].interpolate()                                       # Fill missing values using linear interpolation.\n",
    "df['Male rate per 100,000 population'] = df['Male rate per 100,000 population'].interpolate()                                        # Fill missing values using linear interpolation.\n",
    "df['Persons rate per 100,000 population'] = df['Persons rate per 100,000 population'].interpolate()                                     # Fill missing values using linear interpolation."
   ]
  },
  {
   "cell_type": "markdown",
   "metadata": {},
   "source": [
    "## Output Processed Dataset"
   ]
  },
  {
   "cell_type": "code",
   "execution_count": 11,
   "metadata": {},
   "outputs": [
    {
     "data": {
      "text/html": [
       "<div>\n",
       "<style scoped>\n",
       "    .dataframe tbody tr th:only-of-type {\n",
       "        vertical-align: middle;\n",
       "    }\n",
       "\n",
       "    .dataframe tbody tr th {\n",
       "        vertical-align: top;\n",
       "    }\n",
       "\n",
       "    .dataframe thead th {\n",
       "        text-align: right;\n",
       "    }\n",
       "</style>\n",
       "<table border=\"1\" class=\"dataframe\">\n",
       "  <thead>\n",
       "    <tr style=\"text-align: right;\">\n",
       "      <th></th>\n",
       "      <th>financial year</th>\n",
       "      <th>lhd</th>\n",
       "      <th>Female rate per 100,000 population</th>\n",
       "      <th>Male rate per 100,000 population</th>\n",
       "      <th>Persons rate per 100,000 population</th>\n",
       "    </tr>\n",
       "  </thead>\n",
       "  <tbody>\n",
       "    <tr>\n",
       "      <th>0</th>\n",
       "      <td>2001/2002</td>\n",
       "      <td>Central Coast</td>\n",
       "      <td>173.850</td>\n",
       "      <td>125.825</td>\n",
       "      <td>152.125</td>\n",
       "    </tr>\n",
       "    <tr>\n",
       "      <th>1</th>\n",
       "      <td>2002/2003</td>\n",
       "      <td>Central Coast</td>\n",
       "      <td>149.150</td>\n",
       "      <td>111.575</td>\n",
       "      <td>131.550</td>\n",
       "    </tr>\n",
       "    <tr>\n",
       "      <th>2</th>\n",
       "      <td>2003/2004</td>\n",
       "      <td>Central Coast</td>\n",
       "      <td>143.775</td>\n",
       "      <td>96.925</td>\n",
       "      <td>122.950</td>\n",
       "    </tr>\n",
       "    <tr>\n",
       "      <th>3</th>\n",
       "      <td>2004/2005</td>\n",
       "      <td>Central Coast</td>\n",
       "      <td>120.325</td>\n",
       "      <td>121.025</td>\n",
       "      <td>121.750</td>\n",
       "    </tr>\n",
       "    <tr>\n",
       "      <th>4</th>\n",
       "      <td>2005/2006</td>\n",
       "      <td>Central Coast</td>\n",
       "      <td>126.650</td>\n",
       "      <td>109.050</td>\n",
       "      <td>119.550</td>\n",
       "    </tr>\n",
       "  </tbody>\n",
       "</table>\n",
       "</div>"
      ],
      "text/plain": [
       "  financial year            lhd  Female rate per 100,000 population  \\\n",
       "0      2001/2002  Central Coast                             173.850   \n",
       "1      2002/2003  Central Coast                             149.150   \n",
       "2      2003/2004  Central Coast                             143.775   \n",
       "3      2004/2005  Central Coast                             120.325   \n",
       "4      2005/2006  Central Coast                             126.650   \n",
       "\n",
       "   Male rate per 100,000 population  Persons rate per 100,000 population  \n",
       "0                           125.825                              152.125  \n",
       "1                           111.575                              131.550  \n",
       "2                            96.925                              122.950  \n",
       "3                           121.025                              121.750  \n",
       "4                           109.050                              119.550  "
      ]
     },
     "execution_count": 11,
     "metadata": {},
     "output_type": "execute_result"
    }
   ],
   "source": [
    "# Save the processed data to a new CSV file.\n",
    "df.to_csv('processed.csv', index=False)                                                                            # Save the processed data to a new CSV file.\n",
    "\n",
    "# View the DataFrame.\n",
    "df.head()                                                                                                          # View the first 5 rows of the DataFrame."
   ]
  }
 ],
 "metadata": {
  "kernelspec": {
   "display_name": "base",
   "language": "python",
   "name": "python3"
  },
  "language_info": {
   "codemirror_mode": {
    "name": "ipython",
    "version": 3
   },
   "file_extension": ".py",
   "mimetype": "text/x-python",
   "name": "python",
   "nbconvert_exporter": "python",
   "pygments_lexer": "ipython3",
   "version": "3.12.4"
  }
 },
 "nbformat": 4,
 "nbformat_minor": 2
}
