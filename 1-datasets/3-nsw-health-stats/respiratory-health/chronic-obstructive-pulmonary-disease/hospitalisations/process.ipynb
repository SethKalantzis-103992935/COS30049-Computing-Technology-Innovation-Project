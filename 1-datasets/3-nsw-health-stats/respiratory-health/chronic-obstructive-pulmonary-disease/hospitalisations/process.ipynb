{
 "cells": [
  {
   "cell_type": "markdown",
   "metadata": {},
   "source": [
    "# COPD Hospitalisations | Processing"
   ]
  },
  {
   "cell_type": "markdown",
   "metadata": {},
   "source": [
    "The main tasks completed to clean and preprocess this dataset were:\n",
    "\n",
    "**Data Manipulation**\n",
    "1. Rename columns.\n",
    "2. Reformat 'financial year' values from XX/YY to XXXX/YYYY\n",
    "3. Remove 'LHD' from LHD name values.\n",
    "4. Remove 'All' data (Representing a state-wide average).\n",
    "5. Remove seperate age groups, keeping only rows with \"All Ages\"\n",
    "6. Remove columns holding Confidence Interval data.\n",
    "7. Remove rows holding 'Persons' data in the sex column (Representing a genderless rate per 100,000).\n",
    "8. Remove 'risk group' column."
   ]
  },
  {
   "cell_type": "markdown",
   "metadata": {},
   "source": [
    "## Set Up\n",
    "\n",
    "Ensure that the required libraries are available by running the below code in the terminal before execution:\n",
    "- pip install pandas\n",
    "\n",
    "\n",
    "Execute the following in the jupyter notebook before execution to ensure that the required libraries are imported:"
   ]
  },
  {
   "cell_type": "code",
   "execution_count": 1,
   "metadata": {},
   "outputs": [],
   "source": [
    "import pandas as pd"
   ]
  },
  {
   "cell_type": "markdown",
   "metadata": {},
   "source": [
    "## Load Dataset"
   ]
  },
  {
   "cell_type": "code",
   "execution_count": 2,
   "metadata": {},
   "outputs": [
    {
     "data": {
      "text/html": [
       "<div>\n",
       "<style scoped>\n",
       "    .dataframe tbody tr th:only-of-type {\n",
       "        vertical-align: middle;\n",
       "    }\n",
       "\n",
       "    .dataframe tbody tr th {\n",
       "        vertical-align: top;\n",
       "    }\n",
       "\n",
       "    .dataframe thead th {\n",
       "        text-align: right;\n",
       "    }\n",
       "</style>\n",
       "<table border=\"1\" class=\"dataframe\">\n",
       "  <thead>\n",
       "    <tr style=\"text-align: right;\">\n",
       "      <th></th>\n",
       "      <th>Risk group</th>\n",
       "      <th>Sex</th>\n",
       "      <th>LHD</th>\n",
       "      <th>Period</th>\n",
       "      <th>Rate per 100,000 population</th>\n",
       "      <th>LL 95% CI</th>\n",
       "      <th>UL 95% CI</th>\n",
       "    </tr>\n",
       "  </thead>\n",
       "  <tbody>\n",
       "    <tr>\n",
       "      <th>0</th>\n",
       "      <td>35-64 years</td>\n",
       "      <td>Males</td>\n",
       "      <td>Sydney LHD</td>\n",
       "      <td>01/02</td>\n",
       "      <td>119.6</td>\n",
       "      <td>98.1</td>\n",
       "      <td>144.3</td>\n",
       "    </tr>\n",
       "    <tr>\n",
       "      <th>1</th>\n",
       "      <td>35-64 years</td>\n",
       "      <td>Males</td>\n",
       "      <td>Sydney LHD</td>\n",
       "      <td>02/03</td>\n",
       "      <td>126.9</td>\n",
       "      <td>104.7</td>\n",
       "      <td>152.2</td>\n",
       "    </tr>\n",
       "    <tr>\n",
       "      <th>2</th>\n",
       "      <td>35-64 years</td>\n",
       "      <td>Males</td>\n",
       "      <td>Sydney LHD</td>\n",
       "      <td>03/04</td>\n",
       "      <td>127.4</td>\n",
       "      <td>105.3</td>\n",
       "      <td>152.6</td>\n",
       "    </tr>\n",
       "    <tr>\n",
       "      <th>3</th>\n",
       "      <td>35-64 years</td>\n",
       "      <td>Males</td>\n",
       "      <td>Sydney LHD</td>\n",
       "      <td>04/05</td>\n",
       "      <td>151.4</td>\n",
       "      <td>127.5</td>\n",
       "      <td>178.4</td>\n",
       "    </tr>\n",
       "    <tr>\n",
       "      <th>4</th>\n",
       "      <td>35-64 years</td>\n",
       "      <td>Males</td>\n",
       "      <td>Sydney LHD</td>\n",
       "      <td>05/06</td>\n",
       "      <td>125.1</td>\n",
       "      <td>103.9</td>\n",
       "      <td>149.4</td>\n",
       "    </tr>\n",
       "    <tr>\n",
       "      <th>...</th>\n",
       "      <td>...</td>\n",
       "      <td>...</td>\n",
       "      <td>...</td>\n",
       "      <td>...</td>\n",
       "      <td>...</td>\n",
       "      <td>...</td>\n",
       "      <td>...</td>\n",
       "    </tr>\n",
       "    <tr>\n",
       "      <th>6055</th>\n",
       "      <td>All ages</td>\n",
       "      <td>Persons</td>\n",
       "      <td>All LHDs</td>\n",
       "      <td>18/19</td>\n",
       "      <td>225.8</td>\n",
       "      <td>222.8</td>\n",
       "      <td>228.8</td>\n",
       "    </tr>\n",
       "    <tr>\n",
       "      <th>6056</th>\n",
       "      <td>All ages</td>\n",
       "      <td>Persons</td>\n",
       "      <td>All LHDs</td>\n",
       "      <td>19/20</td>\n",
       "      <td>205.1</td>\n",
       "      <td>202.3</td>\n",
       "      <td>207.9</td>\n",
       "    </tr>\n",
       "    <tr>\n",
       "      <th>6057</th>\n",
       "      <td>All ages</td>\n",
       "      <td>Persons</td>\n",
       "      <td>All LHDs</td>\n",
       "      <td>20/21</td>\n",
       "      <td>145.6</td>\n",
       "      <td>143.3</td>\n",
       "      <td>148</td>\n",
       "    </tr>\n",
       "    <tr>\n",
       "      <th>6058</th>\n",
       "      <td>All ages</td>\n",
       "      <td>Persons</td>\n",
       "      <td>All LHDs</td>\n",
       "      <td>21/22</td>\n",
       "      <td>133.4</td>\n",
       "      <td>131.2</td>\n",
       "      <td>135.6</td>\n",
       "    </tr>\n",
       "    <tr>\n",
       "      <th>6059</th>\n",
       "      <td>&gt;&gt;&gt;&gt;&gt;&gt;&gt; 38db44f0dfafcd159c84fd6713a8ba6d4914d8c1</td>\n",
       "      <td>NaN</td>\n",
       "      <td>NaN</td>\n",
       "      <td>NaN</td>\n",
       "      <td>NaN</td>\n",
       "      <td>NaN</td>\n",
       "      <td>NaN</td>\n",
       "    </tr>\n",
       "  </tbody>\n",
       "</table>\n",
       "<p>6060 rows × 7 columns</p>\n",
       "</div>"
      ],
      "text/plain": [
       "                                            Risk group      Sex         LHD  \\\n",
       "0                                          35-64 years    Males  Sydney LHD   \n",
       "1                                          35-64 years    Males  Sydney LHD   \n",
       "2                                          35-64 years    Males  Sydney LHD   \n",
       "3                                          35-64 years    Males  Sydney LHD   \n",
       "4                                          35-64 years    Males  Sydney LHD   \n",
       "...                                                ...      ...         ...   \n",
       "6055                                          All ages  Persons    All LHDs   \n",
       "6056                                          All ages  Persons    All LHDs   \n",
       "6057                                          All ages  Persons    All LHDs   \n",
       "6058                                          All ages  Persons    All LHDs   \n",
       "6059  >>>>>>> 38db44f0dfafcd159c84fd6713a8ba6d4914d8c1      NaN         NaN   \n",
       "\n",
       "     Period Rate per 100,000 population LL 95% CI UL 95% CI  \n",
       "0     01/02                       119.6      98.1     144.3  \n",
       "1     02/03                       126.9     104.7     152.2  \n",
       "2     03/04                       127.4     105.3     152.6  \n",
       "3     04/05                       151.4     127.5     178.4  \n",
       "4     05/06                       125.1     103.9     149.4  \n",
       "...     ...                         ...       ...       ...  \n",
       "6055  18/19                       225.8     222.8     228.8  \n",
       "6056  19/20                       205.1     202.3     207.9  \n",
       "6057  20/21                       145.6     143.3       148  \n",
       "6058  21/22                       133.4     131.2     135.6  \n",
       "6059    NaN                         NaN       NaN       NaN  \n",
       "\n",
       "[6060 rows x 7 columns]"
      ]
     },
     "execution_count": 2,
     "metadata": {},
     "output_type": "execute_result"
    }
   ],
   "source": [
    "# File path.\n",
    "file_path = 'data-raw.csv'\n",
    "\n",
    "# Read the file.\n",
    "df = pd.read_csv(file_path)\n",
    "\n",
    "df"
   ]
  },
  {
   "cell_type": "markdown",
   "metadata": {},
   "source": [
    "## Data Manipulation"
   ]
  },
  {
   "cell_type": "markdown",
   "metadata": {},
   "source": [
    "Rename columns to match Air Quality data set."
   ]
  },
  {
   "cell_type": "code",
   "execution_count": 3,
   "metadata": {},
   "outputs": [],
   "source": [
    "# Rename columns.\n",
    "df = df.rename(columns={\n",
    "    'LHD': 'lhd',\n",
    "    'Period': 'financial year'\n",
    "})\n",
    "\n",
    "# Set column names to lower case.\n",
    "df.columns = df.columns.str.lower()"
   ]
  },
  {
   "cell_type": "markdown",
   "metadata": {},
   "source": [
    "Make Year data in 'financial year' column more verbose."
   ]
  },
  {
   "cell_type": "code",
   "execution_count": 4,
   "metadata": {},
   "outputs": [],
   "source": [
    "# Reformat 'financial year' values from XX/YY to XXXX/YYYY.\n",
    "df['financial year'] = df['financial year'].apply(\n",
    "    lambda x: f'20{x[:2]}/20{x[3:]}' if isinstance(x, str) else x\n",
    ")"
   ]
  },
  {
   "cell_type": "markdown",
   "metadata": {},
   "source": [
    "Remove LHD from Local Area Districts values."
   ]
  },
  {
   "cell_type": "code",
   "execution_count": 5,
   "metadata": {},
   "outputs": [],
   "source": [
    "# Remove ' LHD' from the 'lhd' column.\n",
    "df['lhd'] = df['lhd'].str.replace(' LHD', '')"
   ]
  },
  {
   "cell_type": "markdown",
   "metadata": {},
   "source": [
    "Remove rows representing state-wide aggregated date."
   ]
  },
  {
   "cell_type": "code",
   "execution_count": 7,
   "metadata": {},
   "outputs": [],
   "source": [
    "# Remove rows with NaN in the 'lhd' column.\n",
    "df = df.dropna(subset=['lhd'])\n",
    "\n",
    "# Remove rows with 'All' in the 'lhd' column.\n",
    "df = df[~df['lhd'].str.contains('All')]"
   ]
  },
  {
   "cell_type": "markdown",
   "metadata": {},
   "source": [
    "Remove rows representing an aggregate of all risk groups within a Local Health District."
   ]
  },
  {
   "cell_type": "code",
   "execution_count": 9,
   "metadata": {},
   "outputs": [
    {
     "data": {
      "text/html": [
       "<div>\n",
       "<style scoped>\n",
       "    .dataframe tbody tr th:only-of-type {\n",
       "        vertical-align: middle;\n",
       "    }\n",
       "\n",
       "    .dataframe tbody tr th {\n",
       "        vertical-align: top;\n",
       "    }\n",
       "\n",
       "    .dataframe thead th {\n",
       "        text-align: right;\n",
       "    }\n",
       "</style>\n",
       "<table border=\"1\" class=\"dataframe\">\n",
       "  <thead>\n",
       "    <tr style=\"text-align: right;\">\n",
       "      <th></th>\n",
       "      <th>risk group</th>\n",
       "      <th>sex</th>\n",
       "      <th>lhd</th>\n",
       "      <th>financial year</th>\n",
       "      <th>rate per 100,000 population</th>\n",
       "      <th>ll 95% ci</th>\n",
       "      <th>ul 95% ci</th>\n",
       "    </tr>\n",
       "  </thead>\n",
       "  <tbody>\n",
       "    <tr>\n",
       "      <th>2020</th>\n",
       "      <td>All ages</td>\n",
       "      <td>Males</td>\n",
       "      <td>Sydney</td>\n",
       "      <td>2001/2002</td>\n",
       "      <td>313.6</td>\n",
       "      <td>289.8</td>\n",
       "      <td>338.8</td>\n",
       "    </tr>\n",
       "    <tr>\n",
       "      <th>2021</th>\n",
       "      <td>All ages</td>\n",
       "      <td>Males</td>\n",
       "      <td>Sydney</td>\n",
       "      <td>2002/2003</td>\n",
       "      <td>282.3</td>\n",
       "      <td>259.4</td>\n",
       "      <td>306.5</td>\n",
       "    </tr>\n",
       "    <tr>\n",
       "      <th>2022</th>\n",
       "      <td>All ages</td>\n",
       "      <td>Males</td>\n",
       "      <td>Sydney</td>\n",
       "      <td>2003/2004</td>\n",
       "      <td>298.8</td>\n",
       "      <td>274.3</td>\n",
       "      <td>324.7</td>\n",
       "    </tr>\n",
       "    <tr>\n",
       "      <th>2023</th>\n",
       "      <td>All ages</td>\n",
       "      <td>Males</td>\n",
       "      <td>Sydney</td>\n",
       "      <td>2004/2005</td>\n",
       "      <td>326.7</td>\n",
       "      <td>301.3</td>\n",
       "      <td>353.5</td>\n",
       "    </tr>\n",
       "    <tr>\n",
       "      <th>2024</th>\n",
       "      <td>All ages</td>\n",
       "      <td>Males</td>\n",
       "      <td>Sydney</td>\n",
       "      <td>2005/2006</td>\n",
       "      <td>283.7</td>\n",
       "      <td>261.6</td>\n",
       "      <td>307.2</td>\n",
       "    </tr>\n",
       "    <tr>\n",
       "      <th>...</th>\n",
       "      <td>...</td>\n",
       "      <td>...</td>\n",
       "      <td>...</td>\n",
       "      <td>...</td>\n",
       "      <td>...</td>\n",
       "      <td>...</td>\n",
       "      <td>...</td>\n",
       "    </tr>\n",
       "    <tr>\n",
       "      <th>6033</th>\n",
       "      <td>All ages</td>\n",
       "      <td>Persons</td>\n",
       "      <td>Far West</td>\n",
       "      <td>2017/2018</td>\n",
       "      <td>486</td>\n",
       "      <td>421</td>\n",
       "      <td>559.3</td>\n",
       "    </tr>\n",
       "    <tr>\n",
       "      <th>6034</th>\n",
       "      <td>All ages</td>\n",
       "      <td>Persons</td>\n",
       "      <td>Far West</td>\n",
       "      <td>2018/2019</td>\n",
       "      <td>479.9</td>\n",
       "      <td>414.8</td>\n",
       "      <td>553.4</td>\n",
       "    </tr>\n",
       "    <tr>\n",
       "      <th>6035</th>\n",
       "      <td>All ages</td>\n",
       "      <td>Persons</td>\n",
       "      <td>Far West</td>\n",
       "      <td>2019/2020</td>\n",
       "      <td>425.6</td>\n",
       "      <td>365.9</td>\n",
       "      <td>493.5</td>\n",
       "    </tr>\n",
       "    <tr>\n",
       "      <th>6036</th>\n",
       "      <td>All ages</td>\n",
       "      <td>Persons</td>\n",
       "      <td>Far West</td>\n",
       "      <td>2020/2021</td>\n",
       "      <td>351</td>\n",
       "      <td>296.1</td>\n",
       "      <td>414.1</td>\n",
       "    </tr>\n",
       "    <tr>\n",
       "      <th>6037</th>\n",
       "      <td>All ages</td>\n",
       "      <td>Persons</td>\n",
       "      <td>Far West</td>\n",
       "      <td>2021/2022</td>\n",
       "      <td>290.6</td>\n",
       "      <td>242</td>\n",
       "      <td>347.4</td>\n",
       "    </tr>\n",
       "  </tbody>\n",
       "</table>\n",
       "<p>1890 rows × 7 columns</p>\n",
       "</div>"
      ],
      "text/plain": [
       "     risk group      sex       lhd financial year rate per 100,000 population  \\\n",
       "2020   All ages    Males    Sydney      2001/2002                       313.6   \n",
       "2021   All ages    Males    Sydney      2002/2003                       282.3   \n",
       "2022   All ages    Males    Sydney      2003/2004                       298.8   \n",
       "2023   All ages    Males    Sydney      2004/2005                       326.7   \n",
       "2024   All ages    Males    Sydney      2005/2006                       283.7   \n",
       "...         ...      ...       ...            ...                         ...   \n",
       "6033   All ages  Persons  Far West      2017/2018                         486   \n",
       "6034   All ages  Persons  Far West      2018/2019                       479.9   \n",
       "6035   All ages  Persons  Far West      2019/2020                       425.6   \n",
       "6036   All ages  Persons  Far West      2020/2021                         351   \n",
       "6037   All ages  Persons  Far West      2021/2022                       290.6   \n",
       "\n",
       "     ll 95% ci ul 95% ci  \n",
       "2020     289.8     338.8  \n",
       "2021     259.4     306.5  \n",
       "2022     274.3     324.7  \n",
       "2023     301.3     353.5  \n",
       "2024     261.6     307.2  \n",
       "...        ...       ...  \n",
       "6033       421     559.3  \n",
       "6034     414.8     553.4  \n",
       "6035     365.9     493.5  \n",
       "6036     296.1     414.1  \n",
       "6037       242     347.4  \n",
       "\n",
       "[1890 rows x 7 columns]"
      ]
     },
     "execution_count": 9,
     "metadata": {},
     "output_type": "execute_result"
    }
   ],
   "source": [
    "# Remove rows with NaN in the 'risk group' column.\n",
    "df = df.dropna(subset=['risk group'])\n",
    "\n",
    "# Remove rows with 'All ages' in the 'risk group' column.\n",
    "df = df[df['risk group'].str.contains('All ages')]\n",
    "\n",
    "df"
   ]
  },
  {
   "cell_type": "markdown",
   "metadata": {},
   "source": [
    "Remove rows holding Confidence Interval data."
   ]
  },
  {
   "cell_type": "code",
   "execution_count": 10,
   "metadata": {},
   "outputs": [],
   "source": [
    "# Drop columns with '% ci' in the header\n",
    "df = df.loc[:, ~df.columns.str.contains('% ci')]"
   ]
  },
  {
   "cell_type": "markdown",
   "metadata": {},
   "source": [
    "Remove rows holding \"Persons\" data in the sex column."
   ]
  },
  {
   "cell_type": "code",
   "execution_count": 11,
   "metadata": {},
   "outputs": [],
   "source": [
    "# Drop rows with 'Persons' in the 'sex' column.\n",
    "df = df[~df['sex'].str.contains('Persons')]"
   ]
  },
  {
   "cell_type": "markdown",
   "metadata": {},
   "source": [
    "Remove the \"Risk Group\" column"
   ]
  },
  {
   "cell_type": "code",
   "execution_count": 12,
   "metadata": {},
   "outputs": [],
   "source": [
    "# Drop the 'risk group' column.\n",
    "df = df.drop(columns=['risk group'])"
   ]
  },
  {
   "cell_type": "markdown",
   "metadata": {},
   "source": [
    "Drop rows where column titles had been entered as data."
   ]
  },
  {
   "cell_type": "code",
   "execution_count": 13,
   "metadata": {},
   "outputs": [],
   "source": [
    "# Drop rows where column title had been entered as data.\n",
    "df = df[~df['sex'].str.contains('Sex')]"
   ]
  },
  {
   "cell_type": "markdown",
   "metadata": {},
   "source": [
    "## Output Processed Dataset"
   ]
  },
  {
   "cell_type": "code",
   "execution_count": 14,
   "metadata": {},
   "outputs": [],
   "source": [
    "# File path.\n",
    "file_path_output = 'data-processed.csv'\n",
    "\n",
    "# Save the file.\n",
    "df.to_csv(file_path_output, index=False)"
   ]
  },
  {
   "cell_type": "markdown",
   "metadata": {},
   "source": [
    "## View Dataset"
   ]
  },
  {
   "cell_type": "code",
   "execution_count": 15,
   "metadata": {},
   "outputs": [
    {
     "data": {
      "text/html": [
       "<div>\n",
       "<style scoped>\n",
       "    .dataframe tbody tr th:only-of-type {\n",
       "        vertical-align: middle;\n",
       "    }\n",
       "\n",
       "    .dataframe tbody tr th {\n",
       "        vertical-align: top;\n",
       "    }\n",
       "\n",
       "    .dataframe thead th {\n",
       "        text-align: right;\n",
       "    }\n",
       "</style>\n",
       "<table border=\"1\" class=\"dataframe\">\n",
       "  <thead>\n",
       "    <tr style=\"text-align: right;\">\n",
       "      <th></th>\n",
       "      <th>sex</th>\n",
       "      <th>lhd</th>\n",
       "      <th>financial year</th>\n",
       "      <th>rate per 100,000 population</th>\n",
       "    </tr>\n",
       "  </thead>\n",
       "  <tbody>\n",
       "    <tr>\n",
       "      <th>2020</th>\n",
       "      <td>Males</td>\n",
       "      <td>Sydney</td>\n",
       "      <td>2001/2002</td>\n",
       "      <td>313.6</td>\n",
       "    </tr>\n",
       "    <tr>\n",
       "      <th>2021</th>\n",
       "      <td>Males</td>\n",
       "      <td>Sydney</td>\n",
       "      <td>2002/2003</td>\n",
       "      <td>282.3</td>\n",
       "    </tr>\n",
       "    <tr>\n",
       "      <th>2022</th>\n",
       "      <td>Males</td>\n",
       "      <td>Sydney</td>\n",
       "      <td>2003/2004</td>\n",
       "      <td>298.8</td>\n",
       "    </tr>\n",
       "    <tr>\n",
       "      <th>2023</th>\n",
       "      <td>Males</td>\n",
       "      <td>Sydney</td>\n",
       "      <td>2004/2005</td>\n",
       "      <td>326.7</td>\n",
       "    </tr>\n",
       "    <tr>\n",
       "      <th>2024</th>\n",
       "      <td>Males</td>\n",
       "      <td>Sydney</td>\n",
       "      <td>2005/2006</td>\n",
       "      <td>283.7</td>\n",
       "    </tr>\n",
       "    <tr>\n",
       "      <th>...</th>\n",
       "      <td>...</td>\n",
       "      <td>...</td>\n",
       "      <td>...</td>\n",
       "      <td>...</td>\n",
       "    </tr>\n",
       "    <tr>\n",
       "      <th>5697</th>\n",
       "      <td>Females</td>\n",
       "      <td>Far West</td>\n",
       "      <td>2017/2018</td>\n",
       "      <td>450.9</td>\n",
       "    </tr>\n",
       "    <tr>\n",
       "      <th>5698</th>\n",
       "      <td>Females</td>\n",
       "      <td>Far West</td>\n",
       "      <td>2018/2019</td>\n",
       "      <td>408</td>\n",
       "    </tr>\n",
       "    <tr>\n",
       "      <th>5699</th>\n",
       "      <td>Females</td>\n",
       "      <td>Far West</td>\n",
       "      <td>2019/2020</td>\n",
       "      <td>413.9</td>\n",
       "    </tr>\n",
       "    <tr>\n",
       "      <th>5700</th>\n",
       "      <td>Females</td>\n",
       "      <td>Far West</td>\n",
       "      <td>2020/2021</td>\n",
       "      <td>242.2</td>\n",
       "    </tr>\n",
       "    <tr>\n",
       "      <th>5701</th>\n",
       "      <td>Females</td>\n",
       "      <td>Far West</td>\n",
       "      <td>2021/2022</td>\n",
       "      <td>191.5</td>\n",
       "    </tr>\n",
       "  </tbody>\n",
       "</table>\n",
       "<p>1260 rows × 4 columns</p>\n",
       "</div>"
      ],
      "text/plain": [
       "          sex       lhd financial year rate per 100,000 population\n",
       "2020    Males    Sydney      2001/2002                       313.6\n",
       "2021    Males    Sydney      2002/2003                       282.3\n",
       "2022    Males    Sydney      2003/2004                       298.8\n",
       "2023    Males    Sydney      2004/2005                       326.7\n",
       "2024    Males    Sydney      2005/2006                       283.7\n",
       "...       ...       ...            ...                         ...\n",
       "5697  Females  Far West      2017/2018                       450.9\n",
       "5698  Females  Far West      2018/2019                         408\n",
       "5699  Females  Far West      2019/2020                       413.9\n",
       "5700  Females  Far West      2020/2021                       242.2\n",
       "5701  Females  Far West      2021/2022                       191.5\n",
       "\n",
       "[1260 rows x 4 columns]"
      ]
     },
     "execution_count": 15,
     "metadata": {},
     "output_type": "execute_result"
    }
   ],
   "source": [
    "df"
   ]
  }
 ],
 "metadata": {
  "kernelspec": {
   "display_name": "Python 3",
   "language": "python",
   "name": "python3"
  },
  "language_info": {
   "codemirror_mode": {
    "name": "ipython",
    "version": 3
   },
   "file_extension": ".py",
   "mimetype": "text/x-python",
   "name": "python",
   "nbconvert_exporter": "python",
   "pygments_lexer": "ipython3",
   "version": "3.12.6"
  }
 },
 "nbformat": 4,
 "nbformat_minor": 2
}
