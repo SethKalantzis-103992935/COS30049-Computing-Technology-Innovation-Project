{
 "cells": [
  {
   "cell_type": "markdown",
   "metadata": {},
   "source": [
    "# Influenza and Pneumonia Deaths | Processing"
   ]
  },
  {
   "cell_type": "markdown",
   "metadata": {},
   "source": [
    "The main tasks completed to clean and preprocess this dataset were:\n",
    "\n",
<<<<<<< HEAD
    "**Data Manipulation**\n",
    "1. Rename columns.\n",
    "2. Reformat 'financial year' values from XX/YY to XXXX/YYYY\n",
    "3. Remove 'LHD' from LHD name values.\n",
    "4. Remove 'All' data (Representing a state-wide average).\n",
    "5. Remove columns holding Confidence Interval data.\n",
    "6. Remove rows holding 'Persons' data in the sex column (Representing a genderless rate per 100,000)."
=======
    "**Data Cleaning**\n",
    "1. Drop columns with irrelevant/incompatable data (CLI)\n",
    "2. Drop rows with 'Persons' in sex (remove reduntant aggregates)\n",
    "3. Drop rows with 'All LHD' in LHD (remove reduntant aggregates)\n",
    "\n",
    "**Data Normalization**\n",
    "1. Rename columns.\n",
    "2. Remove 'LHD' from LHD name values.\n",
    "3. Normalize 'financial year' with other processed datasets"
>>>>>>> 0f1987d33b97bd6ad302bd655c4a8dfc08b8a434
   ]
  },
  {
   "cell_type": "markdown",
   "metadata": {},
   "source": [
    "## Set Up\n",
    "\n",
    "Ensure that the required libraries are available by running the below code in the terminal before execution:\n",
    "- pip install pandas\n",
    "\n",
    "\n",
    "Execute the following in the jupyter notebook before execution to ensure that the required libraries are imported:"
   ]
  },
  {
   "cell_type": "code",
<<<<<<< HEAD
   "execution_count": 5,
=======
   "execution_count": 4,
>>>>>>> 0f1987d33b97bd6ad302bd655c4a8dfc08b8a434
   "metadata": {},
   "outputs": [],
   "source": [
    "import pandas as pd"
   ]
  },
  {
   "cell_type": "markdown",
   "metadata": {},
   "source": [
    "## Load Dataset"
   ]
  },
  {
   "cell_type": "code",
<<<<<<< HEAD
   "execution_count": 6,
=======
   "execution_count": 5,
>>>>>>> 0f1987d33b97bd6ad302bd655c4a8dfc08b8a434
   "metadata": {},
   "outputs": [
    {
     "data": {
      "text/html": [
       "<div>\n",
       "<style scoped>\n",
       "    .dataframe tbody tr th:only-of-type {\n",
       "        vertical-align: middle;\n",
       "    }\n",
       "\n",
       "    .dataframe tbody tr th {\n",
       "        vertical-align: top;\n",
       "    }\n",
       "\n",
       "    .dataframe thead th {\n",
       "        text-align: right;\n",
       "    }\n",
       "</style>\n",
       "<table border=\"1\" class=\"dataframe\">\n",
       "  <thead>\n",
       "    <tr style=\"text-align: right;\">\n",
       "      <th></th>\n",
       "      <th>Sex</th>\n",
       "      <th>LHD</th>\n",
       "      <th>Period</th>\n",
       "      <th>Rate per 100,000 population</th>\n",
       "      <th>LL 95% CI</th>\n",
       "      <th>UL 95% CI</th>\n",
       "    </tr>\n",
       "  </thead>\n",
       "  <tbody>\n",
       "    <tr>\n",
       "      <th>0</th>\n",
       "      <td>Males</td>\n",
       "      <td>Sydney LHD</td>\n",
       "      <td>2011-2012</td>\n",
       "      <td>9.2</td>\n",
       "      <td>6.7</td>\n",
       "      <td>12.3</td>\n",
       "    </tr>\n",
       "    <tr>\n",
       "      <th>1</th>\n",
       "      <td>Males</td>\n",
       "      <td>Sydney LHD</td>\n",
       "      <td>2012-2013</td>\n",
       "      <td>8.7</td>\n",
       "      <td>6.3</td>\n",
       "      <td>11.6</td>\n",
       "    </tr>\n",
       "    <tr>\n",
       "      <th>2</th>\n",
       "      <td>Males</td>\n",
       "      <td>Sydney LHD</td>\n",
       "      <td>2013-2014</td>\n",
<<<<<<< HEAD
       "      <td>9</td>\n",
=======
       "      <td>9.0</td>\n",
>>>>>>> 0f1987d33b97bd6ad302bd655c4a8dfc08b8a434
       "      <td>6.6</td>\n",
       "      <td>11.9</td>\n",
       "    </tr>\n",
       "    <tr>\n",
       "      <th>3</th>\n",
       "      <td>Males</td>\n",
       "      <td>Sydney LHD</td>\n",
       "      <td>2014-2015</td>\n",
       "      <td>7.9</td>\n",
       "      <td>5.8</td>\n",
       "      <td>10.7</td>\n",
       "    </tr>\n",
       "    <tr>\n",
       "      <th>4</th>\n",
       "      <td>Males</td>\n",
       "      <td>Sydney LHD</td>\n",
       "      <td>2015-2016</td>\n",
       "      <td>8.4</td>\n",
       "      <td>6.2</td>\n",
       "      <td>11.1</td>\n",
       "    </tr>\n",
       "    <tr>\n",
       "      <th>...</th>\n",
       "      <td>...</td>\n",
       "      <td>...</td>\n",
       "      <td>...</td>\n",
       "      <td>...</td>\n",
       "      <td>...</td>\n",
       "      <td>...</td>\n",
       "    </tr>\n",
       "    <tr>\n",
<<<<<<< HEAD
       "      <th>449</th>\n",
=======
       "      <th>445</th>\n",
>>>>>>> 0f1987d33b97bd6ad302bd655c4a8dfc08b8a434
       "      <td>Persons</td>\n",
       "      <td>All LHDs</td>\n",
       "      <td>2016-2017</td>\n",
       "      <td>10.7</td>\n",
       "      <td>10.3</td>\n",
       "      <td>11.2</td>\n",
       "    </tr>\n",
       "    <tr>\n",
<<<<<<< HEAD
       "      <th>450</th>\n",
=======
       "      <th>446</th>\n",
>>>>>>> 0f1987d33b97bd6ad302bd655c4a8dfc08b8a434
       "      <td>Persons</td>\n",
       "      <td>All LHDs</td>\n",
       "      <td>2017-2018</td>\n",
       "      <td>10.3</td>\n",
       "      <td>9.8</td>\n",
       "      <td>10.7</td>\n",
       "    </tr>\n",
       "    <tr>\n",
<<<<<<< HEAD
       "      <th>451</th>\n",
=======
       "      <th>447</th>\n",
>>>>>>> 0f1987d33b97bd6ad302bd655c4a8dfc08b8a434
       "      <td>Persons</td>\n",
       "      <td>All LHDs</td>\n",
       "      <td>2018-2019</td>\n",
       "      <td>8.9</td>\n",
       "      <td>8.5</td>\n",
       "      <td>9.3</td>\n",
       "    </tr>\n",
       "    <tr>\n",
<<<<<<< HEAD
       "      <th>452</th>\n",
=======
       "      <th>448</th>\n",
>>>>>>> 0f1987d33b97bd6ad302bd655c4a8dfc08b8a434
       "      <td>Persons</td>\n",
       "      <td>All LHDs</td>\n",
       "      <td>2019-2020</td>\n",
       "      <td>7.5</td>\n",
       "      <td>7.1</td>\n",
       "      <td>7.8</td>\n",
       "    </tr>\n",
       "    <tr>\n",
<<<<<<< HEAD
       "      <th>453</th>\n",
=======
       "      <th>449</th>\n",
>>>>>>> 0f1987d33b97bd6ad302bd655c4a8dfc08b8a434
       "      <td>Persons</td>\n",
       "      <td>All LHDs</td>\n",
       "      <td>2020-2021</td>\n",
       "      <td>5.1</td>\n",
       "      <td>4.8</td>\n",
       "      <td>5.4</td>\n",
       "    </tr>\n",
       "  </tbody>\n",
       "</table>\n",
<<<<<<< HEAD
       "<p>454 rows × 6 columns</p>\n",
       "</div>"
      ],
      "text/plain": [
       "         Sex         LHD     Period Rate per 100,000 population LL 95% CI  \\\n",
       "0      Males  Sydney LHD  2011-2012                         9.2       6.7   \n",
       "1      Males  Sydney LHD  2012-2013                         8.7       6.3   \n",
       "2      Males  Sydney LHD  2013-2014                           9       6.6   \n",
       "3      Males  Sydney LHD  2014-2015                         7.9       5.8   \n",
       "4      Males  Sydney LHD  2015-2016                         8.4       6.2   \n",
       "..       ...         ...        ...                         ...       ...   \n",
       "449  Persons    All LHDs  2016-2017                        10.7      10.3   \n",
       "450  Persons    All LHDs  2017-2018                        10.3       9.8   \n",
       "451  Persons    All LHDs  2018-2019                         8.9       8.5   \n",
       "452  Persons    All LHDs  2019-2020                         7.5       7.1   \n",
       "453  Persons    All LHDs  2020-2021                         5.1       4.8   \n",
       "\n",
       "    UL 95% CI  \n",
       "0        12.3  \n",
       "1        11.6  \n",
       "2        11.9  \n",
       "3        10.7  \n",
       "4        11.1  \n",
       "..        ...  \n",
       "449      11.2  \n",
       "450      10.7  \n",
       "451       9.3  \n",
       "452       7.8  \n",
       "453       5.4  \n",
       "\n",
       "[454 rows x 6 columns]"
      ]
     },
     "execution_count": 6,
=======
       "<p>450 rows × 6 columns</p>\n",
       "</div>"
      ],
      "text/plain": [
       "         Sex         LHD     Period  Rate per 100,000 population  LL 95% CI  \\\n",
       "0      Males  Sydney LHD  2011-2012                          9.2        6.7   \n",
       "1      Males  Sydney LHD  2012-2013                          8.7        6.3   \n",
       "2      Males  Sydney LHD  2013-2014                          9.0        6.6   \n",
       "3      Males  Sydney LHD  2014-2015                          7.9        5.8   \n",
       "4      Males  Sydney LHD  2015-2016                          8.4        6.2   \n",
       "..       ...         ...        ...                          ...        ...   \n",
       "445  Persons    All LHDs  2016-2017                         10.7       10.3   \n",
       "446  Persons    All LHDs  2017-2018                         10.3        9.8   \n",
       "447  Persons    All LHDs  2018-2019                          8.9        8.5   \n",
       "448  Persons    All LHDs  2019-2020                          7.5        7.1   \n",
       "449  Persons    All LHDs  2020-2021                          5.1        4.8   \n",
       "\n",
       "     UL 95% CI  \n",
       "0         12.3  \n",
       "1         11.6  \n",
       "2         11.9  \n",
       "3         10.7  \n",
       "4         11.1  \n",
       "..         ...  \n",
       "445       11.2  \n",
       "446       10.7  \n",
       "447        9.3  \n",
       "448        7.8  \n",
       "449        5.4  \n",
       "\n",
       "[450 rows x 6 columns]"
      ]
     },
     "execution_count": 5,
>>>>>>> 0f1987d33b97bd6ad302bd655c4a8dfc08b8a434
     "metadata": {},
     "output_type": "execute_result"
    }
   ],
   "source": [
<<<<<<< HEAD
    "# File path.\n",
    "file_path = 'data-raw.csv'\n",
    "\n",
    "# Read the file.\n",
    "df = pd.read_csv(file_path)\n",
    "\n",
    "df"
=======
    "# Read RAW datafile, skip first row as it is reduntant\n",
    "df_influpneu_deaths = pd.read_csv(\"data-raw.csv\")\n",
    "\n",
    "df_influpneu_deaths"
>>>>>>> 0f1987d33b97bd6ad302bd655c4a8dfc08b8a434
   ]
  },
  {
   "cell_type": "markdown",
   "metadata": {},
   "source": [
<<<<<<< HEAD
    "## Data Manipulation"
=======
    "## Data Cleaning\n",
    "\n",
    "Drop unnessacary columns."
   ]
  },
  {
   "cell_type": "code",
   "execution_count": 6,
   "metadata": {},
   "outputs": [],
   "source": [
    "df_influpneu_deaths = df_influpneu_deaths.drop(columns=[col for col in df_influpneu_deaths if 'CI' in col])"
>>>>>>> 0f1987d33b97bd6ad302bd655c4a8dfc08b8a434
   ]
  },
  {
   "cell_type": "markdown",
   "metadata": {},
   "source": [
<<<<<<< HEAD
    "Rename columns to match Air Quality data set."
=======
    "Remove aggregate data entries."
>>>>>>> 0f1987d33b97bd6ad302bd655c4a8dfc08b8a434
   ]
  },
  {
   "cell_type": "code",
   "execution_count": 7,
   "metadata": {},
   "outputs": [],
   "source": [
<<<<<<< HEAD
    "# Rename columns.\n",
    "df = df.rename(columns={\n",
    "    'LHD': 'lhd',\n",
    "    'Period': 'financial year'\n",
    "})\n",
    "\n",
    "# Set column names to lower case.\n",
    "df.columns = df.columns.str.lower()"
=======
    "# Remove 'persons' from sex\n",
    "df_influpneu_deaths = df_influpneu_deaths[df_influpneu_deaths['Sex'] != 'Persons']\n",
    "\n",
    "# Remove 'all lhd' from lhd\n",
    "df_influpneu_deaths = df_influpneu_deaths[df_influpneu_deaths['LHD'] != 'All LHDs']"
>>>>>>> 0f1987d33b97bd6ad302bd655c4a8dfc08b8a434
   ]
  },
  {
   "cell_type": "markdown",
   "metadata": {},
   "source": [
<<<<<<< HEAD
    "Remove LHD from Local Area Districts values."
=======
    "## Data Normalization\n",
    "\n",
    "Rename columns to match processed data standards."
>>>>>>> 0f1987d33b97bd6ad302bd655c4a8dfc08b8a434
   ]
  },
  {
   "cell_type": "code",
   "execution_count": 8,
   "metadata": {},
   "outputs": [],
   "source": [
<<<<<<< HEAD
    "# Remove ' LHD' from the 'lhd' column.\n",
    "df['lhd'] = df['lhd'].str.replace(' LHD', '')"
=======
    "# Rename columns.\n",
    "df_influpneu_deaths = df_influpneu_deaths.rename(columns={\n",
    "    'LHD': 'lhd',\n",
    "    'Period': 'financial year'\n",
    "})\n",
    "\n",
    "# Set column names to lower case.\n",
    "df_influpneu_deaths.columns = df_influpneu_deaths.columns.str.lower()"
>>>>>>> 0f1987d33b97bd6ad302bd655c4a8dfc08b8a434
   ]
  },
  {
   "cell_type": "markdown",
   "metadata": {},
   "source": [
<<<<<<< HEAD
    "Remove rows representing state-wide aggregated date."
=======
    "Remove 'LHD' from LHD row entries."
>>>>>>> 0f1987d33b97bd6ad302bd655c4a8dfc08b8a434
   ]
  },
  {
   "cell_type": "code",
   "execution_count": 9,
   "metadata": {},
   "outputs": [],
   "source": [
<<<<<<< HEAD
    "# Remove rows with NaN in the 'lhd' column.\n",
    "df = df.dropna(subset=['lhd'])\n",
    "\n",
    "# Remove rows with 'All' in the 'lhd' column.\n",
    "df = df[~df['lhd'].str.contains('All')]"
=======
    "# Remove ' LHD' from the 'lhd' column.\n",
    "df_influpneu_deaths['lhd'] = df_influpneu_deaths['lhd'].str.replace(' LHD', '')"
>>>>>>> 0f1987d33b97bd6ad302bd655c4a8dfc08b8a434
   ]
  },
  {
   "cell_type": "markdown",
   "metadata": {},
   "source": [
<<<<<<< HEAD
    "Remove rows holding Confidence Interval data."
=======
    "Format financial year to match processed data standards."
   ]
  },
  {
   "cell_type": "code",
   "execution_count": 10,
   "metadata": {},
   "outputs": [],
   "source": [
    "# Reformat 'financial year' values from XXXX-YYYY to XXXX/YYYY.\n",
    "df_influpneu_deaths['financial year'] = df_influpneu_deaths['financial year'].str.replace('-', '/')"
   ]
  },
  {
   "cell_type": "markdown",
   "metadata": {},
   "source": [
    "## Alternate Output Config"
>>>>>>> 0f1987d33b97bd6ad302bd655c4a8dfc08b8a434
   ]
  },
  {
   "cell_type": "code",
   "execution_count": 11,
   "metadata": {},
<<<<<<< HEAD
   "outputs": [],
   "source": [
    "# Drop columns with '% ci' in the header\n",
    "df = df.loc[:, ~df.columns.str.contains('% ci')]"
   ]
  },
  {
   "cell_type": "markdown",
   "metadata": {},
   "source": [
    "Remove rows holding \"Persons\" data in the sex column."
   ]
  },
  {
   "cell_type": "code",
   "execution_count": 12,
   "metadata": {},
   "outputs": [],
   "source": [
    "# Drop rows with 'Persons' in the 'sex' column.\n",
    "df = df[~df['sex'].str.contains('Persons')]"
   ]
  },
  {
   "cell_type": "markdown",
   "metadata": {},
   "source": [
    "Drop rows where column titles had been entered as data."
   ]
  },
  {
   "cell_type": "code",
   "execution_count": 13,
   "metadata": {},
   "outputs": [],
   "source": [
    "# Drop rows where column title had been entered as data.\n",
    "df = df[~df['sex'].str.contains('Sex')]"
=======
   "outputs": [
    {
     "data": {
      "text/html": [
       "<div>\n",
       "<style scoped>\n",
       "    .dataframe tbody tr th:only-of-type {\n",
       "        vertical-align: middle;\n",
       "    }\n",
       "\n",
       "    .dataframe tbody tr th {\n",
       "        vertical-align: top;\n",
       "    }\n",
       "\n",
       "    .dataframe thead th {\n",
       "        text-align: right;\n",
       "    }\n",
       "</style>\n",
       "<table border=\"1\" class=\"dataframe\">\n",
       "  <thead>\n",
       "    <tr style=\"text-align: right;\">\n",
       "      <th></th>\n",
       "      <th>financial year</th>\n",
       "      <th>lhd</th>\n",
       "      <th>Female rate per 100,000 population</th>\n",
       "      <th>Male rate per 100,000 population</th>\n",
       "    </tr>\n",
       "  </thead>\n",
       "  <tbody>\n",
       "    <tr>\n",
       "      <th>0</th>\n",
       "      <td>2011/2012</td>\n",
       "      <td>Central Coast</td>\n",
       "      <td>7.6</td>\n",
       "      <td>10.2</td>\n",
       "    </tr>\n",
       "    <tr>\n",
       "      <th>1</th>\n",
       "      <td>2011/2012</td>\n",
       "      <td>Hunter New England</td>\n",
       "      <td>7.8</td>\n",
       "      <td>11.3</td>\n",
       "    </tr>\n",
       "    <tr>\n",
       "      <th>2</th>\n",
       "      <td>2011/2012</td>\n",
       "      <td>Illawarra Shoalhaven</td>\n",
       "      <td>8.6</td>\n",
       "      <td>7.9</td>\n",
       "    </tr>\n",
       "    <tr>\n",
       "      <th>3</th>\n",
       "      <td>2011/2012</td>\n",
       "      <td>Mid North Coast</td>\n",
       "      <td>10.6</td>\n",
       "      <td>9.8</td>\n",
       "    </tr>\n",
       "    <tr>\n",
       "      <th>4</th>\n",
       "      <td>2011/2012</td>\n",
       "      <td>Murrumbidgee</td>\n",
       "      <td>9.3</td>\n",
       "      <td>10.6</td>\n",
       "    </tr>\n",
       "    <tr>\n",
       "      <th>...</th>\n",
       "      <td>...</td>\n",
       "      <td>...</td>\n",
       "      <td>...</td>\n",
       "      <td>...</td>\n",
       "    </tr>\n",
       "    <tr>\n",
       "      <th>135</th>\n",
       "      <td>2020/2021</td>\n",
       "      <td>South Western Sydney</td>\n",
       "      <td>4.8</td>\n",
       "      <td>6.3</td>\n",
       "    </tr>\n",
       "    <tr>\n",
       "      <th>136</th>\n",
       "      <td>2020/2021</td>\n",
       "      <td>Southern NSW</td>\n",
       "      <td>3.9</td>\n",
       "      <td>4.5</td>\n",
       "    </tr>\n",
       "    <tr>\n",
       "      <th>137</th>\n",
       "      <td>2020/2021</td>\n",
       "      <td>Sydney</td>\n",
       "      <td>4.0</td>\n",
       "      <td>6.0</td>\n",
       "    </tr>\n",
       "    <tr>\n",
       "      <th>138</th>\n",
       "      <td>2020/2021</td>\n",
       "      <td>Western NSW</td>\n",
       "      <td>4.8</td>\n",
       "      <td>8.6</td>\n",
       "    </tr>\n",
       "    <tr>\n",
       "      <th>139</th>\n",
       "      <td>2020/2021</td>\n",
       "      <td>Western Sydney</td>\n",
       "      <td>4.0</td>\n",
       "      <td>5.7</td>\n",
       "    </tr>\n",
       "  </tbody>\n",
       "</table>\n",
       "<p>140 rows × 4 columns</p>\n",
       "</div>"
      ],
      "text/plain": [
       "    financial year                   lhd  Female rate per 100,000 population  \\\n",
       "0        2011/2012         Central Coast                                 7.6   \n",
       "1        2011/2012    Hunter New England                                 7.8   \n",
       "2        2011/2012  Illawarra Shoalhaven                                 8.6   \n",
       "3        2011/2012       Mid North Coast                                10.6   \n",
       "4        2011/2012          Murrumbidgee                                 9.3   \n",
       "..             ...                   ...                                 ...   \n",
       "135      2020/2021  South Western Sydney                                 4.8   \n",
       "136      2020/2021          Southern NSW                                 3.9   \n",
       "137      2020/2021                Sydney                                 4.0   \n",
       "138      2020/2021           Western NSW                                 4.8   \n",
       "139      2020/2021        Western Sydney                                 4.0   \n",
       "\n",
       "     Male rate per 100,000 population  \n",
       "0                                10.2  \n",
       "1                                11.3  \n",
       "2                                 7.9  \n",
       "3                                 9.8  \n",
       "4                                10.6  \n",
       "..                                ...  \n",
       "135                               6.3  \n",
       "136                               4.5  \n",
       "137                               6.0  \n",
       "138                               8.6  \n",
       "139                               5.7  \n",
       "\n",
       "[140 rows x 4 columns]"
      ]
     },
     "execution_count": 11,
     "metadata": {},
     "output_type": "execute_result"
    }
   ],
   "source": [
    "# Pivot the dataframe to have 'sex' as columns\n",
    "df_alt = df_influpneu_deaths.pivot_table(index=['financial year', 'lhd'], columns='sex', values='rate per 100,000 population').reset_index()\n",
    "\n",
    "# Rename the columns to match the desired format\n",
    "df_alt.columns.name = None\n",
    "df_alt = df_alt.rename(columns={'Males': 'Male rate per 100,000 population', 'Females': 'Female rate per 100,000 population'})\n",
    "\n",
    "df_alt"
>>>>>>> 0f1987d33b97bd6ad302bd655c4a8dfc08b8a434
   ]
  },
  {
   "cell_type": "markdown",
   "metadata": {},
   "source": [
    "## Output Processed Dataset"
   ]
  },
  {
   "cell_type": "code",
<<<<<<< HEAD
   "execution_count": 15,
   "metadata": {},
   "outputs": [],
   "source": [
    "# File path.\n",
    "file_path_output = 'data-processed.csv'\n",
    "\n",
    "# Save the file.\n",
    "df.to_csv(file_path_output, index=False)"
   ]
  },
  {
   "cell_type": "markdown",
   "metadata": {},
   "source": [
    "## View Dataset"
   ]
  },
  {
   "cell_type": "code",
   "execution_count": 14,
=======
   "execution_count": 12,
>>>>>>> 0f1987d33b97bd6ad302bd655c4a8dfc08b8a434
   "metadata": {},
   "outputs": [
    {
     "data": {
      "text/html": [
       "<div>\n",
       "<style scoped>\n",
       "    .dataframe tbody tr th:only-of-type {\n",
       "        vertical-align: middle;\n",
       "    }\n",
       "\n",
       "    .dataframe tbody tr th {\n",
       "        vertical-align: top;\n",
       "    }\n",
       "\n",
       "    .dataframe thead th {\n",
       "        text-align: right;\n",
       "    }\n",
       "</style>\n",
       "<table border=\"1\" class=\"dataframe\">\n",
       "  <thead>\n",
       "    <tr style=\"text-align: right;\">\n",
       "      <th></th>\n",
       "      <th>sex</th>\n",
       "      <th>lhd</th>\n",
       "      <th>financial year</th>\n",
       "      <th>rate per 100,000 population</th>\n",
       "    </tr>\n",
       "  </thead>\n",
       "  <tbody>\n",
       "    <tr>\n",
       "      <th>0</th>\n",
       "      <td>Males</td>\n",
       "      <td>Sydney</td>\n",
<<<<<<< HEAD
       "      <td>2011-2012</td>\n",
=======
       "      <td>2011/2012</td>\n",
>>>>>>> 0f1987d33b97bd6ad302bd655c4a8dfc08b8a434
       "      <td>9.2</td>\n",
       "    </tr>\n",
       "    <tr>\n",
       "      <th>1</th>\n",
       "      <td>Males</td>\n",
       "      <td>Sydney</td>\n",
<<<<<<< HEAD
       "      <td>2012-2013</td>\n",
=======
       "      <td>2012/2013</td>\n",
>>>>>>> 0f1987d33b97bd6ad302bd655c4a8dfc08b8a434
       "      <td>8.7</td>\n",
       "    </tr>\n",
       "    <tr>\n",
       "      <th>2</th>\n",
       "      <td>Males</td>\n",
       "      <td>Sydney</td>\n",
<<<<<<< HEAD
       "      <td>2013-2014</td>\n",
       "      <td>9</td>\n",
=======
       "      <td>2013/2014</td>\n",
       "      <td>9.0</td>\n",
>>>>>>> 0f1987d33b97bd6ad302bd655c4a8dfc08b8a434
       "    </tr>\n",
       "    <tr>\n",
       "      <th>3</th>\n",
       "      <td>Males</td>\n",
       "      <td>Sydney</td>\n",
<<<<<<< HEAD
       "      <td>2014-2015</td>\n",
=======
       "      <td>2014/2015</td>\n",
>>>>>>> 0f1987d33b97bd6ad302bd655c4a8dfc08b8a434
       "      <td>7.9</td>\n",
       "    </tr>\n",
       "    <tr>\n",
       "      <th>4</th>\n",
       "      <td>Males</td>\n",
       "      <td>Sydney</td>\n",
<<<<<<< HEAD
       "      <td>2015-2016</td>\n",
=======
       "      <td>2015/2016</td>\n",
>>>>>>> 0f1987d33b97bd6ad302bd655c4a8dfc08b8a434
       "      <td>8.4</td>\n",
       "    </tr>\n",
       "    <tr>\n",
       "      <th>...</th>\n",
       "      <td>...</td>\n",
       "      <td>...</td>\n",
       "      <td>...</td>\n",
       "      <td>...</td>\n",
       "    </tr>\n",
       "    <tr>\n",
<<<<<<< HEAD
       "      <th>287</th>\n",
       "      <td>Females</td>\n",
       "      <td>Western NSW</td>\n",
       "      <td>2016-2017</td>\n",
       "      <td>14.8</td>\n",
=======
       "      <th>285</th>\n",
       "      <td>Females</td>\n",
       "      <td>Western NSW</td>\n",
       "      <td>2016/2017</td>\n",
       "      <td>14.8</td>\n",
       "    </tr>\n",
       "    <tr>\n",
       "      <th>286</th>\n",
       "      <td>Females</td>\n",
       "      <td>Western NSW</td>\n",
       "      <td>2017/2018</td>\n",
       "      <td>11.5</td>\n",
       "    </tr>\n",
       "    <tr>\n",
       "      <th>287</th>\n",
       "      <td>Females</td>\n",
       "      <td>Western NSW</td>\n",
       "      <td>2018/2019</td>\n",
       "      <td>11.9</td>\n",
>>>>>>> 0f1987d33b97bd6ad302bd655c4a8dfc08b8a434
       "    </tr>\n",
       "    <tr>\n",
       "      <th>288</th>\n",
       "      <td>Females</td>\n",
       "      <td>Western NSW</td>\n",
<<<<<<< HEAD
       "      <td>2017-2018</td>\n",
       "      <td>11.5</td>\n",
=======
       "      <td>2019/2020</td>\n",
       "      <td>9.8</td>\n",
>>>>>>> 0f1987d33b97bd6ad302bd655c4a8dfc08b8a434
       "    </tr>\n",
       "    <tr>\n",
       "      <th>289</th>\n",
       "      <td>Females</td>\n",
       "      <td>Western NSW</td>\n",
<<<<<<< HEAD
       "      <td>2018-2019</td>\n",
       "      <td>11.9</td>\n",
       "    </tr>\n",
       "    <tr>\n",
       "      <th>290</th>\n",
       "      <td>Females</td>\n",
       "      <td>Western NSW</td>\n",
       "      <td>2019-2020</td>\n",
       "      <td>9.8</td>\n",
       "    </tr>\n",
       "    <tr>\n",
       "      <th>291</th>\n",
       "      <td>Females</td>\n",
       "      <td>Western NSW</td>\n",
       "      <td>2020-2021</td>\n",
=======
       "      <td>2020/2021</td>\n",
>>>>>>> 0f1987d33b97bd6ad302bd655c4a8dfc08b8a434
       "      <td>4.8</td>\n",
       "    </tr>\n",
       "  </tbody>\n",
       "</table>\n",
       "<p>280 rows × 4 columns</p>\n",
       "</div>"
      ],
      "text/plain": [
<<<<<<< HEAD
       "         sex          lhd financial year rate per 100,000 population\n",
       "0      Males       Sydney      2011-2012                         9.2\n",
       "1      Males       Sydney      2012-2013                         8.7\n",
       "2      Males       Sydney      2013-2014                           9\n",
       "3      Males       Sydney      2014-2015                         7.9\n",
       "4      Males       Sydney      2015-2016                         8.4\n",
       "..       ...          ...            ...                         ...\n",
       "287  Females  Western NSW      2016-2017                        14.8\n",
       "288  Females  Western NSW      2017-2018                        11.5\n",
       "289  Females  Western NSW      2018-2019                        11.9\n",
       "290  Females  Western NSW      2019-2020                         9.8\n",
       "291  Females  Western NSW      2020-2021                         4.8\n",
=======
       "         sex          lhd financial year  rate per 100,000 population\n",
       "0      Males       Sydney      2011/2012                          9.2\n",
       "1      Males       Sydney      2012/2013                          8.7\n",
       "2      Males       Sydney      2013/2014                          9.0\n",
       "3      Males       Sydney      2014/2015                          7.9\n",
       "4      Males       Sydney      2015/2016                          8.4\n",
       "..       ...          ...            ...                          ...\n",
       "285  Females  Western NSW      2016/2017                         14.8\n",
       "286  Females  Western NSW      2017/2018                         11.5\n",
       "287  Females  Western NSW      2018/2019                         11.9\n",
       "288  Females  Western NSW      2019/2020                          9.8\n",
       "289  Females  Western NSW      2020/2021                          4.8\n",
>>>>>>> 0f1987d33b97bd6ad302bd655c4a8dfc08b8a434
       "\n",
       "[280 rows x 4 columns]"
      ]
     },
<<<<<<< HEAD
     "execution_count": 14,
=======
     "execution_count": 12,
>>>>>>> 0f1987d33b97bd6ad302bd655c4a8dfc08b8a434
     "metadata": {},
     "output_type": "execute_result"
    }
   ],
   "source": [
<<<<<<< HEAD
    "df"
=======
    "df_influpneu_deaths.to_csv(\"data-processed.csv\", index=False)\n",
    "\n",
    "df_alt.to_csv(\"data-processed-alt.csv\", index=False)\n",
    "\n",
    "df_influpneu_deaths"
>>>>>>> 0f1987d33b97bd6ad302bd655c4a8dfc08b8a434
   ]
  }
 ],
 "metadata": {
  "kernelspec": {
<<<<<<< HEAD
   "display_name": "Python 3",
=======
   "display_name": "base",
>>>>>>> 0f1987d33b97bd6ad302bd655c4a8dfc08b8a434
   "language": "python",
   "name": "python3"
  },
  "language_info": {
   "codemirror_mode": {
    "name": "ipython",
    "version": 3
   },
   "file_extension": ".py",
   "mimetype": "text/x-python",
   "name": "python",
   "nbconvert_exporter": "python",
   "pygments_lexer": "ipython3",
<<<<<<< HEAD
   "version": "3.12.6"
=======
   "version": "3.12.4"
>>>>>>> 0f1987d33b97bd6ad302bd655c4a8dfc08b8a434
  }
 },
 "nbformat": 4,
 "nbformat_minor": 2
}
