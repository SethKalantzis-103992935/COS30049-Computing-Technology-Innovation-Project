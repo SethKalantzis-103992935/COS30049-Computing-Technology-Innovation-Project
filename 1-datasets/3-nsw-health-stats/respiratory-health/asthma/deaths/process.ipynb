{
 "cells": [
  {
   "cell_type": "markdown",
   "metadata": {},
   "source": [
    "# Asthma Deaths | Processing"
   ]
  },
  {
   "cell_type": "markdown",
   "metadata": {},
   "source": [
    "The main tasks completed to clean and preprocess this dataset were:\n",
    "\n",
    "**Data Manipulation**\n",
    "1. Rename columns.\n",
    "2. Remove 'LHD' from LHD name values.\n",
    "3. Remove 'All' data (Representing a state-wide average).\n",
    "4. Remove columns holding Confidence Interval data.\n",
    "\n",
    "**Data Normalization**\n",
    "1. Convert 2-year totals to 1-year totals."
   ]
  },
  {
   "cell_type": "markdown",
   "metadata": {},
   "source": [
    "## Set Up"
   ]
  },
  {
   "cell_type": "markdown",
   "metadata": {},
   "source": [
    "Ensure that the required libraries are available by running the below code in the terminal before execution:\n",
    "- pip install pandas\n",
    "\n",
    "\n",
    "Execute the following in the jupyter notebook before execution to ensure that the required libraries are imported:"
   ]
  },
  {
   "cell_type": "code",
   "execution_count": 37,
   "metadata": {},
   "outputs": [],
   "source": [
    "import pandas as pd"
   ]
  },
  {
   "cell_type": "markdown",
   "metadata": {},
   "source": [
    "## Load Dataset"
   ]
  },
  {
   "cell_type": "code",
   "execution_count": 38,
   "metadata": {},
   "outputs": [],
   "source": [
    "# File path.\n",
    "file_path = 'data-raw.csv'\n",
    "\n",
    "# Read the file.\n",
    "df = pd.read_csv(file_path)"
   ]
  },
  {
   "cell_type": "markdown",
   "metadata": {},
   "source": [
    "## Data Manipulation"
   ]
  },
  {
   "cell_type": "markdown",
   "metadata": {},
   "source": [
    "Rename columns to match Air Quality data set."
   ]
  },
  {
   "cell_type": "code",
   "execution_count": 39,
   "metadata": {},
   "outputs": [],
   "source": [
    "# Rename columns.\n",
    "df = df.rename(columns={\n",
    "    'LHD': 'lhd',\n",
    "    'Period': 'date'\n",
    "})\n",
    "\n",
    "# Set column names to lower case.\n",
    "df.columns = df.columns.str.lower()"
   ]
  },
  {
   "cell_type": "markdown",
   "metadata": {},
   "source": [
    "Remove ' LHD' for Local Health District values."
   ]
  },
  {
   "cell_type": "code",
   "execution_count": 40,
   "metadata": {},
   "outputs": [],
   "source": [
    "# Remove ' LHD' from the 'lhd' column.\n",
    "df['lhd'] = df['lhd'].str.replace(' LHD', '')"
   ]
  },
  {
   "cell_type": "markdown",
   "metadata": {},
   "source": [
    "Remove rows representing state-wide aggregated data."
   ]
  },
  {
   "cell_type": "code",
   "execution_count": 41,
   "metadata": {},
   "outputs": [],
   "source": [
    "# Remove rows with NaN in the 'lhd' column.\n",
    "df = df.dropna(subset=['lhd'])\n",
    "\n",
    "# Remove rows with 'All' in the 'lhd' column.\n",
    "df = df[~df['lhd'].str.contains('All')]"
   ]
  },
  {
   "cell_type": "markdown",
   "metadata": {},
   "source": [
    "Remove columns holding Confidence Interval data."
   ]
  },
  {
   "cell_type": "code",
   "execution_count": 42,
   "metadata": {},
   "outputs": [],
   "source": [
    "# Drop columns with '% ci' in the header\n",
    "df = df.loc[:, ~df.columns.str.contains('% ci')]"
   ]
  },
  {
   "cell_type": "markdown",
   "metadata": {},
   "source": [
    "## Data Normalization"
   ]
  },
  {
   "cell_type": "markdown",
   "metadata": {},
   "source": [
    "Convert rolling 2-Year totals to annual totals."
   ]
  },
  {
   "cell_type": "code",
   "execution_count": 43,
   "metadata": {},
   "outputs": [],
   "source": [
    "yearly_data = []\n",
    "\n",
    "# Iterate over the rows.\n",
    "for index, row in df.iterrows():\n",
    "    start_year, end_year = map(int, row['date'].split('-'))\n",
    "    mid_year = start_year + 1\n",
    "    split_value = row[col] / 2\n",
    "\n",
    "    yearly_data.extend([\n",
    "        {'lhd': row['lhd'], 'financial year': f\"{start_year}/{mid_year}\", col: split_value},\n",
    "        {'lhd': row['lhd'], 'financial year': f\"{mid_year}/{end_year}\", col: split_value}\n",
    "    ])\n",
    "    \n",
    "# Create a new DataFrame.\n",
    "df_yearly = pd.DataFrame(yearly_data)\n",
    "\n",
    "# Group by 'lhd' and 'financial year'. Get an average of the 'value' column.\n",
    "df_yearly = df_yearly.groupby(['lhd', 'financial year']).mean().reset_index()\n",
    "\n",
    "# Assign to original DataFrame.\n",
    "df = df_yearly"
   ]
  },
  {
   "cell_type": "markdown",
   "metadata": {},
   "source": [
    "## Output Processed Dataset"
   ]
  },
  {
   "cell_type": "code",
   "execution_count": 44,
   "metadata": {},
   "outputs": [],
   "source": [
    "# File path.\n",
    "file_path_output = 'data-processed.csv'\n",
    "\n",
    "# Save the file.\n",
    "df.to_csv(file_path_output, index=False)"
   ]
  },
  {
   "cell_type": "markdown",
   "metadata": {},
   "source": [
    "## View Dataset"
   ]
  },
  {
   "cell_type": "code",
   "execution_count": 45,
   "metadata": {},
   "outputs": [
    {
     "data": {
      "text/html": [
       "<div>\n",
       "<style scoped>\n",
       "    .dataframe tbody tr th:only-of-type {\n",
       "        vertical-align: middle;\n",
       "    }\n",
       "\n",
       "    .dataframe tbody tr th {\n",
       "        vertical-align: top;\n",
       "    }\n",
       "\n",
       "    .dataframe thead th {\n",
       "        text-align: right;\n",
       "    }\n",
       "</style>\n",
       "<table border=\"1\" class=\"dataframe\">\n",
       "  <thead>\n",
       "    <tr style=\"text-align: right;\">\n",
       "      <th></th>\n",
       "      <th>lhd</th>\n",
       "      <th>financial year</th>\n",
       "      <th>rate per 100,000 population</th>\n",
       "    </tr>\n",
       "  </thead>\n",
       "  <tbody>\n",
       "    <tr>\n",
       "      <th>0</th>\n",
       "      <td>Central Coast</td>\n",
       "      <td>2011/2012</td>\n",
       "      <td>0.600</td>\n",
       "    </tr>\n",
       "    <tr>\n",
       "      <th>1</th>\n",
       "      <td>Central Coast</td>\n",
       "      <td>2012/2013</td>\n",
       "      <td>0.600</td>\n",
       "    </tr>\n",
       "    <tr>\n",
       "      <th>2</th>\n",
       "      <td>Central Coast</td>\n",
       "      <td>2013/2014</td>\n",
       "      <td>0.600</td>\n",
       "    </tr>\n",
       "    <tr>\n",
       "      <th>3</th>\n",
       "      <td>Central Coast</td>\n",
       "      <td>2014/2015</td>\n",
       "      <td>0.675</td>\n",
       "    </tr>\n",
       "    <tr>\n",
       "      <th>4</th>\n",
       "      <td>Central Coast</td>\n",
       "      <td>2015/2016</td>\n",
       "      <td>0.725</td>\n",
       "    </tr>\n",
       "    <tr>\n",
       "      <th>...</th>\n",
       "      <td>...</td>\n",
       "      <td>...</td>\n",
       "      <td>...</td>\n",
       "    </tr>\n",
       "    <tr>\n",
       "      <th>135</th>\n",
       "      <td>Western Sydney</td>\n",
       "      <td>2016/2017</td>\n",
       "      <td>1.025</td>\n",
       "    </tr>\n",
       "    <tr>\n",
       "      <th>136</th>\n",
       "      <td>Western Sydney</td>\n",
       "      <td>2017/2018</td>\n",
       "      <td>0.900</td>\n",
       "    </tr>\n",
       "    <tr>\n",
       "      <th>137</th>\n",
       "      <td>Western Sydney</td>\n",
       "      <td>2018/2019</td>\n",
       "      <td>0.725</td>\n",
       "    </tr>\n",
       "    <tr>\n",
       "      <th>138</th>\n",
       "      <td>Western Sydney</td>\n",
       "      <td>2019/2020</td>\n",
       "      <td>0.675</td>\n",
       "    </tr>\n",
       "    <tr>\n",
       "      <th>139</th>\n",
       "      <td>Western Sydney</td>\n",
       "      <td>2020/2021</td>\n",
       "      <td>0.650</td>\n",
       "    </tr>\n",
       "  </tbody>\n",
       "</table>\n",
       "<p>140 rows × 3 columns</p>\n",
       "</div>"
      ],
      "text/plain": [
       "                lhd financial year  rate per 100,000 population\n",
       "0     Central Coast      2011/2012                        0.600\n",
       "1     Central Coast      2012/2013                        0.600\n",
       "2     Central Coast      2013/2014                        0.600\n",
       "3     Central Coast      2014/2015                        0.675\n",
       "4     Central Coast      2015/2016                        0.725\n",
       "..              ...            ...                          ...\n",
       "135  Western Sydney      2016/2017                        1.025\n",
       "136  Western Sydney      2017/2018                        0.900\n",
       "137  Western Sydney      2018/2019                        0.725\n",
       "138  Western Sydney      2019/2020                        0.675\n",
       "139  Western Sydney      2020/2021                        0.650\n",
       "\n",
       "[140 rows x 3 columns]"
      ]
     },
     "execution_count": 45,
     "metadata": {},
     "output_type": "execute_result"
    }
   ],
   "source": [
    "df"
   ]
  }
 ],
 "metadata": {
  "kernelspec": {
   "display_name": "base",
   "language": "python",
   "name": "python3"
  },
  "language_info": {
   "codemirror_mode": {
    "name": "ipython",
    "version": 3
   },
   "file_extension": ".py",
   "mimetype": "text/x-python",
   "name": "python",
   "nbconvert_exporter": "python",
   "pygments_lexer": "ipython3",
   "version": "3.12.4"
  }
 },
 "nbformat": 4,
 "nbformat_minor": 2
}
