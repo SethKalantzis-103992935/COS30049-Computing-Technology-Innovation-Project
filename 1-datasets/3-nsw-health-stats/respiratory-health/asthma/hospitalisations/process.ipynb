{
 "cells": [
  {
   "cell_type": "markdown",
   "metadata": {},
   "source": [
    "# Asthma Hospitalisations | Processing"
   ]
  },
  {
   "cell_type": "markdown",
   "metadata": {},
   "source": [
    "The main tasks completed to clean and preprocess this dataset were:\n",
    "\n",
    "**Data Manipulation**\n",
    "1. Rename columns.\n",
    "2. Reformat 'financial year' values from XX/YY to XXXX/YYYY\n",
    "3. Remove 'LHD' from LHD name values.\n",
    "4. Remove 'All' data (Representing a state-wide average).\n",
    "5. Remove 'All Ages' data (Representing an aggregate of all risk groups)\n",
    "5. Remove columns holding Confidence Interval data."
   ]
  },
  {
   "cell_type": "markdown",
   "metadata": {},
   "source": [
    "## Set Up"
   ]
  },
  {
   "cell_type": "markdown",
   "metadata": {},
   "source": [
    "Ensure that the required libraries are available by running the below code in the terminal before execution:\n",
    "- pip install pandas\n",
    "\n",
    "\n",
    "Execute the following in the jupyter notebook before execution to ensure that the required libraries are imported:"
   ]
  },
  {
   "cell_type": "code",
   "execution_count": 1,
   "metadata": {},
   "outputs": [],
   "source": [
    "import pandas as pd"
   ]
  },
  {
   "cell_type": "markdown",
   "metadata": {},
   "source": [
    "## Load Dataset"
   ]
  },
  {
   "cell_type": "code",
   "execution_count": 2,
   "metadata": {},
   "outputs": [
    {
     "data": {
      "text/html": [
       "<div>\n",
       "<style scoped>\n",
       "    .dataframe tbody tr th:only-of-type {\n",
       "        vertical-align: middle;\n",
       "    }\n",
       "\n",
       "    .dataframe tbody tr th {\n",
       "        vertical-align: top;\n",
       "    }\n",
       "\n",
       "    .dataframe thead th {\n",
       "        text-align: right;\n",
       "    }\n",
       "</style>\n",
       "<table border=\"1\" class=\"dataframe\">\n",
       "  <thead>\n",
       "    <tr style=\"text-align: right;\">\n",
       "      <th></th>\n",
       "      <th>Sex</th>\n",
       "      <th>LHD</th>\n",
       "      <th>Risk group</th>\n",
       "      <th>Period</th>\n",
       "      <th>Rate per 100,000 population</th>\n",
       "      <th>LL 95% CI</th>\n",
       "      <th>UL 95% CI</th>\n",
       "    </tr>\n",
       "  </thead>\n",
       "  <tbody>\n",
       "    <tr>\n",
       "      <th>0</th>\n",
       "      <td>Males</td>\n",
       "      <td>Sydney LHD</td>\n",
       "      <td>5-34 years</td>\n",
       "      <td>01/02</td>\n",
       "      <td>123.6</td>\n",
       "      <td>100.8</td>\n",
       "      <td>149.7</td>\n",
       "    </tr>\n",
       "    <tr>\n",
       "      <th>1</th>\n",
       "      <td>Males</td>\n",
       "      <td>Sydney LHD</td>\n",
       "      <td>5-34 years</td>\n",
       "      <td>02/03</td>\n",
       "      <td>112.8</td>\n",
       "      <td>91.3</td>\n",
       "      <td>137.5</td>\n",
       "    </tr>\n",
       "    <tr>\n",
       "      <th>2</th>\n",
       "      <td>Males</td>\n",
       "      <td>Sydney LHD</td>\n",
       "      <td>5-34 years</td>\n",
       "      <td>03/04</td>\n",
       "      <td>120.0</td>\n",
       "      <td>97.9</td>\n",
       "      <td>145.5</td>\n",
       "    </tr>\n",
       "    <tr>\n",
       "      <th>3</th>\n",
       "      <td>Males</td>\n",
       "      <td>Sydney LHD</td>\n",
       "      <td>5-34 years</td>\n",
       "      <td>04/05</td>\n",
       "      <td>124.6</td>\n",
       "      <td>101.8</td>\n",
       "      <td>150.8</td>\n",
       "    </tr>\n",
       "    <tr>\n",
       "      <th>4</th>\n",
       "      <td>Males</td>\n",
       "      <td>Sydney LHD</td>\n",
       "      <td>5-34 years</td>\n",
       "      <td>05/06</td>\n",
       "      <td>117.6</td>\n",
       "      <td>95.3</td>\n",
       "      <td>143.4</td>\n",
       "    </tr>\n",
       "    <tr>\n",
       "      <th>...</th>\n",
       "      <td>...</td>\n",
       "      <td>...</td>\n",
       "      <td>...</td>\n",
       "      <td>...</td>\n",
       "      <td>...</td>\n",
       "      <td>...</td>\n",
       "      <td>...</td>\n",
       "    </tr>\n",
       "    <tr>\n",
       "      <th>4027</th>\n",
       "      <td>Persons</td>\n",
       "      <td>All LHDs</td>\n",
       "      <td>All ages</td>\n",
       "      <td>17/18</td>\n",
       "      <td>140.3</td>\n",
       "      <td>137.7</td>\n",
       "      <td>143.0</td>\n",
       "    </tr>\n",
       "    <tr>\n",
       "      <th>4028</th>\n",
       "      <td>Persons</td>\n",
       "      <td>All LHDs</td>\n",
       "      <td>All ages</td>\n",
       "      <td>18/19</td>\n",
       "      <td>145.0</td>\n",
       "      <td>142.4</td>\n",
       "      <td>147.8</td>\n",
       "    </tr>\n",
       "    <tr>\n",
       "      <th>4029</th>\n",
       "      <td>Persons</td>\n",
       "      <td>All LHDs</td>\n",
       "      <td>All ages</td>\n",
       "      <td>19/20</td>\n",
       "      <td>119.5</td>\n",
       "      <td>117.1</td>\n",
       "      <td>122.0</td>\n",
       "    </tr>\n",
       "    <tr>\n",
       "      <th>4030</th>\n",
       "      <td>Persons</td>\n",
       "      <td>All LHDs</td>\n",
       "      <td>All ages</td>\n",
       "      <td>20/21</td>\n",
       "      <td>95.4</td>\n",
       "      <td>93.2</td>\n",
       "      <td>97.6</td>\n",
       "    </tr>\n",
       "    <tr>\n",
       "      <th>4031</th>\n",
       "      <td>Persons</td>\n",
       "      <td>All LHDs</td>\n",
       "      <td>All ages</td>\n",
       "      <td>21/22</td>\n",
       "      <td>86.7</td>\n",
       "      <td>84.6</td>\n",
       "      <td>88.8</td>\n",
       "    </tr>\n",
       "  </tbody>\n",
       "</table>\n",
       "<p>4032 rows × 7 columns</p>\n",
       "</div>"
      ],
      "text/plain": [
       "          Sex         LHD  Risk group Period  Rate per 100,000 population  \\\n",
       "0       Males  Sydney LHD  5-34 years  01/02                        123.6   \n",
       "1       Males  Sydney LHD  5-34 years  02/03                        112.8   \n",
       "2       Males  Sydney LHD  5-34 years  03/04                        120.0   \n",
       "3       Males  Sydney LHD  5-34 years  04/05                        124.6   \n",
       "4       Males  Sydney LHD  5-34 years  05/06                        117.6   \n",
       "...       ...         ...         ...    ...                          ...   \n",
       "4027  Persons    All LHDs    All ages  17/18                        140.3   \n",
       "4028  Persons    All LHDs    All ages  18/19                        145.0   \n",
       "4029  Persons    All LHDs    All ages  19/20                        119.5   \n",
       "4030  Persons    All LHDs    All ages  20/21                         95.4   \n",
       "4031  Persons    All LHDs    All ages  21/22                         86.7   \n",
       "\n",
       "      LL 95% CI  UL 95% CI  \n",
       "0         100.8      149.7  \n",
       "1          91.3      137.5  \n",
       "2          97.9      145.5  \n",
       "3         101.8      150.8  \n",
       "4          95.3      143.4  \n",
       "...         ...        ...  \n",
       "4027      137.7      143.0  \n",
       "4028      142.4      147.8  \n",
       "4029      117.1      122.0  \n",
       "4030       93.2       97.6  \n",
       "4031       84.6       88.8  \n",
       "\n",
       "[4032 rows x 7 columns]"
      ]
     },
     "execution_count": 2,
     "metadata": {},
     "output_type": "execute_result"
    }
   ],
   "source": [
    "# File path.\n",
    "file_path = 'data-raw.csv'\n",
    "\n",
    "# Read the file.\n",
    "df = pd.read_csv(file_path)\n",
    "\n",
    "df"
   ]
  },
  {
   "cell_type": "markdown",
   "metadata": {},
   "source": [
    "## Data Manipulation"
   ]
  },
  {
   "cell_type": "markdown",
   "metadata": {},
   "source": [
    "Rename columns to match Air Quality data set."
   ]
  },
  {
   "cell_type": "code",
   "execution_count": 3,
   "metadata": {},
   "outputs": [],
   "source": [
    "# Rename columns.\n",
    "df = df.rename(columns={\n",
    "    'LHD': 'lhd',\n",
    "    'Period': 'financial year'\n",
    "})\n",
    "\n",
    "# Set column names to lower case.\n",
    "df.columns = df.columns.str.lower()"
   ]
  },
  {
   "cell_type": "markdown",
   "metadata": {},
   "source": [
    "Mark Year data in 'financial year' column more verbose."
   ]
  },
  {
   "cell_type": "code",
   "execution_count": 4,
   "metadata": {},
   "outputs": [],
   "source": [
    "# Reformat 'financial year' values from XX/YY to XXXX/YYYY.\n",
    "df['financial year'] = df['financial year'].apply(\n",
    "    lambda x: f'20{x[:2]}/20{x[3:]}' if isinstance(x, str) else x\n",
    ")"
   ]
  },
  {
   "cell_type": "markdown",
   "metadata": {},
   "source": [
    "Remove ' LHD' for Local Health District values."
   ]
  },
  {
   "cell_type": "code",
   "execution_count": 5,
   "metadata": {},
   "outputs": [],
   "source": [
    "# Remove ' LHD' from the 'lhd' column.\n",
    "df['lhd'] = df['lhd'].str.replace(' LHD', '')"
   ]
  },
  {
   "cell_type": "markdown",
   "metadata": {},
   "source": [
    "Remove rows representing state-wide aggregated data."
   ]
  },
  {
   "cell_type": "code",
   "execution_count": 6,
   "metadata": {},
   "outputs": [],
   "source": [
    "# Remove rows with NaN in the 'lhd' column.\n",
    "df = df.dropna(subset=['lhd'])\n",
    "\n",
    "# Remove rows with 'All' in the 'lhd' column.\n",
    "df = df[~df['lhd'].str.contains('All')]"
   ]
  },
  {
   "cell_type": "markdown",
   "metadata": {},
   "source": [
    "Remove rows representing an aggregate of all risk groups within a Local Health District."
   ]
  },
  {
   "cell_type": "code",
   "execution_count": 7,
   "metadata": {},
   "outputs": [],
   "source": [
    "# Remove rows with NaN in the 'risk group' column.\n",
    "df = df.dropna(subset=['risk group'])\n",
    "\n",
    "# Remove rows with 'All ages' in the 'risk group' column.\n",
    "df = df[~df['risk group'].str.contains('All ages')]"
   ]
  },
  {
   "cell_type": "markdown",
   "metadata": {},
   "source": [
    "Remove columns holding Confidence Interval data."
   ]
  },
  {
   "cell_type": "code",
   "execution_count": 8,
   "metadata": {},
   "outputs": [],
   "source": [
    "# Drop columns with '% ci' in the header\n",
    "df = df.loc[:, ~df.columns.str.contains('% ci')]"
   ]
  },
  {
   "cell_type": "markdown",
   "metadata": {},
   "source": [
    "## Output Processed Dataset"
   ]
  },
  {
   "cell_type": "code",
   "execution_count": 9,
   "metadata": {},
   "outputs": [],
   "source": [
    "# File path.\n",
    "file_path_output = 'data-processed.csv'\n",
    "\n",
    "# Save the file.\n",
    "df.to_csv(file_path_output, index=False)"
   ]
  },
  {
   "cell_type": "markdown",
   "metadata": {},
   "source": [
    "## View Dataset"
   ]
  },
  {
   "cell_type": "code",
   "execution_count": 10,
   "metadata": {},
   "outputs": [
    {
     "data": {
      "text/html": [
       "<div>\n",
       "<style scoped>\n",
       "    .dataframe tbody tr th:only-of-type {\n",
       "        vertical-align: middle;\n",
       "    }\n",
       "\n",
       "    .dataframe tbody tr th {\n",
       "        vertical-align: top;\n",
       "    }\n",
       "\n",
       "    .dataframe thead th {\n",
       "        text-align: right;\n",
       "    }\n",
       "</style>\n",
       "<table border=\"1\" class=\"dataframe\">\n",
       "  <thead>\n",
       "    <tr style=\"text-align: right;\">\n",
       "      <th></th>\n",
       "      <th>sex</th>\n",
       "      <th>lhd</th>\n",
       "      <th>risk group</th>\n",
       "      <th>financial year</th>\n",
       "      <th>rate per 100,000 population</th>\n",
       "    </tr>\n",
       "  </thead>\n",
       "  <tbody>\n",
       "    <tr>\n",
       "      <th>0</th>\n",
       "      <td>Males</td>\n",
       "      <td>Sydney</td>\n",
       "      <td>5-34 years</td>\n",
       "      <td>2001/2002</td>\n",
       "      <td>123.6</td>\n",
       "    </tr>\n",
       "    <tr>\n",
       "      <th>1</th>\n",
       "      <td>Males</td>\n",
       "      <td>Sydney</td>\n",
       "      <td>5-34 years</td>\n",
       "      <td>2002/2003</td>\n",
       "      <td>112.8</td>\n",
       "    </tr>\n",
       "    <tr>\n",
       "      <th>2</th>\n",
       "      <td>Males</td>\n",
       "      <td>Sydney</td>\n",
       "      <td>5-34 years</td>\n",
       "      <td>2003/2004</td>\n",
       "      <td>120.0</td>\n",
       "    </tr>\n",
       "    <tr>\n",
       "      <th>3</th>\n",
       "      <td>Males</td>\n",
       "      <td>Sydney</td>\n",
       "      <td>5-34 years</td>\n",
       "      <td>2004/2005</td>\n",
       "      <td>124.6</td>\n",
       "    </tr>\n",
       "    <tr>\n",
       "      <th>4</th>\n",
       "      <td>Males</td>\n",
       "      <td>Sydney</td>\n",
       "      <td>5-34 years</td>\n",
       "      <td>2005/2006</td>\n",
       "      <td>117.6</td>\n",
       "    </tr>\n",
       "    <tr>\n",
       "      <th>...</th>\n",
       "      <td>...</td>\n",
       "      <td>...</td>\n",
       "      <td>...</td>\n",
       "      <td>...</td>\n",
       "      <td>...</td>\n",
       "    </tr>\n",
       "    <tr>\n",
       "      <th>3922</th>\n",
       "      <td>Persons</td>\n",
       "      <td>Far West</td>\n",
       "      <td>65+ years</td>\n",
       "      <td>2017/2018</td>\n",
       "      <td>152.4</td>\n",
       "    </tr>\n",
       "    <tr>\n",
       "      <th>3923</th>\n",
       "      <td>Persons</td>\n",
       "      <td>Far West</td>\n",
       "      <td>65+ years</td>\n",
       "      <td>2018/2019</td>\n",
       "      <td>69.2</td>\n",
       "    </tr>\n",
       "    <tr>\n",
       "      <th>3924</th>\n",
       "      <td>Persons</td>\n",
       "      <td>Far West</td>\n",
       "      <td>65+ years</td>\n",
       "      <td>2019/2020</td>\n",
       "      <td>72.5</td>\n",
       "    </tr>\n",
       "    <tr>\n",
       "      <th>3925</th>\n",
       "      <td>Persons</td>\n",
       "      <td>Far West</td>\n",
       "      <td>65+ years</td>\n",
       "      <td>2020/2021</td>\n",
       "      <td>80.6</td>\n",
       "    </tr>\n",
       "    <tr>\n",
       "      <th>3926</th>\n",
       "      <td>Persons</td>\n",
       "      <td>Far West</td>\n",
       "      <td>65+ years</td>\n",
       "      <td>2021/2022</td>\n",
       "      <td>77.8</td>\n",
       "    </tr>\n",
       "  </tbody>\n",
       "</table>\n",
       "<p>2835 rows × 5 columns</p>\n",
       "</div>"
      ],
      "text/plain": [
       "          sex       lhd  risk group financial year  \\\n",
       "0       Males    Sydney  5-34 years      2001/2002   \n",
       "1       Males    Sydney  5-34 years      2002/2003   \n",
       "2       Males    Sydney  5-34 years      2003/2004   \n",
       "3       Males    Sydney  5-34 years      2004/2005   \n",
       "4       Males    Sydney  5-34 years      2005/2006   \n",
       "...       ...       ...         ...            ...   \n",
       "3922  Persons  Far West   65+ years      2017/2018   \n",
       "3923  Persons  Far West   65+ years      2018/2019   \n",
       "3924  Persons  Far West   65+ years      2019/2020   \n",
       "3925  Persons  Far West   65+ years      2020/2021   \n",
       "3926  Persons  Far West   65+ years      2021/2022   \n",
       "\n",
       "      rate per 100,000 population  \n",
       "0                           123.6  \n",
       "1                           112.8  \n",
       "2                           120.0  \n",
       "3                           124.6  \n",
       "4                           117.6  \n",
       "...                           ...  \n",
       "3922                        152.4  \n",
       "3923                         69.2  \n",
       "3924                         72.5  \n",
       "3925                         80.6  \n",
       "3926                         77.8  \n",
       "\n",
       "[2835 rows x 5 columns]"
      ]
     },
     "execution_count": 10,
     "metadata": {},
     "output_type": "execute_result"
    }
   ],
   "source": [
    "df"
   ]
  }
 ],
 "metadata": {
  "kernelspec": {
   "display_name": "base",
   "language": "python",
   "name": "python3"
  },
  "language_info": {
   "codemirror_mode": {
    "name": "ipython",
    "version": 3
   },
   "file_extension": ".py",
   "mimetype": "text/x-python",
   "name": "python",
   "nbconvert_exporter": "python",
   "pygments_lexer": "ipython3",
   "version": "3.12.4"
  }
 },
 "nbformat": 4,
 "nbformat_minor": 2
}
