{
 "cells": [
  {
   "cell_type": "markdown",
   "metadata": {},
   "source": [
    "# Asthma-Like Illness Emergency Department Presentations (annual) | Processing"
   ]
  },
  {
   "cell_type": "markdown",
   "metadata": {},
   "source": [
    "The main tasks completed to clean and preprocess this dataset were:\n",
    "\n",
    "**Data Manipulation**\n",
    "1. Rename columns.\n",
    "2. Reformat 'financial year' values from XX/YY to XXXX/YYYY\n",
    "3. Remove 'LHD' from LHD name values.\n",
    "4. Remove 'All' data (Representing a state-wide average).\n",
    "5. Remove columns holding Confidence Interval data.\n",
    "6. Remove rows holding 'Persons' data in the sex column (Representing a genderless rate per 100,000)."
   ]
  },
  {
   "cell_type": "markdown",
   "metadata": {},
   "source": [
    "## Set Up"
   ]
  },
  {
   "cell_type": "markdown",
   "metadata": {},
   "source": [
    "Ensure that the required libraries are available by running the below code in the terminal before execution:\n",
    "- pip install pandas\n",
    "\n",
    "\n",
    "Execute the following in the jupyter notebook before execution to ensure that the required libraries are imported:"
   ]
  },
  {
   "cell_type": "code",
   "execution_count": 1,
   "metadata": {},
   "outputs": [],
   "source": [
    "import pandas as pd"
   ]
  },
  {
   "cell_type": "markdown",
   "metadata": {},
   "source": [
    "## Load Dataset"
   ]
  },
  {
   "cell_type": "code",
   "execution_count": 2,
   "metadata": {},
   "outputs": [],
   "source": [
    "# File path.\n",
    "file_path = 'data-raw.csv'\n",
    "\n",
    "# Read the file.\n",
    "df = pd.read_csv(file_path)"
   ]
  },
  {
   "cell_type": "markdown",
   "metadata": {},
   "source": [
    "## Data Manipulation"
   ]
  },
  {
   "cell_type": "markdown",
   "metadata": {},
   "source": [
    "Rename columns to match Air Quality data set."
   ]
  },
  {
   "cell_type": "code",
   "execution_count": 3,
   "metadata": {},
   "outputs": [],
   "source": [
    "# Rename columns.\n",
    "df = df.rename(columns={\n",
    "    'LHD': 'lhd',\n",
    "    'Period': 'financial year'\n",
    "})\n",
    "\n",
    "# Set column names to lower case.\n",
    "df.columns = df.columns.str.lower()"
   ]
  },
  {
   "cell_type": "markdown",
   "metadata": {},
   "source": [
    "Mark Year data in 'financial year' column more verbose."
   ]
  },
  {
   "cell_type": "code",
   "execution_count": 4,
   "metadata": {},
   "outputs": [],
   "source": [
    "# Reformat 'financial year' values from XX/YY to XXXX/YYYY.\n",
    "df['financial year'] = df['financial year'].apply(\n",
    "    lambda x: f'20{x[:2]}/20{x[3:]}' if isinstance(x, str) else x\n",
    ")"
   ]
  },
  {
   "cell_type": "markdown",
   "metadata": {},
   "source": [
    "Remove ' LHD' for Local Health District values."
   ]
  },
  {
   "cell_type": "code",
   "execution_count": 5,
   "metadata": {},
   "outputs": [],
   "source": [
    "# Remove ' LHD' from the 'lhd' column.\n",
    "df['lhd'] = df['lhd'].str.replace(' LHD', '')"
   ]
  },
  {
   "cell_type": "markdown",
   "metadata": {},
   "source": [
    "Remove rows representing state-wide aggregated data."
   ]
  },
  {
   "cell_type": "code",
   "execution_count": 6,
   "metadata": {},
   "outputs": [],
   "source": [
    "# Remove rows with NaN in the 'lhd' column.\n",
    "df = df.dropna(subset=['lhd'])\n",
    "\n",
    "# Remove rows with 'All' in the 'lhd' column.\n",
    "df = df[~df['lhd'].str.contains('All')]"
   ]
  },
  {
   "cell_type": "markdown",
   "metadata": {},
   "source": [
    "Remove columns holding Confidence Interval data."
   ]
  },
  {
   "cell_type": "code",
   "execution_count": 7,
   "metadata": {},
   "outputs": [],
   "source": [
    "# Drop columns with '% ci' in the header\n",
    "df = df.loc[:, ~df.columns.str.contains('% ci')]"
   ]
  },
  {
   "cell_type": "markdown",
   "metadata": {},
   "source": [
    "Remove rows holding 'Persons' data in the sex column."
   ]
  },
  {
   "cell_type": "code",
   "execution_count": 8,
   "metadata": {},
   "outputs": [],
   "source": [
    "# Drop rows with 'Persons' in the 'sex' column.\n",
    "df = df[~df['sex'].str.contains('Persons')]"
   ]
  },
  {
   "cell_type": "markdown",
   "metadata": {},
   "source": [
    "## Output Processed Dataset"
   ]
  },
  {
   "cell_type": "code",
   "execution_count": 9,
   "metadata": {},
   "outputs": [],
   "source": [
    "# File path.\n",
    "file_path_output = 'data-processed.csv'\n",
    "\n",
    "# Save the file.\n",
    "df.to_csv(file_path_output, index=False)"
   ]
  },
  {
   "cell_type": "markdown",
   "metadata": {},
   "source": [
    "## View Dataset"
   ]
  },
  {
   "cell_type": "code",
   "execution_count": 10,
   "metadata": {},
   "outputs": [
    {
     "data": {
      "text/html": [
       "<div>\n",
       "<style scoped>\n",
       "    .dataframe tbody tr th:only-of-type {\n",
       "        vertical-align: middle;\n",
       "    }\n",
       "\n",
       "    .dataframe tbody tr th {\n",
       "        vertical-align: top;\n",
       "    }\n",
       "\n",
       "    .dataframe thead th {\n",
       "        text-align: right;\n",
       "    }\n",
       "</style>\n",
       "<table border=\"1\" class=\"dataframe\">\n",
       "  <thead>\n",
       "    <tr style=\"text-align: right;\">\n",
       "      <th></th>\n",
       "      <th>sex</th>\n",
       "      <th>lhd</th>\n",
       "      <th>financial year</th>\n",
       "      <th>rate per 100,000 population</th>\n",
       "    </tr>\n",
       "  </thead>\n",
       "  <tbody>\n",
       "    <tr>\n",
       "      <th>0</th>\n",
       "      <td>Males</td>\n",
       "      <td>Sydney</td>\n",
       "      <td>2014/2015</td>\n",
       "      <td>283.1</td>\n",
       "    </tr>\n",
       "    <tr>\n",
       "      <th>1</th>\n",
       "      <td>Males</td>\n",
       "      <td>Sydney</td>\n",
       "      <td>2015/2016</td>\n",
       "      <td>287.6</td>\n",
       "    </tr>\n",
       "    <tr>\n",
       "      <th>2</th>\n",
       "      <td>Males</td>\n",
       "      <td>Sydney</td>\n",
       "      <td>2016/2017</td>\n",
       "      <td>263.7</td>\n",
       "    </tr>\n",
       "    <tr>\n",
       "      <th>3</th>\n",
       "      <td>Males</td>\n",
       "      <td>Sydney</td>\n",
       "      <td>2017/2018</td>\n",
       "      <td>229.5</td>\n",
       "    </tr>\n",
       "    <tr>\n",
       "      <th>4</th>\n",
       "      <td>Males</td>\n",
       "      <td>Sydney</td>\n",
       "      <td>2018/2019</td>\n",
       "      <td>244.4</td>\n",
       "    </tr>\n",
       "    <tr>\n",
       "      <th>...</th>\n",
       "      <td>...</td>\n",
       "      <td>...</td>\n",
       "      <td>...</td>\n",
       "      <td>...</td>\n",
       "    </tr>\n",
       "    <tr>\n",
       "      <th>274</th>\n",
       "      <td>Females</td>\n",
       "      <td>Far West</td>\n",
       "      <td>2018/2019</td>\n",
       "      <td>884.7</td>\n",
       "    </tr>\n",
       "    <tr>\n",
       "      <th>275</th>\n",
       "      <td>Females</td>\n",
       "      <td>Far West</td>\n",
       "      <td>2019/2020</td>\n",
       "      <td>692.3</td>\n",
       "    </tr>\n",
       "    <tr>\n",
       "      <th>276</th>\n",
       "      <td>Females</td>\n",
       "      <td>Far West</td>\n",
       "      <td>2020/2021</td>\n",
       "      <td>592.1</td>\n",
       "    </tr>\n",
       "    <tr>\n",
       "      <th>277</th>\n",
       "      <td>Females</td>\n",
       "      <td>Far West</td>\n",
       "      <td>2021/2022</td>\n",
       "      <td>689.7</td>\n",
       "    </tr>\n",
       "    <tr>\n",
       "      <th>278</th>\n",
       "      <td>Females</td>\n",
       "      <td>Far West</td>\n",
       "      <td>2022/2023</td>\n",
       "      <td>963.7</td>\n",
       "    </tr>\n",
       "  </tbody>\n",
       "</table>\n",
       "<p>270 rows × 4 columns</p>\n",
       "</div>"
      ],
      "text/plain": [
       "         sex       lhd financial year  rate per 100,000 population\n",
       "0      Males    Sydney      2014/2015                        283.1\n",
       "1      Males    Sydney      2015/2016                        287.6\n",
       "2      Males    Sydney      2016/2017                        263.7\n",
       "3      Males    Sydney      2017/2018                        229.5\n",
       "4      Males    Sydney      2018/2019                        244.4\n",
       "..       ...       ...            ...                          ...\n",
       "274  Females  Far West      2018/2019                        884.7\n",
       "275  Females  Far West      2019/2020                        692.3\n",
       "276  Females  Far West      2020/2021                        592.1\n",
       "277  Females  Far West      2021/2022                        689.7\n",
       "278  Females  Far West      2022/2023                        963.7\n",
       "\n",
       "[270 rows x 4 columns]"
      ]
     },
     "execution_count": 10,
     "metadata": {},
     "output_type": "execute_result"
    }
   ],
   "source": [
    "df"
   ]
  }
 ],
 "metadata": {
  "kernelspec": {
   "display_name": "base",
   "language": "python",
   "name": "python3"
  },
  "language_info": {
   "codemirror_mode": {
    "name": "ipython",
    "version": 3
   },
   "file_extension": ".py",
   "mimetype": "text/x-python",
   "name": "python",
   "nbconvert_exporter": "python",
   "pygments_lexer": "ipython3",
   "version": "3.12.4"
  }
 },
 "nbformat": 4,
 "nbformat_minor": 2
}
