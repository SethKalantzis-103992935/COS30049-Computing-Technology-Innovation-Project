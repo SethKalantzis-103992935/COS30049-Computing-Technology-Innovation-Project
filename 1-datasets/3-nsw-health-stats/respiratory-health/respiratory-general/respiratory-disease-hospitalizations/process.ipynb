{
 "cells": [
  {
   "cell_type": "markdown",
   "metadata": {},
   "source": [
    "# Respiratory Disease Hospitalizations | Processing"
   ]
  },
  {
   "cell_type": "markdown",
   "metadata": {},
   "source": [
    "The main tasks completed to clean and preprocess this dataset were:\n",
    "\n",
    "**Data Manipulation**\n",
    "1. Rename columns.\n",
    "2. Reformat 'financial year' values from XX/YY to XXXX/YYYY\n",
    "3. Remove 'LHD' from LHD name values.\n",
    "4. Remove 'All' data (Representing a state-wide average).\n",
    "5. Remove seperate age groups, keeping only rows with \"All Ages\"\n",
    "6. Remove columns holding Confidence Interval data.\n",
    "7. Remove rows holding 'Persons' data in the sex column (Representing a genderless rate per 100,000)."
   ]
  },
  {
   "cell_type": "markdown",
   "metadata": {},
   "source": [
    "## Set Up\n",
    "\n",
    "Ensure that the required libraries are available by running the below code in the terminal before execution:\n",
    "- pip install pandas\n",
    "\n",
    "\n",
    "Execute the following in the jupyter notebook before execution to ensure that the required libraries are imported:"
   ]
  },
  {
   "cell_type": "code",
   "execution_count": 1,
   "metadata": {},
   "outputs": [],
   "source": [
    "import pandas as pd"
   ]
  },
  {
   "cell_type": "markdown",
   "metadata": {},
   "source": [
    "## Load Dataset"
   ]
  },
  {
   "cell_type": "code",
   "execution_count": 2,
   "metadata": {},
   "outputs": [
    {
     "data": {
      "text/html": [
       "<div>\n",
       "<style scoped>\n",
       "    .dataframe tbody tr th:only-of-type {\n",
       "        vertical-align: middle;\n",
       "    }\n",
       "\n",
       "    .dataframe tbody tr th {\n",
       "        vertical-align: top;\n",
       "    }\n",
       "\n",
       "    .dataframe thead th {\n",
       "        text-align: right;\n",
       "    }\n",
       "</style>\n",
       "<table border=\"1\" class=\"dataframe\">\n",
       "  <thead>\n",
       "    <tr style=\"text-align: right;\">\n",
       "      <th></th>\n",
       "      <th>Disease type</th>\n",
       "      <th>Sex</th>\n",
       "      <th>LHD</th>\n",
       "      <th>Period</th>\n",
       "      <th>Rate per 100,000 population</th>\n",
       "      <th>LL 95% CI</th>\n",
       "      <th>UL 95% CI</th>\n",
       "    </tr>\n",
       "  </thead>\n",
       "  <tbody>\n",
       "    <tr>\n",
       "      <th>0</th>\n",
       "      <td>Influenza and pneumonia</td>\n",
       "      <td>Males</td>\n",
       "      <td>Sydney LHD</td>\n",
       "      <td>01/02</td>\n",
       "      <td>345</td>\n",
       "      <td>319.8</td>\n",
       "      <td>371.7</td>\n",
       "    </tr>\n",
       "    <tr>\n",
       "      <th>1</th>\n",
       "      <td>Influenza and pneumonia</td>\n",
       "      <td>Males</td>\n",
       "      <td>Sydney LHD</td>\n",
       "      <td>02/03</td>\n",
       "      <td>349.1</td>\n",
       "      <td>323.2</td>\n",
       "      <td>376.6</td>\n",
       "    </tr>\n",
       "    <tr>\n",
       "      <th>2</th>\n",
       "      <td>Influenza and pneumonia</td>\n",
       "      <td>Males</td>\n",
       "      <td>Sydney LHD</td>\n",
       "      <td>03/04</td>\n",
       "      <td>362.4</td>\n",
       "      <td>335.1</td>\n",
       "      <td>391.3</td>\n",
       "    </tr>\n",
       "    <tr>\n",
       "      <th>3</th>\n",
       "      <td>Influenza and pneumonia</td>\n",
       "      <td>Males</td>\n",
       "      <td>Sydney LHD</td>\n",
       "      <td>04/05</td>\n",
       "      <td>364.8</td>\n",
       "      <td>337.5</td>\n",
       "      <td>393.7</td>\n",
       "    </tr>\n",
       "    <tr>\n",
       "      <th>4</th>\n",
       "      <td>Influenza and pneumonia</td>\n",
       "      <td>Males</td>\n",
       "      <td>Sydney LHD</td>\n",
       "      <td>05/06</td>\n",
       "      <td>285.2</td>\n",
       "      <td>262.7</td>\n",
       "      <td>309</td>\n",
       "    </tr>\n",
       "    <tr>\n",
       "      <th>...</th>\n",
       "      <td>...</td>\n",
       "      <td>...</td>\n",
       "      <td>...</td>\n",
       "      <td>...</td>\n",
       "      <td>...</td>\n",
       "      <td>...</td>\n",
       "      <td>...</td>\n",
       "    </tr>\n",
       "    <tr>\n",
       "      <th>7051</th>\n",
       "      <td>Total</td>\n",
       "      <td>Persons</td>\n",
       "      <td>All LHDs</td>\n",
       "      <td>17/18</td>\n",
       "      <td>1,708.70</td>\n",
       "      <td>1,699.80</td>\n",
       "      <td>1,717.60</td>\n",
       "    </tr>\n",
       "    <tr>\n",
       "      <th>7052</th>\n",
       "      <td>Total</td>\n",
       "      <td>Persons</td>\n",
       "      <td>All LHDs</td>\n",
       "      <td>18/19</td>\n",
       "      <td>1,687.80</td>\n",
       "      <td>1,679.00</td>\n",
       "      <td>1,696.60</td>\n",
       "    </tr>\n",
       "    <tr>\n",
       "      <th>7053</th>\n",
       "      <td>Total</td>\n",
       "      <td>Persons</td>\n",
       "      <td>All LHDs</td>\n",
       "      <td>19/20</td>\n",
       "      <td>1,468.10</td>\n",
       "      <td>1,460.00</td>\n",
       "      <td>1,476.30</td>\n",
       "    </tr>\n",
       "    <tr>\n",
       "      <th>7054</th>\n",
       "      <td>Total</td>\n",
       "      <td>Persons</td>\n",
       "      <td>All LHDs</td>\n",
       "      <td>20/21</td>\n",
       "      <td>1,310.40</td>\n",
       "      <td>1,302.60</td>\n",
       "      <td>1,318.20</td>\n",
       "    </tr>\n",
       "    <tr>\n",
       "      <th>7055</th>\n",
       "      <td>Total</td>\n",
       "      <td>Persons</td>\n",
       "      <td>All LHDs</td>\n",
       "      <td>21/22</td>\n",
       "      <td>1,384.80</td>\n",
       "      <td>1,376.90</td>\n",
       "      <td>1,392.80</td>\n",
       "    </tr>\n",
       "  </tbody>\n",
       "</table>\n",
       "<p>7056 rows × 7 columns</p>\n",
       "</div>"
      ],
      "text/plain": [
       "                 Disease type      Sex         LHD Period  \\\n",
       "0     Influenza and pneumonia    Males  Sydney LHD  01/02   \n",
       "1     Influenza and pneumonia    Males  Sydney LHD  02/03   \n",
       "2     Influenza and pneumonia    Males  Sydney LHD  03/04   \n",
       "3     Influenza and pneumonia    Males  Sydney LHD  04/05   \n",
       "4     Influenza and pneumonia    Males  Sydney LHD  05/06   \n",
       "...                       ...      ...         ...    ...   \n",
       "7051                    Total  Persons    All LHDs  17/18   \n",
       "7052                    Total  Persons    All LHDs  18/19   \n",
       "7053                    Total  Persons    All LHDs  19/20   \n",
       "7054                    Total  Persons    All LHDs  20/21   \n",
       "7055                    Total  Persons    All LHDs  21/22   \n",
       "\n",
       "     Rate per 100,000 population LL 95% CI UL 95% CI  \n",
       "0                            345     319.8     371.7  \n",
       "1                          349.1     323.2     376.6  \n",
       "2                          362.4     335.1     391.3  \n",
       "3                          364.8     337.5     393.7  \n",
       "4                          285.2     262.7       309  \n",
       "...                          ...       ...       ...  \n",
       "7051                    1,708.70  1,699.80  1,717.60  \n",
       "7052                    1,687.80  1,679.00  1,696.60  \n",
       "7053                    1,468.10  1,460.00  1,476.30  \n",
       "7054                    1,310.40  1,302.60  1,318.20  \n",
       "7055                    1,384.80  1,376.90  1,392.80  \n",
       "\n",
       "[7056 rows x 7 columns]"
      ]
     },
     "execution_count": 2,
     "metadata": {},
     "output_type": "execute_result"
    }
   ],
   "source": [
    "# File path.\n",
    "file_path = 'data-raw.csv'\n",
    "\n",
    "# Read the file.\n",
    "df = pd.read_csv(file_path)\n",
    "\n",
    "df"
   ]
  },
  {
   "cell_type": "markdown",
   "metadata": {},
   "source": [
    "## Data Manipulation"
   ]
  },
  {
   "cell_type": "markdown",
   "metadata": {},
   "source": [
    "Rename columns to match Air Quality data set."
   ]
  },
  {
   "cell_type": "code",
   "execution_count": 3,
   "metadata": {},
   "outputs": [],
   "source": [
    "# Rename columns.\n",
    "df = df.rename(columns={\n",
    "    'LHD': 'lhd',\n",
    "    'Period': 'financial year'\n",
    "})\n",
    "\n",
    "# Set column names to lower case.\n",
    "df.columns = df.columns.str.lower()"
   ]
  },
  {
   "cell_type": "markdown",
   "metadata": {},
   "source": [
    "Make Year data in 'financial year' column more verbose."
   ]
  },
  {
   "cell_type": "code",
   "execution_count": 4,
   "metadata": {},
   "outputs": [],
   "source": [
    "# Reformat 'financial year' values from XX/YY to XXXX/YYYY.\n",
    "df['financial year'] = df['financial year'].apply(\n",
    "    lambda x: f'20{x[:2]}/20{x[3:]}' if isinstance(x, str) else x\n",
    ")"
   ]
  },
  {
   "cell_type": "markdown",
   "metadata": {},
   "source": [
    "Remove LHD from Local Area Districts values."
   ]
  },
  {
   "cell_type": "code",
   "execution_count": 5,
   "metadata": {},
   "outputs": [],
   "source": [
    "# Remove ' LHD' from the 'lhd' column.\n",
    "df['lhd'] = df['lhd'].str.replace(' LHD', '')"
   ]
  },
  {
   "cell_type": "markdown",
   "metadata": {},
   "source": [
    "Remove rows representing state-wide aggregated date."
   ]
  },
  {
   "cell_type": "code",
   "execution_count": 6,
   "metadata": {},
   "outputs": [],
   "source": [
    "# Remove rows with NaN in the 'lhd' column.\n",
    "df = df.dropna(subset=['lhd'])\n",
    "\n",
    "# Remove rows with 'All' in the 'lhd' column.\n",
    "df = df[~df['lhd'].str.contains('All')]"
   ]
  },
  {
   "cell_type": "markdown",
   "metadata": {},
   "source": [
    "Remove rows holding Confidence Interval data."
   ]
  },
  {
   "cell_type": "code",
   "execution_count": 7,
   "metadata": {},
   "outputs": [],
   "source": [
    "# Drop columns with '% ci' in the header\n",
    "df = df.loc[:, ~df.columns.str.contains('% ci')]"
   ]
  },
  {
   "cell_type": "markdown",
   "metadata": {},
   "source": [
    "Remove rows holding \"Persons\" data in the sex column."
   ]
  },
  {
   "cell_type": "code",
   "execution_count": 8,
   "metadata": {},
   "outputs": [],
   "source": [
    "# Drop rows with 'Persons' in the 'sex' column.\n",
    "df = df[~df['sex'].str.contains('Persons')]"
   ]
  },
  {
   "cell_type": "markdown",
   "metadata": {},
   "source": [
    "Drop rows where column titles had been entered as data."
   ]
  },
  {
   "cell_type": "code",
   "execution_count": 9,
   "metadata": {},
   "outputs": [],
   "source": [
    "# Drop rows where column title had been entered as data.\n",
    "df = df[~df['sex'].str.contains('Sex')]"
   ]
  },
  {
   "cell_type": "markdown",
   "metadata": {},
   "source": [
    "## Output Processed Dataset"
   ]
  },
  {
   "cell_type": "code",
   "execution_count": 11,
   "metadata": {},
   "outputs": [],
   "source": [
    "# File path.\n",
    "file_path_output = 'data-processed.csv'\n",
    "\n",
    "# Save the file.\n",
    "df.to_csv(file_path_output, index=False)"
   ]
  },
  {
   "cell_type": "markdown",
   "metadata": {},
   "source": [
    "## View Dataset"
   ]
  },
  {
   "cell_type": "code",
   "execution_count": 10,
   "metadata": {},
   "outputs": [
    {
     "data": {
      "text/html": [
       "<div>\n",
       "<style scoped>\n",
       "    .dataframe tbody tr th:only-of-type {\n",
       "        vertical-align: middle;\n",
       "    }\n",
       "\n",
       "    .dataframe tbody tr th {\n",
       "        vertical-align: top;\n",
       "    }\n",
       "\n",
       "    .dataframe thead th {\n",
       "        text-align: right;\n",
       "    }\n",
       "</style>\n",
       "<table border=\"1\" class=\"dataframe\">\n",
       "  <thead>\n",
       "    <tr style=\"text-align: right;\">\n",
       "      <th></th>\n",
       "      <th>disease type</th>\n",
       "      <th>sex</th>\n",
       "      <th>lhd</th>\n",
       "      <th>financial year</th>\n",
       "      <th>rate per 100,000 population</th>\n",
       "    </tr>\n",
       "  </thead>\n",
       "  <tbody>\n",
       "    <tr>\n",
       "      <th>0</th>\n",
       "      <td>Influenza and pneumonia</td>\n",
       "      <td>Males</td>\n",
       "      <td>Sydney</td>\n",
       "      <td>2001/2002</td>\n",
       "      <td>345</td>\n",
       "    </tr>\n",
       "    <tr>\n",
       "      <th>1</th>\n",
       "      <td>Influenza and pneumonia</td>\n",
       "      <td>Males</td>\n",
       "      <td>Sydney</td>\n",
       "      <td>2002/2003</td>\n",
       "      <td>349.1</td>\n",
       "    </tr>\n",
       "    <tr>\n",
       "      <th>2</th>\n",
       "      <td>Influenza and pneumonia</td>\n",
       "      <td>Males</td>\n",
       "      <td>Sydney</td>\n",
       "      <td>2003/2004</td>\n",
       "      <td>362.4</td>\n",
       "    </tr>\n",
       "    <tr>\n",
       "      <th>3</th>\n",
       "      <td>Influenza and pneumonia</td>\n",
       "      <td>Males</td>\n",
       "      <td>Sydney</td>\n",
       "      <td>2004/2005</td>\n",
       "      <td>364.8</td>\n",
       "    </tr>\n",
       "    <tr>\n",
       "      <th>4</th>\n",
       "      <td>Influenza and pneumonia</td>\n",
       "      <td>Males</td>\n",
       "      <td>Sydney</td>\n",
       "      <td>2005/2006</td>\n",
       "      <td>285.2</td>\n",
       "    </tr>\n",
       "    <tr>\n",
       "      <th>...</th>\n",
       "      <td>...</td>\n",
       "      <td>...</td>\n",
       "      <td>...</td>\n",
       "      <td>...</td>\n",
       "      <td>...</td>\n",
       "    </tr>\n",
       "    <tr>\n",
       "      <th>6694</th>\n",
       "      <td>Total</td>\n",
       "      <td>Females</td>\n",
       "      <td>Far West</td>\n",
       "      <td>2017/2018</td>\n",
       "      <td>1,976.10</td>\n",
       "    </tr>\n",
       "    <tr>\n",
       "      <th>6695</th>\n",
       "      <td>Total</td>\n",
       "      <td>Females</td>\n",
       "      <td>Far West</td>\n",
       "      <td>2018/2019</td>\n",
       "      <td>2,079.80</td>\n",
       "    </tr>\n",
       "    <tr>\n",
       "      <th>6696</th>\n",
       "      <td>Total</td>\n",
       "      <td>Females</td>\n",
       "      <td>Far West</td>\n",
       "      <td>2019/2020</td>\n",
       "      <td>1,901.00</td>\n",
       "    </tr>\n",
       "    <tr>\n",
       "      <th>6697</th>\n",
       "      <td>Total</td>\n",
       "      <td>Females</td>\n",
       "      <td>Far West</td>\n",
       "      <td>2020/2021</td>\n",
       "      <td>1,466.60</td>\n",
       "    </tr>\n",
       "    <tr>\n",
       "      <th>6698</th>\n",
       "      <td>Total</td>\n",
       "      <td>Females</td>\n",
       "      <td>Far West</td>\n",
       "      <td>2021/2022</td>\n",
       "      <td>1,335.40</td>\n",
       "    </tr>\n",
       "  </tbody>\n",
       "</table>\n",
       "<p>4410 rows × 5 columns</p>\n",
       "</div>"
      ],
      "text/plain": [
       "                 disease type      sex       lhd financial year  \\\n",
       "0     Influenza and pneumonia    Males    Sydney      2001/2002   \n",
       "1     Influenza and pneumonia    Males    Sydney      2002/2003   \n",
       "2     Influenza and pneumonia    Males    Sydney      2003/2004   \n",
       "3     Influenza and pneumonia    Males    Sydney      2004/2005   \n",
       "4     Influenza and pneumonia    Males    Sydney      2005/2006   \n",
       "...                       ...      ...       ...            ...   \n",
       "6694                    Total  Females  Far West      2017/2018   \n",
       "6695                    Total  Females  Far West      2018/2019   \n",
       "6696                    Total  Females  Far West      2019/2020   \n",
       "6697                    Total  Females  Far West      2020/2021   \n",
       "6698                    Total  Females  Far West      2021/2022   \n",
       "\n",
       "     rate per 100,000 population  \n",
       "0                            345  \n",
       "1                          349.1  \n",
       "2                          362.4  \n",
       "3                          364.8  \n",
       "4                          285.2  \n",
       "...                          ...  \n",
       "6694                    1,976.10  \n",
       "6695                    2,079.80  \n",
       "6696                    1,901.00  \n",
       "6697                    1,466.60  \n",
       "6698                    1,335.40  \n",
       "\n",
       "[4410 rows x 5 columns]"
      ]
     },
     "execution_count": 10,
     "metadata": {},
     "output_type": "execute_result"
    }
   ],
   "source": [
    "df"
   ]
  }
 ],
 "metadata": {
  "kernelspec": {
   "display_name": "Python 3",
   "language": "python",
   "name": "python3"
  },
  "language_info": {
   "codemirror_mode": {
    "name": "ipython",
    "version": 3
   },
   "file_extension": ".py",
   "mimetype": "text/x-python",
   "name": "python",
   "nbconvert_exporter": "python",
   "pygments_lexer": "ipython3",
   "version": "3.12.6"
  }
 },
 "nbformat": 4,
 "nbformat_minor": 2
}
