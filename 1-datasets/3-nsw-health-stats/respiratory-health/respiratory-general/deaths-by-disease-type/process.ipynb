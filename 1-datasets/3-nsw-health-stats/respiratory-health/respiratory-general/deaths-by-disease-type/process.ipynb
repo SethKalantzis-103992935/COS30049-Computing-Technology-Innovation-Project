{
 "cells": [
  {
   "cell_type": "markdown",
   "metadata": {},
   "source": [
    "# Respiratory Disease Deaths | Processing"
   ]
  },
  {
   "cell_type": "markdown",
   "metadata": {},
   "source": [
    "The main tasks completed to clean and preprocess this dataset were:\n",
    "\n",
    "**Data Manipulation**\n",
    "1. Rename columns.\n",
    "2. Reformat 'financial year' values from XX/YY to XXXX/YYYY\n",
    "3. Remove 'LHD' from LHD name values.\n",
    "4. Remove 'All' data (Representing a state-wide average).\n",
    "5. Remove seperate age groups, keeping only rows with \"All Ages\"\n",
    "6. Remove columns holding Confidence Interval data.\n",
    "7. Remove rows holding 'Persons' data in the sex column (Representing a genderless rate per 100,000).\n",
    "8. Remove 'risk group' column."
   ]
  },
  {
   "cell_type": "markdown",
   "metadata": {},
   "source": [
    "## Set Up\n",
    "\n",
    "Ensure that the required libraries are available by running the below code in the terminal before execution:\n",
    "- pip install pandas\n",
    "\n",
    "\n",
    "Execute the following in the jupyter notebook before execution to ensure that the required libraries are imported:"
   ]
  },
  {
   "cell_type": "code",
   "execution_count": 1,
   "metadata": {},
   "outputs": [],
   "source": [
    "import pandas as pd"
   ]
  },
  {
   "cell_type": "markdown",
   "metadata": {},
   "source": [
    "## Load Dataset"
   ]
  },
  {
   "cell_type": "code",
   "execution_count": 2,
   "metadata": {},
   "outputs": [
    {
     "data": {
      "text/html": [
       "<div>\n",
       "<style scoped>\n",
       "    .dataframe tbody tr th:only-of-type {\n",
       "        vertical-align: middle;\n",
       "    }\n",
       "\n",
       "    .dataframe tbody tr th {\n",
       "        vertical-align: top;\n",
       "    }\n",
       "\n",
       "    .dataframe thead th {\n",
       "        text-align: right;\n",
       "    }\n",
       "</style>\n",
       "<table border=\"1\" class=\"dataframe\">\n",
       "  <thead>\n",
       "    <tr style=\"text-align: right;\">\n",
       "      <th></th>\n",
       "      <th>Disease type</th>\n",
       "      <th>LHD</th>\n",
       "      <th>Period</th>\n",
       "      <th>Rate per 100,000 population</th>\n",
       "      <th>LL 95% CI</th>\n",
       "      <th>UL 95% CI</th>\n",
       "    </tr>\n",
       "  </thead>\n",
       "  <tbody>\n",
       "    <tr>\n",
       "      <th>0</th>\n",
       "      <td>Influenza and pneumonia</td>\n",
       "      <td>Sydney LHD</td>\n",
       "      <td>2001-2003</td>\n",
       "      <td>13.5</td>\n",
       "      <td>11.7</td>\n",
       "      <td>15.5</td>\n",
       "    </tr>\n",
       "    <tr>\n",
       "      <th>1</th>\n",
       "      <td>Influenza and pneumonia</td>\n",
       "      <td>Sydney LHD</td>\n",
       "      <td>2002-2004</td>\n",
       "      <td>15.9</td>\n",
       "      <td>13.9</td>\n",
       "      <td>18.1</td>\n",
       "    </tr>\n",
       "    <tr>\n",
       "      <th>2</th>\n",
       "      <td>Influenza and pneumonia</td>\n",
       "      <td>Sydney LHD</td>\n",
       "      <td>2003-2005</td>\n",
       "      <td>16.3</td>\n",
       "      <td>14.3</td>\n",
       "      <td>18.6</td>\n",
       "    </tr>\n",
       "    <tr>\n",
       "      <th>3</th>\n",
       "      <td>Influenza and pneumonia</td>\n",
       "      <td>Sydney LHD</td>\n",
       "      <td>2004-2006</td>\n",
       "      <td>15.8</td>\n",
       "      <td>13.8</td>\n",
       "      <td>17.9</td>\n",
       "    </tr>\n",
       "    <tr>\n",
       "      <th>4</th>\n",
       "      <td>Influenza and pneumonia</td>\n",
       "      <td>Sydney LHD</td>\n",
       "      <td>2005-2007</td>\n",
       "      <td>13.3</td>\n",
       "      <td>11.5</td>\n",
       "      <td>15.2</td>\n",
       "    </tr>\n",
       "    <tr>\n",
       "      <th>...</th>\n",
       "      <td>...</td>\n",
       "      <td>...</td>\n",
       "      <td>...</td>\n",
       "      <td>...</td>\n",
       "      <td>...</td>\n",
       "      <td>...</td>\n",
       "    </tr>\n",
       "    <tr>\n",
       "      <th>1819</th>\n",
       "      <td>Total</td>\n",
       "      <td>All LHDs</td>\n",
       "      <td>2015-2017</td>\n",
       "      <td>50.2</td>\n",
       "      <td>49.4</td>\n",
       "      <td>51.0</td>\n",
       "    </tr>\n",
       "    <tr>\n",
       "      <th>1820</th>\n",
       "      <td>Total</td>\n",
       "      <td>All LHDs</td>\n",
       "      <td>2016-2018</td>\n",
       "      <td>49.2</td>\n",
       "      <td>48.5</td>\n",
       "      <td>50.0</td>\n",
       "    </tr>\n",
       "    <tr>\n",
       "      <th>1821</th>\n",
       "      <td>Total</td>\n",
       "      <td>All LHDs</td>\n",
       "      <td>2017-2019</td>\n",
       "      <td>49.0</td>\n",
       "      <td>48.2</td>\n",
       "      <td>49.7</td>\n",
       "    </tr>\n",
       "    <tr>\n",
       "      <th>1822</th>\n",
       "      <td>Total</td>\n",
       "      <td>All LHDs</td>\n",
       "      <td>2018-2020</td>\n",
       "      <td>43.5</td>\n",
       "      <td>42.8</td>\n",
       "      <td>44.2</td>\n",
       "    </tr>\n",
       "    <tr>\n",
       "      <th>1823</th>\n",
       "      <td>Total</td>\n",
       "      <td>All LHDs</td>\n",
       "      <td>2019-2021</td>\n",
       "      <td>41.5</td>\n",
       "      <td>40.8</td>\n",
       "      <td>42.2</td>\n",
       "    </tr>\n",
       "  </tbody>\n",
       "</table>\n",
       "<p>1824 rows × 6 columns</p>\n",
       "</div>"
      ],
      "text/plain": [
       "                 Disease type         LHD     Period  \\\n",
       "0     Influenza and pneumonia  Sydney LHD  2001-2003   \n",
       "1     Influenza and pneumonia  Sydney LHD  2002-2004   \n",
       "2     Influenza and pneumonia  Sydney LHD  2003-2005   \n",
       "3     Influenza and pneumonia  Sydney LHD  2004-2006   \n",
       "4     Influenza and pneumonia  Sydney LHD  2005-2007   \n",
       "...                       ...         ...        ...   \n",
       "1819                    Total    All LHDs  2015-2017   \n",
       "1820                    Total    All LHDs  2016-2018   \n",
       "1821                    Total    All LHDs  2017-2019   \n",
       "1822                    Total    All LHDs  2018-2020   \n",
       "1823                    Total    All LHDs  2019-2021   \n",
       "\n",
       "      Rate per 100,000 population  LL 95% CI  UL 95% CI  \n",
       "0                            13.5       11.7       15.5  \n",
       "1                            15.9       13.9       18.1  \n",
       "2                            16.3       14.3       18.6  \n",
       "3                            15.8       13.8       17.9  \n",
       "4                            13.3       11.5       15.2  \n",
       "...                           ...        ...        ...  \n",
       "1819                         50.2       49.4       51.0  \n",
       "1820                         49.2       48.5       50.0  \n",
       "1821                         49.0       48.2       49.7  \n",
       "1822                         43.5       42.8       44.2  \n",
       "1823                         41.5       40.8       42.2  \n",
       "\n",
       "[1824 rows x 6 columns]"
      ]
     },
     "execution_count": 2,
     "metadata": {},
     "output_type": "execute_result"
    }
   ],
   "source": [
    "# File path.\n",
    "file_path = 'data-raw.csv'\n",
    "\n",
    "# Read the file.\n",
    "df = pd.read_csv(file_path)\n",
    "\n",
    "df"
   ]
  },
  {
   "cell_type": "markdown",
   "metadata": {},
   "source": [
    "## Data Manipulation"
   ]
  },
  {
   "cell_type": "markdown",
   "metadata": {},
   "source": [
    "Rename columns to match Air Quality data set."
   ]
  },
  {
   "cell_type": "code",
   "execution_count": 3,
   "metadata": {},
   "outputs": [],
   "source": [
    "# Rename columns.\n",
    "df = df.rename(columns={\n",
    "    'LHD': 'lhd',\n",
    "    'Period': 'financial year'\n",
    "})\n",
    "\n",
    "# Set column names to lower case.\n",
    "df.columns = df.columns.str.lower()"
   ]
  },
  {
   "cell_type": "markdown",
   "metadata": {},
   "source": [
    "Remove LHD from Local Area Districts values."
   ]
  },
  {
   "cell_type": "code",
   "execution_count": 4,
   "metadata": {},
   "outputs": [],
   "source": [
    "# Remove ' LHD' from the 'lhd' column.\n",
    "df['lhd'] = df['lhd'].str.replace(' LHD', '')"
   ]
  },
  {
   "cell_type": "markdown",
   "metadata": {},
   "source": [
    "Remove rows representing state-wide aggregated date."
   ]
  },
  {
   "cell_type": "code",
   "execution_count": 5,
   "metadata": {},
   "outputs": [],
   "source": [
    "# Remove rows with NaN in the 'lhd' column.\n",
    "df = df.dropna(subset=['lhd'])\n",
    "\n",
    "# Remove rows with 'All' in the 'lhd' column.\n",
    "df = df[~df['lhd'].str.contains('All')]"
   ]
  },
  {
   "cell_type": "markdown",
   "metadata": {},
   "source": [
    "Remove rows holding Confidence Interval data."
   ]
  },
  {
   "cell_type": "code",
   "execution_count": 6,
   "metadata": {},
   "outputs": [],
   "source": [
    "# Drop columns with '% ci' in the header\n",
    "df = df.loc[:, ~df.columns.str.contains('% ci')]"
   ]
  },
  {
   "cell_type": "markdown",
   "metadata": {},
   "source": [
    "## Output Processed Dataset"
   ]
  },
  {
   "cell_type": "code",
   "execution_count": 10,
   "metadata": {},
   "outputs": [],
   "source": [
    "# File path.\n",
    "file_path_output = 'data-processed.csv'\n",
    "\n",
    "# Save the file.\n",
    "df.to_csv(file_path_output, index=False)"
   ]
  },
  {
   "cell_type": "markdown",
   "metadata": {},
   "source": [
    "## View Dataset"
   ]
  },
  {
   "cell_type": "code",
   "execution_count": 9,
   "metadata": {},
   "outputs": [
    {
     "data": {
      "text/html": [
       "<div>\n",
       "<style scoped>\n",
       "    .dataframe tbody tr th:only-of-type {\n",
       "        vertical-align: middle;\n",
       "    }\n",
       "\n",
       "    .dataframe tbody tr th {\n",
       "        vertical-align: top;\n",
       "    }\n",
       "\n",
       "    .dataframe thead th {\n",
       "        text-align: right;\n",
       "    }\n",
       "</style>\n",
       "<table border=\"1\" class=\"dataframe\">\n",
       "  <thead>\n",
       "    <tr style=\"text-align: right;\">\n",
       "      <th></th>\n",
       "      <th>disease type</th>\n",
       "      <th>lhd</th>\n",
       "      <th>financial year</th>\n",
       "      <th>rate per 100,000 population</th>\n",
       "    </tr>\n",
       "  </thead>\n",
       "  <tbody>\n",
       "    <tr>\n",
       "      <th>0</th>\n",
       "      <td>Influenza and pneumonia</td>\n",
       "      <td>Sydney</td>\n",
       "      <td>2001-2003</td>\n",
       "      <td>13.5</td>\n",
       "    </tr>\n",
       "    <tr>\n",
       "      <th>1</th>\n",
       "      <td>Influenza and pneumonia</td>\n",
       "      <td>Sydney</td>\n",
       "      <td>2002-2004</td>\n",
       "      <td>15.9</td>\n",
       "    </tr>\n",
       "    <tr>\n",
       "      <th>2</th>\n",
       "      <td>Influenza and pneumonia</td>\n",
       "      <td>Sydney</td>\n",
       "      <td>2003-2005</td>\n",
       "      <td>16.3</td>\n",
       "    </tr>\n",
       "    <tr>\n",
       "      <th>3</th>\n",
       "      <td>Influenza and pneumonia</td>\n",
       "      <td>Sydney</td>\n",
       "      <td>2004-2006</td>\n",
       "      <td>15.8</td>\n",
       "    </tr>\n",
       "    <tr>\n",
       "      <th>4</th>\n",
       "      <td>Influenza and pneumonia</td>\n",
       "      <td>Sydney</td>\n",
       "      <td>2005-2007</td>\n",
       "      <td>13.3</td>\n",
       "    </tr>\n",
       "    <tr>\n",
       "      <th>...</th>\n",
       "      <td>...</td>\n",
       "      <td>...</td>\n",
       "      <td>...</td>\n",
       "      <td>...</td>\n",
       "    </tr>\n",
       "    <tr>\n",
       "      <th>1800</th>\n",
       "      <td>Total</td>\n",
       "      <td>Far West</td>\n",
       "      <td>2015-2017</td>\n",
       "      <td>65.8</td>\n",
       "    </tr>\n",
       "    <tr>\n",
       "      <th>1801</th>\n",
       "      <td>Total</td>\n",
       "      <td>Far West</td>\n",
       "      <td>2016-2018</td>\n",
       "      <td>56.3</td>\n",
       "    </tr>\n",
       "    <tr>\n",
       "      <th>1802</th>\n",
       "      <td>Total</td>\n",
       "      <td>Far West</td>\n",
       "      <td>2017-2019</td>\n",
       "      <td>65.3</td>\n",
       "    </tr>\n",
       "    <tr>\n",
       "      <th>1803</th>\n",
       "      <td>Total</td>\n",
       "      <td>Far West</td>\n",
       "      <td>2018-2020</td>\n",
       "      <td>69.5</td>\n",
       "    </tr>\n",
       "    <tr>\n",
       "      <th>1804</th>\n",
       "      <td>Total</td>\n",
       "      <td>Far West</td>\n",
       "      <td>2019-2021</td>\n",
       "      <td>65.5</td>\n",
       "    </tr>\n",
       "  </tbody>\n",
       "</table>\n",
       "<p>1710 rows × 4 columns</p>\n",
       "</div>"
      ],
      "text/plain": [
       "                 disease type       lhd financial year  \\\n",
       "0     Influenza and pneumonia    Sydney      2001-2003   \n",
       "1     Influenza and pneumonia    Sydney      2002-2004   \n",
       "2     Influenza and pneumonia    Sydney      2003-2005   \n",
       "3     Influenza and pneumonia    Sydney      2004-2006   \n",
       "4     Influenza and pneumonia    Sydney      2005-2007   \n",
       "...                       ...       ...            ...   \n",
       "1800                    Total  Far West      2015-2017   \n",
       "1801                    Total  Far West      2016-2018   \n",
       "1802                    Total  Far West      2017-2019   \n",
       "1803                    Total  Far West      2018-2020   \n",
       "1804                    Total  Far West      2019-2021   \n",
       "\n",
       "      rate per 100,000 population  \n",
       "0                            13.5  \n",
       "1                            15.9  \n",
       "2                            16.3  \n",
       "3                            15.8  \n",
       "4                            13.3  \n",
       "...                           ...  \n",
       "1800                         65.8  \n",
       "1801                         56.3  \n",
       "1802                         65.3  \n",
       "1803                         69.5  \n",
       "1804                         65.5  \n",
       "\n",
       "[1710 rows x 4 columns]"
      ]
     },
     "execution_count": 9,
     "metadata": {},
     "output_type": "execute_result"
    }
   ],
   "source": [
    "df"
   ]
  }
 ],
 "metadata": {
  "kernelspec": {
   "display_name": "Python 3",
   "language": "python",
   "name": "python3"
  },
  "language_info": {
   "codemirror_mode": {
    "name": "ipython",
    "version": 3
   },
   "file_extension": ".py",
   "mimetype": "text/x-python",
   "name": "python",
   "nbconvert_exporter": "python",
   "pygments_lexer": "ipython3",
   "version": "3.12.6"
  }
 },
 "nbformat": 4,
 "nbformat_minor": 2
}
