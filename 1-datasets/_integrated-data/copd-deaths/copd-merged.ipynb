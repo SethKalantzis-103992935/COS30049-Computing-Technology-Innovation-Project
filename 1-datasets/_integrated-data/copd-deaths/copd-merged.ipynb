{
 "cells": [
  {
   "cell_type": "markdown",
   "metadata": {},
   "source": [
    "# Intergrate COPD Deaths Dataset\n",
    "This file intergrates the COPD Deaths dataseet with the NSW Air Quality Data set.\n",
    "\n",
    "## Set Up\n",
    "Ensure that the required libraries are available by running the below code in the terminal before execution:\n",
    "- pip install pandas\n",
    "\n",
    "\n",
    "Execute the following in the jupyter notebook before execution to ensure that the required libraries are imported:\n"
   ]
  },
  {
   "cell_type": "code",
   "execution_count": 1,
   "metadata": {},
   "outputs": [],
   "source": [
    "import pandas as pd"
   ]
  },
  {
   "cell_type": "markdown",
   "metadata": {},
   "source": [
    "## Load Datasets"
   ]
  },
  {
   "cell_type": "code",
   "execution_count": 2,
   "metadata": {},
   "outputs": [
    {
     "name": "stdout",
     "output_type": "stream",
     "text": [
      "Air Quality Headers:\n",
      "['financial year', 'lhd', 'CO ppm', 'NO pphm', 'NO2 pphm', 'OZONE pphm', 'PM10 µg/m³', 'SO2 pphm']\n",
      "\n",
      "COPD Headers:\n",
      "['financial year', 'lhd', 'Female rate per 100,000 population', 'Male rate per 100,000 population']\n"
     ]
    }
   ],
   "source": [
    "# Load data into dataframes.\n",
    "df_air_quality = pd.read_csv('../../2-nsw-air-quality/data-processed-financial-year-alt.csv')\n",
    "df_copd_deaths = pd.read_csv('../../3-nsw-health-stats/respiratory-health/chronic-obstructive-pulmonary-disease/deaths/data-processed-alt.csv')\n",
    "\n",
    "# View Headers.\n",
    "print(\"Air Quality Headers:\")\n",
    "print(df_air_quality.columns.tolist())\n",
    "print(\"\\nCOPD Headers:\")\n",
    "print(df_copd_deaths.columns.tolist())"
   ]
  },
  {
   "cell_type": "markdown",
   "metadata": {},
   "source": [
    "## Data Manipulation"
   ]
  },
  {
   "cell_type": "code",
   "execution_count": 3,
   "metadata": {},
   "outputs": [],
   "source": [
    "df_copd_deaths = df_copd_deaths.rename(columns={\n",
    "    'Female rate per 100,000 population': 'COPD deaths [f] [rate per 100,000]',\n",
    "    'Male rate per 100,000 population': 'COPD deaths [m] [rate per 100,000]',\n",
    "})"
   ]
  },
  {
   "cell_type": "markdown",
   "metadata": {},
   "source": [
    "## Merge Datasets"
   ]
  },
  {
   "cell_type": "markdown",
   "metadata": {},
   "source": [
    "Merge dataframes on 'financial year' and 'lhd'"
   ]
  },
  {
   "cell_type": "code",
   "execution_count": 4,
   "metadata": {},
   "outputs": [
    {
     "data": {
      "text/html": [
       "<div>\n",
       "<style scoped>\n",
       "    .dataframe tbody tr th:only-of-type {\n",
       "        vertical-align: middle;\n",
       "    }\n",
       "\n",
       "    .dataframe tbody tr th {\n",
       "        vertical-align: top;\n",
       "    }\n",
       "\n",
       "    .dataframe thead th {\n",
       "        text-align: right;\n",
       "    }\n",
       "</style>\n",
       "<table border=\"1\" class=\"dataframe\">\n",
       "  <thead>\n",
       "    <tr style=\"text-align: right;\">\n",
       "      <th></th>\n",
       "      <th>financial year</th>\n",
       "      <th>lhd</th>\n",
       "      <th>CO ppm</th>\n",
       "      <th>NO pphm</th>\n",
       "      <th>NO2 pphm</th>\n",
       "      <th>OZONE pphm</th>\n",
       "      <th>PM10 µg/m³</th>\n",
       "      <th>SO2 pphm</th>\n",
       "      <th>COPD deaths [f] [rate per 100,000]</th>\n",
       "      <th>COPD deaths [m] [rate per 100,000]</th>\n",
       "    </tr>\n",
       "  </thead>\n",
       "  <tbody>\n",
       "    <tr>\n",
       "      <th>0</th>\n",
       "      <td>2011/2012</td>\n",
       "      <td>Central Coast</td>\n",
       "      <td>0.065989</td>\n",
       "      <td>0.306572</td>\n",
       "      <td>0.564177</td>\n",
       "      <td>1.586418</td>\n",
       "      <td>13.532604</td>\n",
       "      <td>0.064975</td>\n",
       "      <td>24.9</td>\n",
       "      <td>33.1</td>\n",
       "    </tr>\n",
       "    <tr>\n",
       "      <th>1</th>\n",
       "      <td>2012/2013</td>\n",
       "      <td>Central Coast</td>\n",
       "      <td>0.084025</td>\n",
       "      <td>0.268964</td>\n",
       "      <td>0.502566</td>\n",
       "      <td>1.719031</td>\n",
       "      <td>16.438490</td>\n",
       "      <td>0.077980</td>\n",
       "      <td>27.9</td>\n",
       "      <td>37.2</td>\n",
       "    </tr>\n",
       "    <tr>\n",
       "      <th>2</th>\n",
       "      <td>2013/2014</td>\n",
       "      <td>Central Coast</td>\n",
       "      <td>0.100000</td>\n",
       "      <td>0.241667</td>\n",
       "      <td>0.516667</td>\n",
       "      <td>1.750000</td>\n",
       "      <td>15.933333</td>\n",
       "      <td>0.091667</td>\n",
       "      <td>24.9</td>\n",
       "      <td>40.9</td>\n",
       "    </tr>\n",
       "    <tr>\n",
       "      <th>3</th>\n",
       "      <td>2014/2015</td>\n",
       "      <td>Central Coast</td>\n",
       "      <td>0.100000</td>\n",
       "      <td>0.233333</td>\n",
       "      <td>0.466667</td>\n",
       "      <td>1.791190</td>\n",
       "      <td>15.158333</td>\n",
       "      <td>0.050000</td>\n",
       "      <td>25.3</td>\n",
       "      <td>43.1</td>\n",
       "    </tr>\n",
       "    <tr>\n",
       "      <th>4</th>\n",
       "      <td>2015/2016</td>\n",
       "      <td>Central Coast</td>\n",
       "      <td>0.108333</td>\n",
       "      <td>0.216667</td>\n",
       "      <td>0.458333</td>\n",
       "      <td>1.691667</td>\n",
       "      <td>15.375000</td>\n",
       "      <td>0.058333</td>\n",
       "      <td>28.2</td>\n",
       "      <td>40.0</td>\n",
       "    </tr>\n",
       "  </tbody>\n",
       "</table>\n",
       "</div>"
      ],
      "text/plain": [
       "  financial year            lhd    CO ppm   NO pphm  NO2 pphm  OZONE pphm  \\\n",
       "0      2011/2012  Central Coast  0.065989  0.306572  0.564177    1.586418   \n",
       "1      2012/2013  Central Coast  0.084025  0.268964  0.502566    1.719031   \n",
       "2      2013/2014  Central Coast  0.100000  0.241667  0.516667    1.750000   \n",
       "3      2014/2015  Central Coast  0.100000  0.233333  0.466667    1.791190   \n",
       "4      2015/2016  Central Coast  0.108333  0.216667  0.458333    1.691667   \n",
       "\n",
       "   PM10 µg/m³  SO2 pphm  COPD deaths [f] [rate per 100,000]  \\\n",
       "0   13.532604  0.064975                                24.9   \n",
       "1   16.438490  0.077980                                27.9   \n",
       "2   15.933333  0.091667                                24.9   \n",
       "3   15.158333  0.050000                                25.3   \n",
       "4   15.375000  0.058333                                28.2   \n",
       "\n",
       "   COPD deaths [m] [rate per 100,000]  \n",
       "0                                33.1  \n",
       "1                                37.2  \n",
       "2                                40.9  \n",
       "3                                43.1  \n",
       "4                                40.0  "
      ]
     },
     "execution_count": 4,
     "metadata": {},
     "output_type": "execute_result"
    }
   ],
   "source": [
    "# Merge dataframes on 'date' and 'lhd' columns.\n",
    "df_merged = pd.merge(df_air_quality, df_copd_deaths, on=['financial year', 'lhd'], how='inner')\n",
    "\n",
    "# Fill NaN values with 'NA.\n",
    "df_merged = df_merged.fillna('NA')\n",
    "\n",
    "# View headers of merged dataframe.\n",
    "df_merged.head()"
   ]
  },
  {
   "cell_type": "markdown",
   "metadata": {},
   "source": [
    "## Output Merged Datasets"
   ]
  },
  {
   "cell_type": "code",
   "execution_count": 5,
   "metadata": {},
   "outputs": [],
   "source": [
    "df_merged.to_csv('copd-deaths-merged.csv', index=False)"
   ]
  }
 ],
 "metadata": {
  "kernelspec": {
   "display_name": "base",
   "language": "python",
   "name": "python3"
  },
  "language_info": {
   "codemirror_mode": {
    "name": "ipython",
    "version": 3
   },
   "file_extension": ".py",
   "mimetype": "text/x-python",
   "name": "python",
   "nbconvert_exporter": "python",
   "pygments_lexer": "ipython3",
   "version": "3.12.4"
  }
 },
 "nbformat": 4,
 "nbformat_minor": 2
}
