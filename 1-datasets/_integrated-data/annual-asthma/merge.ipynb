{
 "cells": [
  {
   "cell_type": "markdown",
   "metadata": {},
   "source": [
    "# Integrate Monthly Datasets"
   ]
  },
  {
   "cell_type": "markdown",
   "metadata": {},
   "source": [
    "## Set Up"
   ]
  },
  {
   "cell_type": "markdown",
   "metadata": {},
   "source": [
    "Ensure that the required libraries are available by running the below code in the terminal before execution:\n",
    "- pip install pandas\n",
    "\n",
    "\n",
    "Execute the following in the jupyter notebook before execution to ensure that the required libraries are imported:"
   ]
  },
  {
   "cell_type": "code",
   "execution_count": 28,
   "metadata": {},
   "outputs": [],
   "source": [
    "import pandas as pd"
   ]
  },
  {
   "cell_type": "markdown",
   "metadata": {},
   "source": [
    "## Load Datasets"
   ]
  },
  {
   "cell_type": "code",
   "execution_count": 29,
   "metadata": {},
   "outputs": [
    {
     "name": "stdout",
     "output_type": "stream",
     "text": [
      "Air Quality Headers:\n",
      "['financial year', 'lhd', 'CO ppm', 'NO pphm', 'NO2 pphm', 'OZONE pphm', 'PM10 µg/m³', 'SO2 pphm']\n",
      "\n",
      "Asthma Deaths Headers:\n",
      "['lhd', 'financial year', 'rate per 100,000 population']\n",
      "\n",
      "Asthma Emergency Department Presentations Headers:\n",
      "['financial year', 'lhd', 'Female rate per 100,000 population', 'Male rate per 100,000 population']\n",
      "\n",
      "Asthma Hospitalisations Headers:\n",
      "['financial year', 'lhd', 'Female rate per 100,000 population', 'Male rate per 100,000 population']\n",
      "\n",
      "Asthma Prevelance in Children Headers:\n",
      "['lhd', 'financial year', 'per cent']\n"
     ]
    }
   ],
   "source": [
    "# Load data into dataframes.\n",
    "df_air_quality = pd.read_csv('../../2-nsw-air-quality/data-processed-financial-year.csv')\n",
    "df_asthma_deaths = pd.read_csv('../../3-nsw-health-stats/respiratory-health/asthma/deaths/data-processed.csv')\n",
    "df_asthma_edp = pd.read_csv('../../3-nsw-health-stats/respiratory-health/asthma/emergency-department-presentations/yearly/data-processed-alt.csv')\n",
    "df_asthma_hospitalisations = pd.read_csv('../../3-nsw-health-stats/respiratory-health/asthma/hospitalisations/data-processed-alt.csv')\n",
    "df_asthma_children = pd.read_csv('../../3-nsw-health-stats/respiratory-health/asthma/prevelance-in-children/data-processed-alt.csv')\n",
    "\n",
    "# View Headers.\n",
    "print(\"Air Quality Headers:\")\n",
    "print(df_air_quality.columns.tolist())\n",
    "\n",
    "print(\"\\nAsthma Deaths Headers:\")\n",
    "print(df_asthma_deaths.columns.tolist())\n",
    "\n",
    "print(\"\\nAsthma Emergency Department Presentations Headers:\")\n",
    "print(df_asthma_edp.columns.tolist())\n",
    "\n",
    "print(\"\\nAsthma Hospitalisations Headers:\")\n",
    "print(df_asthma_hospitalisations.columns.tolist())\n",
    "\n",
    "print(\"\\nAsthma Prevelance in Children Headers:\")\n",
    "print(df_asthma_children.columns.tolist())"
   ]
  },
  {
   "cell_type": "markdown",
   "metadata": {},
   "source": [
    "## Data Manipulation"
   ]
  },
  {
   "cell_type": "markdown",
   "metadata": {},
   "source": [
    "Rename columns for clarity."
   ]
  },
  {
   "cell_type": "code",
   "execution_count": 30,
   "metadata": {},
   "outputs": [],
   "source": [
    "# Asthma Deaths\n",
    "df_asthma_deaths = df_asthma_deaths.rename(columns={\n",
    "    'rate per 100,000 population': 'asthma deaths [rate per 100,000]',\n",
    "})\n",
    "\n",
    "# Asthma Emergency Department Presentations\n",
    "df_asthma_edp = df_asthma_edp.rename(columns={\n",
    "    'Female rate per 100,000 population': 'asthma edp [f] [rate per 100,000]',\n",
    "    'Male rate per 100,000 population': 'asthma edp [m] [rate per 100,000]'\n",
    "})\n",
    "\n",
    "# Asthma Hospitalisations\n",
    "df_asthma_hospitalisations = df_asthma_hospitalisations.rename(columns={\n",
    "    'Female rate per 100,000 population': 'asthma hospitalisations [f] [rate per 100,000]',\n",
    "    'Male rate per 100,000 population': 'asthma hospitalisations [m] [rate per 100,000]'\n",
    "})\n",
    "\n",
    "# Asthma Prevelance in Children\n",
    "df_asthma_children = df_asthma_children.rename(columns={\n",
    "    'per cent': 'asthma prevelance in children [% of children]'\n",
    "})"
   ]
  },
  {
   "cell_type": "markdown",
   "metadata": {},
   "source": [
    "## Merge Datasets"
   ]
  },
  {
   "cell_type": "markdown",
   "metadata": {},
   "source": [
    "Merge dataframes on 'date' and 'lhd' columns."
   ]
  },
  {
   "cell_type": "code",
   "execution_count": 31,
   "metadata": {},
   "outputs": [
    {
     "data": {
      "text/html": [
       "<div>\n",
       "<style scoped>\n",
       "    .dataframe tbody tr th:only-of-type {\n",
       "        vertical-align: middle;\n",
       "    }\n",
       "\n",
       "    .dataframe tbody tr th {\n",
       "        vertical-align: top;\n",
       "    }\n",
       "\n",
       "    .dataframe thead th {\n",
       "        text-align: right;\n",
       "    }\n",
       "</style>\n",
       "<table border=\"1\" class=\"dataframe\">\n",
       "  <thead>\n",
       "    <tr style=\"text-align: right;\">\n",
       "      <th></th>\n",
       "      <th>financial year</th>\n",
       "      <th>lhd</th>\n",
       "      <th>CO ppm</th>\n",
       "      <th>NO pphm</th>\n",
       "      <th>NO2 pphm</th>\n",
       "      <th>OZONE pphm</th>\n",
       "      <th>PM10 µg/m³</th>\n",
       "      <th>SO2 pphm</th>\n",
       "      <th>asthma deaths [rate per 100,000]</th>\n",
       "      <th>asthma edp [f] [rate per 100,000]</th>\n",
       "      <th>asthma edp [m] [rate per 100,000]</th>\n",
       "      <th>asthma hospitalisations [f] [rate per 100,000]</th>\n",
       "      <th>asthma hospitalisations [m] [rate per 100,000]</th>\n",
       "      <th>asthma prevelance in children [% of children]</th>\n",
       "    </tr>\n",
       "  </thead>\n",
       "  <tbody>\n",
       "    <tr>\n",
       "      <th>0</th>\n",
       "      <td>2014/2015</td>\n",
       "      <td>Hunter New England</td>\n",
       "      <td>0.242</td>\n",
       "      <td>0.522000</td>\n",
       "      <td>0.802000</td>\n",
       "      <td>1.883333</td>\n",
       "      <td>18.67750</td>\n",
       "      <td>0.132000</td>\n",
       "      <td>0.825</td>\n",
       "      <td>455.6</td>\n",
       "      <td>445.5</td>\n",
       "      <td>146.7</td>\n",
       "      <td>136.0</td>\n",
       "      <td>16.30</td>\n",
       "    </tr>\n",
       "    <tr>\n",
       "      <th>1</th>\n",
       "      <td>2014/2015</td>\n",
       "      <td>Illawarra Shoalhaven</td>\n",
       "      <td>0.200</td>\n",
       "      <td>0.294488</td>\n",
       "      <td>0.569399</td>\n",
       "      <td>2.020000</td>\n",
       "      <td>17.61000</td>\n",
       "      <td>0.080000</td>\n",
       "      <td>0.650</td>\n",
       "      <td>410.1</td>\n",
       "      <td>383.6</td>\n",
       "      <td>128.8</td>\n",
       "      <td>102.6</td>\n",
       "      <td>11.85</td>\n",
       "    </tr>\n",
       "    <tr>\n",
       "      <th>2</th>\n",
       "      <td>2014/2015</td>\n",
       "      <td>Murrumbidgee</td>\n",
       "      <td>NaN</td>\n",
       "      <td>0.010000</td>\n",
       "      <td>0.330000</td>\n",
       "      <td>2.093303</td>\n",
       "      <td>NaN</td>\n",
       "      <td>0.050000</td>\n",
       "      <td>0.975</td>\n",
       "      <td>652.8</td>\n",
       "      <td>618.8</td>\n",
       "      <td>221.0</td>\n",
       "      <td>189.1</td>\n",
       "      <td>21.30</td>\n",
       "    </tr>\n",
       "    <tr>\n",
       "      <th>3</th>\n",
       "      <td>2014/2015</td>\n",
       "      <td>Nepean Blue Mountains</td>\n",
       "      <td>NaN</td>\n",
       "      <td>0.115000</td>\n",
       "      <td>0.450000</td>\n",
       "      <td>2.025000</td>\n",
       "      <td>15.66659</td>\n",
       "      <td>0.001455</td>\n",
       "      <td>1.000</td>\n",
       "      <td>447.0</td>\n",
       "      <td>379.1</td>\n",
       "      <td>188.8</td>\n",
       "      <td>176.4</td>\n",
       "      <td>14.65</td>\n",
       "    </tr>\n",
       "    <tr>\n",
       "      <th>4</th>\n",
       "      <td>2014/2015</td>\n",
       "      <td>Northern Sydney</td>\n",
       "      <td>NaN</td>\n",
       "      <td>0.240000</td>\n",
       "      <td>0.730000</td>\n",
       "      <td>1.810000</td>\n",
       "      <td>14.33000</td>\n",
       "      <td>0.030000</td>\n",
       "      <td>0.550</td>\n",
       "      <td>221.3</td>\n",
       "      <td>283.0</td>\n",
       "      <td>111.2</td>\n",
       "      <td>127.3</td>\n",
       "      <td>16.30</td>\n",
       "    </tr>\n",
       "  </tbody>\n",
       "</table>\n",
       "</div>"
      ],
      "text/plain": [
       "  financial year                    lhd  CO ppm   NO pphm  NO2 pphm  \\\n",
       "0      2014/2015     Hunter New England   0.242  0.522000  0.802000   \n",
       "1      2014/2015   Illawarra Shoalhaven   0.200  0.294488  0.569399   \n",
       "2      2014/2015           Murrumbidgee     NaN  0.010000  0.330000   \n",
       "3      2014/2015  Nepean Blue Mountains     NaN  0.115000  0.450000   \n",
       "4      2014/2015        Northern Sydney     NaN  0.240000  0.730000   \n",
       "\n",
       "   OZONE pphm  PM10 µg/m³  SO2 pphm  asthma deaths [rate per 100,000]  \\\n",
       "0    1.883333    18.67750  0.132000                             0.825   \n",
       "1    2.020000    17.61000  0.080000                             0.650   \n",
       "2    2.093303         NaN  0.050000                             0.975   \n",
       "3    2.025000    15.66659  0.001455                             1.000   \n",
       "4    1.810000    14.33000  0.030000                             0.550   \n",
       "\n",
       "   asthma edp [f] [rate per 100,000]  asthma edp [m] [rate per 100,000]  \\\n",
       "0                              455.6                              445.5   \n",
       "1                              410.1                              383.6   \n",
       "2                              652.8                              618.8   \n",
       "3                              447.0                              379.1   \n",
       "4                              221.3                              283.0   \n",
       "\n",
       "   asthma hospitalisations [f] [rate per 100,000]  \\\n",
       "0                                           146.7   \n",
       "1                                           128.8   \n",
       "2                                           221.0   \n",
       "3                                           188.8   \n",
       "4                                           111.2   \n",
       "\n",
       "   asthma hospitalisations [m] [rate per 100,000]  \\\n",
       "0                                           136.0   \n",
       "1                                           102.6   \n",
       "2                                           189.1   \n",
       "3                                           176.4   \n",
       "4                                           127.3   \n",
       "\n",
       "   asthma prevelance in children [% of children]  \n",
       "0                                          16.30  \n",
       "1                                          11.85  \n",
       "2                                          21.30  \n",
       "3                                          14.65  \n",
       "4                                          16.30  "
      ]
     },
     "execution_count": 31,
     "metadata": {},
     "output_type": "execute_result"
    }
   ],
   "source": [
    "# Merge dataframes on 'date' and 'lhd' columns.\n",
    "df_merged = df_air_quality\n",
    "df_merged = pd.merge(df_merged, df_asthma_deaths, on=['financial year', 'lhd'], how='inner')\n",
    "df_merged = pd.merge(df_merged, df_asthma_edp, on=['financial year', 'lhd'], how='inner')\n",
    "df_merged = pd.merge(df_merged, df_asthma_hospitalisations, on=['financial year', 'lhd'], how='inner')\n",
    "df_merged = pd.merge(df_merged, df_asthma_children, on=['financial year', 'lhd'], how='inner')\n",
    "\n",
    "# View headers of merged dataframe.\n",
    "df_merged.head()"
   ]
  },
  {
   "cell_type": "markdown",
   "metadata": {},
   "source": [
    "## Output Dataset"
   ]
  },
  {
   "cell_type": "code",
   "execution_count": 32,
   "metadata": {},
   "outputs": [],
   "source": [
    "df_merged.to_csv('data-merged.csv', index=False)"
   ]
  }
 ],
 "metadata": {
  "kernelspec": {
   "display_name": "base",
   "language": "python",
   "name": "python3"
  },
  "language_info": {
   "codemirror_mode": {
    "name": "ipython",
    "version": 3
   },
   "file_extension": ".py",
   "mimetype": "text/x-python",
   "name": "python",
   "nbconvert_exporter": "python",
   "pygments_lexer": "ipython3",
   "version": "3.12.4"
  }
 },
 "nbformat": 4,
 "nbformat_minor": 2
}
