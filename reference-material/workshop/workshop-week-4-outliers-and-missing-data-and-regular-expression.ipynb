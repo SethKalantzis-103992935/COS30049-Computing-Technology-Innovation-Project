{
  "cells": [
    {
      "cell_type": "markdown",
      "metadata": {
        "id": "4sKEV-sUostG"
      },
      "source": [
        "\n",
        "# COS30049 - Workshop Week 4  \n",
        "### Swinburne Univeristy of Technology"
      ]
    },
    {
      "cell_type": "markdown",
      "metadata": {
        "id": "vQ_ybMeNrJ2Q"
      },
      "source": [
        "### Objective\n",
        "\n",
        "By the end of this workshop, participants will have a solid grasp of the Machine Learning Project Lifecycle and the ability to use Python within Visual Studio Code for data processing. The workshop focuses on practical skills, including handling outliers, addressing missing data, and utilizing Python's regular expressions for text data extraction and manipulation.\n",
        "Learning Outcomes:\n",
        "1.\tProficiency in Outlier Management: Learn to identify and manage outliers, ensuring data integrity and accuracy in your analysis.\n",
        "2.\tStrategies for Handling Missing Data: Develop effective techniques for addressing missing data, including imputation and other methods.\n",
        "3.\tMastering Python’s Regular Expressions: Gain expertise in using Python's regular expressions to extract and manipulate text data for analytical purposes.\n",
        "Hands-on Practice:\n",
        "Participants will engage in practical exercises and real-world scenarios to apply these techniques, equipping them to confidently tackle data challenges in their own projects.\n"
      ]
    },
    {
      "cell_type": "markdown",
      "metadata": {},
      "source": [
        "Before you start, make sure you install the related libary in the terminal.\n",
        "1. pip install pandas \n",
        "2. pip install matplotlib\n",
        "3. pip install regex"
      ]
    },
    {
      "cell_type": "markdown",
      "metadata": {
        "id": "GMS_AD96o3xb"
      },
      "source": [
        "### Question 1  Outlier Management (15 mins)\n",
        "Suppose that the data for analysis includes the attribute age. The age values for the data tuples are 13, 15, 16, 16, 19, 20, 20, 21, 22, 22, 25, 25, 25, 25,\n",
        "30, 33, 33, 35, 35, 35, 35, 36, 40, 45, 46, 52, 70.\n",
        "\n",
        "*(1)* What is the first quartile (Q1) and the third quartile (Q3) of the data.\n",
        "\n",
        "*(2)* Show a boxplot of the data\n",
        "\n",
        "*(3)* What are the outliers of these data? if these data is student age of the high school. How do you deal with these data?\n",
        "\n"
      ]
    },
    {
      "cell_type": "code",
      "execution_count": 1,
      "metadata": {
        "colab": {
          "base_uri": "https://localhost:8080/"
        },
        "id": "x8byCTMMqGmD",
        "outputId": "ed30d3a1-b01e-4680-ed51-ee11d2adaaf4"
      },
      "outputs": [
        {
          "name": "stdout",
          "output_type": "stream",
          "text": [
            "First Quartile (Q1): 20.5\n",
            "Third Quartile (Q3): 35.0\n"
          ]
        }
      ],
      "source": [
        "import pandas as pd\n",
        "import matplotlib.pyplot as plt\n",
        "\n",
        "# Given data\n",
        "age_data = [13, 15, 16, 16, 19, 20, 20, 21, 22, 22, 25, 25, 25, 25, 30, 33, 33, 35, 35, 35, 35, 36, 40, 45, 46, 52, 70]\n",
        "\n",
        "# Create a pandas DataFrame\n",
        "df = pd.DataFrame(age_data, columns=['age'])\n",
        "\n",
        "# (1) Calculate Q1 and Q3\n",
        "Q1 = df['age'].quantile(0.25)\n",
        "Q3 = df['age'].quantile(0.75)\n",
        "\n",
        "print(f\"First Quartile (Q1): {Q1}\")\n",
        "print(f\"Third Quartile (Q3): {Q3}\")"
      ]
    },
    {
      "cell_type": "code",
      "execution_count": 2,
      "metadata": {
        "colab": {
          "base_uri": "https://localhost:8080/",
          "height": 452
        },
        "id": "_gH8CGEyqbjz",
        "outputId": "c485b245-13e6-4abb-8718-2f4314f90488"
      },
      "outputs": [
        {
          "data": {
            "image/png": "[encoded data removed]",
            "text/plain": [
              "<Figure size 640x480 with 1 Axes>"
            ]
          },
          "metadata": {},
          "output_type": "display_data"
        }
      ],
      "source": [
        "# (2) Show a boxplot of the data\n",
        "plt.boxplot(df['age'])\n",
        "plt.title('Boxplot of Age Data')\n",
        "plt.ylabel('Age')\n",
        "plt.show()"
      ]
    },
    {
      "cell_type": "code",
      "execution_count": 3,
      "metadata": {
        "colab": {
          "base_uri": "https://localhost:8080/"
        },
        "id": "nME89SvTqgys",
        "outputId": "c79d2112-8013-4b4b-969d-936445d17480"
      },
      "outputs": [
        {
          "name": "stdout",
          "output_type": "stream",
          "text": [
            "Outliers: [70]\n"
          ]
        }
      ],
      "source": [
        "# (3) Identify outliers\n",
        "IQR = Q3 - Q1\n",
        "lower_bound = Q1 - 1.5 * IQR\n",
        "upper_bound = Q3 + 1.5 * IQR\n",
        "\n",
        "outliers = df[(df['age'] < lower_bound) | (df['age'] > upper_bound)]\n",
        "print(\"Outliers:\", outliers['age'].tolist())"
      ]
    },
    {
      "cell_type": "code",
      "execution_count": 4,
      "metadata": {
        "colab": {
          "base_uri": "https://localhost:8080/"
        },
        "id": "KSvDZDkbql9D",
        "outputId": "62151040-5686-4114-b105-9361360f8df8"
      },
      "outputs": [
        {
          "name": "stdout",
          "output_type": "stream",
          "text": [
            "Data after handling outliers: [13, 15, 16, 16, 19, 20, 20, 21, 22, 22, 25, 25, 25, 25, 30, 33, 33, 35, 35, 35, 35, 36, 40, 45, 46, 52]\n"
          ]
        }
      ],
      "source": [
        "# (3) If these data are student ages of a high school, deal with outliers\n",
        "if 70 in outliers['age'].tolist():\n",
        "    df = df[df['age'] != 70]\n",
        "\n",
        "print(\"Data after handling outliers:\", df['age'].tolist())"
      ]
    },
    {
      "cell_type": "markdown",
      "metadata": {
        "id": "JmHHRYS4tHnC"
      },
      "source": [
        "### Q2 - Dealing with Missing data -- (15 mins)\n",
        "\n",
        "We have a dataset named `sales_data.csv`. Please complete the following tasks:\n",
        "\n",
        "1. Read the dataset and identify the missing values in the `Sales` and `Profit` columns.\n",
        "2. Use imputation techniques to fill in the missing values in the dataset. Explain which imputation technique is better.\n",
        "3. Discuss the impact of the imputed values on subsequent data analysis and decision-making."
      ]
    },
    {
      "cell_type": "code",
      "execution_count": 7,
      "metadata": {
        "colab": {
          "base_uri": "https://localhost:8080/"
        },
        "id": "-6GQq6kWtK_O",
        "outputId": "65e816e8-e5a6-4811-9ba6-59cd80e90be3"
      },
      "outputs": [
        {
          "name": "stdout",
          "output_type": "stream",
          "text": [
            "Month     0\n",
            "Sales     2\n",
            "Profit    2\n",
            "dtype: int64\n"
          ]
        }
      ],
      "source": [
        "import pandas as pd\n",
        "\n",
        "# Load dataset\n",
        "file_path = './sales_data.csv'\n",
        "sales_data = pd.read_csv(file_path)\n",
        "\n",
        "# identifying the missing data\n",
        "missing_values = sales_data.isnull().sum()\n",
        "\n",
        "print(missing_values)\n"
      ]
    },
    {
      "cell_type": "code",
      "execution_count": 8,
      "metadata": {
        "id": "XOd9UJ83uU22"
      },
      "outputs": [
        {
          "name": "stderr",
          "output_type": "stream",
          "text": [
            "C:\\Users\\matth\\AppData\\Local\\Temp\\ipykernel_10248\\3900557254.py:3: FutureWarning: A value is trying to be set on a copy of a DataFrame or Series through chained assignment using an inplace method.\n",
            "The behavior will change in pandas 3.0. This inplace method will never work because the intermediate object on which we are setting values always behaves as a copy.\n",
            "\n",
            "For example, when doing 'df[col].method(value, inplace=True)', try using 'df.method({col: value}, inplace=True)' or df[col] = df[col].method(value) instead, to perform the operation inplace on the original object.\n",
            "\n",
            "\n",
            "  sales_data_mean_imputed['Sales'].fillna(sales_data['Sales'].mean(), inplace=True)\n",
            "C:\\Users\\matth\\AppData\\Local\\Temp\\ipykernel_10248\\3900557254.py:4: FutureWarning: A value is trying to be set on a copy of a DataFrame or Series through chained assignment using an inplace method.\n",
            "The behavior will change in pandas 3.0. This inplace method will never work because the intermediate object on which we are setting values always behaves as a copy.\n",
            "\n",
            "For example, when doing 'df[col].method(value, inplace=True)', try using 'df.method({col: value}, inplace=True)' or df[col] = df[col].method(value) instead, to perform the operation inplace on the original object.\n",
            "\n",
            "\n",
            "  sales_data_mean_imputed['Profit'].fillna(sales_data['Profit'].mean(), inplace=True)\n"
          ]
        }
      ],
      "source": [
        "# mean imputation\n",
        "sales_data_mean_imputed = sales_data.copy()\n",
        "sales_data_mean_imputed['Sales'].fillna(sales_data['Sales'].mean(), inplace=True)\n",
        "sales_data_mean_imputed['Profit'].fillna(sales_data['Profit'].mean(), inplace=True)"
      ]
    },
    {
      "cell_type": "code",
      "execution_count": 9,
      "metadata": {
        "colab": {
          "base_uri": "https://localhost:8080/",
          "height": 425
        },
        "id": "HRoR5QZcuo9s",
        "outputId": "898e988b-58d2-44a6-802f-e5a28cf7b967"
      },
      "outputs": [
        {
          "data": {
            "text/html": [
              "<div>\n",
              "<style scoped>\n",
              "    .dataframe tbody tr th:only-of-type {\n",
              "        vertical-align: middle;\n",
              "    }\n",
              "\n",
              "    .dataframe tbody tr th {\n",
              "        vertical-align: top;\n",
              "    }\n",
              "\n",
              "    .dataframe thead th {\n",
              "        text-align: right;\n",
              "    }\n",
              "</style>\n",
              "<table border=\"1\" class=\"dataframe\">\n",
              "  <thead>\n",
              "    <tr style=\"text-align: right;\">\n",
              "      <th></th>\n",
              "      <th>Month</th>\n",
              "      <th>Sales</th>\n",
              "      <th>Profit</th>\n",
              "    </tr>\n",
              "  </thead>\n",
              "  <tbody>\n",
              "    <tr>\n",
              "      <th>0</th>\n",
              "      <td>January</td>\n",
              "      <td>15000.0</td>\n",
              "      <td>3000.0</td>\n",
              "    </tr>\n",
              "    <tr>\n",
              "      <th>1</th>\n",
              "      <td>February</td>\n",
              "      <td>20000.0</td>\n",
              "      <td>4000.0</td>\n",
              "    </tr>\n",
              "    <tr>\n",
              "      <th>2</th>\n",
              "      <td>March</td>\n",
              "      <td>18000.0</td>\n",
              "      <td>3500.0</td>\n",
              "    </tr>\n",
              "    <tr>\n",
              "      <th>3</th>\n",
              "      <td>April</td>\n",
              "      <td>22100.0</td>\n",
              "      <td>3200.0</td>\n",
              "    </tr>\n",
              "    <tr>\n",
              "      <th>4</th>\n",
              "      <td>May</td>\n",
              "      <td>22000.0</td>\n",
              "      <td>4200.0</td>\n",
              "    </tr>\n",
              "    <tr>\n",
              "      <th>5</th>\n",
              "      <td>June</td>\n",
              "      <td>21000.0</td>\n",
              "      <td>4200.0</td>\n",
              "    </tr>\n",
              "    <tr>\n",
              "      <th>6</th>\n",
              "      <td>July</td>\n",
              "      <td>23000.0</td>\n",
              "      <td>4500.0</td>\n",
              "    </tr>\n",
              "    <tr>\n",
              "      <th>7</th>\n",
              "      <td>August</td>\n",
              "      <td>24000.0</td>\n",
              "      <td>4700.0</td>\n",
              "    </tr>\n",
              "    <tr>\n",
              "      <th>8</th>\n",
              "      <td>September</td>\n",
              "      <td>22100.0</td>\n",
              "      <td>4800.0</td>\n",
              "    </tr>\n",
              "    <tr>\n",
              "      <th>9</th>\n",
              "      <td>October</td>\n",
              "      <td>25000.0</td>\n",
              "      <td>4900.0</td>\n",
              "    </tr>\n",
              "    <tr>\n",
              "      <th>10</th>\n",
              "      <td>November</td>\n",
              "      <td>26000.0</td>\n",
              "      <td>4200.0</td>\n",
              "    </tr>\n",
              "    <tr>\n",
              "      <th>11</th>\n",
              "      <td>December</td>\n",
              "      <td>27000.0</td>\n",
              "      <td>5200.0</td>\n",
              "    </tr>\n",
              "  </tbody>\n",
              "</table>\n",
              "</div>"
            ],
            "text/plain": [
              "        Month    Sales  Profit\n",
              "0     January  15000.0  3000.0\n",
              "1    February  20000.0  4000.0\n",
              "2       March  18000.0  3500.0\n",
              "3       April  22100.0  3200.0\n",
              "4         May  22000.0  4200.0\n",
              "5        June  21000.0  4200.0\n",
              "6        July  23000.0  4500.0\n",
              "7      August  24000.0  4700.0\n",
              "8   September  22100.0  4800.0\n",
              "9     October  25000.0  4900.0\n",
              "10   November  26000.0  4200.0\n",
              "11   December  27000.0  5200.0"
            ]
          },
          "execution_count": 9,
          "metadata": {},
          "output_type": "execute_result"
        }
      ],
      "source": [
        "sales_data_mean_imputed"
      ]
    },
    {
      "cell_type": "code",
      "execution_count": 10,
      "metadata": {
        "id": "YkHfICb4uq7w"
      },
      "outputs": [
        {
          "name": "stderr",
          "output_type": "stream",
          "text": [
            "C:\\Users\\matth\\AppData\\Local\\Temp\\ipykernel_10248\\2132808102.py:3: FutureWarning: A value is trying to be set on a copy of a DataFrame or Series through chained assignment using an inplace method.\n",
            "The behavior will change in pandas 3.0. This inplace method will never work because the intermediate object on which we are setting values always behaves as a copy.\n",
            "\n",
            "For example, when doing 'df[col].method(value, inplace=True)', try using 'df.method({col: value}, inplace=True)' or df[col] = df[col].method(value) instead, to perform the operation inplace on the original object.\n",
            "\n",
            "\n",
            "  sales_data_median_imputed['Sales'].fillna(sales_data['Sales'].median(), inplace=True)\n",
            "C:\\Users\\matth\\AppData\\Local\\Temp\\ipykernel_10248\\2132808102.py:4: FutureWarning: A value is trying to be set on a copy of a DataFrame or Series through chained assignment using an inplace method.\n",
            "The behavior will change in pandas 3.0. This inplace method will never work because the intermediate object on which we are setting values always behaves as a copy.\n",
            "\n",
            "For example, when doing 'df[col].method(value, inplace=True)', try using 'df.method({col: value}, inplace=True)' or df[col] = df[col].method(value) instead, to perform the operation inplace on the original object.\n",
            "\n",
            "\n",
            "  sales_data_median_imputed['Profit'].fillna(sales_data['Profit'].median(), inplace=True)\n"
          ]
        }
      ],
      "source": [
        "# Mediate Imputation\n",
        "sales_data_median_imputed = sales_data.copy()\n",
        "sales_data_median_imputed['Sales'].fillna(sales_data['Sales'].median(), inplace=True)\n",
        "sales_data_median_imputed['Profit'].fillna(sales_data['Profit'].median(), inplace=True)\n"
      ]
    },
    {
      "cell_type": "code",
      "execution_count": 11,
      "metadata": {
        "colab": {
          "base_uri": "https://localhost:8080/",
          "height": 425
        },
        "id": "NkZD3trcuwKx",
        "outputId": "f74bdb12-6138-403e-ec8e-0642d85473e7"
      },
      "outputs": [
        {
          "data": {
            "text/html": [
              "<div>\n",
              "<style scoped>\n",
              "    .dataframe tbody tr th:only-of-type {\n",
              "        vertical-align: middle;\n",
              "    }\n",
              "\n",
              "    .dataframe tbody tr th {\n",
              "        vertical-align: top;\n",
              "    }\n",
              "\n",
              "    .dataframe thead th {\n",
              "        text-align: right;\n",
              "    }\n",
              "</style>\n",
              "<table border=\"1\" class=\"dataframe\">\n",
              "  <thead>\n",
              "    <tr style=\"text-align: right;\">\n",
              "      <th></th>\n",
              "      <th>Month</th>\n",
              "      <th>Sales</th>\n",
              "      <th>Profit</th>\n",
              "    </tr>\n",
              "  </thead>\n",
              "  <tbody>\n",
              "    <tr>\n",
              "      <th>0</th>\n",
              "      <td>January</td>\n",
              "      <td>15000.0</td>\n",
              "      <td>3000.0</td>\n",
              "    </tr>\n",
              "    <tr>\n",
              "      <th>1</th>\n",
              "      <td>February</td>\n",
              "      <td>20000.0</td>\n",
              "      <td>4000.0</td>\n",
              "    </tr>\n",
              "    <tr>\n",
              "      <th>2</th>\n",
              "      <td>March</td>\n",
              "      <td>18000.0</td>\n",
              "      <td>3500.0</td>\n",
              "    </tr>\n",
              "    <tr>\n",
              "      <th>3</th>\n",
              "      <td>April</td>\n",
              "      <td>22500.0</td>\n",
              "      <td>3200.0</td>\n",
              "    </tr>\n",
              "    <tr>\n",
              "      <th>4</th>\n",
              "      <td>May</td>\n",
              "      <td>22000.0</td>\n",
              "      <td>4350.0</td>\n",
              "    </tr>\n",
              "    <tr>\n",
              "      <th>5</th>\n",
              "      <td>June</td>\n",
              "      <td>21000.0</td>\n",
              "      <td>4200.0</td>\n",
              "    </tr>\n",
              "    <tr>\n",
              "      <th>6</th>\n",
              "      <td>July</td>\n",
              "      <td>23000.0</td>\n",
              "      <td>4500.0</td>\n",
              "    </tr>\n",
              "    <tr>\n",
              "      <th>7</th>\n",
              "      <td>August</td>\n",
              "      <td>24000.0</td>\n",
              "      <td>4700.0</td>\n",
              "    </tr>\n",
              "    <tr>\n",
              "      <th>8</th>\n",
              "      <td>September</td>\n",
              "      <td>22500.0</td>\n",
              "      <td>4800.0</td>\n",
              "    </tr>\n",
              "    <tr>\n",
              "      <th>9</th>\n",
              "      <td>October</td>\n",
              "      <td>25000.0</td>\n",
              "      <td>4900.0</td>\n",
              "    </tr>\n",
              "    <tr>\n",
              "      <th>10</th>\n",
              "      <td>November</td>\n",
              "      <td>26000.0</td>\n",
              "      <td>4350.0</td>\n",
              "    </tr>\n",
              "    <tr>\n",
              "      <th>11</th>\n",
              "      <td>December</td>\n",
              "      <td>27000.0</td>\n",
              "      <td>5200.0</td>\n",
              "    </tr>\n",
              "  </tbody>\n",
              "</table>\n",
              "</div>"
            ],
            "text/plain": [
              "        Month    Sales  Profit\n",
              "0     January  15000.0  3000.0\n",
              "1    February  20000.0  4000.0\n",
              "2       March  18000.0  3500.0\n",
              "3       April  22500.0  3200.0\n",
              "4         May  22000.0  4350.0\n",
              "5        June  21000.0  4200.0\n",
              "6        July  23000.0  4500.0\n",
              "7      August  24000.0  4700.0\n",
              "8   September  22500.0  4800.0\n",
              "9     October  25000.0  4900.0\n",
              "10   November  26000.0  4350.0\n",
              "11   December  27000.0  5200.0"
            ]
          },
          "execution_count": 11,
          "metadata": {},
          "output_type": "execute_result"
        }
      ],
      "source": [
        "sales_data_median_imputed"
      ]
    },
    {
      "cell_type": "markdown",
      "metadata": {
        "id": "9eIkxW6hu7Mv"
      },
      "source": [
        "Explanation of Which Imputation Technique is Better:\n",
        "\n",
        "- **Mean Imputation**: This technique is suitable when the data distribution is fairly uniform and there are no extreme values. However, if there are many extreme values, the mean can be affected by these outliers, leading to imputed values that may deviate from the actual data.\n",
        "\n",
        "- **Median Imputation**: This technique is more appropriate when the data contains extreme values, as the median is not affected by outliers and can provide more stable imputed values."
      ]
    },
    {
      "cell_type": "markdown",
      "metadata": {
        "id": "Wd-KHrIwwqL8"
      },
      "source": [
        "### Q3 - Regular Expression - (40 mins)\n"
      ]
    },
    {
      "cell_type": "markdown",
      "metadata": {
        "id": "lrbX4eyosxVm"
      },
      "source": [
        "1. Tasks today:\n",
        "\n",
        "- **Importing Regular Expression Package**:\n",
        "  `import re`"
      ]
    },
    {
      "cell_type": "code",
      "execution_count": 12,
      "metadata": {
        "id": "KU_bg_acs0-G"
      },
      "outputs": [],
      "source": [
        "# import re\n",
        "import re"
      ]
    },
    {
      "cell_type": "markdown",
      "metadata": {
        "id": "mBZwUTFcs4hT"
      },
      "source": [
        "- **Using Regular Expressions**: Regular expressions give us the ability to search for patterns within text, strings, files, etc. They serve several uses, such as; security measures, searching, filtering, pattern recognition, and more... \\\\\n",
        "  a) `re.compile()` : using compile, pre determines the string to be used in regular expression methods. \\\\\n",
        "  b) `re.match()` :  This method attempts to match a pattern at the beginning of the string. \\\\\n",
        "  c) `re.findall` : This method returns a list of all non-overlapping matches of a pattern in the string, as a list of strings. \\\\\n",
        "  d) `re.search()` : This method scans through the string, looking for any location where the pattern matches.  \\\\"
      ]
    },
    {
      "cell_type": "code",
      "execution_count": 13,
      "metadata": {
        "colab": {
          "base_uri": "https://localhost:8080/"
        },
        "id": "Hp8tvzgAs-mn",
        "outputId": "81884bc1-795a-4b48-a986-43fe1bdab802"
      },
      "outputs": [
        {
          "name": "stdout",
          "output_type": "stream",
          "text": [
            "re.compile('abcd')\n"
          ]
        }
      ],
      "source": [
        "# add pattern abcd\n",
        "pattern = re.compile('abcd')\n",
        "print(pattern)"
      ]
    },
    {
      "cell_type": "markdown",
      "metadata": {
        "id": "NsN3fNeHtFFZ"
      },
      "source": [
        "- **Sets**: The following cells will allow you to use regular expressions to search for certain values within a range. \\\\\n",
        "  a) Integer Ranges: For example, [0-7] \\\\\n",
        "  b) Character Ranges: For exampe, [A-Z][a-z] \\\\"
      ]
    },
    {
      "cell_type": "code",
      "execution_count": 14,
      "metadata": {
        "colab": {
          "base_uri": "https://localhost:8080/"
        },
        "id": "zDkaYEm4tISC",
        "outputId": "be327098-a458-46a9-95f6-cbd325884ebc"
      },
      "outputs": [
        {
          "name": "stdout",
          "output_type": "stream",
          "text": [
            "<re.Match object; span=(0, 4), match='abcd'>\n"
          ]
        }
      ],
      "source": [
        "# use match() to match abcd123\n",
        "match = pattern.match('abcd123')\n",
        "print(match)"
      ]
    },
    {
      "cell_type": "code",
      "execution_count": 15,
      "metadata": {
        "colab": {
          "base_uri": "https://localhost:8080/"
        },
        "id": "XbdwMkq6tWA_",
        "outputId": "1c0c701f-c8ba-4888-da2e-921c81e82b56"
      },
      "outputs": [
        {
          "name": "stdout",
          "output_type": "stream",
          "text": [
            "['abcd', 'abcd', 'abcd']\n"
          ]
        }
      ],
      "source": [
        "# use this pattern to find '123abcd abcd123 abcd abcabc acb'\n",
        "finders = pattern.findall('123abcd abcd123 abcd abcabc acb')\n",
        "print(finders)"
      ]
    },
    {
      "cell_type": "code",
      "execution_count": 16,
      "metadata": {
        "colab": {
          "base_uri": "https://localhost:8080/"
        },
        "id": "HrrCGW06tmGg",
        "outputId": "e9f0149d-aacc-48c5-d7e7-69061b0bb943"
      },
      "outputs": [
        {
          "name": "stdout",
          "output_type": "stream",
          "text": [
            "<re.Match object; span=(12, 16), match='abcd'>\n",
            "(12, 16)\n",
            "abcd\n"
          ]
        }
      ],
      "source": [
        "# explain the code blow\n",
        "random_string = '123 123 234 abcd abc'\n",
        "\n",
        "search = pattern.search(random_string)\n",
        "print(search)\n",
        "span = search.span()\n",
        "print(span)\n",
        "print(random_string[span[0] : span[1]])"
      ]
    },
    {
      "cell_type": "code",
      "execution_count": 17,
      "metadata": {
        "colab": {
          "base_uri": "https://localhost:8080/"
        },
        "id": "79HQHlQHudl6",
        "outputId": "eb3c555f-b68b-40d4-915d-8b254cfea61a"
      },
      "outputs": [
        {
          "name": "stdout",
          "output_type": "stream",
          "text": [
            "<re.Match object; span=(0, 3), match='673'>\n",
            "673\n"
          ]
        }
      ],
      "source": [
        "# Compile a regular expression pattern [0-7][7-9][0-3] and search for this pattern in the string '67383'.\n",
        "# If a match is found, print the match object and the character at the start position of the match.\n",
        "pattern_int = re.compile('[0-7][7-9][0-3]')\n",
        "\n",
        "random_numbers = pattern_int.search('67383')\n",
        "print(random_numbers)\n",
        "span = random_numbers.span()\n",
        "print(random_numbers[span[0]])"
      ]
    },
    {
      "cell_type": "code",
      "execution_count": 18,
      "metadata": {
        "colab": {
          "base_uri": "https://localhost:8080/"
        },
        "id": "sj7KTI1jufeN",
        "outputId": "67fee91c-17dd-40b5-e613-558777236e74"
      },
      "outputs": [
        {
          "name": "stdout",
          "output_type": "stream",
          "text": [
            "['He', 'Mr', 'Ri']\n"
          ]
        }
      ],
      "source": [
        "# Compile a regular expression pattern [A-Z][a-z] to match any sequence of an uppercase letter followed by a lowercase letter.\n",
        "# Use the findall method to find all such sequences in the string 'Hello there Mr. Ricky' and print the list of matches\n",
        "char_pattern = re.compile('[A-Z][a-z]')\n",
        "found = char_pattern.findall('Hello there Mr. Ricky')\n",
        "print(found)"
      ]
    },
    {
      "cell_type": "markdown",
      "metadata": {
        "id": "rgjybiE0oknI"
      },
      "source": [
        "- **Counting Occurences**: The following cells will allow you to use regular expressions to search for certain values within a range. \\\\\n",
        "\n",
        "  a) `{x}` :  something that occurs {num_of_times}. \\\\\n",
        "  b) `{, x}` : {x, x} - something that occurs between x and x times  \\\\\n",
        "  c) `{?}` : something that occurs 0 or 1 time \\\\\n",
        "  d) `{*}` : * - something that occurs at least 0 times \\\\\n",
        "  e) `{+}`: + - something that occurs at least once \\\\\n",
        "\n"
      ]
    },
    {
      "cell_type": "code",
      "execution_count": 19,
      "metadata": {
        "colab": {
          "base_uri": "https://localhost:8080/"
        },
        "id": "QBojwySluSV8",
        "outputId": "faba3de5-30ad-4ac5-f6d1-dfa3de9d334b"
      },
      "outputs": [
        {
          "name": "stdout",
          "output_type": "stream",
          "text": [
            "['Ri03']\n"
          ]
        }
      ],
      "source": [
        "# Compile a regular expression pattern `[A-Z][a-z][0-3]{2}` to match any sequence of an uppercase letter, a lowercase letter,\n",
        "# and two digits ranging from 0 to 3. Use the `findall` method to find all such sequences in the string `'Hello Mr. Ri03cky'` and print the list of matches.\n",
        "char_pattern_count = re.compile('[A-Z][a-z][0-3]{2}')\n",
        "found_count = char_pattern_count.findall('Hello Mr. Ri03cky')\n",
        "print(found_count)"
      ]
    },
    {
      "cell_type": "code",
      "execution_count": 20,
      "metadata": {
        "colab": {
          "base_uri": "https://localhost:8080/"
        },
        "id": "hbTCAwRruxMr",
        "outputId": "b0357922-8b5d-4c4d-837f-4546edc81f2b"
      },
      "outputs": [
        {
          "name": "stdout",
          "output_type": "stream",
          "text": [
            "['m', 'm', 'm', 'mmm', 'mmmmm']\n"
          ]
        }
      ],
      "source": [
        "# Compile a regular expression pattern m{1,5} to match any sequence of 1 to 5 consecutive 'm' characters.\n",
        "# Use the findall method to find all such sequences in the string 'This is an example of a regular expression trying to find one m,\n",
        "# more than one mmm or five mmmmms' and print the list of matches.\n",
        "random_pattern = re.compile('m{1,5}')\n",
        "random_statement = random_pattern.findall('This is an example of a regular expression trying to find one m, more than one mmm or five mmmmms')\n",
        "print(random_statement)"
      ]
    },
    {
      "cell_type": "code",
      "execution_count": 21,
      "metadata": {
        "colab": {
          "base_uri": "https://localhost:8080/"
        },
        "id": "KxW4BCL8vFWF",
        "outputId": "9778f12c-84e9-40c1-9b34-3a98dc775c43"
      },
      "outputs": [
        {
          "name": "stdout",
          "output_type": "stream",
          "text": [
            "['Mrs', 'Mrss']\n"
          ]
        }
      ],
      "source": [
        "# Compile a regular expression pattern Mrss? to match the string 'Mrs' optionally followed by an 's'.\n",
        "# Use the findall method to find all such sequences in the string 'Hello M there Mr. Anderson, Mid how is Mrs. Anderson, and Mrss. Anderson?'\n",
        "# and print the list of matches.\n",
        "pattern = re.compile('Mrss?')\n",
        "found_pat = pattern.findall('Hello M there Mr. Ricky, Mid how is Mrs. Ricky, and Mrss. Ricky?')\n",
        "print(found_pat)"
      ]
    },
    {
      "cell_type": "markdown",
      "metadata": {
        "id": "yZ7_cB__v7Yv"
      },
      "source": [
        "- **Escaping Character**:\n",
        "\n",
        "  a) `\\w` :  look for any Unicode character \\\\\n",
        "  b) `\\W` :  look for anything that isnt a Unicode character \\\\\n",
        "\n",
        "  More escaping characters please inspect : https://learn.microsoft.com/en-us/dotnet/standard/base-types/character-escapes-in-regular-expressions"
      ]
    },
    {
      "cell_type": "code",
      "execution_count": 22,
      "metadata": {
        "colab": {
          "base_uri": "https://localhost:8080/"
        },
        "id": "RhVXIoqQwkdo",
        "outputId": "1569528b-14fb-49a6-acb5-ab753a34b71f"
      },
      "outputs": [
        {
          "name": "stdout",
          "output_type": "stream",
          "text": [
            "['This', 'is', 'a', 'sentence', 'With', 'exclamation', 'mark', 'at', 'the', 'end']\n",
            "[' ', ' ', ' ', '. ', ', ', ' ', ' ', ' ', ' ', '!']\n"
          ]
        },
        {
          "name": "stderr",
          "output_type": "stream",
          "text": [
            "<>:3: SyntaxWarning: invalid escape sequence '\\w'\n",
            "<>:4: SyntaxWarning: invalid escape sequence '\\W'\n",
            "<>:3: SyntaxWarning: invalid escape sequence '\\w'\n",
            "<>:4: SyntaxWarning: invalid escape sequence '\\W'\n",
            "C:\\Users\\matth\\AppData\\Local\\Temp\\ipykernel_10248\\2632466335.py:3: SyntaxWarning: invalid escape sequence '\\w'\n",
            "  pattern_1 = re.compile('[\\w]+')\n",
            "C:\\Users\\matth\\AppData\\Local\\Temp\\ipykernel_10248\\2632466335.py:4: SyntaxWarning: invalid escape sequence '\\W'\n",
            "  pattern_2 = re.compile('[\\W]+')\n"
          ]
        }
      ],
      "source": [
        "# Compile two regular expression patterns: [\\w]+ to find sequences of word characters and\n",
        "# [\\W]+ to find sequences of non-word characters. Use the findall method to search for these patterns in the string and print the results.\n",
        "pattern_1 = re.compile('[\\w]+')\n",
        "pattern_2 = re.compile('[\\W]+')\n",
        "\n",
        "found_1 = pattern_1.findall('This is a sentence. With, exclamation mark at the end!')\n",
        "found_2 = pattern_2.findall('This is a sentence. With, exclamation mark at the end!')\n",
        "\n",
        "print(found_1)\n",
        "print(found_2)"
      ]
    }
  ],
  "metadata": {
    "colab": {
      "provenance": []
    },
    "kernelspec": {
      "display_name": "Python 3",
      "name": "python3"
    },
    "language_info": {
      "codemirror_mode": {
        "name": "ipython",
        "version": 3
      },
      "file_extension": ".py",
      "mimetype": "text/x-python",
      "name": "python",
      "nbconvert_exporter": "python",
      "pygments_lexer": "ipython3",
      "version": "3.12.4"
    }
  },
  "nbformat": 4,
  "nbformat_minor": 0
}
